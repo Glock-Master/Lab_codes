{
 "cells": [
  {
   "cell_type": "code",
   "execution_count": 1,
   "metadata": {},
   "outputs": [],
   "source": [
    "def preprocess_string(s):\n",
    "    plaintext = ''\n",
    "    for i in s:\n",
    "        temp = ord(i)\n",
    "        if (temp < 123 and temp > 96 or temp < 91 and temp > 64):\n",
    "            plaintext += i\n",
    "    return plaintext"
   ]
  },
  {
   "cell_type": "markdown",
   "metadata": {},
   "source": [
    "# 1."
   ]
  },
  {
   "cell_type": "code",
   "execution_count": 2,
   "metadata": {},
   "outputs": [],
   "source": [
    "def create_loc_data(key):\n",
    "    loc = {}\n",
    "    for i in range(len(key)):\n",
    "        for j in range(len(key[i])):\n",
    "            for l in key[i][j]:\n",
    "                loc[l] = (i, j)\n",
    "    return loc\n",
    "            \n",
    "def playfair(s, key, bogus = 'X'):\n",
    "    s = s.upper()\n",
    "    pairs = []\n",
    "    i = 0\n",
    "    l = len(s)\n",
    "    while(i < l):\n",
    "        if (s[i] == s[i + 1]):\n",
    "            pairs.append(s[i] + bogus)\n",
    "            i += 1\n",
    "        else:\n",
    "            pairs.append(s[i] + s[i + 1])\n",
    "            i += 2\n",
    "        if (i + 2 > l):\n",
    "            s = s + bogus\n",
    "    \n",
    "    loc = create_loc_data(key)\n",
    "    ciphertext = ''\n",
    "    for i, j in pairs:\n",
    "        \n",
    "        loc_i = loc[i]\n",
    "        loc_j = loc[j]\n",
    "        \n",
    "        if (loc_i[0] == loc_j[0]):\n",
    "            ciphertext += key[loc_i[0]][(loc_i[1] + 1) % 5][0]\n",
    "            ciphertext += key[loc_j[0]][(loc_j[1] + 1) % 5][0]\n",
    "        \n",
    "        elif (loc_i[1] == loc_j[1]):\n",
    "            ciphertext += key[(loc_i[0] + 1) % 5][loc_j[1]][0]\n",
    "            ciphertext += key[(loc_j[0] + 1) % 5][loc_j[1]][0]\n",
    "        \n",
    "        else:\n",
    "            ciphertext += key[loc_i[0]][loc_j[1]][0]\n",
    "            ciphertext += key[loc_j[0]][loc_i[1]][0]\n",
    "    \n",
    "    return ciphertext"
   ]
  },
  {
   "cell_type": "code",
   "execution_count": 3,
   "metadata": {},
   "outputs": [],
   "source": [
    "key = [['L', 'G', 'D', 'B', 'A'],\n",
    "       ['Q', 'M', 'H', 'E', 'C'],\n",
    "       ['U', 'R', 'N', 'IJ', 'F'],\n",
    "       ['X', 'V', 'S', 'O', 'K'],\n",
    "       ['Z', 'Y', 'W', 'T', 'P']]"
   ]
  },
  {
   "cell_type": "code",
   "execution_count": 4,
   "metadata": {},
   "outputs": [
    {
     "name": "stdout",
     "output_type": "stream",
     "text": [
      "Input for playfair encoder: we are discovered, save yourself\n",
      "THGFHBNOEKOMIMHWGKMTXINVQBUK\n"
     ]
    }
   ],
   "source": [
    "s = input(\"Input for playfair encoder: \")\n",
    "plaintext = preprocess_string(s)\n",
    "print(playfair(plaintext, key))"
   ]
  },
  {
   "cell_type": "markdown",
   "metadata": {},
   "source": [
    "# 2."
   ]
  },
  {
   "cell_type": "code",
   "execution_count": 5,
   "metadata": {},
   "outputs": [],
   "source": [
    "def string_to_key(s, leave = 'J', dual_with = 'I'):\n",
    "    s = s + 'abcdefghijklmnopqrstuvwxyz'\n",
    "    s = s.upper()\n",
    "    l = [0] * 26;\n",
    "    key_string = ''\n",
    "    for i in s:\n",
    "        if (l[ord(i) - 65] or i == leave):\n",
    "            continue;\n",
    "        else:\n",
    "            key_string += i\n",
    "            l[ord(i) - 65] = 1\n",
    "            \n",
    "    key = []\n",
    "    idx = 0\n",
    "    for i in range(5):\n",
    "        row = []\n",
    "        for j in range(5):\n",
    "            if (key_string[idx] == dual_with):\n",
    "                row.append(dual_with + leave)\n",
    "            else:\n",
    "                row.append(key_string[idx])\n",
    "            idx += 1\n",
    "        key.append(row)\n",
    "    \n",
    "    return key"
   ]
  },
  {
   "cell_type": "code",
   "execution_count": 7,
   "metadata": {},
   "outputs": [
    {
     "name": "stdout",
     "output_type": "stream",
     "text": [
      "Input for creating key: commonlounge\n",
      "Which alphabet to leave out: P\n",
      "With which missing alphabet forms pair: Q\n",
      "[['C', 'O', 'M', 'N', 'L'], ['U', 'G', 'E', 'A', 'B'], ['D', 'F', 'H', 'I', 'J'], ['K', 'QP', 'R', 'S', 'T'], ['V', 'W', 'X', 'Y', 'Z']]\n"
     ]
    }
   ],
   "source": [
    "s = input(\"Input for creating key: \") \n",
    "leave = input(\"Which alphabet to leave out: \")\n",
    "dual_with = input(\"With which missing alphabet forms pair: \")\n",
    "key = string_to_key(s, leave, dual_with)\n",
    "print(key)"
   ]
  },
  {
   "cell_type": "code",
   "execution_count": 8,
   "metadata": {},
   "outputs": [
    {
     "name": "stdout",
     "output_type": "stream",
     "text": [
      "Input for playfair encoder: PL AY FA IR ME SS AG E\n",
      "TOINIGHSEHRYYIEA\n"
     ]
    }
   ],
   "source": [
    "s = input(\"Input for playfair encoder: \")\n",
    "plaintext = preprocess_string(s)\n",
    "print(playfair(plaintext, key))"
   ]
  },
  {
   "cell_type": "markdown",
   "metadata": {},
   "source": [
    "# 3."
   ]
  },
  {
   "cell_type": "code",
   "execution_count": 10,
   "metadata": {},
   "outputs": [],
   "source": [
    "def vigenere_cipher(plaintext, key):\n",
    "    plaintext = plaintext.upper()\n",
    "    key = key.upper()\n",
    "    ciphertext = ''\n",
    "    plaintext_len = len(plaintext)\n",
    "    key_len = len(key)\n",
    "    for i in range(0, plaintext_len, key_len):\n",
    "        curr = plaintext[i:min(i + key_len, plaintext_len)]\n",
    "        curr_encrypted = [chr((ord(curr[j]) + ord(key[j]) - 130) % 26 + 65) for j in range(len(curr))]\n",
    "        curr_encrypted = ''.join(curr_encrypted)\n",
    "        ciphertext += curr_encrypted\n",
    "    return ciphertext"
   ]
  },
  {
   "cell_type": "code",
   "execution_count": 11,
   "metadata": {},
   "outputs": [
    {
     "name": "stdout",
     "output_type": "stream",
     "text": [
      "Enter key for encryption: PASCAL\n",
      "Input for vigenere cipher encoder: She is listening\n",
      "HHWKSWXSLGNTCG\n"
     ]
    }
   ],
   "source": [
    "key = input(\"Enter key for encryption: \")\n",
    "s = input(\"Input for vigenere cipher encoder: \")\n",
    "plaintext = preprocess_string(s)\n",
    "print(vigenere_cipher(plaintext, key))"
   ]
  },
  {
   "cell_type": "markdown",
   "metadata": {},
   "source": [
    "# 4.\n",
    "\n",
    "#### Assuming Given Information : 'of the' occurs at least once in the text"
   ]
  },
  {
   "cell_type": "code",
   "execution_count": 12,
   "metadata": {},
   "outputs": [],
   "source": [
    "import numpy as np\n",
    "import math\n",
    "\n",
    "def gcd(a, b):\n",
    "    if (b == 0):\n",
    "        return a;\n",
    "    else:\n",
    "        return gcd(b, a % b);\n",
    "\n",
    "def extended_gcd(a, b):\n",
    "    r1 = a\n",
    "    r2 = b\n",
    "    s1 = 1\n",
    "    s2 = 0\n",
    "    t1 = 0\n",
    "    t2 = 1\n",
    "    while(r2 > 0):\n",
    "        q = r1 // r2\n",
    "\n",
    "        r = r1 - q * r2\n",
    "        r1 = r2\n",
    "        r2 = r\n",
    "\n",
    "        s = s1 - q * s2\n",
    "        s1 = s2\n",
    "        s2 = s\n",
    "\n",
    "        t = t1 - q * t2\n",
    "        t1 = t2\n",
    "        t2 = t\n",
    "    return [r1, s1, t1]\n",
    "\n",
    "def inverse(n, b):\n",
    "    if gcd(n, b) == 1:\n",
    "        return [(n - b), extended_gcd(n, b)[2] % n]\n",
    "    else:\n",
    "        return [n - b, -1]\n",
    "    \n",
    "def get_matrix_inverse(a, n = 26):\n",
    "    \n",
    "    a = np.array(a, dtype = np.int32)\n",
    "    n, m = a.shape\n",
    "    if n != m:\n",
    "        return -1\n",
    "    else:\n",
    "        a_inv = np.linalg.inv(a)\n",
    "        a_det = round(np.linalg.det(a))\n",
    "        a_det_inverse = inverse(26, a_det % 26)[1]\n",
    "        if (a_det_inverse == -1):\n",
    "            return -1\n",
    "        a_inv = a_inv * a_det * a_det_inverse\n",
    "        \n",
    "    for i in range(n):\n",
    "        for j in range(m):\n",
    "            a_inv[i][j] = round(a_inv[i][j]) % 26\n",
    "    a_inv = a_inv.astype(int)\n",
    "            \n",
    "    return a_inv"
   ]
  },
  {
   "cell_type": "code",
   "execution_count": 13,
   "metadata": {},
   "outputs": [],
   "source": [
    "def hill_cryptoanalysis(s):\n",
    "    \n",
    "    occuring_pattern = 'ofthe'\n",
    "    ciphertext_bunch = [s[i:i+4] for i in range(0, len(s)-3)]\n",
    "    \n",
    "    flag = True\n",
    "    for i in ciphertext_bunch:\n",
    "        p_int = [ord(j) - 97 for j in i]\n",
    "        c_int = [ord(j) - 97 for j in occuring_pattern]\n",
    "        p = np.array([[p_int[0], p_int[1]], [p_int[2], p_int[3]]])\n",
    "        c = np.array([[c_int[0], c_int[1]], [c_int[2], c_int[3]]])\n",
    "        p_inv = get_matrix_inverse(p)\n",
    "        if (isinstance(p_inv, np.ndarray)):\n",
    "            key = np.matmul(get_matrix_inverse(c), p) \n",
    "\n",
    "            n, m = key.shape\n",
    "            for x in range(n):\n",
    "                for y in range(m):\n",
    "                    key[x][y] = key[x][y] % 26\n",
    "\n",
    "            plaintext = ''\n",
    "            ciphertext_bunches = [s[i:i+4] for i in range(0, len(s)-3, 4)]\n",
    "            key_inverse = get_matrix_inverse(key)\n",
    "            if (isinstance(key_inverse, np.ndarray)):\n",
    "                for bunch in ciphertext_bunches:\n",
    "                    bunch_int = [ord(c) - 97 for c in bunch]\n",
    "                    bunch_matrix = np.array([[bunch_int[0], bunch_int[1]], [bunch_int[2], bunch_int[3]]])\n",
    "                    plaintext_matrix = np.matmul(bunch_matrix, key_inverse)\n",
    "                    for x in range(n):\n",
    "                        for y in range(m):\n",
    "                            plaintext += chr(plaintext_matrix[x][y] % 26 + 97)\n",
    "\n",
    "            print('Key:', key, '\\n', plaintext, '\\n--------------------------------------------------\\n')\n",
    "\n",
    "            c = np.array([[c_int[1], c_int[2]], [c_int[3], c_int[4]]])\n",
    "            key = np.matmul(get_matrix_inverse(c), p) \n",
    "\n",
    "            for x in range(n):\n",
    "                for y in range(m):\n",
    "                    key[x][y] = key[x][y] % 26\n",
    "\n",
    "            plaintext = ''\n",
    "            key_inverse = get_matrix_inverse(key)\n",
    "            if (isinstance(key_inverse, np.ndarray)):\n",
    "                for bunch in ciphertext_bunches:\n",
    "                    bunch_int = [ord(c) - 97 for c in bunch]\n",
    "                    bunch_matrix = np.array([[bunch_int[0], bunch_int[1]], [bunch_int[2], bunch_int[3]]])\n",
    "                    plaintext_matrix = np.matmul(bunch_matrix, key_inverse)\n",
    "                    for x in range(n):\n",
    "                        for y in range(m):\n",
    "                            plaintext += chr(plaintext_matrix[x][y] % 26 + 97)\n",
    "\n",
    "            print('Key:', key, '\\n', plaintext, '\\n--------------------------------------------------\\n')"
   ]
  },
  {
   "cell_type": "code",
   "execution_count": 14,
   "metadata": {
    "scrolled": true
   },
   "outputs": [
    {
     "name": "stdout",
     "output_type": "stream",
     "text": [
      "Enter text: 'fupcmtgzkyukbqfjhuktz kkixtta'\"^8\n",
      "Key: [[15 25]\n",
      " [13 24]] \n",
      " wfofthdzsskquvjeklfbgfsafoqf \n",
      "--------------------------------------------------\n",
      "\n",
      "Key: [[10 19]\n",
      " [ 5 17]] \n",
      " frfthezyssqyvfetlvbafvaconfz \n",
      "--------------------------------------------------\n",
      "\n",
      "Key: [[20  5]\n",
      " [17 10]] \n",
      " cbulrwhmygycofthstbemvskbrwp \n",
      "--------------------------------------------------\n",
      "\n",
      "Key: [[13  9]\n",
      " [24 19]] \n",
      " brlzwhmxgicqfthetdevvhkiripx \n",
      "--------------------------------------------------\n",
      "\n",
      "Key: [[ 5  0]\n",
      " [10  1]] \n",
      " nuzcgtyzgykkpqjjduqtlkmidtja \n",
      "--------------------------------------------------\n",
      "\n",
      "Key: [[ 9  1]\n",
      " [19  0]] \n",
      " uzctttzjywkkqnjwuvtxkniutkab \n",
      "--------------------------------------------------\n",
      "\n",
      "Key: [[ 0  5]\n",
      " [ 1 19]] \n",
      " lflpfmdgykeupbofthxklzakkxlt \n",
      "--------------------------------------------------\n",
      "\n",
      "Key: [[ 1 18]\n",
      " [ 0 19]] \n",
      " fkpqmrgxkauybefthekxzwkgxxti \n",
      "--------------------------------------------------\n",
      "\n",
      "Key: [[17 15]\n",
      " [11 14]] \n",
      " ezehdnhleqsawllaofthepaituef \n",
      "--------------------------------------------------\n",
      "\n",
      "Key: [[18 11]\n",
      " [23  5]] \n",
      " zbhlnwlmqgaclfahfthepvikurfp \n",
      "--------------------------------------------------\n",
      "\n",
      "Key: [[25 19]\n",
      " [10 13]] \n",
      " zdjfoncteegahtvazlofthkcbsnl \n",
      "--------------------------------------------------\n",
      "\n",
      "Key: [[ 5  4]\n",
      " [17 15]] \n",
      " defendtheeastwallofthecastle \n",
      "--------------------------------------------------\n",
      "\n",
      "Key: [[13 22]\n",
      " [12 21]] \n",
      " lipyubyhaqqghmrvhgydtoeqldbu \n",
      "--------------------------------------------------\n",
      "\n",
      "Key: [[25  1]\n",
      " [13 16]] \n",
      " iryxbthtqugkmxvwgjdbodqgdoup \n",
      "--------------------------------------------------\n",
      "\n",
      "Key: [[22  1]\n",
      " [21  1]] \n",
      " btzddqbyayssdnyldrbsxnykofth \n",
      "--------------------------------------------------\n",
      "\n",
      "Key: [[ 1  6]\n",
      " [16  9]] \n",
      " tedeqdyhyessnwllrostnekafthe \n",
      "--------------------------------------------------\n",
      "\n"
     ]
    }
   ],
   "source": [
    "s = input(\"Enter text: \")\n",
    "s = preprocess_string(s)\n",
    "hill_cryptoanalysis(s)"
   ]
  }
 ],
 "metadata": {
  "kernelspec": {
   "display_name": "Python 3",
   "language": "python",
   "name": "python3"
  },
  "language_info": {
   "codemirror_mode": {
    "name": "ipython",
    "version": 3
   },
   "file_extension": ".py",
   "mimetype": "text/x-python",
   "name": "python",
   "nbconvert_exporter": "python",
   "pygments_lexer": "ipython3",
   "version": "3.7.4"
  }
 },
 "nbformat": 4,
 "nbformat_minor": 2
}
