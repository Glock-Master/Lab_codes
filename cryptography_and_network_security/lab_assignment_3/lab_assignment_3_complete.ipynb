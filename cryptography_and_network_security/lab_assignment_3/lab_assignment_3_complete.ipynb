{
 "cells": [
  {
   "cell_type": "code",
   "execution_count": 128,
   "metadata": {},
   "outputs": [],
   "source": [
    "def preprocess_string(s):\n",
    "    plaintext = ''\n",
    "    for i in s:\n",
    "        temp = ord(i)\n",
    "        if (temp < 123 and temp > 96 or temp < 91 and temp > 64):\n",
    "            plaintext += i\n",
    "    return plaintext"
   ]
  },
  {
   "cell_type": "markdown",
   "metadata": {},
   "source": [
    "### 1."
   ]
  },
  {
   "cell_type": "code",
   "execution_count": 129,
   "metadata": {},
   "outputs": [],
   "source": [
    "def create_loc_data(key):\n",
    "    loc = {}\n",
    "    for i in range(len(key)):\n",
    "        for j in range(len(key[i])):\n",
    "            for l in key[i][j]:\n",
    "                loc[l] = (i, j)\n",
    "    return loc\n",
    "            \n",
    "def playfair(s, key, bogus = 'X'):\n",
    "    s = s.upper()\n",
    "    pairs = []\n",
    "    i = 0\n",
    "    l = len(s)\n",
    "    while(i < l):\n",
    "        if (s[i] == s[i + 1]):\n",
    "            pairs.append(s[i] + bogus)\n",
    "            i += 1\n",
    "        else:\n",
    "            pairs.append(s[i] + s[i + 1])\n",
    "            i += 2\n",
    "        if (i + 2 > l):\n",
    "            s = s + bogus\n",
    "    \n",
    "    loc = create_loc_data(key)\n",
    "    ciphertext = ''\n",
    "    for i, j in pairs:\n",
    "        \n",
    "        loc_i = loc[i]\n",
    "        loc_j = loc[j]\n",
    "        \n",
    "        if (loc_i[0] == loc_j[0]):\n",
    "            ciphertext += key[loc_i[0]][(loc_i[1] + 1) % 5][0]\n",
    "            ciphertext += key[loc_j[0]][(loc_j[1] + 1) % 5][0]\n",
    "        \n",
    "        elif (loc_i[1] == loc_j[1]):\n",
    "            ciphertext += key[(loc_i[0] + 1) % 5][loc_j[1]][0]\n",
    "            ciphertext += key[(loc_j[0] + 1) % 5][loc_j[1]][0]\n",
    "        \n",
    "        else:\n",
    "            ciphertext += key[loc_i[0]][loc_j[1]][0]\n",
    "            ciphertext += key[loc_j[0]][loc_i[1]][0]\n",
    "    \n",
    "    return ciphertext"
   ]
  },
  {
   "cell_type": "code",
   "execution_count": 130,
   "metadata": {},
   "outputs": [],
   "source": [
    "key = [['L', 'G', 'D', 'B', 'A'],\n",
    "       ['Q', 'M', 'H', 'E', 'C'],\n",
    "       ['U', 'R', 'N', 'IJ', 'F'],\n",
    "       ['X', 'V', 'S', 'O', 'K'],\n",
    "       ['Z', 'Y', 'W', 'T', 'P']]"
   ]
  },
  {
   "cell_type": "code",
   "execution_count": 131,
   "metadata": {},
   "outputs": [
    {
     "name": "stdout",
     "output_type": "stream",
     "text": [
      "Input for playfair encoder: we are discovered, save yourself\n",
      "THGFHBNOEKOMIMHWGKMTXINVQBUK\n"
     ]
    }
   ],
   "source": [
    "s = input(\"Input for playfair encoder: \")\n",
    "plaintext = preprocess_string(s)\n",
    "print(playfair(plaintext, key))"
   ]
  },
  {
   "cell_type": "code",
   "execution_count": 127,
   "metadata": {},
   "outputs": [
    {
     "data": {
      "text/plain": [
       "True"
      ]
     },
     "execution_count": 127,
     "metadata": {},
     "output_type": "execute_result"
    }
   ],
   "source": [
    "'THGFHBNOEKOMIMHWGKMTXINVQBUK' == 'THGFHBNOEKOMIMHWGKMTXINVQBUK'"
   ]
  },
  {
   "cell_type": "markdown",
   "metadata": {},
   "source": [
    "### 2. "
   ]
  },
  {
   "cell_type": "code",
   "execution_count": 172,
   "metadata": {},
   "outputs": [],
   "source": [
    "def string_to_key(s, leave = 'J', dual_with = 'I'):\n",
    "    s = s + 'abcdefghijklmnopqrstuvwxyz'\n",
    "    s = s.upper()\n",
    "    l = [0] * 26;\n",
    "    key_string = ''\n",
    "    for i in s:\n",
    "        if (l[ord(i) - 65] or i == leave):\n",
    "            continue;\n",
    "        else:\n",
    "            key_string += i\n",
    "            l[ord(i) - 65] = 1\n",
    "            \n",
    "    key = []\n",
    "    idx = 0\n",
    "    for i in range(5):\n",
    "        row = []\n",
    "        for j in range(5):\n",
    "            if (key_string[idx] == dual_with):\n",
    "                row.append(dual_with + leave)\n",
    "            else:\n",
    "                row.append(key_string[idx])\n",
    "            idx += 1\n",
    "        key.append(row)\n",
    "    \n",
    "    return key"
   ]
  },
  {
   "cell_type": "code",
   "execution_count": 173,
   "metadata": {},
   "outputs": [
    {
     "name": "stdout",
     "output_type": "stream",
     "text": [
      "Input for creating key: commonlounge\n",
      "Which alphabet to leave out: Q\n",
      "With which missing alphabet forms pair: P\n",
      "[['C', 'O', 'M', 'N', 'L'], ['U', 'G', 'E', 'A', 'B'], ['D', 'F', 'H', 'I', 'J'], ['K', 'PQ', 'R', 'S', 'T'], ['V', 'W', 'X', 'Y', 'Z']]\n"
     ]
    }
   ],
   "source": [
    "s = input(\"Input for creating key: \") \n",
    "leave = input(\"Which alphabet to leave out: \")\n",
    "dual_with = input(\"With which missing alphabet forms pair: \")\n",
    "key = string_to_key(s, leave, dual_with)\n",
    "print(key)"
   ]
  },
  {
   "cell_type": "code",
   "execution_count": 174,
   "metadata": {},
   "outputs": [
    {
     "name": "stdout",
     "output_type": "stream",
     "text": [
      "Input for playfair encoder: “PL AY FA IR ME SS AG E\"\n",
      "TOINIGHSEHRYYIEA\n"
     ]
    }
   ],
   "source": [
    "s = input(\"Input for playfair encoder: \")\n",
    "plaintext = preprocess_string(s)\n",
    "print(playfair(plaintext, key))"
   ]
  },
  {
   "cell_type": "code",
   "execution_count": null,
   "metadata": {},
   "outputs": [],
   "source": []
  }
 ],
 "metadata": {
  "kernelspec": {
   "display_name": "Python 3",
   "language": "python",
   "name": "python3"
  },
  "language_info": {
   "codemirror_mode": {
    "name": "ipython",
    "version": 3
   },
   "file_extension": ".py",
   "mimetype": "text/x-python",
   "name": "python",
   "nbconvert_exporter": "python",
   "pygments_lexer": "ipython3",
   "version": "3.7.4"
  }
 },
 "nbformat": 4,
 "nbformat_minor": 2
}
