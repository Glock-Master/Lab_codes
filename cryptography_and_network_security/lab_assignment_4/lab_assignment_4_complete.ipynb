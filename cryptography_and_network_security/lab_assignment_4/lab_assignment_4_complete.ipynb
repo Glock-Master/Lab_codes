{
 "cells": [
  {
   "cell_type": "code",
   "execution_count": 115,
   "metadata": {},
   "outputs": [],
   "source": [
    "def preprocess_string(s):\n",
    "    s = s.lower()\n",
    "    plaintext = ''\n",
    "    for i in s:\n",
    "        temp = ord(i)\n",
    "        if (temp < 123 and temp > 96 or temp < 91 and temp > 64):\n",
    "            plaintext += i\n",
    "    return plaintext"
   ]
  },
  {
   "cell_type": "markdown",
   "metadata": {},
   "source": [
    "### 1."
   ]
  },
  {
   "cell_type": "code",
   "execution_count": 116,
   "metadata": {},
   "outputs": [],
   "source": [
    "# def make_transposition_suitable(P, key, bogus = 'z'):\n",
    "#     if (len(P) % len(key)):\n",
    "#         P += bogus * (len(key) - len(P) % len(key))\n",
    "#     return P\n",
    "    \n",
    "def make_transposition_suitable(P, key, bogus = 'z'):\n",
    "    key = [int(i) for i in key]\n",
    "    len_key = max(key) - min(key)\n",
    "    if (len(P) % len_key):\n",
    "        P += bogus * (len_key - len(P) % len_key)\n",
    "    return P\n",
    "\n",
    "def single_transposition(P, key):\n",
    "    C = ''\n",
    "    j = -1\n",
    "    n = len(key)\n",
    "    for i in range(len(P)):\n",
    "        if not i % n:\n",
    "            j += 1\n",
    "        C += P[n * j + int(key[i % n]) - 1]\n",
    "    return C\n",
    "\n",
    "def read_column_by_column(P, key):\n",
    "    n = len(P) // len(key)\n",
    "    C = ''\n",
    "    step = len(key)\n",
    "    for j in range(step):\n",
    "        for i in range(n):\n",
    "            C += P[j + i * step]\n",
    "    return C\n",
    "   \n",
    "def one_iteration(P, key):\n",
    "    return read_column_by_column(single_transposition(P, key), key)\n",
    "    \n",
    "def multiple_transposition(P, key, n = 2):\n",
    "    C = P\n",
    "    for i in range(n):\n",
    "        C = one_iteration(C, key)\n",
    "    return C.upper()"
   ]
  },
  {
   "cell_type": "code",
   "execution_count": 117,
   "metadata": {},
   "outputs": [
    {
     "name": "stdout",
     "output_type": "stream",
     "text": [
      "Enemy attacks tonight\n",
      "31452\n",
      "TIYTEAOZHMCSEANGTKTN\n"
     ]
    }
   ],
   "source": [
    "s = input()\n",
    "key = input()\n",
    "P = make_transposition_suitable(preprocess_string(s), key)\n",
    "print(multiple_transposition(P, key))\n",
    "\n",
    "# input for s = \"Enemy attacks tonight\"\n",
    "# input for key = 31452"
   ]
  },
  {
   "cell_type": "markdown",
   "metadata": {},
   "source": [
    "###  2."
   ]
  },
  {
   "cell_type": "code",
   "execution_count": 118,
   "metadata": {},
   "outputs": [],
   "source": [
    "def linear_feedback_shift(n = 4, xor_list = [0, 1], seed = '0001', iterations = 20):\n",
    "    \n",
    "    seed_len = len(seed)\n",
    "    xor_list.sort()\n",
    "    xor_list = [seed_len - i - 1 for i in xor_list]\n",
    "    seed_output = []\n",
    "    \n",
    "    for i in range(iterations):\n",
    "        output = int(seed[seed_len - 1])\n",
    "        feedback = output\n",
    "        for j in xor_list[1:]:\n",
    "            feedback ^= int(seed[j])\n",
    "            \n",
    "        seed = bin(int(seed, 2) >> 1)[2:]\n",
    "        seed = str(feedback) + '0' * (3 - len(seed)) + seed\n",
    "        seed_output.append((seed, output))\n",
    "        \n",
    "    return seed_output"
   ]
  },
  {
   "cell_type": "code",
   "execution_count": 119,
   "metadata": {
    "scrolled": true
   },
   "outputs": [
    {
     "name": "stdout",
     "output_type": "stream",
     "text": [
      "Iteration\tSeed\t\tOutput\n",
      "0\t\t1000            1\n",
      "1\t\t0100            0\n",
      "2\t\t0010            0\n",
      "3\t\t1001            0\n",
      "4\t\t1100            1\n",
      "5\t\t0110            0\n",
      "6\t\t1011            0\n",
      "7\t\t0101            1\n",
      "8\t\t1010            1\n",
      "9\t\t1101            0\n",
      "10\t\t1110            1\n",
      "11\t\t1111            0\n",
      "12\t\t0111            1\n",
      "13\t\t0011            1\n",
      "14\t\t0001            1\n",
      "15\t\t1000            1\n",
      "16\t\t0100            0\n",
      "17\t\t0010            0\n",
      "18\t\t1001            0\n",
      "19\t\t1100            1\n"
     ]
    }
   ],
   "source": [
    "l = linear_feedback_shift()\n",
    "print(\"Iteration\\tSeed\\t\\tOutput\")\n",
    "for i in range(len(l)):\n",
    "    print(\"{l}\\t\\t{a:5}{b:12d}\".format(l = i, a = l[i][0], b = l[i][1]))"
   ]
  },
  {
   "cell_type": "markdown",
   "metadata": {},
   "source": [
    "### 3."
   ]
  },
  {
   "cell_type": "code",
   "execution_count": 120,
   "metadata": {},
   "outputs": [],
   "source": [
    "def make_transposition_suitable(P, key, bogus = 'z'):\n",
    "    key = [int(i) for i in key]\n",
    "    len_key = max(key) - min(key) + 1\n",
    "    if (len(P) % len_key):\n",
    "        P += bogus * (len_key - len(P) % len_key)\n",
    "    return P\n",
    "   \n",
    "def single_transposition(P, key):\n",
    "    C = ''\n",
    "    j = -1  \n",
    "    n = len(key)\n",
    "    key = [int(i) for i in key]\n",
    "    len_key = max(key) - min(key) + 1\n",
    "    for i in range(0, len(P), len_key):\n",
    "        for j in range(n):\n",
    "            C += P[i + key[j] -1]            \n",
    "    return C\n",
    "\n",
    "def read_column_by_column(P, key):\n",
    "    n = len(P) // len(key)\n",
    "    C = ''\n",
    "    step = len(key)\n",
    "    for j in range(step):\n",
    "        for i in range(n):\n",
    "            C += P[j + i * step]\n",
    "    return C\n",
    "   \n",
    "def one_iteration(P, key):\n",
    "    return read_column_by_column(single_transposition(P, key), key)\n",
    "\n",
    "def text_to_transposition_key(string = \"SWINDON\"):\n",
    "    string = string.lower()\n",
    "    string_to_int = [ord(i) - 97 for i in string]\n",
    "    sorted_string_to_int = sorted(set(string_to_int))\n",
    "    key = []\n",
    "    for i in string_to_int:\n",
    "        key.append(sorted_string_to_int.index(i) + 1)\n",
    "    return ''.join([str(i) for i in key])\n",
    "\n",
    "def encrypt_file_line_by_line(key = \"SWINDON\", file_name = \"sample_a_midsummer_nights_dream\", \n",
    "                              output_file_name = \"output_3.txt\", change_newline_by = 'nl'):\n",
    "    \n",
    "    key = text_to_transposition_key(key)\n",
    "    with open(file_name, \"r\") as file:\n",
    "        with open(output_file_name, \"w\") as encrypted_file:\n",
    "            for line in file:\n",
    "                P = make_transposition_suitable(preprocess_string(line), key)\n",
    "                C = one_iteration(P, key)\n",
    "                C += change_newline_by\n",
    "                encrypted_file.write(C)\n",
    "    return"
   ]
  },
  {
   "cell_type": "code",
   "execution_count": 121,
   "metadata": {},
   "outputs": [],
   "source": [
    "encrypt_file_line_by_line()"
   ]
  },
  {
   "cell_type": "code",
   "execution_count": 122,
   "metadata": {},
   "outputs": [],
   "source": [
    "# for checking\n",
    "# for \"I am Piyush Moolchandani\"\n",
    "# in groups : iampiy ushmoo lchand anizzz\n",
    "# key : 5623143\n",
    "# transposed : iyamipm ooshumh ndchlah zzniazi\n",
    "# read_column_by_column(expected answer) : ionzyodzascnmhhiiulapmazmhhi"
   ]
  },
  {
   "cell_type": "markdown",
   "metadata": {},
   "source": [
    "### 4."
   ]
  },
  {
   "cell_type": "code",
   "execution_count": 123,
   "metadata": {},
   "outputs": [],
   "source": [
    "def multiply(P2 = '10011110', P1 ='000100110', IR = '100011011'):\n",
    "    \n",
    "    powers = []\n",
    "    \n",
    "    p2_len = len(P2)\n",
    "    p1_len = len(P1)\n",
    "    ir_len = len(IR) \n",
    "    P1 = int(P1, 2)\n",
    "    P2 = int(P2, 2)\n",
    "    IR = int(IR[1:], 2)\n",
    "    \n",
    "    powers.append(P1)\n",
    "    temp = P1\n",
    "    for i in range(p2_len - 1):\n",
    "        temp = temp << 1\n",
    "        temp_str = bin(temp)[2:]\n",
    "        temp_str = '0' * (ir_len - len(temp_str)) + temp_str\n",
    "        if int(temp_str[-ir_len]):\n",
    "            temp = int(temp_str[1:], 2) ^ IR\n",
    "        powers.append(temp)\n",
    "    \n",
    "    P1 = bin(P1)[2:]\n",
    "    P1 = '0' * (p1_len - len(P1)) + P1\n",
    "    P2 = bin(P2)[2:]\n",
    "    P2 = '0' * (p2_len - len(P2)) + P2\n",
    "    \n",
    "    answer = 0\n",
    "    for i in range(1, p2_len + 1):\n",
    "        if P2[-i] == '1':\n",
    "            answer = answer ^ powers[i - 1]\n",
    "    \n",
    "    return bin(answer)[2:]"
   ]
  },
  {
   "cell_type": "code",
   "execution_count": 124,
   "metadata": {},
   "outputs": [
    {
     "data": {
      "text/plain": [
       "'101111'"
      ]
     },
     "execution_count": 124,
     "metadata": {},
     "output_type": "execute_result"
    }
   ],
   "source": [
    "multiply()"
   ]
  }
 ],
 "metadata": {
  "kernelspec": {
   "display_name": "Python 3",
   "language": "python",
   "name": "python3"
  },
  "language_info": {
   "codemirror_mode": {
    "name": "ipython",
    "version": 3
   },
   "file_extension": ".py",
   "mimetype": "text/x-python",
   "name": "python",
   "nbconvert_exporter": "python",
   "pygments_lexer": "ipython3",
   "version": "3.7.4"
  }
 },
 "nbformat": 4,
 "nbformat_minor": 2
}
