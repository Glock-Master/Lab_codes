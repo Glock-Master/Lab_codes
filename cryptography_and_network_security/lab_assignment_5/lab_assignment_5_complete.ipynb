{
 "cells": [
  {
   "cell_type": "code",
   "execution_count": 1,
   "metadata": {},
   "outputs": [],
   "source": [
    "def preprocess_string(s):\n",
    "    s = s.lower()\n",
    "    plaintext = ''\n",
    "    for i in s:\n",
    "        temp = ord(i)\n",
    "        if (temp < 123 and temp > 96 or temp < 91 and temp > 64\n",
    "            or temp < 58 and temp > 47):\n",
    "            plaintext += i\n",
    "    return plaintext"
   ]
  },
  {
   "cell_type": "code",
   "execution_count": 2,
   "metadata": {},
   "outputs": [],
   "source": [
    "def char_to_bits(s, char_size = 4):\n",
    "    ans = bin(int(s, 16))[2:]\n",
    "    ans = '0' * (char_size - len(ans)) + ans \n",
    "    return ans"
   ]
  },
  {
   "cell_type": "code",
   "execution_count": 3,
   "metadata": {},
   "outputs": [],
   "source": [
    "def char_chunk_to_bits(s, char_size = 4):\n",
    "    ans = ''\n",
    "    for i in s:\n",
    "        ans += char_to_bits(i, char_size)\n",
    "    return ans"
   ]
  },
  {
   "cell_type": "code",
   "execution_count": 4,
   "metadata": {},
   "outputs": [],
   "source": [
    "def create_chunks(s, chunk_size, char_size = 4, bogus = 'F'):\n",
    "    char_count = chunk_size // char_size\n",
    "    increment = len(s) % char_count\n",
    "    if increment:\n",
    "        s += ((len(s) // char_count + 1) * char_count - len(s)) * bogus\n",
    "    chunks = [s[i:i + char_count] for i in range(0, len(s), char_count)]\n",
    "    return chunks"
   ]
  },
  {
   "cell_type": "code",
   "execution_count": 5,
   "metadata": {},
   "outputs": [],
   "source": [
    "def get_bit_chunks(s, chunk_size, char_size = 4, bogus = 'F'):\n",
    "    s = preprocess_string(s)\n",
    "    chunks = create_chunks(s, chunk_size, char_size, bogus)\n",
    "    bit_chunks = [char_chunk_to_bits(i, char_size) for i in chunks]\n",
    "    return bit_chunks"
   ]
  },
  {
   "cell_type": "code",
   "execution_count": 6,
   "metadata": {},
   "outputs": [
    {
     "data": {
      "text/plain": [
       "['0000000100100011010001010110011110001001101010111100110111101111']"
      ]
     },
     "execution_count": 6,
     "metadata": {},
     "output_type": "execute_result"
    }
   ],
   "source": [
    "get_bit_chunks('0123456789ABCDEF', 64, 4, 'F')"
   ]
  },
  {
   "cell_type": "markdown",
   "metadata": {},
   "source": [
    "## 1."
   ]
  },
  {
   "cell_type": "code",
   "execution_count": null,
   "metadata": {},
   "outputs": [],
   "source": []
  },
  {
   "cell_type": "code",
   "execution_count": null,
   "metadata": {},
   "outputs": [],
   "source": []
  },
  {
   "cell_type": "code",
   "execution_count": null,
   "metadata": {},
   "outputs": [],
   "source": []
  },
  {
   "cell_type": "code",
   "execution_count": null,
   "metadata": {},
   "outputs": [],
   "source": []
  },
  {
   "cell_type": "code",
   "execution_count": null,
   "metadata": {},
   "outputs": [],
   "source": []
  },
  {
   "cell_type": "code",
   "execution_count": 9,
   "metadata": {},
   "outputs": [
    {
     "name": "stdout",
     "output_type": "stream",
     "text": [
      "Enter Plaintext: slfjsdlkfsdflsdjf;asfs\n",
      "Enter DES Key: sfksfsd\n"
     ]
    }
   ],
   "source": [
    "P = input(\"Enter Plaintext: \")\n",
    "K = input(\"Enter DES Key: \")\n",
    "\n",
    "# chunk_size = 64 bits for DES\n",
    "# char_size = 4 (default)\n",
    "# bogus = 'F' (default)\n",
    "blocks = get_bit_chunks(P, 64)"
   ]
  },
  {
   "cell_type": "code",
   "execution_count": null,
   "metadata": {},
   "outputs": [],
   "source": []
  }
 ],
 "metadata": {
  "kernelspec": {
   "display_name": "Python 3",
   "language": "python",
   "name": "python3"
  },
  "language_info": {
   "codemirror_mode": {
    "name": "ipython",
    "version": 3
   },
   "file_extension": ".py",
   "mimetype": "text/x-python",
   "name": "python",
   "nbconvert_exporter": "python",
   "pygments_lexer": "ipython3",
   "version": "3.7.4"
  }
 },
 "nbformat": 4,
 "nbformat_minor": 2
}
