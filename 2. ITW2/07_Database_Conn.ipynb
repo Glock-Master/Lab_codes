{
 "cells": [
  {
   "cell_type": "code",
   "execution_count": 1,
   "metadata": {},
   "outputs": [],
   "source": [
    "import sqlite3"
   ]
  },
  {
   "cell_type": "code",
   "execution_count": 2,
   "metadata": {},
   "outputs": [],
   "source": [
    "# creates or opens a file called mydb with a SQLITE3 DB\n",
    "db = sqlite3.connect('MyDB')"
   ]
  },
  {
   "cell_type": "code",
   "execution_count": 3,
   "metadata": {},
   "outputs": [],
   "source": [
    "db.close()"
   ]
  },
  {
   "cell_type": "code",
   "execution_count": 4,
   "metadata": {},
   "outputs": [
    {
     "name": "stdout",
     "output_type": "stream",
     "text": [
      "Drop command successful\n",
      "Table Created\n"
     ]
    }
   ],
   "source": [
    "db = sqlite3.connect('MyDB')\n",
    "# Get a cursor object\n",
    "cur = db.cursor()\n",
    "\n",
    "# Drop table if it already exist using execute() method.\n",
    "if cur.execute(\"DROP TABLE IF EXISTS custs\"):\n",
    "    print('Drop command successful')\n",
    "\n",
    "# Create table\n",
    "if cur.execute(\"CREATE TABLE custs(id INTEGER PRIMARY KEY, name TEXT, phone TEXT, email TEXT unique, course TEXT)\"):\n",
    "    print('Table Created')\n",
    "db.commit()\n",
    "cur.close()\n",
    "db.close()"
   ]
  },
  {
   "cell_type": "code",
   "execution_count": 5,
   "metadata": {},
   "outputs": [
    {
     "name": "stdout",
     "output_type": "stream",
     "text": [
      "1 Record Inserted successfully\n",
      "2nd Recond Inserted successfully\n",
      "3rd one inserted\n",
      "4th one inserted\n"
     ]
    }
   ],
   "source": [
    "db = sqlite3.connect('MyDB')\n",
    "cur = db.cursor()\n",
    "\n",
    "if cur.execute('INSERT INTO custs(name, course) VALUES (?, ?)', ('Piyush', \"Python\")):\n",
    "    print('1 Record Inserted successfully')\n",
    "\n",
    "if cur.execute('INSERT INTO custs(name, course) VALUES (?, ?)', ('Harsh', 'Panda')):\n",
    "    print('2nd Recond Inserted successfully')\n",
    "\n",
    "if cur.execute('INSERT INTO custs(name, course) VALUES (:name, :course)', {'name':'Vishal', 'course': 'Data Science'}):\n",
    "    print(\"3rd one inserted\")\n",
    "\n",
    "if cur.executemany('INSERT INTO custs(name, course) VALUES (:name, :course)',\n",
    "                   [{'name': 'Jaya', 'course': 'Machine Learning'}, {'name': 'Prakash', 'course': 'Android'}]):\n",
    "    print(\"4th one inserted\")\n",
    "db.commit()\n",
    "cur.close()\n",
    "db.close()"
   ]
  },
  {
   "cell_type": "code",
   "execution_count": 6,
   "metadata": {},
   "outputs": [
    {
     "name": "stdout",
     "output_type": "stream",
     "text": [
      "Record cusor is ready\n",
      "-------------\n",
      "('Piyush', 'Python')\n",
      "---------------------\n",
      "Harsh, Panda\n",
      "Vishal, Data Science\n",
      "Jaya, Machine Learning\n",
      "Prakash, Android\n",
      "None\n"
     ]
    }
   ],
   "source": [
    "db = sqlite3.connect('MyDB')\n",
    "cur = db.cursor()\n",
    "\n",
    "if cur.execute(\"Select name, course from custs\"):\n",
    "    print(\"Record cusor is ready\")\n",
    "print('-------------')\n",
    "\n",
    "# Fetch using fetchone()\n",
    "record1 = cur.fetchone()\n",
    "print(record1)\n",
    "print('---------------------')\n",
    "\n",
    "# Fetch using getchall()\n",
    "recordall = cur.fetchall()\n",
    "for record in recordall:\n",
    "    print('{0}, {1}'.format(record[0], record[1]))\n",
    "print(cur.fetchone())\n",
    "db.commit()\n",
    "cur.close()\n",
    "db.close()"
   ]
  },
  {
   "cell_type": "code",
   "execution_count": 7,
   "metadata": {},
   "outputs": [
    {
     "name": "stdout",
     "output_type": "stream",
     "text": [
      "Record cursor is ready\n",
      "-----------------------------------------------------\n",
      "Piyush, Python\n",
      "Harsh, Panda\n",
      "Vishal, Data Science\n",
      "Jaya, Machine Learning\n",
      "Prakash, Android\n",
      "\n",
      "Cursor is ready\n",
      "------------------------------------------------------\n",
      "Piyush Python\n"
     ]
    }
   ],
   "source": [
    "db = sqlite3.connect('MyDB')\n",
    "cur = db.cursor()\n",
    "\n",
    "if cur.execute(\"SELECT name, course from custs\"):\n",
    "    print(\"Record cursor is ready\");\n",
    "print('-----------------------------------------------------')\n",
    "\n",
    "for record in cur:\n",
    "    print(\"{0}, {1}\".format(record[0], record[1]))\n",
    "\n",
    "if cur.execute(\"Select name, course FROM custs WHERE name = ?\", ('Piyush',)):\n",
    "    print(\"\\nCursor is ready\")\n",
    "\n",
    "print('------------------------------------------------------')\n",
    "\n",
    "for record in cur:\n",
    "    print(record[0], record[1])\n",
    "\n",
    "db.commit()\n",
    "cur.close()\n",
    "db.close()"
   ]
  },
  {
   "cell_type": "code",
   "execution_count": 8,
   "metadata": {},
   "outputs": [
    {
     "name": "stdout",
     "output_type": "stream",
     "text": [
      "Record Updated Successfully\n",
      "Record cursor is ready.\n",
      "-------------------------------------------\n",
      "Piyush, Spark\n"
     ]
    }
   ],
   "source": [
    "##update##\n",
    "db = sqlite3.connect('MyDB')\n",
    "# Get a cursor object\n",
    "cur = db.cursor()\n",
    "\n",
    "# Updata the row in custs\n",
    "if (cur.execute(\"UPDATE custs SET course = ?, phone = ? WHERE name = ?\", ('Spark', \"7747807377\", \"Piyush\"))):\n",
    "    print('Record Updated Successfully')\n",
    "\n",
    "#select with where clause\n",
    "if cur.execute(\"Select name, course FROM custs WHERE name = ?\", (\"Piyush\", )):\n",
    "    print(\"Record cursor is ready.\")\n",
    "print(\"-------------------------------------------\")\n",
    "\n",
    "#cursor object used as iterator\n",
    "for record in cur:\n",
    "    print('{0}, {1}'.format(record[0], record[1]))\n",
    "\n",
    "db.commit()\n",
    "cur.close()\n",
    "db.close()"
   ]
  },
  {
   "cell_type": "code",
   "execution_count": 9,
   "metadata": {},
   "outputs": [
    {
     "name": "stdout",
     "output_type": "stream",
     "text": [
      "Record Deleted Successfully\n",
      "Record cursor is ready\n",
      "---------------------------------------\n",
      "Piyush, Spark\n",
      "Harsh, Panda\n",
      "Jaya, Machine Learning\n",
      "Prakash, Android\n"
     ]
    }
   ],
   "source": [
    "## Delete ### \n",
    "db = sqlite3.connect(\"MyDB\")\n",
    "\n",
    "cur = db.cursor()\n",
    "\n",
    "if cur.execute(\"delete from custs WHERE name = ?\", (\"Vishal\",)):\n",
    "    print(\"Record Deleted Successfully\")\n",
    "if cur.execute(\"SELECT name, course from custs\"):\n",
    "    print(\"Record cursor is ready\")\n",
    "print(\"---------------------------------------\")\n",
    "\n",
    "#Cursor object used as iterator\n",
    "for record in cur:\n",
    "    print(\"{0}, {1}\".format(record[0], record[1]))\n",
    "db.commit()\n",
    "cur.close()\n",
    "db.close()"
   ]
  },
  {
   "cell_type": "code",
   "execution_count": 10,
   "metadata": {},
   "outputs": [
    {
     "name": "stdout",
     "output_type": "stream",
     "text": [
      "Table is dropped\n"
     ]
    }
   ],
   "source": [
    "# drop table\n",
    "db = sqlite3.connect(\"MyDB\")\n",
    "cur = db.cursor()\n",
    "\n",
    "if cur.execute(\"Drop TABLE custs\"):\n",
    "    print(\"Table is dropped\")\n",
    "cur.close()\n",
    "db.close()"
   ]
  },
  {
   "cell_type": "markdown",
   "metadata": {},
   "source": [
    "## Questions:"
   ]
  },
  {
   "cell_type": "markdown",
   "metadata": {},
   "source": [
    "1"
   ]
  },
  {
   "cell_type": "code",
   "execution_count": 11,
   "metadata": {},
   "outputs": [],
   "source": [
    "import sqlite3"
   ]
  },
  {
   "cell_type": "code",
   "execution_count": 12,
   "metadata": {},
   "outputs": [],
   "source": [
    "db = sqlite3.connect(\"FilmBoard\")"
   ]
  },
  {
   "cell_type": "code",
   "execution_count": 13,
   "metadata": {},
   "outputs": [],
   "source": [
    "db.close()"
   ]
  },
  {
   "cell_type": "markdown",
   "metadata": {},
   "source": [
    "2"
   ]
  },
  {
   "cell_type": "code",
   "execution_count": 14,
   "metadata": {},
   "outputs": [
    {
     "name": "stdout",
     "output_type": "stream",
     "text": [
      "Dropped if already present\n"
     ]
    },
    {
     "ename": "OperationalError",
     "evalue": "table hey already exists",
     "output_type": "error",
     "traceback": [
      "\u001b[1;31m---------------------------------------------------------------------------\u001b[0m",
      "\u001b[1;31mOperationalError\u001b[0m                          Traceback (most recent call last)",
      "\u001b[1;32m<ipython-input-14-8ae04db24da3>\u001b[0m in \u001b[0;36m<module>\u001b[1;34m()\u001b[0m\n\u001b[0;32m      5\u001b[0m     \u001b[0mprint\u001b[0m\u001b[1;33m(\u001b[0m\u001b[1;34m'Dropped if already present'\u001b[0m\u001b[1;33m)\u001b[0m\u001b[1;33m\u001b[0m\u001b[0m\n\u001b[0;32m      6\u001b[0m \u001b[1;33m\u001b[0m\u001b[0m\n\u001b[1;32m----> 7\u001b[1;33m \u001b[1;32mif\u001b[0m \u001b[0mcur\u001b[0m\u001b[1;33m.\u001b[0m\u001b[0mexecute\u001b[0m\u001b[1;33m(\u001b[0m\u001b[1;34m\"CREATE TABLE hey(id INTEGER PRIMARY KEY, Name TEXT, Surname TEXT, Age INTEGER, Gender TEXT, MovieName TEXT, Rank INTEGER)\"\u001b[0m\u001b[1;33m)\u001b[0m\u001b[1;33m:\u001b[0m\u001b[1;33m\u001b[0m\u001b[0m\n\u001b[0m\u001b[0;32m      8\u001b[0m     \u001b[0mprint\u001b[0m\u001b[1;33m(\u001b[0m\u001b[1;34m'Table Created'\u001b[0m\u001b[1;33m)\u001b[0m\u001b[1;33m\u001b[0m\u001b[0m\n\u001b[0;32m      9\u001b[0m \u001b[0mdb\u001b[0m\u001b[1;33m.\u001b[0m\u001b[0mcommit\u001b[0m\u001b[1;33m(\u001b[0m\u001b[1;33m)\u001b[0m\u001b[1;33m\u001b[0m\u001b[0m\n",
      "\u001b[1;31mOperationalError\u001b[0m: table hey already exists"
     ]
    }
   ],
   "source": [
    "db = sqlite3.connect('FilmBoard')\n",
    "cur = db.cursor()\n",
    "\n",
    "if cur.execute(\"DROP TABLE IF EXISTS custs\"):\n",
    "    print('Dropped if already present')\n",
    "\n",
    "if cur.execute(\"CREATE TABLE hey(id INTEGER PRIMARY KEY, Name TEXT, Surname TEXT, Age INTEGER, Gender TEXT, MovieName TEXT, Rank INTEGER)\"):\n",
    "    print('Table Created')\n",
    "db.commit()\n",
    "cur.close()\n",
    "db.close()"
   ]
  },
  {
   "cell_type": "markdown",
   "metadata": {},
   "source": [
    "3"
   ]
  },
  {
   "cell_type": "code",
   "execution_count": null,
   "metadata": {},
   "outputs": [],
   "source": [
    "db = sqlite3.connect(\"FilmBoard\")\n",
    "cur = db.cursor()\n",
    "\n",
    "if cur.executemany('INSERT INTO hey(Name, Surname, Age, Gender, MovieName, Rank) VALUES (:a, :b, :c, :d, :e, :f)',\n",
    "                   [{'a': 'Amitabh', 'b': 'Bachan', 'c': 75, 'd': 'M', 'e': '101 Not Out', 'f': 1}, {'a': 'Akshay', 'b': 'Kumar', 'c': 50, 'd': 'M', 'e': 'Dhanchand', 'f': 2}, {'a': 'Hrithk', 'b': 'Roshan', 'c':42, 'd': 'M', 'e': 'Krrish 2', 'f': 3}, {'a': 'Salmaan', 'b': 'Khan', 'c': 50, 'd': 'M', 'e': 'Race 3', 'f': 6}, {'a': 'Alia', 'b': 'Bhat', 'c': 25, 'd': 'F', 'e': 'Gazzi', 'f': 4}, {'a': 'Madhuri', 'b': 'Dixit', 'c': 45, 'd': 'F', 'e': 'Buket list', 'f': 5}]):\n",
    "    print(\"Inserted\")\n",
    "db.commit()\n",
    "cur.close()\n",
    "db.close()"
   ]
  },
  {
   "cell_type": "markdown",
   "metadata": {},
   "source": [
    "#### 4"
   ]
  },
  {
   "cell_type": "code",
   "execution_count": 16,
   "metadata": {},
   "outputs": [
    {
     "name": "stdout",
     "output_type": "stream",
     "text": [
      "1: Display complete detail.\n",
      "2: Insert new Actor/Actress\n",
      "3: Delete by actor name\n",
      "4: Update rank using name\n",
      "5: Update movie using surname\n",
      "6: To exit\n",
      "\n",
      "Enter your choice: 1\n",
      "Record cusor is ready\n",
      "('Amitabh', 'Bachan', 75, 'M', '101 Not Out', 1)\n",
      "('Akshay', 'Kumar', 50, 'M', 'Dhanchand', 2)\n",
      "('Hrithk', 'Roshan', 42, 'M', 'Krrish 2', 3)\n",
      "('Salmaan', 'Khan', 50, 'M', 'Race 3', 6)\n",
      "('Alia', 'Bhat', 25, 'F', 'Gazzi', 4)\n",
      "('Madhuri', 'Dixit', 45, 'F', 'Buket list', 5)\n",
      "Enter your choice: 2\n",
      "In 2\n",
      "a\n",
      "b\n",
      "56\n",
      "d\n",
      "e\n",
      "89\n",
      "Record Inserted successfully\n",
      "Enter your choice: 1\n",
      "Record cusor is ready\n",
      "('Amitabh', 'Bachan', 75, 'M', '101 Not Out', 1)\n",
      "('Akshay', 'Kumar', 50, 'M', 'Dhanchand', 2)\n",
      "('Hrithk', 'Roshan', 42, 'M', 'Krrish 2', 3)\n",
      "('Salmaan', 'Khan', 50, 'M', 'Race 3', 6)\n",
      "('Alia', 'Bhat', 25, 'F', 'Gazzi', 4)\n",
      "('Madhuri', 'Dixit', 45, 'F', 'Buket list', 5)\n",
      "('a', 'b', 56, 'd', 'e', 89)\n",
      "Enter your choice: 3\n",
      "Which one to delete: Akshay\n",
      "Record Deleted Successfully\n",
      "Enter your choice: 1\n",
      "Record cusor is ready\n",
      "('Amitabh', 'Bachan', 75, 'M', '101 Not Out', 1)\n",
      "('Hrithk', 'Roshan', 42, 'M', 'Krrish 2', 3)\n",
      "('Salmaan', 'Khan', 50, 'M', 'Race 3', 6)\n",
      "('Alia', 'Bhat', 25, 'F', 'Gazzi', 4)\n",
      "('Madhuri', 'Dixit', 45, 'F', 'Buket list', 5)\n",
      "('a', 'b', 56, 'd', 'e', 89)\n",
      "Enter your choice: 6\n"
     ]
    }
   ],
   "source": [
    "def print_():\n",
    "    print(\"1: Display complete detail.\")\n",
    "    print(\"2: Insert new Actor/Actress\")\n",
    "    print(\"3: Delete by actor name\")\n",
    "    print(\"4: Update rank using name\")\n",
    "    print(\"5: Update movie using surname\")\n",
    "    print(\"6: To exit\\n\")\n",
    "print_()\n",
    "\n",
    "db = sqlite3.connect(\"FilmBoard\")\n",
    "while(1):\n",
    "    a = int(input(\"Enter your choice: \"))\n",
    "    if (a == 1):\n",
    "        cur = db.cursor()\n",
    "        if cur.execute(\"Select Name, Surname, Age, Gender, MovieName, Rank from hey\"):\n",
    "            print(\"Record cusor is ready\")\n",
    "        recordall = cur.fetchall()\n",
    "        for record in recordall:\n",
    "            print(record)\n",
    "        cur.close()\n",
    "        \n",
    "    elif (a == 2):\n",
    "        print(\"In 2\")\n",
    "        z = input()\n",
    "        b = input()\n",
    "        c = int(input())\n",
    "        d = input()\n",
    "        e = input()\n",
    "        f = int(input())\n",
    "        cur = db.cursor()\n",
    "        if cur.execute('INSERT INTO hey(Name, Surname, Age, Gender, MovieName, Rank) VALUES (?, ?, ?, ?, ?, ?)', (z, b, c, d, e, f)):\n",
    "            print('Record Inserted successfully')\n",
    "        db.commit()\n",
    "        cur.close()\n",
    "        \n",
    "    elif (a == 3):\n",
    "        x = input(\"Which one to delete: \")\n",
    "        cur = db.cursor()\n",
    "        if cur.execute(\"delete from hey WHERE Name = ?\", (x,)):\n",
    "            print(\"Record Deleted Successfully\")\n",
    "        db.commit()\n",
    "        cur.close()\n",
    "            \n",
    "    elif (a == 4):\n",
    "        cur = db.cursor()\n",
    "        x = input(\"Which one to update: \")\n",
    "        y = int(input(\"New Rank: \"))\n",
    "        if (cur.execute(\"UPDATE hey SET Rank = ? WHERE Name = ?\", (y, x))):\n",
    "            print('Record Updated Successfully')\n",
    "        db.commit()\n",
    "        cur.close()\n",
    "        \n",
    "    elif (a == 5):\n",
    "        cur = db.cursor()\n",
    "        x = input(\"Which one to update: \")\n",
    "        y = input(\"New Movie: \")\n",
    "        if (cur.execute(\"UPDATE hey SET MovieName = ? WHERE Surname = ?\", (y, x))):\n",
    "            print('Record Updated Successfully')\n",
    "        db.commit()\n",
    "        cur.close()\n",
    "        \n",
    "    elif (a == 6):\n",
    "        break;\n",
    "db.commit()\n",
    "db.close()"
   ]
  },
  {
   "cell_type": "code",
   "execution_count": null,
   "metadata": {},
   "outputs": [],
   "source": []
  }
 ],
 "metadata": {
  "kernelspec": {
   "display_name": "Python 3",
   "language": "python",
   "name": "python3"
  },
  "language_info": {
   "codemirror_mode": {
    "name": "ipython",
    "version": 3
   },
   "file_extension": ".py",
   "mimetype": "text/x-python",
   "name": "python",
   "nbconvert_exporter": "python",
   "pygments_lexer": "ipython3",
   "version": "3.6.5"
  }
 },
 "nbformat": 4,
 "nbformat_minor": 2
}
