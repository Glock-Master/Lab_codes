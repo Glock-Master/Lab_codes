{
 "cells": [
  {
   "cell_type": "markdown",
   "metadata": {},
   "source": [
    "#### Wap to evaluate any one of following as valid or invalid.\n",
    "* Postfix eg. ((AB*)(CD/)+)\n",
    "* Infix eg. ((A*B)+(C/D))\n",
    "* Prefix eg. (+(*AB)(/CD))\n",
    "\n",
    "#### Wap to convert an:\n",
    "* infix to postfix and vice versa\n",
    "* infix to prefix and vice versa\n",
    "* prefix to postfix expression and vice versa"
   ]
  },
  {
   "cell_type": "code",
   "execution_count": 1,
   "metadata": {},
   "outputs": [],
   "source": [
    "# Check for operator\n",
    "def is_operator(temp):\n",
    "    if temp in '+-*/':\n",
    "        return True\n",
    "    return False"
   ]
  },
  {
   "cell_type": "code",
   "execution_count": 2,
   "metadata": {},
   "outputs": [],
   "source": [
    "# Check for bracket\n",
    "def is_bracket(temp):\n",
    "    if temp in '()':\n",
    "        return True\n",
    "    return False"
   ]
  },
  {
   "cell_type": "code",
   "execution_count": 3,
   "metadata": {},
   "outputs": [],
   "source": [
    "# Check for operator\n",
    "def is_operand(temp):\n",
    "    if temp in 'abcdefghijklmnopqrstuvwxyzABCDEFGHIJKLMNOPQRSTUVWXYZ':\n",
    "        return True\n",
    "    return False"
   ]
  },
  {
   "cell_type": "code",
   "execution_count": 4,
   "metadata": {},
   "outputs": [],
   "source": [
    "# Validate prefix\n",
    "def v_prefix(temp):\n",
    "    s = []\n",
    "    for i in temp:\n",
    "        if i != ')':\n",
    "            s.append(i)\n",
    "        elif i == ')':\n",
    "            temp_1 = s.pop(-4)\n",
    "            temp_2 = s.pop(-3)\n",
    "            temp_3 = s.pop(-2)\n",
    "            temp_4 = s.pop()\n",
    "            s.append('x')\n",
    "            if all([is_operator(temp_2), is_operand(temp_3), is_operand(temp_4), temp_1 == '(', i == ')']):\n",
    "                continue\n",
    "            else:\n",
    "                return False\n",
    "    if len(s) == 1:\n",
    "        return True\n",
    "    else:\n",
    "        return False"
   ]
  },
  {
   "cell_type": "code",
   "execution_count": 5,
   "metadata": {},
   "outputs": [
    {
     "name": "stdout",
     "output_type": "stream",
     "text": [
      "gg\n",
      "False\n"
     ]
    }
   ],
   "source": [
    "a = input()\n",
    "print(v_prefix(a))"
   ]
  },
  {
   "cell_type": "code",
   "execution_count": 6,
   "metadata": {},
   "outputs": [],
   "source": [
    "#Validate infix\n",
    "def v_infix(temp):\n",
    "    s = []\n",
    "    for i in temp:\n",
    "        if i != ')':\n",
    "            s.append(i)\n",
    "        elif i == ')':\n",
    "            temp_1 = s.pop(-4)\n",
    "            temp_2 = s.pop(-3)\n",
    "            temp_3 = s.pop(-2)\n",
    "            temp_4 = s.pop()\n",
    "            s.append('x')\n",
    "            if all([is_operand(temp_2), is_operator(temp_3), is_operand(temp_4), temp_1 == '(', i == ')']):\n",
    "                continue\n",
    "            else:\n",
    "                return False\n",
    "    if len(s) == 1:\n",
    "        return True\n",
    "    else:\n",
    "        return False"
   ]
  },
  {
   "cell_type": "code",
   "execution_count": 7,
   "metadata": {},
   "outputs": [
    {
     "name": "stdout",
     "output_type": "stream",
     "text": [
      "gg\n",
      "False\n"
     ]
    }
   ],
   "source": [
    "a = input()\n",
    "print(v_infix(a))"
   ]
  },
  {
   "cell_type": "code",
   "execution_count": 8,
   "metadata": {},
   "outputs": [],
   "source": [
    "#Validate postfix\n",
    "def v_postfix(temp):\n",
    "    a = []\n",
    "    for i in temp:\n",
    "        if is_bracket(i):\n",
    "            continue\n",
    "        if not is_operator(i):\n",
    "            a.append(i)\n",
    "        else:\n",
    "            temp = str(a.pop(-2))\n",
    "            temp += str(a.pop())\n",
    "            temp += i\n",
    "            a.append(temp)\n",
    "    if len(a) == 1:\n",
    "        return True\n",
    "    return False"
   ]
  },
  {
   "cell_type": "code",
   "execution_count": null,
   "metadata": {},
   "outputs": [],
   "source": [
    "a = input()\n",
    "print(v_postfix(a))"
   ]
  },
  {
   "cell_type": "markdown",
   "metadata": {},
   "source": [
    "## Conversions"
   ]
  },
  {
   "cell_type": "code",
   "execution_count": null,
   "metadata": {},
   "outputs": [],
   "source": [
    "def pre_in(temp):\n",
    "    s = []\n",
    "    for i in temp:\n",
    "        if i != ')':\n",
    "            s.append(i)\n",
    "        elif i == ')':\n",
    "            a = ''\n",
    "            a += s.pop(-4)\n",
    "            a += s.pop(-2)\n",
    "            a += s.pop(-2)\n",
    "            a += s.pop()\n",
    "            a += i\n",
    "            s.append(a)\n",
    "    return str(s[0])"
   ]
  },
  {
   "cell_type": "code",
   "execution_count": null,
   "metadata": {},
   "outputs": [],
   "source": [
    "a = input()\n",
    "print(pre_in(a))"
   ]
  },
  {
   "cell_type": "code",
   "execution_count": null,
   "metadata": {},
   "outputs": [],
   "source": [
    "def pre_post(temp):\n",
    "    s = []\n",
    "    for i in temp:\n",
    "        if i != ')':\n",
    "            s.append(i)\n",
    "        elif i == ')':\n",
    "            a = ''\n",
    "            a += s.pop(-4)\n",
    "            a += s.pop(-2)\n",
    "            a += s.pop()\n",
    "            a += s.pop()\n",
    "            a += i\n",
    "            s.append(a)\n",
    "    return str(s[0])"
   ]
  },
  {
   "cell_type": "code",
   "execution_count": null,
   "metadata": {},
   "outputs": [],
   "source": [
    "a = input()\n",
    "print(pre_post(a))"
   ]
  },
  {
   "cell_type": "code",
   "execution_count": null,
   "metadata": {},
   "outputs": [],
   "source": [
    "def in_post(temp):\n",
    "    s = []\n",
    "    for i in temp:\n",
    "        if i != ')':\n",
    "            s.append(i)\n",
    "        elif i == ')':\n",
    "            a = ''\n",
    "            a += s.pop(-4)\n",
    "            a += s.pop(-3)\n",
    "            a += s.pop()\n",
    "            a += s.pop()\n",
    "            a += i\n",
    "            s.append(a)\n",
    "    return str(s[0])"
   ]
  },
  {
   "cell_type": "code",
   "execution_count": null,
   "metadata": {},
   "outputs": [],
   "source": [
    "a = input()\n",
    "print(in_post(a))"
   ]
  },
  {
   "cell_type": "code",
   "execution_count": null,
   "metadata": {},
   "outputs": [],
   "source": [
    "def in_pre(temp):\n",
    "    s = []\n",
    "    for i in temp:\n",
    "        if i != ')':\n",
    "            s.append(i)\n",
    "        elif i == ')':\n",
    "            a = ''\n",
    "            a += s.pop(-4)\n",
    "            a += s.pop(-2)\n",
    "            a += s.pop(-2)\n",
    "            a += s.pop()\n",
    "            a += i\n",
    "            s.append(a)\n",
    "    return str(s[0])"
   ]
  },
  {
   "cell_type": "code",
   "execution_count": null,
   "metadata": {},
   "outputs": [],
   "source": [
    "a = input()\n",
    "print(in_pre(a))"
   ]
  },
  {
   "cell_type": "code",
   "execution_count": null,
   "metadata": {},
   "outputs": [],
   "source": [
    "def post_pre(temp):\n",
    "    s = []\n",
    "    for i in temp:\n",
    "        if i != ')':\n",
    "            s.append(i)\n",
    "        elif i == ')':\n",
    "            a = ''\n",
    "            a += s.pop(-4)\n",
    "            a += s.pop()\n",
    "            a += s.pop(-2)\n",
    "            a += s.pop()\n",
    "            a += i\n",
    "            s.append(a)\n",
    "    return str(s[0])"
   ]
  },
  {
   "cell_type": "code",
   "execution_count": null,
   "metadata": {},
   "outputs": [],
   "source": [
    "def post_in(temp):\n",
    "    s = []\n",
    "    for i in temp:\n",
    "        if i != ')':\n",
    "            s.append(i)\n",
    "        elif i == ')':\n",
    "            a = ''\n",
    "            a += s.pop(-4)\n",
    "            a += s.pop(-3)\n",
    "            a += s.pop()\n",
    "            a += s.pop()\n",
    "            a += i\n",
    "            s.append(a)\n",
    "    return str(s[0])"
   ]
  },
  {
   "cell_type": "code",
   "execution_count": null,
   "metadata": {},
   "outputs": [],
   "source": [
    "a = input()\n",
    "print(post_pre(a), post_in(a))"
   ]
  },
  {
   "cell_type": "code",
   "execution_count": null,
   "metadata": {},
   "outputs": [],
   "source": []
  }
 ],
 "metadata": {
  "kernelspec": {
   "display_name": "Python 3",
   "language": "python",
   "name": "python3"
  },
  "language_info": {
   "codemirror_mode": {
    "name": "ipython",
    "version": 3
   },
   "file_extension": ".py",
   "mimetype": "text/x-python",
   "name": "python",
   "nbconvert_exporter": "python",
   "pygments_lexer": "ipython3",
   "version": "3.6.5"
  }
 },
 "nbformat": 4,
 "nbformat_minor": 2
}
