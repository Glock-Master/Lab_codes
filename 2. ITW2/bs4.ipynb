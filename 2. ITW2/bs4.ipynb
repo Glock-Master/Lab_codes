{
 "cells": [
  {
   "cell_type": "code",
   "execution_count": 45,
   "metadata": {},
   "outputs": [],
   "source": [
    "import requests\n",
    "import bs4 as bs"
   ]
  },
  {
   "cell_type": "code",
   "execution_count": 46,
   "metadata": {},
   "outputs": [],
   "source": [
    "url = 'https://pythonprogramming.net/parsememcparseface/'\n",
    "doc = requests.get(url)"
   ]
  },
  {
   "cell_type": "code",
   "execution_count": 56,
   "metadata": {},
   "outputs": [
    {
     "name": "stdout",
     "output_type": "stream",
     "text": [
      "<class 'requests.models.Response'> <class 'bytes'>\n",
      "b'<html>\\n\\t<head>\\n\\n\\t\\t<!--\\n\\t\\tpalette:\\n\\t\\tdark blue: #003F72\\n\\t\\tyellow: #FFD166\\n\\t\\tsalmon: #EF476F\\n\\t\\toffwhite: #e7d7d7\\n\\t\\tLight Blue: #118AB2\\n\\t\\tLight green: #7DDF64\\n\\t\\t-->\\n\\n\\t\\t<meta name=\"viewport\" content = \"width=device-width, initial-scale=1.0\">\\n\\t\\t<title>Python Programming Tutorials</title>\\n\\n\\t\\t<meta name=\"description\" content=\"Python Programming tutorials from beginner to advanced on a massive variety of topics. All video and text tutorials are free.\">\\n\\n\\t\\t<link rel=\"shortcut icon\" href=\"/static/favicon.ico\">\\n\\t\\t<link rel=\"stylesheet\" href=\"/static/css/materialize.min.css\">\\n        <link href=\"https://fonts.googleapis.com/icon?family=Material+Icons\" rel=\"stylesheet\">\\n        <meta name=\"google-site-verification\" content=\"3fLok05gk5gGtWd_VSXbSSSH27F2kr1QqcxYz9vYq2k\" />\\n        <link rel=\"stylesheet\" type=\"text/css\" href=\"/static/css/bootstrap.css\">\\n\\n\\n\\t\\t  <!-- Compiled and minified CSS -->\\n\\n\\t\\t<!-- Compiled and minified JavaScript -->\\n\\n\\t\\t<script src=\"https://code.jquery.com/jquery-2.1.4.min.js\"></script>\\n\\t\\t<script src=\"https://cdnjs.cloudflare.com/ajax/libs/materialize/0.97.3/js/materialize.min.js\"></script>\\n\\n\\n\\n        <style>\\n\\t\\t@media (min-width:992px) {\\n\\t\\t#aside {\\n\\t\\t\\twidth:250px;\\n\\t\\t}\\n\\t\\tpre { tab-size: 4;}\\n\\t\\t.btn {background-color:#FFD166;\\n\\t\\t\\t  color:#000;\\n\\t\\t      height:auto;\\n\\t\\t\\t  font-color:#000;\\n\\t\\t\\t  }\\n\\t\\t.btn:hover {background-color:#FFD166;\\n\\t\\t\\t\\t\\t}\\n\\n\\n\\t\\t</style>\\n\\n\\t\\t<!-- Google Tracking -->\\n\\t\\t<script>\\n\\t\\t\\t  (function(i,s,o,g,r,a,m){i[\\'GoogleAnalyticsObject\\']=r;i[r]=i[r]||function(){\\n\\t\\t\\t  (i[r].q=i[r].q||[]).push(arguments)},i[r].l=1*new Date();a=s.createElement(o),\\n\\t\\t\\t  m=s.getElementsByTagName(o)[0];a.async=1;a.src=g;m.parentNode.insertBefore(a,m)\\n\\t\\t\\t  })(window,document,\\'script\\',\\'//www.google-analytics.com/analytics.js\\',\\'ga\\');\\n              ga(\\'config\\', \\'UA-51891827-1\\', {\\'anonymize_ip\\': true});\\xef\\xbb\\xbf\\n\\t\\t\\t  ga(\\'create\\', \\'UA-51891827-1\\', \\'auto\\');\\n\\t\\t\\t  ga(\\'send\\', \\'pageview\\');\\n\\n\\t\\t</script>\\n\\n            \\n                \\n                    <script async src=\"//pagead2.googlesyndication.com/pagead/js/adsbygoogle.js\"></script>\\n                    <script>\\n                         (adsbygoogle = window.adsbygoogle || []).push({\\n                              google_ad_client: \"ca-pub-1579050400541873\",\\n                              enable_page_level_ads: true\\n                         });\\n                    </script>\\n                \\n            \\n\\n\\n\\n\\n\\t</head>\\n\\n\\t<body>\\n\\n\\t\\t<div class=\"navbar-fixed\">\\n\\t\\t\\t<nav style=\"background-color:#003F72\">\\n\\t\\t\\t\\t<div class=\"nav-wrapper container\">\\n\\t\\t\\t\\t\\t<a href=\"/\" class=\"brand-logo\"><img class=\"img-responsive\" style=\"width:50px; height;50px; margin-top:5px\" src=\"/static/images/mainlogowhitethick.jpg\"></a>\\n\\t\\t\\t\\t\\t<a href=\"#\" data-activates=\"navsidebar\" class=\"button-collapse\"><i class=\"mdi-navigation-menu\"></i></a>\\n\\t\\t\\t\\t\\t<ul class=\"right hide-on-med-and-down\">\\n\\t\\t\\t\\t\\t<li><i class=\"material-icons\">search</i></li>\\n\\t\\t\\t\\t\\t<li>\\n\\t\\t\\t\\t\\t\\t<form method=\\'get\\' id=\\'searchform\\' style=\\'height:50px; padding-top:10px\\' action=\\'/search/?l=hi\\'>\\n\\t\\t\\t\\t\\t\\t\\t<input name=\\'q\\' id=\"search\" type=\"search\" placeholder=\"search\"  style=\\'font-size:16px\\'>\\n\\t\\t\\t\\t\\t\\t</form>\\n\\t\\t\\t\\t\\t</li>\\n\\t\\t\\t\\t\\t\\t\\n\\t\\t\\t<li><a href=\"/\">Home</a></li>\\n\\t\\t\\t<li><a class=\"tooltipped\" data-position=\"bottom\" data-delay=\"50\" data-tooltip=\"sudo apt-get upgrade\" href=\"/+=1/\">+=1</a></li>\\n\\t\\t\\t<!--<li><a href=\"/store/python-hoodie/\">Store</a></li>-->\\n\\t\\t\\t<li><a href=\"/support/\">Support the Content</a></li>\\n\\t\\t\\t\\n\\t\\t\\t<li><a href=\"https://goo.gl/7zgAVQ\" target=\\'blank\\'><!--<i class=\"material-icons\">question_answer</i>-->Community</a></li>\\n\\t\\t\\t\\t<li><a href=\"/login/\">Log in</a></li>\\n                <li><a href=\"/register/\">Sign up</a></li>\\n\\t\\t\\t\\n\\n\\t\\t\\t\\t\\t</ul>\\n\\t\\t\\t\\t\\t<ul class=\"side-nav\" id=\"navsidebar\">\\n\\t\\t\\t\\t\\t<li>\\n\\t\\t\\t\\t\\t\\t<form method=\\'get\\' id=\\'searchform\\' style=\\'height:50px; padding-top:10px\\' action=\\'/search/?l=hi\\'>\\n\\t\\t\\t\\t\\t\\t\\t<input name=\\'q\\' id=\"search\" type=\"search\" placeholder=\"search\"  style=\\'font-size:16px\\'>\\n\\t\\t\\t\\t\\t\\t</form>\\n\\t\\t\\t\\t\\t</li>\\n\\t\\t\\t\\t\\t\\t\\n\\t\\t\\t<li><a href=\"/\">Home</a></li>\\n\\t\\t\\t<li><a class=\"tooltipped\" data-position=\"bottom\" data-delay=\"50\" data-tooltip=\"sudo apt-get upgrade\" href=\"/+=1/\">+=1</a></li>\\n\\t\\t\\t<!--<li><a href=\"/store/python-hoodie/\">Store</a></li>-->\\n\\t\\t\\t<li><a href=\"/support/\">Support the Content</a></li>\\n\\t\\t\\t\\n\\t\\t\\t<li><a href=\"https://goo.gl/7zgAVQ\" target=\\'blank\\'><!--<i class=\"material-icons\">question_answer</i>-->Community</a></li>\\n\\t\\t\\t\\t<li><a href=\"/login/\">Log in</a></li>\\n                <li><a href=\"/register/\">Sign up</a></li>\\n\\t\\t\\t\\n\\n\\t\\t\\t\\t\\t</ul>\\n\\t\\t\\t\\t</div>\\n\\t\\t\\t</nav>\\n\\t\\t</div>\\n\\n\\n\\n\\t\\t<!-- main content -->\\n\\t\\t<div class=\"container\" style=\"max-width:1500px; min-height:100%\">\\n\\t\\t\\t<!--Notification:-->\\n            <!--<p style=\"font-size:80%\">TensorFlow.js Livestream:  <a href=\"https://www.youtube.com/watch?v=NjSlj95lliM\" target=\"blank\"><strong>Deep Learning in the browser</strong></a></p>-->\\n            <!--End Notification:-->\\n\\n\\t\\t\\t\\t\\t\\n\\t\\t\\t\\t\\t\\n\\t\\t\\t\\t\\t  \\n\\t\\t\\t\\t\\t\\n\\n\\t\\t\\t\\t\\t\\n\\n<div class=\"body\">\\n\\n\\t<p class=\\'introduction\\'>Oh, hello! This is a <span style=\\'font-size:115%\\'>wonderful</span> page meant to let you practice web scraping. This page was originally created to help people work with the <a href=\"https://www.crummy.com/software/BeautifulSoup/bs4/doc/\" target=\"blank\"><strong>Beautiful Soup 4</strong></a> library.</p>\\n\\n\\t<p>The following table gives some general information for the following <code>programming languages</code>:</p>\\n\\n\\t<ul>\\n\\t\\t<li>Python</li>\\n\\t\\t<li>Pascal</li>\\n\\t\\t<li>Lisp</li>\\n\\t\\t<li>D#</li>\\n\\t\\t<li>Cobol</li>\\n\\t\\t<li>Fortran</li>\\n\\t\\t<li>Haskell</li>\\n\\t</ul>\\n\\n\\n\\t<table style=\"width:100%\">\\n\\n\\t  <tr>\\n\\t    <th>Program Name</th>\\n\\t    <th>Internet Points</th> \\n\\t    <th>Kittens?</th>\\n\\t  </tr>\\n\\n\\t  <tr>\\n\\t    <td>Python</td>\\n\\t    <td>932914021</td> \\n\\t    <td>Definitely</td>\\n\\t  </tr>\\n\\n\\t  <tr>\\n\\t    <td>Pascal</td>\\n\\t    <td>532</td> \\n\\t    <td>Unlikely</td>\\n\\t  </tr>\\n\\n\\n\\t  <tr>\\n\\t    <td>Lisp</td>\\n\\t    <td>1522</td> \\n\\t    <td>Uncertain</td>\\n\\t  </tr>\\n\\n\\n\\t  <tr>\\n\\t    <td>D#</td>\\n\\t    <td>12</td> \\n\\t    <td>Possibly</td>\\n\\t  </tr>\\n\\n\\n\\t  <tr>\\n\\t    <td>Cobol</td>\\n\\t    <td>3</td> \\n\\t    <td>No.</td>\\n\\t  </tr>\\n\\n\\t  <tr>\\n\\t    <td>Fortran</td>\\n\\t    <td>52124</td> \\n\\t    <td>Yes.</td>\\n\\t  </tr>\\n\\n\\t  <tr>\\n\\t    <td>Haskell</td>\\n\\t    <td>24</td> \\n\\t    <td>lol.</td>\\n\\t  </tr>\\n\\n\\t</table>\\n\\n\\t<p>I think it\\'s clear that, on a scale of 1-10, python is:</p>\\n\\n\\t<div class=\\'card hoverable\\'>\\n\\t\\t<div class=\\'card-content\\'>\\n\\t\\t\\t<div class=\\'card-title\\'></div>\\n\\t\\t\\t<img class=\"responsive-img\" src=\"https://s-media-cache-ak0.pinimg.com/originals/e8/2a/ff/e82aff2876b080675449d0cef7685321.jpg\" alt=\"omg batman\" />\\n\\t\\t</div>\\n\\t</div>\\n\\n  <p>Javascript (dynamic data) test:</p>\\n  <p class=\\'jstest\\' id=\\'yesnojs\\'>y u bad tho?</p>\\n  <script>\\n     document.getElementById(\\'yesnojs\\').innerHTML = \\'Look at you shinin!\\';\\n  </script> \\n\\n<br><br>\\n\\t\\n<pre>Beautiful is better than ugly.\\nExplicit is better than implicit.\\nSimple is better than complex.\\nComplex is better than complicated.\\nFlat is better than nested.\\nSparse is better than dense.\\nReadability counts.\\nSpecial cases aren\\'t special enough to break the rules.\\nAlthough practicality beats purity.\\nErrors should never pass silently.\\nUnless explicitly silenced.\\nIn the face of ambiguity, refuse the temptation to guess.\\nThere should be one-- and preferably only one --obvious way to do it.\\nAlthough that way may not be obvious at first unless you\\'re Dutch.\\nNow is better than never.\\nAlthough never is often better than *right* now.\\nIf the implementation is hard to explain, it\\'s a bad idea.\\nIf the implementation is easy to explain, it may be a good idea.\\nNamespaces are one honking great idea -- let\\'s do more of those!</pre>\\n\\n\\t<p>Wh\\xe1\\xb6\\x90t h\\xce\\xb1pp\\xc3\\xa9ns now\\xc2\\xbf</p>\\n\\n\\t<p><a href=\"/sitemap.xml\" target=\"blank\"><strong>sitemap</strong></a></p>\\n\\n</body>\\n\\n\\n\\t\\t\\t</div>\\n\\t\\t</div>\\n\\n\\t\\t<!--login modal-->\\n\\t\\t\\n\\n\\t\\t<!--Register modal-->\\n\\t\\t\\n\\n\\n\\t\\t<script>\\n\\t\\t\\t$(document).ready(function(){\\n\\t\\t\\t\\t$(\".button-collapse\").sideNav();\\n\\t\\t\\t\\t$(\\'.modal-trigger\\').leanModal();\\n\\t\\t\\t\\t$(\\'.collapsible\\').collapsible({\\n\\t\\t\\t\\t  accordion : false // A setting that changes the collapsible behavior to expandable instead of the default accordion style\\n\\t\\t\\t\\t});\\n\\t\\t\\t\\t$(\\'#aside\\').pushpin({ top:110, bottom:500 });\\n\\t\\t  });\\n\\t\\t</script>\\n\\t\\t<script>\\n\\t\\t  $(document).ready(function(){\\n\\t\\t\\t$(\\'.collapsible\\').collapsible({\\n\\t\\t\\t  accordion : false // A setting that changes the collapsible behavior to expandable instead of the default accordion style\\n\\t\\t\\t});\\n\\t\\t\\t$(\\'select\\').material_select();\\n\\t\\t  });\\n\\t  </script>\\n\\t  <script>\\n\\t\\tfunction goBack() {\\n\\t\\t\\twindow.history.back()\\n\\t\\t}\\n\\t</script>\\n\\t\\t<script type=\"text/javascript\" src=\"/static/js/run_prettify.js\"></script>\\n\\n\\t</body>\\n\\n<footer class=\"page-footer\">\\n          <div class=\"container\">\\n            <div class=\"row\">\\n              <div class=\"col l6 s12\">\\n                <h5 class=\"white-text\">You\\'ve reached the end!</h5>\\n\\n                <p class=\"grey-text text-lighten-4\">Contact: Harrison@pythonprogramming.net.</p>\\n                <ul>\\n                  <li><a class=\"grey-text text-lighten-3\" href=\"/support-donate/\">Support this Website!</a></li>\\n                  <li><a class=\"grey-text text-lighten-3\" href=\"/consulting/\">Hire me</a></li>\\n                  <li><a class=\"grey-text text-lighten-3\" href=\"https://www.facebook.com/pythonprogramming.net/\">Facebook</a></li>\\n                  <li><a class=\"grey-text text-lighten-3\" href=\"https://twitter.com/sentdex\">Twitter</a></li>\\n                  <li><a class=\"grey-text text-lighten-3\" href=\"https://plus.google.com/+sentdex\">Google+</a></li>\\n                </ul>\\n              </div>\\n              <div class=\"col l4 offset-l2 s12\">\\n                <h6 class=\"white-text\">Legal stuff:</h6>\\n                <ul>\\n                  <li><a class=\"grey-text text-lighten-3\" href=\"/about/tos/\">Terms and Conditions</a></li>\\n                  <li><a class=\"grey-text text-lighten-3\" href=\"/about/privacy-policy/\">Privacy Policy</a></li>\\n\\n                </ul>\\n              </div>\\n            </div>\\n          </div>\\n          <a href=\"https://xkcd.com/353/\" target=\\'blank\\'><p class=\"grey-text right\" style=\\'padding-right:10px\\'>Programming is a superpower.</p></a>\\n          <div class=\"footer-copyright\">\\n            <div class=\"container\">\\n            \\xc2\\xa9 OVER 9000! PythonProgramming.net\\n\\n            </div>\\n\\n          </div>\\n        </footer>\\n\\n</html>\\n\\n\\n\\n\\n\\n\\n\\n\\n\\n\\n\\n\\n\\n\\n'\n"
     ]
    }
   ],
   "source": [
    "print(type(doc), type(doc.content))\n",
    "print(doc.content)"
   ]
  },
  {
   "cell_type": "code",
   "execution_count": 38,
   "metadata": {},
   "outputs": [],
   "source": [
    "doc1 = \"\"\"\n",
    "<html><head><title>The Dormouse's story</title></head>\n",
    "<body>\n",
    "<p class=\"title\"><b>The Dormouse's story</b></p>\n",
    "\n",
    "<p class=\"story\">Once upon a time there were three little sisters; and their names were\n",
    "<a href=\"http://example.com/elsie\" class=\"sister\" id=\"link1\">Elsie</a>,\n",
    "<a href=\"http://example.com/lacie\" class=\"sister\" id=\"link2\">Lacie</a> and\n",
    "<a href=\"http://example.com/tillie\" class=\"sister\" id=\"link3\">Tillie</a>;\n",
    "and they lived at the bottom of a well.</p>\n",
    "\n",
    "<p class=\"story\">...</p>\n",
    "\"\"\""
   ]
  },
  {
   "cell_type": "code",
   "execution_count": 52,
   "metadata": {},
   "outputs": [
    {
     "ename": "NameError",
     "evalue": "name 'doc1' is not defined",
     "output_type": "error",
     "traceback": [
      "\u001b[1;31m---------------------------------------------------------------------------\u001b[0m",
      "\u001b[1;31mNameError\u001b[0m                                 Traceback (most recent call last)",
      "\u001b[1;32m<ipython-input-52-edf07f62f50d>\u001b[0m in \u001b[0;36m<module>\u001b[1;34m()\u001b[0m\n\u001b[0;32m      1\u001b[0m \u001b[0msoup\u001b[0m \u001b[1;33m=\u001b[0m \u001b[0mbs\u001b[0m\u001b[1;33m.\u001b[0m\u001b[0mBeautifulSoup\u001b[0m\u001b[1;33m(\u001b[0m\u001b[0mdoc\u001b[0m\u001b[1;33m.\u001b[0m\u001b[0mcontent\u001b[0m\u001b[1;33m)\u001b[0m\u001b[1;33m\u001b[0m\u001b[0m\n\u001b[1;32m----> 2\u001b[1;33m \u001b[0msoup1\u001b[0m \u001b[1;33m=\u001b[0m \u001b[0mbs\u001b[0m\u001b[1;33m.\u001b[0m\u001b[0mBeautifulSoup\u001b[0m\u001b[1;33m(\u001b[0m\u001b[0mdoc1\u001b[0m\u001b[1;33m)\u001b[0m\u001b[1;33m\u001b[0m\u001b[0m\n\u001b[0m",
      "\u001b[1;31mNameError\u001b[0m: name 'doc1' is not defined"
     ]
    }
   ],
   "source": [
    "soup = bs.BeautifulSoup(doc.content)\n",
    "soup1 = bs.BeautifulSoup(doc1)"
   ]
  },
  {
   "cell_type": "code",
   "execution_count": 53,
   "metadata": {},
   "outputs": [
    {
     "name": "stdout",
     "output_type": "stream",
     "text": [
      "<html>\n",
      "<head>\n",
      "<!--\n",
      "\t\tpalette:\n",
      "\t\tdark blue: #003F72\n",
      "\t\tyellow: #FFD166\n",
      "\t\tsalmon: #EF476F\n",
      "\t\toffwhite: #e7d7d7\n",
      "\t\tLight Blue: #118AB2\n",
      "\t\tLight green: #7DDF64\n",
      "\t\t-->\n",
      "<meta content=\"width=device-width, initial-scale=1.0\" name=\"viewport\"/>\n",
      "<title>Python Programming Tutorials</title>\n",
      "<meta content=\"Python Programming tutorials from beginner to advanced on a massive variety of topics. All video and text tutorials are free.\" name=\"description\"/>\n",
      "<link href=\"/static/favicon.ico\" rel=\"shortcut icon\"/>\n",
      "<link href=\"/static/css/materialize.min.css\" rel=\"stylesheet\"/>\n",
      "<link href=\"https://fonts.googleapis.com/icon?family=Material+Icons\" rel=\"stylesheet\"/>\n",
      "<meta content=\"3fLok05gk5gGtWd_VSXbSSSH27F2kr1QqcxYz9vYq2k\" name=\"google-site-verification\"/>\n",
      "<link href=\"/static/css/bootstrap.css\" rel=\"stylesheet\" type=\"text/css\"/>\n",
      "<!-- Compiled and minified CSS -->\n",
      "<!-- Compiled and minified JavaScript -->\n",
      "<script src=\"https://code.jquery.com/jquery-2.1.4.min.js\"></script>\n",
      "<script src=\"https://cdnjs.cloudflare.com/ajax/libs/materialize/0.97.3/js/materialize.min.js\"></script>\n",
      "<style>\n",
      "\t\t@media (min-width:992px) {\n",
      "\t\t#aside {\n",
      "\t\t\twidth:250px;\n",
      "\t\t}\n",
      "\t\tpre { tab-size: 4;}\n",
      "\t\t.btn {background-color:#FFD166;\n",
      "\t\t\t  color:#000;\n",
      "\t\t      height:auto;\n",
      "\t\t\t  font-color:#000;\n",
      "\t\t\t  }\n",
      "\t\t.btn:hover {background-color:#FFD166;\n",
      "\t\t\t\t\t}\n",
      "\n",
      "\n",
      "\t\t</style>\n",
      "<!-- Google Tracking -->\n",
      "<script>\n",
      "\t\t\t  (function(i,s,o,g,r,a,m){i['GoogleAnalyticsObject']=r;i[r]=i[r]||function(){\n",
      "\t\t\t  (i[r].q=i[r].q||[]).push(arguments)},i[r].l=1*new Date();a=s.createElement(o),\n",
      "\t\t\t  m=s.getElementsByTagName(o)[0];a.async=1;a.src=g;m.parentNode.insertBefore(a,m)\n",
      "\t\t\t  })(window,document,'script','//www.google-analytics.com/analytics.js','ga');\n",
      "              ga('config', 'UA-51891827-1', {'anonymize_ip': true});﻿\n",
      "\t\t\t  ga('create', 'UA-51891827-1', 'auto');\n",
      "\t\t\t  ga('send', 'pageview');\n",
      "\n",
      "\t\t</script>\n",
      "<script async=\"\" src=\"//pagead2.googlesyndication.com/pagead/js/adsbygoogle.js\"></script>\n",
      "<script>\n",
      "                         (adsbygoogle = window.adsbygoogle || []).push({\n",
      "                              google_ad_client: \"ca-pub-1579050400541873\",\n",
      "                              enable_page_level_ads: true\n",
      "                         });\n",
      "                    </script>\n",
      "</head>\n",
      "<body>\n",
      "<div class=\"navbar-fixed\">\n",
      "<nav style=\"background-color:#003F72\">\n",
      "<div class=\"nav-wrapper container\">\n",
      "<a class=\"brand-logo\" href=\"/\"><img class=\"img-responsive\" src=\"/static/images/mainlogowhitethick.jpg\" style=\"width:50px; height;50px; margin-top:5px\"/></a>\n",
      "<a class=\"button-collapse\" data-activates=\"navsidebar\" href=\"#\"><i class=\"mdi-navigation-menu\"></i></a>\n",
      "<ul class=\"right hide-on-med-and-down\">\n",
      "<li><i class=\"material-icons\">search</i></li>\n",
      "<li>\n",
      "<form action=\"/search/?l=hi\" id=\"searchform\" method=\"get\" style=\"height:50px; padding-top:10px\">\n",
      "<input id=\"search\" name=\"q\" placeholder=\"search\" style=\"font-size:16px\" type=\"search\"/>\n",
      "</form>\n",
      "</li>\n",
      "<li><a href=\"/\">Home</a></li>\n",
      "<li><a class=\"tooltipped\" data-delay=\"50\" data-position=\"bottom\" data-tooltip=\"sudo apt-get upgrade\" href=\"/+=1/\">+=1</a></li>\n",
      "<!--<li><a href=\"/store/python-hoodie/\">Store</a></li>-->\n",
      "<li><a href=\"/support/\">Support the Content</a></li>\n",
      "<li><a href=\"https://goo.gl/7zgAVQ\" target=\"blank\"><!--<i class=\"material-icons\">question_answer</i>-->Community</a></li>\n",
      "<li><a href=\"/login/\">Log in</a></li>\n",
      "<li><a href=\"/register/\">Sign up</a></li>\n",
      "</ul>\n",
      "<ul class=\"side-nav\" id=\"navsidebar\">\n",
      "<li>\n",
      "<form action=\"/search/?l=hi\" id=\"searchform\" method=\"get\" style=\"height:50px; padding-top:10px\">\n",
      "<input id=\"search\" name=\"q\" placeholder=\"search\" style=\"font-size:16px\" type=\"search\"/>\n",
      "</form>\n",
      "</li>\n",
      "<li><a href=\"/\">Home</a></li>\n",
      "<li><a class=\"tooltipped\" data-delay=\"50\" data-position=\"bottom\" data-tooltip=\"sudo apt-get upgrade\" href=\"/+=1/\">+=1</a></li>\n",
      "<!--<li><a href=\"/store/python-hoodie/\">Store</a></li>-->\n",
      "<li><a href=\"/support/\">Support the Content</a></li>\n",
      "<li><a href=\"https://goo.gl/7zgAVQ\" target=\"blank\"><!--<i class=\"material-icons\">question_answer</i>-->Community</a></li>\n",
      "<li><a href=\"/login/\">Log in</a></li>\n",
      "<li><a href=\"/register/\">Sign up</a></li>\n",
      "</ul>\n",
      "</div>\n",
      "</nav>\n",
      "</div>\n",
      "<!-- main content -->\n",
      "<div class=\"container\" style=\"max-width:1500px; min-height:100%\">\n",
      "<!--Notification:-->\n",
      "<!--<p style=\"font-size:80%\">TensorFlow.js Livestream:  <a href=\"https://www.youtube.com/watch?v=NjSlj95lliM\" target=\"blank\"><strong>Deep Learning in the browser</strong></a></p>-->\n",
      "<!--End Notification:-->\n",
      "<div class=\"body\">\n",
      "<p class=\"introduction\">Oh, hello! This is a <span style=\"font-size:115%\">wonderful</span> page meant to let you practice web scraping. This page was originally created to help people work with the <a href=\"https://www.crummy.com/software/BeautifulSoup/bs4/doc/\" target=\"blank\"><strong>Beautiful Soup 4</strong></a> library.</p>\n",
      "<p>The following table gives some general information for the following <code>programming languages</code>:</p>\n",
      "<ul>\n",
      "<li>Python</li>\n",
      "<li>Pascal</li>\n",
      "<li>Lisp</li>\n",
      "<li>D#</li>\n",
      "<li>Cobol</li>\n",
      "<li>Fortran</li>\n",
      "<li>Haskell</li>\n",
      "</ul>\n",
      "<table style=\"width:100%\">\n",
      "<tr>\n",
      "<th>Program Name</th>\n",
      "<th>Internet Points</th>\n",
      "<th>Kittens?</th>\n",
      "</tr>\n",
      "<tr>\n",
      "<td>Python</td>\n",
      "<td>932914021</td>\n",
      "<td>Definitely</td>\n",
      "</tr>\n",
      "<tr>\n",
      "<td>Pascal</td>\n",
      "<td>532</td>\n",
      "<td>Unlikely</td>\n",
      "</tr>\n",
      "<tr>\n",
      "<td>Lisp</td>\n",
      "<td>1522</td>\n",
      "<td>Uncertain</td>\n",
      "</tr>\n",
      "<tr>\n",
      "<td>D#</td>\n",
      "<td>12</td>\n",
      "<td>Possibly</td>\n",
      "</tr>\n",
      "<tr>\n",
      "<td>Cobol</td>\n",
      "<td>3</td>\n",
      "<td>No.</td>\n",
      "</tr>\n",
      "<tr>\n",
      "<td>Fortran</td>\n",
      "<td>52124</td>\n",
      "<td>Yes.</td>\n",
      "</tr>\n",
      "<tr>\n",
      "<td>Haskell</td>\n",
      "<td>24</td>\n",
      "<td>lol.</td>\n",
      "</tr>\n",
      "</table>\n",
      "<p>I think it's clear that, on a scale of 1-10, python is:</p>\n",
      "<div class=\"card hoverable\">\n",
      "<div class=\"card-content\">\n",
      "<div class=\"card-title\"></div>\n",
      "<img alt=\"omg batman\" class=\"responsive-img\" src=\"https://s-media-cache-ak0.pinimg.com/originals/e8/2a/ff/e82aff2876b080675449d0cef7685321.jpg\"/>\n",
      "</div>\n",
      "</div>\n",
      "<p>Javascript (dynamic data) test:</p>\n",
      "<p class=\"jstest\" id=\"yesnojs\">y u bad tho?</p>\n",
      "<script>\n",
      "     document.getElementById('yesnojs').innerHTML = 'Look at you shinin!';\n",
      "  </script>\n",
      "<br/><br/>\n",
      "<pre>Beautiful is better than ugly.\n",
      "Explicit is better than implicit.\n",
      "Simple is better than complex.\n",
      "Complex is better than complicated.\n",
      "Flat is better than nested.\n",
      "Sparse is better than dense.\n",
      "Readability counts.\n",
      "Special cases aren't special enough to break the rules.\n",
      "Although practicality beats purity.\n",
      "Errors should never pass silently.\n",
      "Unless explicitly silenced.\n",
      "In the face of ambiguity, refuse the temptation to guess.\n",
      "There should be one-- and preferably only one --obvious way to do it.\n",
      "Although that way may not be obvious at first unless you're Dutch.\n",
      "Now is better than never.\n",
      "Although never is often better than *right* now.\n",
      "If the implementation is hard to explain, it's a bad idea.\n",
      "If the implementation is easy to explain, it may be a good idea.\n",
      "Namespaces are one honking great idea -- let's do more of those!</pre>\n",
      "<p>Whᶐt hαppéns now¿</p>\n",
      "<p><a href=\"/sitemap.xml\" target=\"blank\"><strong>sitemap</strong></a></p>\n",
      "</div></div></body>\n",
      "<!--login modal-->\n",
      "<!--Register modal-->\n",
      "<script>\n",
      "\t\t\t$(document).ready(function(){\n",
      "\t\t\t\t$(\".button-collapse\").sideNav();\n",
      "\t\t\t\t$('.modal-trigger').leanModal();\n",
      "\t\t\t\t$('.collapsible').collapsible({\n",
      "\t\t\t\t  accordion : false // A setting that changes the collapsible behavior to expandable instead of the default accordion style\n",
      "\t\t\t\t});\n",
      "\t\t\t\t$('#aside').pushpin({ top:110, bottom:500 });\n",
      "\t\t  });\n",
      "\t\t</script>\n",
      "<script>\n",
      "\t\t  $(document).ready(function(){\n",
      "\t\t\t$('.collapsible').collapsible({\n",
      "\t\t\t  accordion : false // A setting that changes the collapsible behavior to expandable instead of the default accordion style\n",
      "\t\t\t});\n",
      "\t\t\t$('select').material_select();\n",
      "\t\t  });\n",
      "\t  </script>\n",
      "<script>\n",
      "\t\tfunction goBack() {\n",
      "\t\t\twindow.history.back()\n",
      "\t\t}\n",
      "\t</script>\n",
      "<script src=\"/static/js/run_prettify.js\" type=\"text/javascript\"></script>\n",
      "<footer class=\"page-footer\">\n",
      "<div class=\"container\">\n",
      "<div class=\"row\">\n",
      "<div class=\"col l6 s12\">\n",
      "<h5 class=\"white-text\">You've reached the end!</h5>\n",
      "<p class=\"grey-text text-lighten-4\">Contact: Harrison@pythonprogramming.net.</p>\n",
      "<ul>\n",
      "<li><a class=\"grey-text text-lighten-3\" href=\"/support-donate/\">Support this Website!</a></li>\n",
      "<li><a class=\"grey-text text-lighten-3\" href=\"/consulting/\">Hire me</a></li>\n",
      "<li><a class=\"grey-text text-lighten-3\" href=\"https://www.facebook.com/pythonprogramming.net/\">Facebook</a></li>\n",
      "<li><a class=\"grey-text text-lighten-3\" href=\"https://twitter.com/sentdex\">Twitter</a></li>\n",
      "<li><a class=\"grey-text text-lighten-3\" href=\"https://plus.google.com/+sentdex\">Google+</a></li>\n",
      "</ul>\n",
      "</div>\n",
      "<div class=\"col l4 offset-l2 s12\">\n",
      "<h6 class=\"white-text\">Legal stuff:</h6>\n",
      "<ul>\n",
      "<li><a class=\"grey-text text-lighten-3\" href=\"/about/tos/\">Terms and Conditions</a></li>\n",
      "<li><a class=\"grey-text text-lighten-3\" href=\"/about/privacy-policy/\">Privacy Policy</a></li>\n",
      "</ul>\n",
      "</div>\n",
      "</div>\n",
      "</div>\n",
      "<a href=\"https://xkcd.com/353/\" target=\"blank\"><p class=\"grey-text right\" style=\"padding-right:10px\">Programming is a superpower.</p></a>\n",
      "<div class=\"footer-copyright\">\n",
      "<div class=\"container\">\n",
      "            © OVER 9000! PythonProgramming.net\n",
      "\n",
      "            </div>\n",
      "</div>\n",
      "</footer>\n",
      "</html>\n",
      "\n",
      "\n",
      "<html>\n",
      " <head>\n",
      "  <!--\n",
      "\t\tpalette:\n",
      "\t\tdark blue: #003F72\n",
      "\t\tyellow: #FFD166\n",
      "\t\tsalmon: #EF476F\n",
      "\t\toffwhite: #e7d7d7\n",
      "\t\tLight Blue: #118AB2\n",
      "\t\tLight green: #7DDF64\n",
      "\t\t-->\n",
      "  <meta content=\"width=device-width, initial-scale=1.0\" name=\"viewport\"/>\n",
      "  <title>\n",
      "   Python Programming Tutorials\n",
      "  </title>\n",
      "  <meta content=\"Python Programming tutorials from beginner to advanced on a massive variety of topics. All video and text tutorials are free.\" name=\"description\"/>\n",
      "  <link href=\"/static/favicon.ico\" rel=\"shortcut icon\"/>\n",
      "  <link href=\"/static/css/materialize.min.css\" rel=\"stylesheet\"/>\n",
      "  <link href=\"https://fonts.googleapis.com/icon?family=Material+Icons\" rel=\"stylesheet\"/>\n",
      "  <meta content=\"3fLok05gk5gGtWd_VSXbSSSH27F2kr1QqcxYz9vYq2k\" name=\"google-site-verification\"/>\n",
      "  <link href=\"/static/css/bootstrap.css\" rel=\"stylesheet\" type=\"text/css\"/>\n",
      "  <!-- Compiled and minified CSS -->\n",
      "  <!-- Compiled and minified JavaScript -->\n",
      "  <script src=\"https://code.jquery.com/jquery-2.1.4.min.js\">\n",
      "  </script>\n",
      "  <script src=\"https://cdnjs.cloudflare.com/ajax/libs/materialize/0.97.3/js/materialize.min.js\">\n",
      "  </script>\n",
      "  <style>\n",
      "   @media (min-width:992px) {\n",
      "\t\t#aside {\n",
      "\t\t\twidth:250px;\n",
      "\t\t}\n",
      "\t\tpre { tab-size: 4;}\n",
      "\t\t.btn {background-color:#FFD166;\n",
      "\t\t\t  color:#000;\n",
      "\t\t      height:auto;\n",
      "\t\t\t  font-color:#000;\n",
      "\t\t\t  }\n",
      "\t\t.btn:hover {background-color:#FFD166;\n",
      "\t\t\t\t\t}\n",
      "  </style>\n",
      "  <!-- Google Tracking -->\n",
      "  <script>\n",
      "   (function(i,s,o,g,r,a,m){i['GoogleAnalyticsObject']=r;i[r]=i[r]||function(){\n",
      "\t\t\t  (i[r].q=i[r].q||[]).push(arguments)},i[r].l=1*new Date();a=s.createElement(o),\n",
      "\t\t\t  m=s.getElementsByTagName(o)[0];a.async=1;a.src=g;m.parentNode.insertBefore(a,m)\n",
      "\t\t\t  })(window,document,'script','//www.google-analytics.com/analytics.js','ga');\n",
      "              ga('config', 'UA-51891827-1', {'anonymize_ip': true});﻿\n",
      "\t\t\t  ga('create', 'UA-51891827-1', 'auto');\n",
      "\t\t\t  ga('send', 'pageview');\n",
      "  </script>\n",
      "  <script async=\"\" src=\"//pagead2.googlesyndication.com/pagead/js/adsbygoogle.js\">\n",
      "  </script>\n",
      "  <script>\n",
      "   (adsbygoogle = window.adsbygoogle || []).push({\n",
      "                              google_ad_client: \"ca-pub-1579050400541873\",\n",
      "                              enable_page_level_ads: true\n",
      "                         });\n",
      "  </script>\n",
      " </head>\n",
      " <body>\n",
      "  <div class=\"navbar-fixed\">\n",
      "   <nav style=\"background-color:#003F72\">\n",
      "    <div class=\"nav-wrapper container\">\n",
      "     <a class=\"brand-logo\" href=\"/\">\n",
      "      <img class=\"img-responsive\" src=\"/static/images/mainlogowhitethick.jpg\" style=\"width:50px; height;50px; margin-top:5px\"/>\n",
      "     </a>\n",
      "     <a class=\"button-collapse\" data-activates=\"navsidebar\" href=\"#\">\n",
      "      <i class=\"mdi-navigation-menu\">\n",
      "      </i>\n",
      "     </a>\n",
      "     <ul class=\"right hide-on-med-and-down\">\n",
      "      <li>\n",
      "       <i class=\"material-icons\">\n",
      "        search\n",
      "       </i>\n",
      "      </li>\n",
      "      <li>\n",
      "       <form action=\"/search/?l=hi\" id=\"searchform\" method=\"get\" style=\"height:50px; padding-top:10px\">\n",
      "        <input id=\"search\" name=\"q\" placeholder=\"search\" style=\"font-size:16px\" type=\"search\"/>\n",
      "       </form>\n",
      "      </li>\n",
      "      <li>\n",
      "       <a href=\"/\">\n",
      "        Home\n",
      "       </a>\n",
      "      </li>\n",
      "      <li>\n",
      "       <a class=\"tooltipped\" data-delay=\"50\" data-position=\"bottom\" data-tooltip=\"sudo apt-get upgrade\" href=\"/+=1/\">\n",
      "        +=1\n",
      "       </a>\n",
      "      </li>\n",
      "      <!--<li><a href=\"/store/python-hoodie/\">Store</a></li>-->\n",
      "      <li>\n",
      "       <a href=\"/support/\">\n",
      "        Support the Content\n",
      "       </a>\n",
      "      </li>\n",
      "      <li>\n",
      "       <a href=\"https://goo.gl/7zgAVQ\" target=\"blank\">\n",
      "        <!--<i class=\"material-icons\">question_answer</i>-->\n",
      "        Community\n",
      "       </a>\n",
      "      </li>\n",
      "      <li>\n",
      "       <a href=\"/login/\">\n",
      "        Log in\n",
      "       </a>\n",
      "      </li>\n",
      "      <li>\n",
      "       <a href=\"/register/\">\n",
      "        Sign up\n",
      "       </a>\n",
      "      </li>\n",
      "     </ul>\n",
      "     <ul class=\"side-nav\" id=\"navsidebar\">\n",
      "      <li>\n",
      "       <form action=\"/search/?l=hi\" id=\"searchform\" method=\"get\" style=\"height:50px; padding-top:10px\">\n",
      "        <input id=\"search\" name=\"q\" placeholder=\"search\" style=\"font-size:16px\" type=\"search\"/>\n",
      "       </form>\n",
      "      </li>\n",
      "      <li>\n",
      "       <a href=\"/\">\n",
      "        Home\n",
      "       </a>\n",
      "      </li>\n",
      "      <li>\n",
      "       <a class=\"tooltipped\" data-delay=\"50\" data-position=\"bottom\" data-tooltip=\"sudo apt-get upgrade\" href=\"/+=1/\">\n",
      "        +=1\n",
      "       </a>\n",
      "      </li>\n",
      "      <!--<li><a href=\"/store/python-hoodie/\">Store</a></li>-->\n",
      "      <li>\n",
      "       <a href=\"/support/\">\n",
      "        Support the Content\n",
      "       </a>\n",
      "      </li>\n",
      "      <li>\n",
      "       <a href=\"https://goo.gl/7zgAVQ\" target=\"blank\">\n",
      "        <!--<i class=\"material-icons\">question_answer</i>-->\n",
      "        Community\n",
      "       </a>\n",
      "      </li>\n",
      "      <li>\n",
      "       <a href=\"/login/\">\n",
      "        Log in\n",
      "       </a>\n",
      "      </li>\n",
      "      <li>\n",
      "       <a href=\"/register/\">\n",
      "        Sign up\n",
      "       </a>\n",
      "      </li>\n",
      "     </ul>\n",
      "    </div>\n",
      "   </nav>\n",
      "  </div>\n",
      "  <!-- main content -->\n",
      "  <div class=\"container\" style=\"max-width:1500px; min-height:100%\">\n",
      "   <!--Notification:-->\n",
      "   <!--<p style=\"font-size:80%\">TensorFlow.js Livestream:  <a href=\"https://www.youtube.com/watch?v=NjSlj95lliM\" target=\"blank\"><strong>Deep Learning in the browser</strong></a></p>-->\n",
      "   <!--End Notification:-->\n",
      "   <div class=\"body\">\n",
      "    <p class=\"introduction\">\n",
      "     Oh, hello! This is a\n",
      "     <span style=\"font-size:115%\">\n",
      "      wonderful\n",
      "     </span>\n",
      "     page meant to let you practice web scraping. This page was originally created to help people work with the\n",
      "     <a href=\"https://www.crummy.com/software/BeautifulSoup/bs4/doc/\" target=\"blank\">\n",
      "      <strong>\n",
      "       Beautiful Soup 4\n",
      "      </strong>\n",
      "     </a>\n",
      "     library.\n",
      "    </p>\n",
      "    <p>\n",
      "     The following table gives some general information for the following\n",
      "     <code>\n",
      "      programming languages\n",
      "     </code>\n",
      "     :\n",
      "    </p>\n",
      "    <ul>\n",
      "     <li>\n",
      "      Python\n",
      "     </li>\n",
      "     <li>\n",
      "      Pascal\n",
      "     </li>\n",
      "     <li>\n",
      "      Lisp\n",
      "     </li>\n",
      "     <li>\n",
      "      D#\n",
      "     </li>\n",
      "     <li>\n",
      "      Cobol\n",
      "     </li>\n",
      "     <li>\n",
      "      Fortran\n",
      "     </li>\n",
      "     <li>\n",
      "      Haskell\n",
      "     </li>\n",
      "    </ul>\n",
      "    <table style=\"width:100%\">\n",
      "     <tr>\n",
      "      <th>\n",
      "       Program Name\n",
      "      </th>\n",
      "      <th>\n",
      "       Internet Points\n",
      "      </th>\n",
      "      <th>\n",
      "       Kittens?\n",
      "      </th>\n",
      "     </tr>\n",
      "     <tr>\n",
      "      <td>\n",
      "       Python\n",
      "      </td>\n",
      "      <td>\n",
      "       932914021\n",
      "      </td>\n",
      "      <td>\n",
      "       Definitely\n",
      "      </td>\n",
      "     </tr>\n",
      "     <tr>\n",
      "      <td>\n",
      "       Pascal\n",
      "      </td>\n",
      "      <td>\n",
      "       532\n",
      "      </td>\n",
      "      <td>\n",
      "       Unlikely\n",
      "      </td>\n",
      "     </tr>\n",
      "     <tr>\n",
      "      <td>\n",
      "       Lisp\n",
      "      </td>\n",
      "      <td>\n",
      "       1522\n",
      "      </td>\n",
      "      <td>\n",
      "       Uncertain\n",
      "      </td>\n",
      "     </tr>\n",
      "     <tr>\n",
      "      <td>\n",
      "       D#\n",
      "      </td>\n",
      "      <td>\n",
      "       12\n",
      "      </td>\n",
      "      <td>\n",
      "       Possibly\n",
      "      </td>\n",
      "     </tr>\n",
      "     <tr>\n",
      "      <td>\n",
      "       Cobol\n",
      "      </td>\n",
      "      <td>\n",
      "       3\n",
      "      </td>\n",
      "      <td>\n",
      "       No.\n",
      "      </td>\n",
      "     </tr>\n",
      "     <tr>\n",
      "      <td>\n",
      "       Fortran\n",
      "      </td>\n",
      "      <td>\n",
      "       52124\n",
      "      </td>\n",
      "      <td>\n",
      "       Yes.\n",
      "      </td>\n",
      "     </tr>\n",
      "     <tr>\n",
      "      <td>\n",
      "       Haskell\n",
      "      </td>\n",
      "      <td>\n",
      "       24\n",
      "      </td>\n",
      "      <td>\n",
      "       lol.\n",
      "      </td>\n",
      "     </tr>\n",
      "    </table>\n",
      "    <p>\n",
      "     I think it's clear that, on a scale of 1-10, python is:\n",
      "    </p>\n",
      "    <div class=\"card hoverable\">\n",
      "     <div class=\"card-content\">\n",
      "      <div class=\"card-title\">\n",
      "      </div>\n",
      "      <img alt=\"omg batman\" class=\"responsive-img\" src=\"https://s-media-cache-ak0.pinimg.com/originals/e8/2a/ff/e82aff2876b080675449d0cef7685321.jpg\"/>\n",
      "     </div>\n",
      "    </div>\n",
      "    <p>\n",
      "     Javascript (dynamic data) test:\n",
      "    </p>\n",
      "    <p class=\"jstest\" id=\"yesnojs\">\n",
      "     y u bad tho?\n",
      "    </p>\n",
      "    <script>\n",
      "     document.getElementById('yesnojs').innerHTML = 'Look at you shinin!';\n",
      "    </script>\n",
      "    <br/>\n",
      "    <br/>\n",
      "    <pre>Beautiful is better than ugly.\n",
      "Explicit is better than implicit.\n",
      "Simple is better than complex.\n",
      "Complex is better than complicated.\n",
      "Flat is better than nested.\n",
      "Sparse is better than dense.\n",
      "Readability counts.\n",
      "Special cases aren't special enough to break the rules.\n",
      "Although practicality beats purity.\n",
      "Errors should never pass silently.\n",
      "Unless explicitly silenced.\n",
      "In the face of ambiguity, refuse the temptation to guess.\n",
      "There should be one-- and preferably only one --obvious way to do it.\n",
      "Although that way may not be obvious at first unless you're Dutch.\n",
      "Now is better than never.\n",
      "Although never is often better than *right* now.\n",
      "If the implementation is hard to explain, it's a bad idea.\n",
      "If the implementation is easy to explain, it may be a good idea.\n",
      "Namespaces are one honking great idea -- let's do more of those!</pre>\n",
      "    <p>\n",
      "     Whᶐt hαppéns now¿\n",
      "    </p>\n",
      "    <p>\n",
      "     <a href=\"/sitemap.xml\" target=\"blank\">\n",
      "      <strong>\n",
      "       sitemap\n",
      "      </strong>\n",
      "     </a>\n",
      "    </p>\n",
      "   </div>\n",
      "  </div>\n",
      " </body>\n",
      " <!--login modal-->\n",
      " <!--Register modal-->\n",
      " <script>\n",
      "  $(document).ready(function(){\n",
      "\t\t\t\t$(\".button-collapse\").sideNav();\n",
      "\t\t\t\t$('.modal-trigger').leanModal();\n",
      "\t\t\t\t$('.collapsible').collapsible({\n",
      "\t\t\t\t  accordion : false // A setting that changes the collapsible behavior to expandable instead of the default accordion style\n",
      "\t\t\t\t});\n",
      "\t\t\t\t$('#aside').pushpin({ top:110, bottom:500 });\n",
      "\t\t  });\n",
      " </script>\n",
      " <script>\n",
      "  $(document).ready(function(){\n",
      "\t\t\t$('.collapsible').collapsible({\n",
      "\t\t\t  accordion : false // A setting that changes the collapsible behavior to expandable instead of the default accordion style\n",
      "\t\t\t});\n",
      "\t\t\t$('select').material_select();\n",
      "\t\t  });\n",
      " </script>\n",
      " <script>\n",
      "  function goBack() {\n",
      "\t\t\twindow.history.back()\n",
      "\t\t}\n",
      " </script>\n",
      " <script src=\"/static/js/run_prettify.js\" type=\"text/javascript\">\n",
      " </script>\n",
      " <footer class=\"page-footer\">\n",
      "  <div class=\"container\">\n",
      "   <div class=\"row\">\n",
      "    <div class=\"col l6 s12\">\n",
      "     <h5 class=\"white-text\">\n",
      "      You've reached the end!\n",
      "     </h5>\n",
      "     <p class=\"grey-text text-lighten-4\">\n",
      "      Contact: Harrison@pythonprogramming.net.\n",
      "     </p>\n",
      "     <ul>\n",
      "      <li>\n",
      "       <a class=\"grey-text text-lighten-3\" href=\"/support-donate/\">\n",
      "        Support this Website!\n",
      "       </a>\n",
      "      </li>\n",
      "      <li>\n",
      "       <a class=\"grey-text text-lighten-3\" href=\"/consulting/\">\n",
      "        Hire me\n",
      "       </a>\n",
      "      </li>\n",
      "      <li>\n",
      "       <a class=\"grey-text text-lighten-3\" href=\"https://www.facebook.com/pythonprogramming.net/\">\n",
      "        Facebook\n",
      "       </a>\n",
      "      </li>\n",
      "      <li>\n",
      "       <a class=\"grey-text text-lighten-3\" href=\"https://twitter.com/sentdex\">\n",
      "        Twitter\n",
      "       </a>\n",
      "      </li>\n",
      "      <li>\n",
      "       <a class=\"grey-text text-lighten-3\" href=\"https://plus.google.com/+sentdex\">\n",
      "        Google+\n",
      "       </a>\n",
      "      </li>\n",
      "     </ul>\n",
      "    </div>\n",
      "    <div class=\"col l4 offset-l2 s12\">\n",
      "     <h6 class=\"white-text\">\n",
      "      Legal stuff:\n",
      "     </h6>\n",
      "     <ul>\n",
      "      <li>\n",
      "       <a class=\"grey-text text-lighten-3\" href=\"/about/tos/\">\n",
      "        Terms and Conditions\n",
      "       </a>\n",
      "      </li>\n",
      "      <li>\n",
      "       <a class=\"grey-text text-lighten-3\" href=\"/about/privacy-policy/\">\n",
      "        Privacy Policy\n",
      "       </a>\n",
      "      </li>\n",
      "     </ul>\n",
      "    </div>\n",
      "   </div>\n",
      "  </div>\n",
      "  <a href=\"https://xkcd.com/353/\" target=\"blank\">\n",
      "   <p class=\"grey-text right\" style=\"padding-right:10px\">\n",
      "    Programming is a superpower.\n",
      "   </p>\n",
      "  </a>\n",
      "  <div class=\"footer-copyright\">\n",
      "   <div class=\"container\">\n",
      "    © OVER 9000! PythonProgramming.net\n",
      "   </div>\n",
      "  </div>\n",
      " </footer>\n",
      "</html>\n",
      "\n"
     ]
    }
   ],
   "source": [
    "print(soup, soup.prettify(), sep = '\\n\\n')"
   ]
  },
  {
   "cell_type": "code",
   "execution_count": 50,
   "metadata": {},
   "outputs": [
    {
     "name": "stdout",
     "output_type": "stream",
     "text": [
      "Help on package bs4:\n",
      "\n",
      "NAME\n",
      "    bs4\n",
      "\n",
      "DESCRIPTION\n",
      "    Beautiful Soup\n",
      "    Elixir and Tonic\n",
      "    \"The Screen-Scraper's Friend\"\n",
      "    http://www.crummy.com/software/BeautifulSoup/\n",
      "    \n",
      "    Beautiful Soup uses a pluggable XML or HTML parser to parse a\n",
      "    (possibly invalid) document into a tree representation. Beautiful Soup\n",
      "    provides methods and Pythonic idioms that make it easy to navigate,\n",
      "    search, and modify the parse tree.\n",
      "    \n",
      "    Beautiful Soup works with Python 2.7 and up. It works better if lxml\n",
      "    and/or html5lib is installed.\n",
      "    \n",
      "    For more than you ever wanted to know about Beautiful Soup, see the\n",
      "    documentation:\n",
      "    http://www.crummy.com/software/BeautifulSoup/bs4/doc/\n",
      "\n",
      "PACKAGE CONTENTS\n",
      "    builder (package)\n",
      "    dammit\n",
      "    diagnose\n",
      "    element\n",
      "    testing\n",
      "    tests (package)\n",
      "\n",
      "CLASSES\n",
      "    bs4.element.Tag(bs4.element.PageElement)\n",
      "        BeautifulSoup\n",
      "    \n",
      "    class BeautifulSoup(bs4.element.Tag)\n",
      "     |  This class defines the basic interface called by the tree builders.\n",
      "     |  \n",
      "     |  These methods will be called by the parser:\n",
      "     |    reset()\n",
      "     |    feed(markup)\n",
      "     |  \n",
      "     |  The tree builder may call these methods from its feed() implementation:\n",
      "     |    handle_starttag(name, attrs) # See note about return value\n",
      "     |    handle_endtag(name)\n",
      "     |    handle_data(data) # Appends to the current data node\n",
      "     |    endData(containerClass=NavigableString) # Ends the current data node\n",
      "     |  \n",
      "     |  No matter how complicated the underlying parser is, you should be\n",
      "     |  able to build a tree using 'start tag' events, 'end tag' events,\n",
      "     |  'data' events, and \"done with data\" events.\n",
      "     |  \n",
      "     |  If you encounter an empty-element tag (aka a self-closing tag,\n",
      "     |  like HTML's <br> tag), call handle_starttag and then\n",
      "     |  handle_endtag.\n",
      "     |  \n",
      "     |  Method resolution order:\n",
      "     |      BeautifulSoup\n",
      "     |      bs4.element.Tag\n",
      "     |      bs4.element.PageElement\n",
      "     |      builtins.object\n",
      "     |  \n",
      "     |  Methods defined here:\n",
      "     |  \n",
      "     |  __copy__(self)\n",
      "     |      A copy of a Tag is a new Tag, unconnected to the parse tree.\n",
      "     |      Its contents are a copy of the old Tag's contents.\n",
      "     |  \n",
      "     |  __getstate__(self)\n",
      "     |  \n",
      "     |  __init__(self, markup='', features=None, builder=None, parse_only=None, from_encoding=None, exclude_encodings=None, **kwargs)\n",
      "     |      Constructor.\n",
      "     |      \n",
      "     |      :param markup: A string or a file-like object representing\n",
      "     |      markup to be parsed.\n",
      "     |      \n",
      "     |      :param features: Desirable features of the parser to be used. This\n",
      "     |      may be the name of a specific parser (\"lxml\", \"lxml-xml\",\n",
      "     |      \"html.parser\", or \"html5lib\") or it may be the type of markup\n",
      "     |      to be used (\"html\", \"html5\", \"xml\"). It's recommended that you\n",
      "     |      name a specific parser, so that Beautiful Soup gives you the\n",
      "     |      same results across platforms and virtual environments.\n",
      "     |      \n",
      "     |      :param builder: A specific TreeBuilder to use instead of looking one\n",
      "     |      up based on `features`. You shouldn't need to use this.\n",
      "     |      \n",
      "     |      :param parse_only: A SoupStrainer. Only parts of the document\n",
      "     |      matching the SoupStrainer will be considered. This is useful\n",
      "     |      when parsing part of a document that would otherwise be too\n",
      "     |      large to fit into memory.\n",
      "     |      \n",
      "     |      :param from_encoding: A string indicating the encoding of the\n",
      "     |      document to be parsed. Pass this in if Beautiful Soup is\n",
      "     |      guessing wrongly about the document's encoding.\n",
      "     |      \n",
      "     |      :param exclude_encodings: A list of strings indicating\n",
      "     |      encodings known to be wrong. Pass this in if you don't know\n",
      "     |      the document's encoding but you know Beautiful Soup's guess is\n",
      "     |      wrong.\n",
      "     |      \n",
      "     |      :param kwargs: For backwards compatibility purposes, the\n",
      "     |      constructor accepts certain keyword arguments used in\n",
      "     |      Beautiful Soup 3. None of these arguments do anything in\n",
      "     |      Beautiful Soup 4 and there's no need to actually pass keyword\n",
      "     |      arguments into the constructor.\n",
      "     |  \n",
      "     |  decode(self, pretty_print=False, eventual_encoding='utf-8', formatter='minimal')\n",
      "     |      Returns a string or Unicode representation of this document.\n",
      "     |      To get Unicode, pass None for encoding.\n",
      "     |  \n",
      "     |  endData(self, containerClass=<class 'bs4.element.NavigableString'>)\n",
      "     |  \n",
      "     |  handle_data(self, data)\n",
      "     |  \n",
      "     |  handle_endtag(self, name, nsprefix=None)\n",
      "     |  \n",
      "     |  handle_starttag(self, name, namespace, nsprefix, attrs)\n",
      "     |      Push a start tag on to the stack.\n",
      "     |      \n",
      "     |      If this method returns None, the tag was rejected by the\n",
      "     |      SoupStrainer. You should proceed as if the tag had not occurred\n",
      "     |      in the document. For instance, if this was a self-closing tag,\n",
      "     |      don't call handle_endtag.\n",
      "     |  \n",
      "     |  insert_after(self, successor)\n",
      "     |      Makes the given element(s) the immediate successor of this one.\n",
      "     |      \n",
      "     |      The elements will have the same parent, and the given elements\n",
      "     |      will be immediately after this one.\n",
      "     |  \n",
      "     |  insert_before(self, successor)\n",
      "     |      Makes the given element(s) the immediate predecessor of this one.\n",
      "     |      \n",
      "     |      The elements will have the same parent, and the given elements\n",
      "     |      will be immediately before this one.\n",
      "     |  \n",
      "     |  new_string(self, s, subclass=<class 'bs4.element.NavigableString'>)\n",
      "     |      Create a new NavigableString associated with this soup.\n",
      "     |  \n",
      "     |  new_tag(self, name, namespace=None, nsprefix=None, attrs={}, **kwattrs)\n",
      "     |      Create a new tag associated with this soup.\n",
      "     |  \n",
      "     |  object_was_parsed(self, o, parent=None, most_recent_element=None)\n",
      "     |      Add an object to the parse tree.\n",
      "     |  \n",
      "     |  popTag(self)\n",
      "     |  \n",
      "     |  pushTag(self, tag)\n",
      "     |  \n",
      "     |  reset(self)\n",
      "     |  \n",
      "     |  ----------------------------------------------------------------------\n",
      "     |  Data and other attributes defined here:\n",
      "     |  \n",
      "     |  ASCII_SPACES = ' \\n\\t\\x0c\\r'\n",
      "     |  \n",
      "     |  DEFAULT_BUILDER_FEATURES = ['html', 'fast']\n",
      "     |  \n",
      "     |  NO_PARSER_SPECIFIED_WARNING = 'No parser was explicitly specified, so ...\n",
      "     |  \n",
      "     |  ROOT_TAG_NAME = '[document]'\n",
      "     |  \n",
      "     |  ----------------------------------------------------------------------\n",
      "     |  Methods inherited from bs4.element.Tag:\n",
      "     |  \n",
      "     |  __bool__(self)\n",
      "     |      A tag is non-None even if it has no contents.\n",
      "     |  \n",
      "     |  __call__(self, *args, **kwargs)\n",
      "     |      Calling a tag like a function is the same as calling its\n",
      "     |      find_all() method. Eg. tag('a') returns a list of all the A tags\n",
      "     |      found within this tag.\n",
      "     |  \n",
      "     |  __contains__(self, x)\n",
      "     |  \n",
      "     |  __delitem__(self, key)\n",
      "     |      Deleting tag[key] deletes all 'key' attributes for the tag.\n",
      "     |  \n",
      "     |  __eq__(self, other)\n",
      "     |      Returns true iff this tag has the same name, the same attributes,\n",
      "     |      and the same contents (recursively) as the given tag.\n",
      "     |  \n",
      "     |  __getattr__(self, tag)\n",
      "     |  \n",
      "     |  __getitem__(self, key)\n",
      "     |      tag[key] returns the value of the 'key' attribute for the tag,\n",
      "     |      and throws an exception if it's not there.\n",
      "     |  \n",
      "     |  __hash__(self)\n",
      "     |      Return hash(self).\n",
      "     |  \n",
      "     |  __iter__(self)\n",
      "     |      Iterating over a tag iterates over its contents.\n",
      "     |  \n",
      "     |  __len__(self)\n",
      "     |      The length of a tag is the length of its list of contents.\n",
      "     |  \n",
      "     |  __ne__(self, other)\n",
      "     |      Returns true iff this tag is not identical to the other tag,\n",
      "     |      as defined in __eq__.\n",
      "     |  \n",
      "     |  __repr__ = __unicode__(self)\n",
      "     |  \n",
      "     |  __setitem__(self, key, value)\n",
      "     |      Setting tag[key] sets the value of the 'key' attribute for the\n",
      "     |      tag.\n",
      "     |  \n",
      "     |  __str__ = __unicode__(self)\n",
      "     |  \n",
      "     |  __unicode__(self)\n",
      "     |  \n",
      "     |  childGenerator(self)\n",
      "     |      # Old names for backwards compatibility\n",
      "     |  \n",
      "     |  clear(self, decompose=False)\n",
      "     |      Extract all children. If decompose is True, decompose instead.\n",
      "     |  \n",
      "     |  decode_contents(self, indent_level=None, eventual_encoding='utf-8', formatter='minimal')\n",
      "     |      Renders the contents of this tag as a Unicode string.\n",
      "     |      \n",
      "     |      :param indent_level: Each line of the rendering will be\n",
      "     |         indented this many spaces.\n",
      "     |      \n",
      "     |      :param eventual_encoding: The tag is destined to be\n",
      "     |         encoded into this encoding. This method is _not_\n",
      "     |         responsible for performing that encoding. This information\n",
      "     |         is passed in so that it can be substituted in if the\n",
      "     |         document contains a <META> tag that mentions the document's\n",
      "     |         encoding.\n",
      "     |      \n",
      "     |      :param formatter: The output formatter responsible for converting\n",
      "     |         entities to Unicode characters.\n",
      "     |  \n",
      "     |  decompose(self)\n",
      "     |      Recursively destroys the contents of this tree.\n",
      "     |  \n",
      "     |  encode(self, encoding='utf-8', indent_level=None, formatter='minimal', errors='xmlcharrefreplace')\n",
      "     |  \n",
      "     |  encode_contents(self, indent_level=None, encoding='utf-8', formatter='minimal')\n",
      "     |      Renders the contents of this tag as a bytestring.\n",
      "     |      \n",
      "     |      :param indent_level: Each line of the rendering will be\n",
      "     |         indented this many spaces.\n",
      "     |      \n",
      "     |      :param eventual_encoding: The bytestring will be in this encoding.\n",
      "     |      \n",
      "     |      :param formatter: The output formatter responsible for converting\n",
      "     |         entities to Unicode characters.\n",
      "     |  \n",
      "     |  find(self, name=None, attrs={}, recursive=True, text=None, **kwargs)\n",
      "     |      Return only the first child of this Tag matching the given\n",
      "     |      criteria.\n",
      "     |  \n",
      "     |  findAll = find_all(self, name=None, attrs={}, recursive=True, text=None, limit=None, **kwargs)\n",
      "     |      Extracts a list of Tag objects that match the given\n",
      "     |      criteria.  You can specify the name of the Tag and any\n",
      "     |      attributes you want the Tag to have.\n",
      "     |      \n",
      "     |      The value of a key-value pair in the 'attrs' map can be a\n",
      "     |      string, a list of strings, a regular expression object, or a\n",
      "     |      callable that takes a string and returns whether or not the\n",
      "     |      string matches for some custom definition of 'matches'. The\n",
      "     |      same is true of the tag name.\n",
      "     |  \n",
      "     |  findChild = find(self, name=None, attrs={}, recursive=True, text=None, **kwargs)\n",
      "     |      Return only the first child of this Tag matching the given\n",
      "     |      criteria.\n",
      "     |  \n",
      "     |  findChildren = find_all(self, name=None, attrs={}, recursive=True, text=None, limit=None, **kwargs)\n",
      "     |      Extracts a list of Tag objects that match the given\n",
      "     |      criteria.  You can specify the name of the Tag and any\n",
      "     |      attributes you want the Tag to have.\n",
      "     |      \n",
      "     |      The value of a key-value pair in the 'attrs' map can be a\n",
      "     |      string, a list of strings, a regular expression object, or a\n",
      "     |      callable that takes a string and returns whether or not the\n",
      "     |      string matches for some custom definition of 'matches'. The\n",
      "     |      same is true of the tag name.\n",
      "     |  \n",
      "     |  find_all(self, name=None, attrs={}, recursive=True, text=None, limit=None, **kwargs)\n",
      "     |      Extracts a list of Tag objects that match the given\n",
      "     |      criteria.  You can specify the name of the Tag and any\n",
      "     |      attributes you want the Tag to have.\n",
      "     |      \n",
      "     |      The value of a key-value pair in the 'attrs' map can be a\n",
      "     |      string, a list of strings, a regular expression object, or a\n",
      "     |      callable that takes a string and returns whether or not the\n",
      "     |      string matches for some custom definition of 'matches'. The\n",
      "     |      same is true of the tag name.\n",
      "     |  \n",
      "     |  get(self, key, default=None)\n",
      "     |      Returns the value of the 'key' attribute for the tag, or\n",
      "     |      the value given for 'default' if it doesn't have that\n",
      "     |      attribute.\n",
      "     |  \n",
      "     |  getText = get_text(self, separator='', strip=False, types=(<class 'bs4.element.NavigableString'>, <class 'bs4.element.CData'>))\n",
      "     |      Get all child strings, concatenated using the given separator.\n",
      "     |  \n",
      "     |  get_attribute_list(self, key, default=None)\n",
      "     |      The same as get(), but always returns a list.\n",
      "     |  \n",
      "     |  get_text(self, separator='', strip=False, types=(<class 'bs4.element.NavigableString'>, <class 'bs4.element.CData'>))\n",
      "     |      Get all child strings, concatenated using the given separator.\n",
      "     |  \n",
      "     |  has_attr(self, key)\n",
      "     |  \n",
      "     |  has_key(self, key)\n",
      "     |      This was kind of misleading because has_key() (attributes)\n",
      "     |      was different from __in__ (contents). has_key() is gone in\n",
      "     |      Python 3, anyway.\n",
      "     |  \n",
      "     |  index(self, element)\n",
      "     |      Find the index of a child by identity, not value. Avoids issues with\n",
      "     |      tag.contents.index(element) getting the index of equal elements.\n",
      "     |  \n",
      "     |  prettify(self, encoding=None, formatter='minimal')\n",
      "     |  \n",
      "     |  recursiveChildGenerator(self)\n",
      "     |  \n",
      "     |  renderContents(self, encoding='utf-8', prettyPrint=False, indentLevel=0)\n",
      "     |      # Old method for BS3 compatibility\n",
      "     |  \n",
      "     |  select(self, selector, namespaces=None, limit=None, **kwargs)\n",
      "     |      Perform a CSS selection operation on the current element.\n",
      "     |      \n",
      "     |      This uses the SoupSieve library.\n",
      "     |      \n",
      "     |      :param selector: A string containing a CSS selector.\n",
      "     |      \n",
      "     |      :param namespaces: A dictionary mapping namespace prefixes\n",
      "     |      used in the CSS selector to namespace URIs. By default,\n",
      "     |      Beautiful Soup will use the prefixes it encountered while\n",
      "     |      parsing the document.\n",
      "     |      \n",
      "     |      :param limit: After finding this number of results, stop looking.\n",
      "     |      \n",
      "     |      :param kwargs: Any extra arguments you'd like to pass in to\n",
      "     |      soupsieve.select().\n",
      "     |  \n",
      "     |  select_one(self, selector, namespaces=None, **kwargs)\n",
      "     |      Perform a CSS selection operation on the current element.\n",
      "     |  \n",
      "     |  ----------------------------------------------------------------------\n",
      "     |  Data descriptors inherited from bs4.element.Tag:\n",
      "     |  \n",
      "     |  children\n",
      "     |  \n",
      "     |  descendants\n",
      "     |  \n",
      "     |  isSelfClosing\n",
      "     |      Is this tag an empty-element tag? (aka a self-closing tag)\n",
      "     |      \n",
      "     |      A tag that has contents is never an empty-element tag.\n",
      "     |      \n",
      "     |      A tag that has no contents may or may not be an empty-element\n",
      "     |      tag. It depends on the builder used to create the tag. If the\n",
      "     |      builder has a designated list of empty-element tags, then only\n",
      "     |      a tag whose name shows up in that list is considered an\n",
      "     |      empty-element tag.\n",
      "     |      \n",
      "     |      If the builder has no designated list of empty-element tags,\n",
      "     |      then any tag with no contents is an empty-element tag.\n",
      "     |  \n",
      "     |  is_empty_element\n",
      "     |      Is this tag an empty-element tag? (aka a self-closing tag)\n",
      "     |      \n",
      "     |      A tag that has contents is never an empty-element tag.\n",
      "     |      \n",
      "     |      A tag that has no contents may or may not be an empty-element\n",
      "     |      tag. It depends on the builder used to create the tag. If the\n",
      "     |      builder has a designated list of empty-element tags, then only\n",
      "     |      a tag whose name shows up in that list is considered an\n",
      "     |      empty-element tag.\n",
      "     |      \n",
      "     |      If the builder has no designated list of empty-element tags,\n",
      "     |      then any tag with no contents is an empty-element tag.\n",
      "     |  \n",
      "     |  parserClass\n",
      "     |  \n",
      "     |  string\n",
      "     |      Convenience property to get the single string within this tag.\n",
      "     |      \n",
      "     |      :Return: If this tag has a single string child, return value\n",
      "     |       is that string. If this tag has no children, or more than one\n",
      "     |       child, return value is None. If this tag has one child tag,\n",
      "     |       return value is the 'string' attribute of the child tag,\n",
      "     |       recursively.\n",
      "     |  \n",
      "     |  strings\n",
      "     |      Yield all strings of certain classes, possibly stripping them.\n",
      "     |      \n",
      "     |      By default, yields only NavigableString and CData objects. So\n",
      "     |      no comments, processing instructions, etc.\n",
      "     |  \n",
      "     |  stripped_strings\n",
      "     |  \n",
      "     |  text\n",
      "     |      Get all child strings, concatenated using the given separator.\n",
      "     |  \n",
      "     |  ----------------------------------------------------------------------\n",
      "     |  Methods inherited from bs4.element.PageElement:\n",
      "     |  \n",
      "     |  append(self, tag)\n",
      "     |      Appends the given tag to the contents of this tag.\n",
      "     |  \n",
      "     |  extend(self, tags)\n",
      "     |      Appends the given tags to the contents of this tag.\n",
      "     |  \n",
      "     |  extract(self)\n",
      "     |      Destructively rips this element out of the tree.\n",
      "     |  \n",
      "     |  fetchNextSiblings = find_next_siblings(self, name=None, attrs={}, text=None, limit=None, **kwargs)\n",
      "     |      Returns the siblings of this Tag that match the given\n",
      "     |      criteria and appear after this Tag in the document.\n",
      "     |  \n",
      "     |  fetchParents = find_parents(self, name=None, attrs={}, limit=None, **kwargs)\n",
      "     |      Returns the parents of this Tag that match the given\n",
      "     |      criteria.\n",
      "     |  \n",
      "     |  fetchPrevious = find_all_previous(self, name=None, attrs={}, text=None, limit=None, **kwargs)\n",
      "     |      Returns all items that match the given criteria and appear\n",
      "     |      before this Tag in the document.\n",
      "     |  \n",
      "     |  fetchPreviousSiblings = find_previous_siblings(self, name=None, attrs={}, text=None, limit=None, **kwargs)\n",
      "     |      Returns the siblings of this Tag that match the given\n",
      "     |      criteria and appear before this Tag in the document.\n",
      "     |  \n",
      "     |  findAllNext = find_all_next(self, name=None, attrs={}, text=None, limit=None, **kwargs)\n",
      "     |      Returns all items that match the given criteria and appear\n",
      "     |      after this Tag in the document.\n",
      "     |  \n",
      "     |  findAllPrevious = find_all_previous(self, name=None, attrs={}, text=None, limit=None, **kwargs)\n",
      "     |      Returns all items that match the given criteria and appear\n",
      "     |      before this Tag in the document.\n",
      "     |  \n",
      "     |  findNext = find_next(self, name=None, attrs={}, text=None, **kwargs)\n",
      "     |      Returns the first item that matches the given criteria and\n",
      "     |      appears after this Tag in the document.\n",
      "     |  \n",
      "     |  findNextSibling = find_next_sibling(self, name=None, attrs={}, text=None, **kwargs)\n",
      "     |      Returns the closest sibling to this Tag that matches the\n",
      "     |      given criteria and appears after this Tag in the document.\n",
      "     |  \n",
      "     |  findNextSiblings = find_next_siblings(self, name=None, attrs={}, text=None, limit=None, **kwargs)\n",
      "     |      Returns the siblings of this Tag that match the given\n",
      "     |      criteria and appear after this Tag in the document.\n",
      "     |  \n",
      "     |  findParent = find_parent(self, name=None, attrs={}, **kwargs)\n",
      "     |      Returns the closest parent of this Tag that matches the given\n",
      "     |      criteria.\n",
      "     |  \n",
      "     |  findParents = find_parents(self, name=None, attrs={}, limit=None, **kwargs)\n",
      "     |      Returns the parents of this Tag that match the given\n",
      "     |      criteria.\n",
      "     |  \n",
      "     |  findPrevious = find_previous(self, name=None, attrs={}, text=None, **kwargs)\n",
      "     |      Returns the first item that matches the given criteria and\n",
      "     |      appears before this Tag in the document.\n",
      "     |  \n",
      "     |  findPreviousSibling = find_previous_sibling(self, name=None, attrs={}, text=None, **kwargs)\n",
      "     |      Returns the closest sibling to this Tag that matches the\n",
      "     |      given criteria and appears before this Tag in the document.\n",
      "     |  \n",
      "     |  findPreviousSiblings = find_previous_siblings(self, name=None, attrs={}, text=None, limit=None, **kwargs)\n",
      "     |      Returns the siblings of this Tag that match the given\n",
      "     |      criteria and appear before this Tag in the document.\n",
      "     |  \n",
      "     |  find_all_next(self, name=None, attrs={}, text=None, limit=None, **kwargs)\n",
      "     |      Returns all items that match the given criteria and appear\n",
      "     |      after this Tag in the document.\n",
      "     |  \n",
      "     |  find_all_previous(self, name=None, attrs={}, text=None, limit=None, **kwargs)\n",
      "     |      Returns all items that match the given criteria and appear\n",
      "     |      before this Tag in the document.\n",
      "     |  \n",
      "     |  find_next(self, name=None, attrs={}, text=None, **kwargs)\n",
      "     |      Returns the first item that matches the given criteria and\n",
      "     |      appears after this Tag in the document.\n",
      "     |  \n",
      "     |  find_next_sibling(self, name=None, attrs={}, text=None, **kwargs)\n",
      "     |      Returns the closest sibling to this Tag that matches the\n",
      "     |      given criteria and appears after this Tag in the document.\n",
      "     |  \n",
      "     |  find_next_siblings(self, name=None, attrs={}, text=None, limit=None, **kwargs)\n",
      "     |      Returns the siblings of this Tag that match the given\n",
      "     |      criteria and appear after this Tag in the document.\n",
      "     |  \n",
      "     |  find_parent(self, name=None, attrs={}, **kwargs)\n",
      "     |      Returns the closest parent of this Tag that matches the given\n",
      "     |      criteria.\n",
      "     |  \n",
      "     |  find_parents(self, name=None, attrs={}, limit=None, **kwargs)\n",
      "     |      Returns the parents of this Tag that match the given\n",
      "     |      criteria.\n",
      "     |  \n",
      "     |  find_previous(self, name=None, attrs={}, text=None, **kwargs)\n",
      "     |      Returns the first item that matches the given criteria and\n",
      "     |      appears before this Tag in the document.\n",
      "     |  \n",
      "     |  find_previous_sibling(self, name=None, attrs={}, text=None, **kwargs)\n",
      "     |      Returns the closest sibling to this Tag that matches the\n",
      "     |      given criteria and appears before this Tag in the document.\n",
      "     |  \n",
      "     |  find_previous_siblings(self, name=None, attrs={}, text=None, limit=None, **kwargs)\n",
      "     |      Returns the siblings of this Tag that match the given\n",
      "     |      criteria and appear before this Tag in the document.\n",
      "     |  \n",
      "     |  format_string(self, s, formatter='minimal')\n",
      "     |      Format the given string using the given formatter.\n",
      "     |  \n",
      "     |  insert(self, position, new_child)\n",
      "     |  \n",
      "     |  nextGenerator(self)\n",
      "     |      # Old non-property versions of the generators, for backwards\n",
      "     |      # compatibility with BS3.\n",
      "     |  \n",
      "     |  nextSiblingGenerator(self)\n",
      "     |  \n",
      "     |  parentGenerator(self)\n",
      "     |  \n",
      "     |  previousGenerator(self)\n",
      "     |  \n",
      "     |  previousSiblingGenerator(self)\n",
      "     |  \n",
      "     |  replaceWith = replace_with(self, replace_with)\n",
      "     |  \n",
      "     |  replaceWithChildren = unwrap(self)\n",
      "     |  \n",
      "     |  replace_with(self, replace_with)\n",
      "     |  \n",
      "     |  replace_with_children = unwrap(self)\n",
      "     |  \n",
      "     |  setup(self, parent=None, previous_element=None, next_element=None, previous_sibling=None, next_sibling=None)\n",
      "     |      Sets up the initial relations between this element and\n",
      "     |      other elements.\n",
      "     |  \n",
      "     |  unwrap(self)\n",
      "     |  \n",
      "     |  wrap(self, wrap_inside)\n",
      "     |  \n",
      "     |  ----------------------------------------------------------------------\n",
      "     |  Data descriptors inherited from bs4.element.PageElement:\n",
      "     |  \n",
      "     |  __dict__\n",
      "     |      dictionary for instance variables (if defined)\n",
      "     |  \n",
      "     |  __weakref__\n",
      "     |      list of weak references to the object (if defined)\n",
      "     |  \n",
      "     |  next\n",
      "     |  \n",
      "     |  nextSibling\n",
      "     |  \n",
      "     |  next_elements\n",
      "     |  \n",
      "     |  next_siblings\n",
      "     |  \n",
      "     |  parents\n",
      "     |  \n",
      "     |  previous\n",
      "     |  \n",
      "     |  previousSibling\n",
      "     |  \n",
      "     |  previous_elements\n",
      "     |  \n",
      "     |  previous_siblings\n",
      "     |  \n",
      "     |  ----------------------------------------------------------------------\n",
      "     |  Data and other attributes inherited from bs4.element.PageElement:\n",
      "     |  \n",
      "     |  HTML_FORMATTERS = {'html': <bs4.element.HTMLFormatter object>, 'html5'...\n",
      "     |  \n",
      "     |  XML_FORMATTERS = {'html': <bs4.element.HTMLXMLFormatter object>, 'mini...\n",
      "\n",
      "DATA\n",
      "    __all__ = ['BeautifulSoup']\n",
      "    __copyright__ = 'Copyright (c) 2004-2019 Leonard Richardson'\n",
      "    __license__ = 'MIT'\n",
      "\n",
      "VERSION\n",
      "    4.7.1\n",
      "\n",
      "AUTHOR\n",
      "    Leonard Richardson (leonardr@segfault.org)\n",
      "\n",
      "FILE\n",
      "    c:\\program files (x86)\\microsoft visual studio\\shared\\anaconda3_64\\lib\\site-packages\\bs4\\__init__.py\n",
      "\n",
      "\n"
     ]
    }
   ],
   "source": [
    "help(bs)"
   ]
  },
  {
   "cell_type": "markdown",
   "metadata": {},
   "source": [
    "### Tag, NavigableString, BeautifulSoup, Comment."
   ]
  },
  {
   "cell_type": "markdown",
   "metadata": {},
   "source": [
    "### Tag"
   ]
  },
  {
   "cell_type": "code",
   "execution_count": 63,
   "metadata": {},
   "outputs": [
    {
     "name": "stdout",
     "output_type": "stream",
     "text": [
      "<html><body><p>Hello</p></body></html> <class 'bs4.element.Tag'>\n"
     ]
    }
   ],
   "source": [
    "#Tag\n",
    "temp = BeautifulSoup('Hello')\n",
    "print(temp.html, type(temp.html))"
   ]
  },
  {
   "cell_type": "code",
   "execution_count": 64,
   "metadata": {},
   "outputs": [
    {
     "name": "stdout",
     "output_type": "stream",
     "text": [
      "html\n"
     ]
    }
   ],
   "source": [
    "print(temp.html.name)"
   ]
  },
  {
   "cell_type": "code",
   "execution_count": 73,
   "metadata": {},
   "outputs": [
    {
     "name": "stdout",
     "output_type": "stream",
     "text": [
      "<p>hello</p> <class 'bs4.element.Tag'> p hello\n"
     ]
    }
   ],
   "source": [
    "a = 'hello'\n",
    "temp = BeautifulSoup(a)\n",
    "tag = temp.p\n",
    "print(tag, type(tag), tag.name, tag.text)"
   ]
  },
  {
   "cell_type": "code",
   "execution_count": 74,
   "metadata": {},
   "outputs": [],
   "source": [
    "tag.name = 'b'"
   ]
  },
  {
   "cell_type": "code",
   "execution_count": 75,
   "metadata": {},
   "outputs": [
    {
     "name": "stdout",
     "output_type": "stream",
     "text": [
      "<html><body><b>hello</b></body></html>\n"
     ]
    }
   ],
   "source": [
    "print(temp)"
   ]
  },
  {
   "cell_type": "code",
   "execution_count": 76,
   "metadata": {},
   "outputs": [
    {
     "name": "stdout",
     "output_type": "stream",
     "text": [
      "<b>hello</b> <class 'bs4.element.Tag'> b hello\n",
      "<b>hello</b> b hello\n"
     ]
    }
   ],
   "source": [
    "print(tag, type(tag), tag.name, tag.text)\n",
    "tag = temp.b\n",
    "print(tag, tag.name, tag.next)"
   ]
  },
  {
   "cell_type": "code",
   "execution_count": 77,
   "metadata": {},
   "outputs": [
    {
     "data": {
      "text/plain": [
       "{}"
      ]
     },
     "execution_count": 77,
     "metadata": {},
     "output_type": "execute_result"
    }
   ],
   "source": [
    "tag.attrs"
   ]
  },
  {
   "cell_type": "code",
   "execution_count": 79,
   "metadata": {},
   "outputs": [],
   "source": [
    "a = '<html><b id = \"hey\", class = \"om\", k = \"J\"> Piyush it is </b> </html>'"
   ]
  },
  {
   "cell_type": "code",
   "execution_count": 80,
   "metadata": {},
   "outputs": [],
   "source": [
    "soup = BeautifulSoup(a)"
   ]
  },
  {
   "cell_type": "code",
   "execution_count": 81,
   "metadata": {},
   "outputs": [],
   "source": [
    "tag = soup.b"
   ]
  },
  {
   "cell_type": "code",
   "execution_count": 82,
   "metadata": {},
   "outputs": [
    {
     "name": "stdout",
     "output_type": "stream",
     "text": [
      "<b class=\"om\" id=\"hey\" k=\"J\"> Piyush it is </b>\n"
     ]
    }
   ],
   "source": [
    "print(tag)"
   ]
  },
  {
   "cell_type": "code",
   "execution_count": 83,
   "metadata": {},
   "outputs": [
    {
     "data": {
      "text/plain": [
       "{'id': 'hey', 'class': ['om'], 'k': 'J'}"
      ]
     },
     "execution_count": 83,
     "metadata": {},
     "output_type": "execute_result"
    }
   ],
   "source": [
    "tag.attrs"
   ]
  },
  {
   "cell_type": "code",
   "execution_count": 84,
   "metadata": {},
   "outputs": [
    {
     "data": {
      "text/plain": [
       "'b'"
      ]
     },
     "execution_count": 84,
     "metadata": {},
     "output_type": "execute_result"
    }
   ],
   "source": [
    "tag.name"
   ]
  },
  {
   "cell_type": "code",
   "execution_count": 85,
   "metadata": {},
   "outputs": [
    {
     "data": {
      "text/plain": [
       "'hey'"
      ]
     },
     "execution_count": 85,
     "metadata": {},
     "output_type": "execute_result"
    }
   ],
   "source": [
    "tag['id']"
   ]
  },
  {
   "cell_type": "code",
   "execution_count": 86,
   "metadata": {},
   "outputs": [
    {
     "data": {
      "text/plain": [
       "['om']"
      ]
     },
     "execution_count": 86,
     "metadata": {},
     "output_type": "execute_result"
    }
   ],
   "source": [
    "\n",
    "tag['class']"
   ]
  },
  {
   "cell_type": "code",
   "execution_count": 87,
   "metadata": {},
   "outputs": [],
   "source": [
    "tag['key'] = 5"
   ]
  },
  {
   "cell_type": "code",
   "execution_count": 88,
   "metadata": {},
   "outputs": [
    {
     "name": "stdout",
     "output_type": "stream",
     "text": [
      "<b class=\"om\" id=\"hey\" k=\"J\" key=\"5\"> Piyush it is </b>\n"
     ]
    }
   ],
   "source": [
    "print(tag)"
   ]
  },
  {
   "cell_type": "code",
   "execution_count": 90,
   "metadata": {},
   "outputs": [],
   "source": [
    "del tag['k']"
   ]
  },
  {
   "cell_type": "code",
   "execution_count": 91,
   "metadata": {},
   "outputs": [
    {
     "data": {
      "text/plain": [
       "<b class=\"om\" id=\"hey\" key=\"5\"> Piyush it is </b>"
      ]
     },
     "execution_count": 91,
     "metadata": {},
     "output_type": "execute_result"
    }
   ],
   "source": [
    "tag"
   ]
  },
  {
   "cell_type": "code",
   "execution_count": 92,
   "metadata": {},
   "outputs": [
    {
     "data": {
      "text/plain": [
       "dict"
      ]
     },
     "execution_count": 92,
     "metadata": {},
     "output_type": "execute_result"
    }
   ],
   "source": [
    "type(tag.attrs)"
   ]
  },
  {
   "cell_type": "code",
   "execution_count": 94,
   "metadata": {},
   "outputs": [
    {
     "ename": "KeyError",
     "evalue": "'k'",
     "output_type": "error",
     "traceback": [
      "\u001b[1;31m---------------------------------------------------------------------------\u001b[0m",
      "\u001b[1;31mKeyError\u001b[0m                                  Traceback (most recent call last)",
      "\u001b[1;32m<ipython-input-94-f01bcc915e9b>\u001b[0m in \u001b[0;36m<module>\u001b[1;34m()\u001b[0m\n\u001b[1;32m----> 1\u001b[1;33m \u001b[0mtag\u001b[0m\u001b[1;33m[\u001b[0m\u001b[1;34m'k'\u001b[0m\u001b[1;33m]\u001b[0m\u001b[1;33m\u001b[0m\u001b[0m\n\u001b[0m",
      "\u001b[1;32mC:\\Program Files (x86)\\Microsoft Visual Studio\\Shared\\Anaconda3_64\\lib\\site-packages\\bs4\\element.py\u001b[0m in \u001b[0;36m__getitem__\u001b[1;34m(self, key)\u001b[0m\n\u001b[0;32m   1014\u001b[0m         \"\"\"tag[key] returns the value of the 'key' attribute for the tag,\n\u001b[0;32m   1015\u001b[0m         and throws an exception if it's not there.\"\"\"\n\u001b[1;32m-> 1016\u001b[1;33m         \u001b[1;32mreturn\u001b[0m \u001b[0mself\u001b[0m\u001b[1;33m.\u001b[0m\u001b[0mattrs\u001b[0m\u001b[1;33m[\u001b[0m\u001b[0mkey\u001b[0m\u001b[1;33m]\u001b[0m\u001b[1;33m\u001b[0m\u001b[0m\n\u001b[0m\u001b[0;32m   1017\u001b[0m \u001b[1;33m\u001b[0m\u001b[0m\n\u001b[0;32m   1018\u001b[0m     \u001b[1;32mdef\u001b[0m \u001b[0m__iter__\u001b[0m\u001b[1;33m(\u001b[0m\u001b[0mself\u001b[0m\u001b[1;33m)\u001b[0m\u001b[1;33m:\u001b[0m\u001b[1;33m\u001b[0m\u001b[0m\n",
      "\u001b[1;31mKeyError\u001b[0m: 'k'"
     ]
    }
   ],
   "source": [
    "tag['k']"
   ]
  },
  {
   "cell_type": "code",
   "execution_count": 96,
   "metadata": {},
   "outputs": [
    {
     "name": "stdout",
     "output_type": "stream",
     "text": [
      "None\n"
     ]
    }
   ],
   "source": [
    "print(tag.get('k'))"
   ]
  },
  {
   "cell_type": "code",
   "execution_count": 97,
   "metadata": {},
   "outputs": [
    {
     "name": "stdout",
     "output_type": "stream",
     "text": [
      "hey\n"
     ]
    }
   ],
   "source": [
    "(print(tag.get('id')))"
   ]
  },
  {
   "cell_type": "code",
   "execution_count": 98,
   "metadata": {},
   "outputs": [
    {
     "data": {
      "text/plain": [
       "'hey'"
      ]
     },
     "execution_count": 98,
     "metadata": {},
     "output_type": "execute_result"
    }
   ],
   "source": [
    "tag.get('id')"
   ]
  },
  {
   "cell_type": "code",
   "execution_count": 99,
   "metadata": {},
   "outputs": [
    {
     "data": {
      "text/plain": [
       "['om']"
      ]
     },
     "execution_count": 99,
     "metadata": {},
     "output_type": "execute_result"
    }
   ],
   "source": [
    "tag.get('class')"
   ]
  },
  {
   "cell_type": "code",
   "execution_count": 103,
   "metadata": {},
   "outputs": [],
   "source": [
    "tag['class'] = ['om', 'hey']"
   ]
  },
  {
   "cell_type": "code",
   "execution_count": 104,
   "metadata": {},
   "outputs": [
    {
     "data": {
      "text/plain": [
       "['om', 'hey']"
      ]
     },
     "execution_count": 104,
     "metadata": {},
     "output_type": "execute_result"
    }
   ],
   "source": [
    "tag.get('class')"
   ]
  },
  {
   "cell_type": "code",
   "execution_count": null,
   "metadata": {},
   "outputs": [],
   "source": []
  },
  {
   "cell_type": "code",
   "execution_count": 105,
   "metadata": {},
   "outputs": [
    {
     "data": {
      "text/plain": [
       "<b class=\"om hey\" id=\"hey\" key=\"5\"> Piyush it is </b>"
      ]
     },
     "execution_count": 105,
     "metadata": {},
     "output_type": "execute_result"
    }
   ],
   "source": [
    "tag"
   ]
  },
  {
   "cell_type": "code",
   "execution_count": 106,
   "metadata": {},
   "outputs": [],
   "source": [
    "tag['class'].append('jai')"
   ]
  },
  {
   "cell_type": "code",
   "execution_count": 107,
   "metadata": {},
   "outputs": [
    {
     "data": {
      "text/plain": [
       "['om', 'hey', 'jai']"
      ]
     },
     "execution_count": 107,
     "metadata": {},
     "output_type": "execute_result"
    }
   ],
   "source": [
    "tag.get('class')"
   ]
  },
  {
   "cell_type": "code",
   "execution_count": 108,
   "metadata": {},
   "outputs": [
    {
     "name": "stdout",
     "output_type": "stream",
     "text": [
      "<b class=\"om hey jai\" id=\"hey\" key=\"5\"> Piyush it is </b>\n"
     ]
    }
   ],
   "source": [
    "print(tag)"
   ]
  },
  {
   "cell_type": "code",
   "execution_count": 109,
   "metadata": {},
   "outputs": [
    {
     "data": {
      "text/plain": [
       "['om', 'hey', 'jai']"
      ]
     },
     "execution_count": 109,
     "metadata": {},
     "output_type": "execute_result"
    }
   ],
   "source": [
    "tag.get_attribute_list('class')"
   ]
  },
  {
   "cell_type": "code",
   "execution_count": 110,
   "metadata": {},
   "outputs": [
    {
     "data": {
      "text/plain": [
       "['hey']"
      ]
     },
     "execution_count": 110,
     "metadata": {},
     "output_type": "execute_result"
    }
   ],
   "source": [
    "tag.get_attribute_list('id')"
   ]
  },
  {
   "cell_type": "code",
   "execution_count": 111,
   "metadata": {},
   "outputs": [
    {
     "data": {
      "text/plain": [
       "[5]"
      ]
     },
     "execution_count": 111,
     "metadata": {},
     "output_type": "execute_result"
    }
   ],
   "source": [
    "tag.get_attribute_list('key')"
   ]
  },
  {
   "cell_type": "code",
   "execution_count": 112,
   "metadata": {},
   "outputs": [
    {
     "data": {
      "text/plain": [
       "5"
      ]
     },
     "execution_count": 112,
     "metadata": {},
     "output_type": "execute_result"
    }
   ],
   "source": [
    "tag.get('key')"
   ]
  },
  {
   "cell_type": "markdown",
   "metadata": {},
   "source": [
    "### Navigable String Class"
   ]
  },
  {
   "cell_type": "code",
   "execution_count": 113,
   "metadata": {},
   "outputs": [
    {
     "data": {
      "text/plain": [
       "' Piyush it is '"
      ]
     },
     "execution_count": 113,
     "metadata": {},
     "output_type": "execute_result"
    }
   ],
   "source": [
    "tag.string"
   ]
  },
  {
   "cell_type": "code",
   "execution_count": 114,
   "metadata": {},
   "outputs": [
    {
     "data": {
      "text/plain": [
       "bs4.element.NavigableString"
      ]
     },
     "execution_count": 114,
     "metadata": {},
     "output_type": "execute_result"
    }
   ],
   "source": [
    "type(tag.string)"
   ]
  },
  {
   "cell_type": "code",
   "execution_count": 118,
   "metadata": {},
   "outputs": [
    {
     "name": "stdout",
     "output_type": "stream",
     "text": [
      "<class 'list'> [None]\n"
     ]
    }
   ],
   "source": [
    "print(type(tag.get_attribute_list(\"key3\")), tag.get_attribute_list(\"kfdksj\"))"
   ]
  },
  {
   "cell_type": "code",
   "execution_count": 121,
   "metadata": {},
   "outputs": [
    {
     "data": {
      "text/plain": [
       "str"
      ]
     },
     "execution_count": 121,
     "metadata": {},
     "output_type": "execute_result"
    }
   ],
   "source": [
    "type(str(tag.string))"
   ]
  },
  {
   "cell_type": "code",
   "execution_count": 122,
   "metadata": {},
   "outputs": [
    {
     "name": "stdout",
     "output_type": "stream",
     "text": [
      " Piyush it is \n"
     ]
    }
   ],
   "source": [
    "print(tag.string)"
   ]
  },
  {
   "cell_type": "code",
   "execution_count": 123,
   "metadata": {},
   "outputs": [
    {
     "name": "stdout",
     "output_type": "stream",
     "text": [
      " Piyush it is \n"
     ]
    }
   ],
   "source": [
    "print(str(tag.string))"
   ]
  },
  {
   "cell_type": "code",
   "execution_count": 129,
   "metadata": {},
   "outputs": [
    {
     "ename": "NameError",
     "evalue": "name 'unicode' is not defined",
     "output_type": "error",
     "traceback": [
      "\u001b[1;31m---------------------------------------------------------------------------\u001b[0m",
      "\u001b[1;31mNameError\u001b[0m                                 Traceback (most recent call last)",
      "\u001b[1;32m<ipython-input-129-abcdeb29826a>\u001b[0m in \u001b[0;36m<module>\u001b[1;34m()\u001b[0m\n\u001b[1;32m----> 1\u001b[1;33m \u001b[0ms\u001b[0m \u001b[1;33m=\u001b[0m \u001b[0municode\u001b[0m\u001b[1;33m(\u001b[0m\u001b[0mtag\u001b[0m\u001b[1;33m.\u001b[0m\u001b[0mstring\u001b[0m\u001b[1;33m)\u001b[0m\u001b[1;33m\u001b[0m\u001b[0m\n\u001b[0m",
      "\u001b[1;31mNameError\u001b[0m: name 'unicode' is not defined"
     ]
    }
   ],
   "source": [
    "s = unicode(tag.string)"
   ]
  },
  {
   "cell_type": "code",
   "execution_count": 130,
   "metadata": {},
   "outputs": [],
   "source": [
    "tag.string = \"piyush\""
   ]
  },
  {
   "cell_type": "code",
   "execution_count": 131,
   "metadata": {},
   "outputs": [],
   "source": [
    "tag.string.replace_with = \"kill it\""
   ]
  },
  {
   "cell_type": "code",
   "execution_count": 132,
   "metadata": {},
   "outputs": [
    {
     "data": {
      "text/plain": [
       "<b class=\"om hey jai\" id=\"hey\" key=\"5\">piyush</b>"
      ]
     },
     "execution_count": 132,
     "metadata": {},
     "output_type": "execute_result"
    }
   ],
   "source": [
    "tag"
   ]
  },
  {
   "cell_type": "code",
   "execution_count": 133,
   "metadata": {},
   "outputs": [],
   "source": [
    "tag.string = \"ki\""
   ]
  },
  {
   "cell_type": "code",
   "execution_count": 134,
   "metadata": {},
   "outputs": [
    {
     "data": {
      "text/plain": [
       "'ki'"
      ]
     },
     "execution_count": 134,
     "metadata": {},
     "output_type": "execute_result"
    }
   ],
   "source": [
    "tag.string"
   ]
  },
  {
   "cell_type": "code",
   "execution_count": 135,
   "metadata": {},
   "outputs": [
    {
     "data": {
      "text/plain": [
       "'ki'"
      ]
     },
     "execution_count": 135,
     "metadata": {},
     "output_type": "execute_result"
    }
   ],
   "source": [
    "tag.string.replace_with(\"hey how you doing!\")"
   ]
  },
  {
   "cell_type": "code",
   "execution_count": 136,
   "metadata": {},
   "outputs": [
    {
     "data": {
      "text/plain": [
       "'hey how you doing!'"
      ]
     },
     "execution_count": 136,
     "metadata": {},
     "output_type": "execute_result"
    }
   ],
   "source": [
    "tag.string"
   ]
  },
  {
   "cell_type": "code",
   "execution_count": 137,
   "metadata": {},
   "outputs": [
    {
     "data": {
      "text/plain": [
       "<b class=\"om hey jai\" id=\"hey\" key=\"5\">hey how you doing!</b>"
      ]
     },
     "execution_count": 137,
     "metadata": {},
     "output_type": "execute_result"
    }
   ],
   "source": [
    "tag"
   ]
  },
  {
   "cell_type": "code",
   "execution_count": 138,
   "metadata": {},
   "outputs": [],
   "source": [
    "k = tag.string"
   ]
  },
  {
   "cell_type": "code",
   "execution_count": 139,
   "metadata": {},
   "outputs": [
    {
     "data": {
      "text/plain": [
       "'hey how you doing!'"
      ]
     },
     "execution_count": 139,
     "metadata": {},
     "output_type": "execute_result"
    }
   ],
   "source": [
    "k"
   ]
  },
  {
   "cell_type": "code",
   "execution_count": 140,
   "metadata": {},
   "outputs": [
    {
     "data": {
      "text/plain": [
       "bs4.element.NavigableString"
      ]
     },
     "execution_count": 140,
     "metadata": {},
     "output_type": "execute_result"
    }
   ],
   "source": [
    "type(k)"
   ]
  },
  {
   "cell_type": "code",
   "execution_count": 144,
   "metadata": {},
   "outputs": [
    {
     "name": "stdout",
     "output_type": "stream",
     "text": [
      "5\n"
     ]
    }
   ],
   "source": [
    "print(k.find(\"o\"))"
   ]
  },
  {
   "cell_type": "markdown",
   "metadata": {},
   "source": [
    "### Beautiful Soup"
   ]
  },
  {
   "cell_type": "code",
   "execution_count": 145,
   "metadata": {},
   "outputs": [
    {
     "data": {
      "text/plain": [
       "'[document]'"
      ]
     },
     "execution_count": 145,
     "metadata": {},
     "output_type": "execute_result"
    }
   ],
   "source": [
    "soup.name"
   ]
  },
  {
   "cell_type": "code",
   "execution_count": 146,
   "metadata": {},
   "outputs": [
    {
     "data": {
      "text/plain": [
       "<html><body><b class=\"om hey jai\" id=\"hey\" key=\"5\">hey how you doing!</b> </body></html>"
      ]
     },
     "execution_count": 146,
     "metadata": {},
     "output_type": "execute_result"
    }
   ],
   "source": [
    "soup"
   ]
  },
  {
   "cell_type": "code",
   "execution_count": 148,
   "metadata": {},
   "outputs": [
    {
     "data": {
      "text/plain": [
       "{}"
      ]
     },
     "execution_count": 148,
     "metadata": {},
     "output_type": "execute_result"
    }
   ],
   "source": [
    "soup.attrs"
   ]
  },
  {
   "cell_type": "code",
   "execution_count": 149,
   "metadata": {},
   "outputs": [
    {
     "data": {
      "text/plain": [
       "<b class=\"om hey jai\" id=\"hey\" key=\"5\">hey how you doing!</b>"
      ]
     },
     "execution_count": 149,
     "metadata": {},
     "output_type": "execute_result"
    }
   ],
   "source": [
    "soup.b"
   ]
  },
  {
   "cell_type": "code",
   "execution_count": 150,
   "metadata": {},
   "outputs": [
    {
     "data": {
      "text/plain": [
       "<html><body><b class=\"om hey jai\" id=\"hey\" key=\"5\">hey how you doing!</b> </body></html>"
      ]
     },
     "execution_count": 150,
     "metadata": {},
     "output_type": "execute_result"
    }
   ],
   "source": [
    "soup.html"
   ]
  },
  {
   "cell_type": "code",
   "execution_count": 151,
   "metadata": {},
   "outputs": [
    {
     "data": {
      "text/plain": [
       "<body><b class=\"om hey jai\" id=\"hey\" key=\"5\">hey how you doing!</b> </body>"
      ]
     },
     "execution_count": 151,
     "metadata": {},
     "output_type": "execute_result"
    }
   ],
   "source": [
    "soup.body"
   ]
  },
  {
   "cell_type": "code",
   "execution_count": 152,
   "metadata": {},
   "outputs": [
    {
     "data": {
      "text/plain": [
       "<b class=\"om hey jai\" id=\"hey\" key=\"5\">hey how you doing!</b>"
      ]
     },
     "execution_count": 152,
     "metadata": {},
     "output_type": "execute_result"
    }
   ],
   "source": [
    "soup.body.b"
   ]
  },
  {
   "cell_type": "code",
   "execution_count": 154,
   "metadata": {},
   "outputs": [
    {
     "name": "stdout",
     "output_type": "stream",
     "text": [
      "<class 'bs4.element.Tag'> <class 'bs4.element.Tag'>\n"
     ]
    }
   ],
   "source": [
    "print(type(soup.body), type(soup.body.b))"
   ]
  },
  {
   "cell_type": "code",
   "execution_count": 155,
   "metadata": {},
   "outputs": [],
   "source": [
    "tag.b"
   ]
  },
  {
   "cell_type": "code",
   "execution_count": 156,
   "metadata": {},
   "outputs": [
    {
     "name": "stdout",
     "output_type": "stream",
     "text": [
      "None\n"
     ]
    }
   ],
   "source": [
    "print(tag.b)"
   ]
  },
  {
   "cell_type": "code",
   "execution_count": 158,
   "metadata": {},
   "outputs": [],
   "source": [
    "tag = soup.body"
   ]
  },
  {
   "cell_type": "code",
   "execution_count": 159,
   "metadata": {},
   "outputs": [
    {
     "name": "stdout",
     "output_type": "stream",
     "text": [
      "<body><b class=\"om hey jai\" id=\"hey\" key=\"5\">hey how you doing!</b> </body>\n"
     ]
    }
   ],
   "source": [
    "print(tag)"
   ]
  },
  {
   "cell_type": "code",
   "execution_count": 160,
   "metadata": {},
   "outputs": [
    {
     "name": "stdout",
     "output_type": "stream",
     "text": [
      "None\n"
     ]
    }
   ],
   "source": [
    "print(tag.string)"
   ]
  },
  {
   "cell_type": "code",
   "execution_count": 163,
   "metadata": {},
   "outputs": [
    {
     "name": "stdout",
     "output_type": "stream",
     "text": [
      "<b class=\"om hey jai\" id=\"hey\" key=\"5\">hey how you doing!</b>\n",
      "<class 'bs4.element.Tag'>\n"
     ]
    }
   ],
   "source": [
    "print(tag.b, type(tag.b),  sep = '\\n')"
   ]
  },
  {
   "cell_type": "code",
   "execution_count": 167,
   "metadata": {},
   "outputs": [
    {
     "name": "stdout",
     "output_type": "stream",
     "text": [
      "None hey how you doing!\n"
     ]
    }
   ],
   "source": [
    "print(tag.string, tag.b.string)"
   ]
  },
  {
   "cell_type": "code",
   "execution_count": 168,
   "metadata": {},
   "outputs": [],
   "source": [
    "tag.tags"
   ]
  },
  {
   "cell_type": "code",
   "execution_count": 170,
   "metadata": {},
   "outputs": [
    {
     "name": "stdout",
     "output_type": "stream",
     "text": [
      "{}\n"
     ]
    }
   ],
   "source": [
    "print(tag.attrs)"
   ]
  },
  {
   "cell_type": "code",
   "execution_count": 171,
   "metadata": {},
   "outputs": [
    {
     "name": "stdout",
     "output_type": "stream",
     "text": [
      "None\n"
     ]
    }
   ],
   "source": [
    "print(tag.b.tags)"
   ]
  },
  {
   "cell_type": "code",
   "execution_count": 172,
   "metadata": {},
   "outputs": [
    {
     "name": "stdout",
     "output_type": "stream",
     "text": [
      "None\n"
     ]
    }
   ],
   "source": [
    "print(soup.tags)"
   ]
  },
  {
   "cell_type": "code",
   "execution_count": 173,
   "metadata": {},
   "outputs": [
    {
     "name": "stdout",
     "output_type": "stream",
     "text": [
      "[document]\n"
     ]
    }
   ],
   "source": [
    "print(soup.name)"
   ]
  },
  {
   "cell_type": "code",
   "execution_count": 174,
   "metadata": {},
   "outputs": [
    {
     "name": "stdout",
     "output_type": "stream",
     "text": [
      "None\n"
     ]
    }
   ],
   "source": [
    "print(soup.string)"
   ]
  },
  {
   "cell_type": "code",
   "execution_count": 175,
   "metadata": {},
   "outputs": [
    {
     "name": "stdout",
     "output_type": "stream",
     "text": [
      "hey how you doing! None\n"
     ]
    }
   ],
   "source": [
    "print(soup.b.string, soup.body.string, end = '\\n')"
   ]
  },
  {
   "cell_type": "code",
   "execution_count": 264,
   "metadata": {},
   "outputs": [],
   "source": [
    "doc = '<html><body><b><!--Ask him--></b></body></html>'"
   ]
  },
  {
   "cell_type": "code",
   "execution_count": 265,
   "metadata": {},
   "outputs": [
    {
     "name": "stdout",
     "output_type": "stream",
     "text": [
      "<html><body><b><!--Ask him--></b></body></html>\n"
     ]
    }
   ],
   "source": [
    "print(doc)"
   ]
  },
  {
   "cell_type": "code",
   "execution_count": 266,
   "metadata": {},
   "outputs": [],
   "source": [
    "doc = bs.BeautifulSoup(doc)"
   ]
  },
  {
   "cell_type": "code",
   "execution_count": 267,
   "metadata": {},
   "outputs": [
    {
     "name": "stdout",
     "output_type": "stream",
     "text": [
      "<html><body><b><!--Ask him--></b></body></html>\n"
     ]
    }
   ],
   "source": [
    "print(doc)"
   ]
  },
  {
   "cell_type": "code",
   "execution_count": 268,
   "metadata": {},
   "outputs": [
    {
     "name": "stdout",
     "output_type": "stream",
     "text": [
      "<html>\n",
      " <body>\n",
      "  <b>\n",
      "   <!--Ask him-->\n",
      "  </b>\n",
      " </body>\n",
      "</html>\n"
     ]
    }
   ],
   "source": [
    "print(doc.prettify())"
   ]
  },
  {
   "cell_type": "code",
   "execution_count": 269,
   "metadata": {},
   "outputs": [
    {
     "name": "stdout",
     "output_type": "stream",
     "text": [
      "Ask him\n"
     ]
    }
   ],
   "source": [
    "print(doc.string)"
   ]
  },
  {
   "cell_type": "code",
   "execution_count": 270,
   "metadata": {},
   "outputs": [
    {
     "name": "stdout",
     "output_type": "stream",
     "text": [
      "Ask him\n"
     ]
    }
   ],
   "source": [
    "print(doc.b.string)"
   ]
  },
  {
   "cell_type": "code",
   "execution_count": 277,
   "metadata": {},
   "outputs": [
    {
     "name": "stdout",
     "output_type": "stream",
     "text": [
      "<class 'bs4.element.Comment'>\n"
     ]
    }
   ],
   "source": [
    "markup = \"<html><b><!-- Hey --></b><html>\"\n",
    "print(type(BeautifulSoup(markup).b.string))"
   ]
  },
  {
   "cell_type": "code",
   "execution_count": 278,
   "metadata": {},
   "outputs": [
    {
     "name": "stdout",
     "output_type": "stream",
     "text": [
      "<class 'bs4.element.Comment'>\n"
     ]
    }
   ],
   "source": [
    "print(type(doc.b.string))"
   ]
  },
  {
   "cell_type": "code",
   "execution_count": 279,
   "metadata": {},
   "outputs": [
    {
     "name": "stdout",
     "output_type": "stream",
     "text": [
      " Hey \n"
     ]
    }
   ],
   "source": [
    "print(BeautifulSoup(markup).b.string)"
   ]
  },
  {
   "cell_type": "code",
   "execution_count": 280,
   "metadata": {},
   "outputs": [
    {
     "name": "stdout",
     "output_type": "stream",
     "text": [
      "Ask him\n"
     ]
    }
   ],
   "source": [
    "print(doc.body.string)"
   ]
  },
  {
   "cell_type": "markdown",
   "metadata": {},
   "source": [
    "### Navigation the tree"
   ]
  },
  {
   "cell_type": "code",
   "execution_count": 284,
   "metadata": {},
   "outputs": [],
   "source": [
    "html_doc = \"\"\"\n",
    "<html><head><title>The Dormouse's story</title></head>\n",
    "<body>\n",
    "<p class=\"title\"><b>The Dormouse's story</b></p>\n",
    "\n",
    "<p class=\"story\">Once upon a time there were three little sisters; and their names were\n",
    "<a href=\"http://example.com/elsie\" class=\"sister\" id=\"link1\">Elsie</a>,\n",
    "<a href=\"http://example.com/lacie\" class=\"sister\" id=\"link2\">Lacie</a> and\n",
    "<a href=\"http://example.com/tillie\" class=\"sister\" id=\"link3\">Tillie</a>;\n",
    "and they lived at the bottom of a well.</p>\n",
    "\n",
    "<p class=\"story\">...</p>\n",
    "\"\"\"\n",
    "\n",
    "from bs4 import BeautifulSoup\n",
    "soup = BeautifulSoup(html_doc, 'html.parser')"
   ]
  },
  {
   "cell_type": "code",
   "execution_count": 285,
   "metadata": {},
   "outputs": [
    {
     "data": {
      "text/plain": [
       "<head><title>The Dormouse's story</title></head>"
      ]
     },
     "execution_count": 285,
     "metadata": {},
     "output_type": "execute_result"
    }
   ],
   "source": [
    "soup.head"
   ]
  },
  {
   "cell_type": "code",
   "execution_count": 286,
   "metadata": {},
   "outputs": [
    {
     "data": {
      "text/plain": [
       "<body>\n",
       "<p class=\"title\"><b>The Dormouse's story</b></p>\n",
       "<p class=\"story\">Once upon a time there were three little sisters; and their names were\n",
       "<a class=\"sister\" href=\"http://example.com/elsie\" id=\"link1\">Elsie</a>,\n",
       "<a class=\"sister\" href=\"http://example.com/lacie\" id=\"link2\">Lacie</a> and\n",
       "<a class=\"sister\" href=\"http://example.com/tillie\" id=\"link3\">Tillie</a>;\n",
       "and they lived at the bottom of a well.</p>\n",
       "<p class=\"story\">...</p>\n",
       "</body>"
      ]
     },
     "execution_count": 286,
     "metadata": {},
     "output_type": "execute_result"
    }
   ],
   "source": [
    "soup.body"
   ]
  },
  {
   "cell_type": "code",
   "execution_count": 291,
   "metadata": {},
   "outputs": [
    {
     "name": "stdout",
     "output_type": "stream",
     "text": [
      "<head>\n",
      " <title>\n",
      "  The Dormouse's story\n",
      " </title>\n",
      "</head>\n",
      "\n"
     ]
    }
   ],
   "source": [
    "print(soup.head.prettify())"
   ]
  },
  {
   "cell_type": "code",
   "execution_count": 293,
   "metadata": {},
   "outputs": [
    {
     "name": "stdout",
     "output_type": "stream",
     "text": [
      "<body>\n",
      " <p class=\"title\">\n",
      "  <b>\n",
      "   The Dormouse's story\n",
      "  </b>\n",
      " </p>\n",
      " <p class=\"story\">\n",
      "  Once upon a time there were three little sisters; and their names were\n",
      "  <a class=\"sister\" href=\"http://example.com/elsie\" id=\"link1\">\n",
      "   Elsie\n",
      "  </a>\n",
      "  ,\n",
      "  <a class=\"sister\" href=\"http://example.com/lacie\" id=\"link2\">\n",
      "   Lacie\n",
      "  </a>\n",
      "  and\n",
      "  <a class=\"sister\" href=\"http://example.com/tillie\" id=\"link3\">\n",
      "   Tillie\n",
      "  </a>\n",
      "  ;\n",
      "and they lived at the bottom of a well.\n",
      " </p>\n",
      " <p class=\"story\">\n",
      "  ...\n",
      " </p>\n",
      "</body>\n"
     ]
    }
   ],
   "source": [
    "print(soup.body.prettify())"
   ]
  },
  {
   "cell_type": "code",
   "execution_count": 294,
   "metadata": {},
   "outputs": [
    {
     "data": {
      "text/plain": [
       "<head><title>The Dormouse's story</title></head>"
      ]
     },
     "execution_count": 294,
     "metadata": {},
     "output_type": "execute_result"
    }
   ],
   "source": [
    "soup.head"
   ]
  },
  {
   "cell_type": "code",
   "execution_count": 295,
   "metadata": {},
   "outputs": [
    {
     "data": {
      "text/plain": [
       "<title>The Dormouse's story</title>"
      ]
     },
     "execution_count": 295,
     "metadata": {},
     "output_type": "execute_result"
    }
   ],
   "source": [
    "soup.title"
   ]
  },
  {
   "cell_type": "code",
   "execution_count": 296,
   "metadata": {},
   "outputs": [
    {
     "data": {
      "text/plain": [
       "<a class=\"sister\" href=\"http://example.com/elsie\" id=\"link1\">Elsie</a>"
      ]
     },
     "execution_count": 296,
     "metadata": {},
     "output_type": "execute_result"
    }
   ],
   "source": [
    "soup.a"
   ]
  },
  {
   "cell_type": "code",
   "execution_count": 297,
   "metadata": {},
   "outputs": [
    {
     "data": {
      "text/plain": [
       "<b>The Dormouse's story</b>"
      ]
     },
     "execution_count": 297,
     "metadata": {},
     "output_type": "execute_result"
    }
   ],
   "source": [
    "soup.body.b"
   ]
  },
  {
   "cell_type": "code",
   "execution_count": 298,
   "metadata": {},
   "outputs": [
    {
     "data": {
      "text/plain": [
       "<b>The Dormouse's story</b>"
      ]
     },
     "execution_count": 298,
     "metadata": {},
     "output_type": "execute_result"
    }
   ],
   "source": [
    "soup.b"
   ]
  },
  {
   "cell_type": "code",
   "execution_count": 299,
   "metadata": {},
   "outputs": [
    {
     "data": {
      "text/plain": [
       "[<a class=\"sister\" href=\"http://example.com/elsie\" id=\"link1\">Elsie</a>,\n",
       " <a class=\"sister\" href=\"http://example.com/lacie\" id=\"link2\">Lacie</a>,\n",
       " <a class=\"sister\" href=\"http://example.com/tillie\" id=\"link3\">Tillie</a>]"
      ]
     },
     "execution_count": 299,
     "metadata": {},
     "output_type": "execute_result"
    }
   ],
   "source": [
    "soup.find_all('a')"
   ]
  },
  {
   "cell_type": "code",
   "execution_count": 300,
   "metadata": {},
   "outputs": [
    {
     "data": {
      "text/plain": [
       "[<b>The Dormouse's story</b>]"
      ]
     },
     "execution_count": 300,
     "metadata": {},
     "output_type": "execute_result"
    }
   ],
   "source": [
    "soup.find_all('b')"
   ]
  },
  {
   "cell_type": "code",
   "execution_count": 301,
   "metadata": {},
   "outputs": [
    {
     "data": {
      "text/plain": [
       "['\\n', <html><head><title>The Dormouse's story</title></head>\n",
       " <body>\n",
       " <p class=\"title\"><b>The Dormouse's story</b></p>\n",
       " <p class=\"story\">Once upon a time there were three little sisters; and their names were\n",
       " <a class=\"sister\" href=\"http://example.com/elsie\" id=\"link1\">Elsie</a>,\n",
       " <a class=\"sister\" href=\"http://example.com/lacie\" id=\"link2\">Lacie</a> and\n",
       " <a class=\"sister\" href=\"http://example.com/tillie\" id=\"link3\">Tillie</a>;\n",
       " and they lived at the bottom of a well.</p>\n",
       " <p class=\"story\">...</p>\n",
       " </body></html>]"
      ]
     },
     "execution_count": 301,
     "metadata": {},
     "output_type": "execute_result"
    }
   ],
   "source": [
    "soup.contents"
   ]
  },
  {
   "cell_type": "code",
   "execution_count": 302,
   "metadata": {},
   "outputs": [],
   "source": [
    "soup.b.content"
   ]
  },
  {
   "cell_type": "code",
   "execution_count": 303,
   "metadata": {},
   "outputs": [
    {
     "data": {
      "text/plain": [
       "[\"The Dormouse's story\"]"
      ]
     },
     "execution_count": 303,
     "metadata": {},
     "output_type": "execute_result"
    }
   ],
   "source": [
    "soup.b.contents"
   ]
  },
  {
   "cell_type": "code",
   "execution_count": 304,
   "metadata": {},
   "outputs": [
    {
     "data": {
      "text/plain": [
       "['\\n',\n",
       " <p class=\"title\"><b>The Dormouse's story</b></p>,\n",
       " '\\n',\n",
       " <p class=\"story\">Once upon a time there were three little sisters; and their names were\n",
       " <a class=\"sister\" href=\"http://example.com/elsie\" id=\"link1\">Elsie</a>,\n",
       " <a class=\"sister\" href=\"http://example.com/lacie\" id=\"link2\">Lacie</a> and\n",
       " <a class=\"sister\" href=\"http://example.com/tillie\" id=\"link3\">Tillie</a>;\n",
       " and they lived at the bottom of a well.</p>,\n",
       " '\\n',\n",
       " <p class=\"story\">...</p>,\n",
       " '\\n']"
      ]
     },
     "execution_count": 304,
     "metadata": {},
     "output_type": "execute_result"
    }
   ],
   "source": [
    "soup.body.contents"
   ]
  },
  {
   "cell_type": "code",
   "execution_count": 305,
   "metadata": {},
   "outputs": [
    {
     "data": {
      "text/plain": [
       "[<b>The Dormouse's story</b>]"
      ]
     },
     "execution_count": 305,
     "metadata": {},
     "output_type": "execute_result"
    }
   ],
   "source": [
    "soup.p.contents"
   ]
  },
  {
   "cell_type": "code",
   "execution_count": 309,
   "metadata": {},
   "outputs": [
    {
     "data": {
      "text/plain": [
       "<p class=\"story\">Once upon a time there were three little sisters; and their names were\n",
       "<a class=\"sister\" href=\"http://example.com/elsie\" id=\"link1\">Elsie</a>,\n",
       "<a class=\"sister\" href=\"http://example.com/lacie\" id=\"link2\">Lacie</a> and\n",
       "<a class=\"sister\" href=\"http://example.com/tillie\" id=\"link3\">Tillie</a>;\n",
       "and they lived at the bottom of a well.</p>"
      ]
     },
     "execution_count": 309,
     "metadata": {},
     "output_type": "execute_result"
    }
   ],
   "source": [
    "soup.body.contents[3]"
   ]
  },
  {
   "cell_type": "code",
   "execution_count": 313,
   "metadata": {},
   "outputs": [
    {
     "data": {
      "text/plain": [
       "\"The Dormouse's story\""
      ]
     },
     "execution_count": 313,
     "metadata": {},
     "output_type": "execute_result"
    }
   ],
   "source": [
    "soup.title.contents[0]"
   ]
  },
  {
   "cell_type": "code",
   "execution_count": 314,
   "metadata": {},
   "outputs": [
    {
     "data": {
      "text/plain": [
       "[\"The Dormouse's story\"]"
      ]
     },
     "execution_count": 314,
     "metadata": {},
     "output_type": "execute_result"
    }
   ],
   "source": [
    "soup.title.contents"
   ]
  },
  {
   "cell_type": "code",
   "execution_count": 315,
   "metadata": {},
   "outputs": [
    {
     "data": {
      "text/plain": [
       "2"
      ]
     },
     "execution_count": 315,
     "metadata": {},
     "output_type": "execute_result"
    }
   ],
   "source": [
    "len(soup.contents)"
   ]
  },
  {
   "cell_type": "code",
   "execution_count": 321,
   "metadata": {},
   "outputs": [
    {
     "name": "stdout",
     "output_type": "stream",
     "text": [
      "html\n"
     ]
    }
   ],
   "source": [
    "print(soup.contents[1].name)"
   ]
  },
  {
   "cell_type": "code",
   "execution_count": 322,
   "metadata": {},
   "outputs": [
    {
     "data": {
      "text/plain": [
       "3"
      ]
     },
     "execution_count": 322,
     "metadata": {},
     "output_type": "execute_result"
    }
   ],
   "source": [
    "len(soup.html.contents)"
   ]
  },
  {
   "cell_type": "code",
   "execution_count": 324,
   "metadata": {},
   "outputs": [
    {
     "name": "stdout",
     "output_type": "stream",
     "text": [
      "head\n",
      "None\n",
      "body\n"
     ]
    },
    {
     "data": {
      "text/plain": [
       "[None, None, None]"
      ]
     },
     "execution_count": 324,
     "metadata": {},
     "output_type": "execute_result"
    }
   ],
   "source": [
    "[print(x.name) for x in soup.html.contents]"
   ]
  },
  {
   "cell_type": "code",
   "execution_count": 328,
   "metadata": {},
   "outputs": [
    {
     "name": "stdout",
     "output_type": "stream",
     "text": [
      "[<head><title>The Dormouse's story</title></head>, '\\n', <body>\n",
      "<p class=\"title\"><b>The Dormouse's story</b></p>\n",
      "<p class=\"story\">Once upon a time there were three little sisters; and their names were\n",
      "<a class=\"sister\" href=\"http://example.com/elsie\" id=\"link1\">Elsie</a>,\n",
      "<a class=\"sister\" href=\"http://example.com/lacie\" id=\"link2\">Lacie</a> and\n",
      "<a class=\"sister\" href=\"http://example.com/tillie\" id=\"link3\">Tillie</a>;\n",
      "and they lived at the bottom of a well.</p>\n",
      "<p class=\"story\">...</p>\n",
      "</body>]\n"
     ]
    }
   ],
   "source": [
    "print(soup.html.contents)"
   ]
  },
  {
   "cell_type": "code",
   "execution_count": 329,
   "metadata": {},
   "outputs": [],
   "source": [
    "html_doc = \"\"\"\n",
    "<html><head><title>The Dormouse's story</title></head>\n",
    "<body>\n",
    "<p class=\"title\"><b>The Dormouse's story</b></p>\n",
    "\n",
    "<p class=\"story\">Once upon a time there were three little sisters; and their names were\n",
    "<a href=\"http://example.com/elsie\" class=\"sister\" id=\"link1\">Elsie</a>,\n",
    "<a href=\"http://example.com/lacie\" class=\"sister\" id=\"link2\">Lacie</a> and\n",
    "<a href=\"http://example.com/tillie\" class=\"sister\" id=\"link3\">Tillie</a>;\n",
    "and they lived at the bottom of a well.</p>\n",
    "\n",
    "<p class=\"story\">...</p>\n",
    "\"\"\"\n",
    "\n",
    "from bs4 import BeautifulSoup\n",
    "soup = BeautifulSoup(html_doc, 'html.parser')"
   ]
  },
  {
   "cell_type": "code",
   "execution_count": 330,
   "metadata": {},
   "outputs": [
    {
     "data": {
      "text/plain": [
       "3"
      ]
     },
     "execution_count": 330,
     "metadata": {},
     "output_type": "execute_result"
    }
   ],
   "source": [
    "len(soup.html.contents)"
   ]
  },
  {
   "cell_type": "code",
   "execution_count": 331,
   "metadata": {},
   "outputs": [
    {
     "data": {
      "text/plain": [
       "<list_iterator at 0x20efb9a33c8>"
      ]
     },
     "execution_count": 331,
     "metadata": {},
     "output_type": "execute_result"
    }
   ],
   "source": [
    "soup.html.children"
   ]
  },
  {
   "cell_type": "code",
   "execution_count": 332,
   "metadata": {},
   "outputs": [
    {
     "name": "stdout",
     "output_type": "stream",
     "text": [
      "head\n",
      "None\n",
      "body\n"
     ]
    }
   ],
   "source": [
    "for a in soup.html.children:\n",
    "    print(a.name)"
   ]
  },
  {
   "cell_type": "code",
   "execution_count": 334,
   "metadata": {},
   "outputs": [
    {
     "data": {
      "text/plain": [
       "[<title>The Dormouse's story</title>]"
      ]
     },
     "execution_count": 334,
     "metadata": {},
     "output_type": "execute_result"
    }
   ],
   "source": [
    "soup.head.contents"
   ]
  },
  {
   "cell_type": "code",
   "execution_count": 335,
   "metadata": {},
   "outputs": [
    {
     "data": {
      "text/plain": [
       "<title>The Dormouse's story</title>"
      ]
     },
     "execution_count": 335,
     "metadata": {},
     "output_type": "execute_result"
    }
   ],
   "source": [
    "soup.title"
   ]
  },
  {
   "cell_type": "code",
   "execution_count": 340,
   "metadata": {},
   "outputs": [
    {
     "name": "stdout",
     "output_type": "stream",
     "text": [
      "<head><title>The Dormouse's story</title></head>\n",
      "<title>The Dormouse's story</title>\n",
      "The Dormouse's story\n",
      "\n",
      "\n",
      "<body>\n",
      "<p class=\"title\"><b>The Dormouse's story</b></p>\n",
      "<p class=\"story\">Once upon a time there were three little sisters; and their names were\n",
      "<a class=\"sister\" href=\"http://example.com/elsie\" id=\"link1\">Elsie</a>,\n",
      "<a class=\"sister\" href=\"http://example.com/lacie\" id=\"link2\">Lacie</a> and\n",
      "<a class=\"sister\" href=\"http://example.com/tillie\" id=\"link3\">Tillie</a>;\n",
      "and they lived at the bottom of a well.</p>\n",
      "<p class=\"story\">...</p>\n",
      "</body>\n",
      "\n",
      "\n",
      "<p class=\"title\"><b>The Dormouse's story</b></p>\n",
      "<b>The Dormouse's story</b>\n",
      "The Dormouse's story\n",
      "\n",
      "\n",
      "<p class=\"story\">Once upon a time there were three little sisters; and their names were\n",
      "<a class=\"sister\" href=\"http://example.com/elsie\" id=\"link1\">Elsie</a>,\n",
      "<a class=\"sister\" href=\"http://example.com/lacie\" id=\"link2\">Lacie</a> and\n",
      "<a class=\"sister\" href=\"http://example.com/tillie\" id=\"link3\">Tillie</a>;\n",
      "and they lived at the bottom of a well.</p>\n",
      "Once upon a time there were three little sisters; and their names were\n",
      "\n",
      "<a class=\"sister\" href=\"http://example.com/elsie\" id=\"link1\">Elsie</a>\n",
      "Elsie\n",
      ",\n",
      "\n",
      "<a class=\"sister\" href=\"http://example.com/lacie\" id=\"link2\">Lacie</a>\n",
      "Lacie\n",
      " and\n",
      "\n",
      "<a class=\"sister\" href=\"http://example.com/tillie\" id=\"link3\">Tillie</a>\n",
      "Tillie\n",
      ";\n",
      "and they lived at the bottom of a well.\n",
      "\n",
      "\n",
      "<p class=\"story\">...</p>\n",
      "...\n",
      "\n",
      "\n"
     ]
    }
   ],
   "source": [
    "for child in soup.html.descendants:\n",
    "    print(child)"
   ]
  },
  {
   "cell_type": "code",
   "execution_count": 342,
   "metadata": {},
   "outputs": [
    {
     "data": {
      "text/plain": [
       "27"
      ]
     },
     "execution_count": 342,
     "metadata": {},
     "output_type": "execute_result"
    }
   ],
   "source": [
    "len(list(soup.descendants))"
   ]
  },
  {
   "cell_type": "code",
   "execution_count": 343,
   "metadata": {},
   "outputs": [
    {
     "data": {
      "text/plain": [
       "\"The Dormouse's story\""
      ]
     },
     "execution_count": 343,
     "metadata": {},
     "output_type": "execute_result"
    }
   ],
   "source": [
    "soup.head.string"
   ]
  },
  {
   "cell_type": "code",
   "execution_count": 344,
   "metadata": {},
   "outputs": [],
   "source": [
    "soup.html.string"
   ]
  },
  {
   "cell_type": "code",
   "execution_count": 345,
   "metadata": {},
   "outputs": [
    {
     "name": "stdout",
     "output_type": "stream",
     "text": [
      "None\n"
     ]
    }
   ],
   "source": [
    "print(soup.html.string)"
   ]
  },
  {
   "cell_type": "code",
   "execution_count": 347,
   "metadata": {},
   "outputs": [
    {
     "name": "stdout",
     "output_type": "stream",
     "text": [
      "\n",
      " The Dormouse's story \n",
      " \n",
      " The Dormouse's story \n",
      " Once upon a time there were three little sisters; and their names were\n",
      " Elsie ,\n",
      " Lacie  and\n",
      " Tillie ;\n",
      "and they lived at the bottom of a well. \n",
      " ... \n",
      "\n"
     ]
    }
   ],
   "source": [
    "print(*soup.strings)"
   ]
  },
  {
   "cell_type": "code",
   "execution_count": 349,
   "metadata": {},
   "outputs": [
    {
     "name": "stdout",
     "output_type": "stream",
     "text": [
      "\n",
      "\n",
      "The Dormouse's story\n",
      "\n",
      "\n",
      "\n",
      "\n",
      "The Dormouse's story\n",
      "\n",
      "\n",
      "Once upon a time there were three little sisters; and their names were\n",
      "\n",
      "Elsie\n",
      ",\n",
      "\n",
      "Lacie\n",
      " and\n",
      "\n",
      "Tillie\n",
      ";\n",
      "and they lived at the bottom of a well.\n",
      "\n",
      "\n",
      "...\n",
      "\n",
      "\n"
     ]
    }
   ],
   "source": [
    "for i in soup.strings:\n",
    "    print(i)"
   ]
  },
  {
   "cell_type": "code",
   "execution_count": 350,
   "metadata": {},
   "outputs": [
    {
     "name": "stdout",
     "output_type": "stream",
     "text": [
      "\"The Dormouse's story\"\n",
      "\"The Dormouse's story\"\n",
      "'Once upon a time there were three little sisters; and their names were'\n",
      "'Elsie'\n",
      "','\n",
      "'Lacie'\n",
      "'and'\n",
      "'Tillie'\n",
      "';\\nand they lived at the bottom of a well.'\n",
      "'...'\n"
     ]
    }
   ],
   "source": [
    "for i in soup.stripped_strings:\n",
    "    print(repr(i))"
   ]
  },
  {
   "cell_type": "code",
   "execution_count": 358,
   "metadata": {},
   "outputs": [
    {
     "data": {
      "text/plain": [
       "'html'"
      ]
     },
     "execution_count": 358,
     "metadata": {},
     "output_type": "execute_result"
    }
   ],
   "source": [
    "soup.head.parent.name"
   ]
  },
  {
   "cell_type": "code",
   "execution_count": 362,
   "metadata": {},
   "outputs": [
    {
     "name": "stdout",
     "output_type": "stream",
     "text": [
      "<html>\n",
      " <head>\n",
      "  <title>\n",
      "   The Dormouse's story\n",
      "  </title>\n",
      " </head>\n",
      " <body>\n",
      "  <p class=\"title\">\n",
      "   <b>\n",
      "    The Dormouse's story\n",
      "   </b>\n",
      "  </p>\n",
      "  <p class=\"story\">\n",
      "   Once upon a time there were three little sisters; and their names were\n",
      "   <a class=\"sister\" href=\"http://example.com/elsie\" id=\"link1\">\n",
      "    Elsie\n",
      "   </a>\n",
      "   ,\n",
      "   <a class=\"sister\" href=\"http://example.com/lacie\" id=\"link2\">\n",
      "    Lacie\n",
      "   </a>\n",
      "   and\n",
      "   <a class=\"sister\" href=\"http://example.com/tillie\" id=\"link3\">\n",
      "    Tillie\n",
      "   </a>\n",
      "   ;\n",
      "and they lived at the bottom of a well.\n",
      "  </p>\n",
      "  <p class=\"story\">\n",
      "   ...\n",
      "  </p>\n",
      " </body>\n",
      "</html>\n"
     ]
    }
   ],
   "source": [
    "print(soup.head.parent.prettify())"
   ]
  },
  {
   "cell_type": "code",
   "execution_count": 363,
   "metadata": {},
   "outputs": [
    {
     "data": {
      "text/plain": [
       "'[document]'"
      ]
     },
     "execution_count": 363,
     "metadata": {},
     "output_type": "execute_result"
    }
   ],
   "source": [
    "soup.html.parent.name"
   ]
  },
  {
   "cell_type": "code",
   "execution_count": 366,
   "metadata": {},
   "outputs": [
    {
     "name": "stdout",
     "output_type": "stream",
     "text": [
      "None\n"
     ]
    }
   ],
   "source": [
    "print(soup.parent)"
   ]
  },
  {
   "cell_type": "code",
   "execution_count": 377,
   "metadata": {},
   "outputs": [
    {
     "name": "stdout",
     "output_type": "stream",
     "text": [
      "p\n",
      "body\n",
      "html\n",
      "[document]\n"
     ]
    },
    {
     "data": {
      "text/plain": [
       "[None, None, None, None]"
      ]
     },
     "execution_count": 377,
     "metadata": {},
     "output_type": "execute_result"
    }
   ],
   "source": [
    "[print(x.name) if x is not None else print(x) for x in soup.b.parents]"
   ]
  },
  {
   "cell_type": "code",
   "execution_count": 406,
   "metadata": {},
   "outputs": [],
   "source": [
    "a = '<a> <b> 1 </b><c> 2 </c><b> 3 </b>'\n",
    "a = BeautifulSoup(a)"
   ]
  },
  {
   "cell_type": "code",
   "execution_count": 407,
   "metadata": {},
   "outputs": [
    {
     "data": {
      "text/plain": [
       "<b> 1 </b>"
      ]
     },
     "execution_count": 407,
     "metadata": {},
     "output_type": "execute_result"
    }
   ],
   "source": [
    "a.b"
   ]
  },
  {
   "cell_type": "code",
   "execution_count": 404,
   "metadata": {},
   "outputs": [
    {
     "name": "stdout",
     "output_type": "stream",
     "text": [
      "<c> 2 </c>\n",
      "<b> 3 </b>\n",
      "None\n"
     ]
    }
   ],
   "source": [
    "for i in range(3):\n",
    "    print(a.b.next_sibling)\n",
    "    a.b = a.b.next_sibling"
   ]
  },
  {
   "cell_type": "code",
   "execution_count": 408,
   "metadata": {},
   "outputs": [
    {
     "data": {
      "text/plain": [
       "<b> 3 </b>"
      ]
     },
     "execution_count": 408,
     "metadata": {},
     "output_type": "execute_result"
    }
   ],
   "source": [
    "a.b.next_sibling.next_sibling"
   ]
  },
  {
   "cell_type": "code",
   "execution_count": 416,
   "metadata": {},
   "outputs": [
    {
     "name": "stdout",
     "output_type": "stream",
     "text": [
      " \n"
     ]
    }
   ],
   "source": [
    "print(*a.b.previous_siblings)"
   ]
  },
  {
   "cell_type": "code",
   "execution_count": 421,
   "metadata": {},
   "outputs": [
    {
     "name": "stdout",
     "output_type": "stream",
     "text": [
      " and\n",
      " \n",
      "\n",
      "\n",
      "Lacie \n",
      "\n",
      "\n",
      ",\n",
      " \n",
      "\n",
      "\n",
      "Elsie \n",
      "\n",
      "\n",
      "Once upon a time there were three little sisters; and their names were\n",
      " \n",
      "\n",
      "\n"
     ]
    },
    {
     "data": {
      "text/plain": [
       "[None, None, None, None, None]"
      ]
     },
     "execution_count": 421,
     "metadata": {},
     "output_type": "execute_result"
    }
   ],
   "source": [
    "[print(i.string, '\\n\\n') for i in soup.find(id = 'link3').previous_siblings]"
   ]
  },
  {
   "cell_type": "code",
   "execution_count": 423,
   "metadata": {},
   "outputs": [
    {
     "data": {
      "text/plain": [
       "<a class=\"sister\" href=\"http://example.com/lacie\" id=\"link2\">Lacie</a>"
      ]
     },
     "execution_count": 423,
     "metadata": {},
     "output_type": "execute_result"
    }
   ],
   "source": [
    "k = soup.find(id = 'link2')\n",
    "k"
   ]
  },
  {
   "cell_type": "code",
   "execution_count": 424,
   "metadata": {},
   "outputs": [
    {
     "data": {
      "text/plain": [
       "'Lacie'"
      ]
     },
     "execution_count": 424,
     "metadata": {},
     "output_type": "execute_result"
    }
   ],
   "source": [
    "k.next_element"
   ]
  },
  {
   "cell_type": "code",
   "execution_count": 425,
   "metadata": {},
   "outputs": [
    {
     "data": {
      "text/plain": [
       "'Lacie'"
      ]
     },
     "execution_count": 425,
     "metadata": {},
     "output_type": "execute_result"
    }
   ],
   "source": [
    "k.next_element"
   ]
  },
  {
   "cell_type": "code",
   "execution_count": 426,
   "metadata": {},
   "outputs": [
    {
     "data": {
      "text/plain": [
       "' and\\n'"
      ]
     },
     "execution_count": 426,
     "metadata": {},
     "output_type": "execute_result"
    }
   ],
   "source": [
    "k.next_element.next_element"
   ]
  },
  {
   "cell_type": "code",
   "execution_count": 428,
   "metadata": {},
   "outputs": [],
   "source": [
    "k = k.next_element.next_element.next_element"
   ]
  },
  {
   "cell_type": "code",
   "execution_count": 429,
   "metadata": {},
   "outputs": [
    {
     "data": {
      "text/plain": [
       "<a class=\"sister\" href=\"http://example.com/tillie\" id=\"link3\">Tillie</a>"
      ]
     },
     "execution_count": 429,
     "metadata": {},
     "output_type": "execute_result"
    }
   ],
   "source": [
    "k"
   ]
  },
  {
   "cell_type": "code",
   "execution_count": 430,
   "metadata": {},
   "outputs": [
    {
     "data": {
      "text/plain": [
       "'Tillie'"
      ]
     },
     "execution_count": 430,
     "metadata": {},
     "output_type": "execute_result"
    }
   ],
   "source": [
    "k.next_element"
   ]
  },
  {
   "cell_type": "code",
   "execution_count": 431,
   "metadata": {},
   "outputs": [],
   "source": [
    "k = k.next_element.next_element"
   ]
  },
  {
   "cell_type": "code",
   "execution_count": 432,
   "metadata": {},
   "outputs": [
    {
     "data": {
      "text/plain": [
       "';\\nand they lived at the bottom of a well.'"
      ]
     },
     "execution_count": 432,
     "metadata": {},
     "output_type": "execute_result"
    }
   ],
   "source": [
    "k"
   ]
  },
  {
   "cell_type": "code",
   "execution_count": 433,
   "metadata": {},
   "outputs": [
    {
     "name": "stdout",
     "output_type": "stream",
     "text": [
      "\n",
      "<html><head><title>The Dormouse's story</title></head>\n",
      "<body>\n",
      "<p class=\"title\"><b>The Dormouse's story</b></p>\n",
      "\n",
      "<p class=\"story\">Once upon a time there were three little sisters; and their names were\n",
      "<a href=\"http://example.com/elsie\" class=\"sister\" id=\"link1\">Elsie</a>,\n",
      "<a href=\"http://example.com/lacie\" class=\"sister\" id=\"link2\">Lacie</a> and\n",
      "<a href=\"http://example.com/tillie\" class=\"sister\" id=\"link3\">Tillie</a>;\n",
      "and they lived at the bottom of a well.</p>\n",
      "\n",
      "<p class=\"story\">...</p>\n",
      "\n"
     ]
    }
   ],
   "source": [
    "print(html_doc)"
   ]
  },
  {
   "cell_type": "code",
   "execution_count": 1,
   "metadata": {},
   "outputs": [],
   "source": [
    "html_doc = \"\"\"\n",
    "<html><head><title>The Dormouse's story</title></head>\n",
    "<body>\n",
    "<p class=\"title\"><b>The Dormouse's story</b></p>\n",
    "\n",
    "<p class=\"story\">Once upon a time there were three little sisters; and their names were\n",
    "<a href=\"http://example.com/elsie\" class=\"sister\" id=\"link1\">Elsie</a>,\n",
    "<a href=\"http://example.com/lacie\" class=\"sister\" id=\"link2\">Lacie</a> and\n",
    "<a href=\"http://example.com/tillie\" class=\"sister\" id=\"link3\">Tillie</a>;\n",
    "and they lived at the bottom of a well.</p>\n",
    "\n",
    "<p class=\"story\">...</p>\n",
    "\"\"\"\n",
    "\n",
    "from bs4 import BeautifulSoup\n",
    "soup = BeautifulSoup(html_doc, 'html.parser')"
   ]
  },
  {
   "cell_type": "code",
   "execution_count": 4,
   "metadata": {
    "scrolled": true
   },
   "outputs": [
    {
     "name": "stdout",
     "output_type": "stream",
     "text": [
      "html\n",
      "head\n",
      "title\n",
      "body\n",
      "p\n",
      "b\n",
      "p\n",
      "a\n",
      "a\n",
      "a\n",
      "p\n"
     ]
    }
   ],
   "source": [
    "for tag in soup.find_all(['a', 'b', True]):\n",
    "    print(tag.name)"
   ]
  },
  {
   "cell_type": "code",
   "execution_count": 19,
   "metadata": {},
   "outputs": [
    {
     "data": {
      "text/plain": [
       "[<p class=\"title\"><b>The Dormouse's story</b></p>,\n",
       " <p class=\"story\">Once upon a time there were three little sisters; and their names were\n",
       " <a class=\"sister\" href=\"http://example.com/elsie\" id=\"link1\">Elsie</a>,\n",
       " <a class=\"sister\" href=\"http://example.com/lacie\" id=\"link2\">Lacie</a> and\n",
       " <a class=\"sister\" href=\"http://example.com/tillie\" id=\"link3\">Tillie</a>;\n",
       " and they lived at the bottom of a well.</p>,\n",
       " <p class=\"story\">...</p>]"
      ]
     },
     "execution_count": 19,
     "metadata": {},
     "output_type": "execute_result"
    }
   ],
   "source": [
    "def p(x):\n",
    "    return (x.has_attr('class') and not x.has_attr('id'))\n",
    "soup.find_all(p)"
   ]
  },
  {
   "cell_type": "code",
   "execution_count": 20,
   "metadata": {},
   "outputs": [
    {
     "data": {
      "text/plain": [
       "[<a class=\"sister\" href=\"http://example.com/elsie\" id=\"link1\">Elsie</a>,\n",
       " <a class=\"sister\" href=\"http://example.com/lacie\" id=\"link2\">Lacie</a>,\n",
       " <a class=\"sister\" href=\"http://example.com/tillie\" id=\"link3\">Tillie</a>]"
      ]
     },
     "execution_count": 20,
     "metadata": {},
     "output_type": "execute_result"
    }
   ],
   "source": [
    "soup.find_all('a')"
   ]
  },
  {
   "cell_type": "code",
   "execution_count": 22,
   "metadata": {},
   "outputs": [
    {
     "data": {
      "text/plain": [
       "[]"
      ]
     },
     "execution_count": 22,
     "metadata": {},
     "output_type": "execute_result"
    }
   ],
   "source": [
    "soup.find_all('href')"
   ]
  },
  {
   "cell_type": "code",
   "execution_count": 23,
   "metadata": {},
   "outputs": [
    {
     "data": {
      "text/plain": [
       "[<a class=\"sister\" href=\"http://example.com/elsie\" id=\"link1\">Elsie</a>,\n",
       " <a class=\"sister\" href=\"http://example.com/tillie\" id=\"link3\">Tillie</a>]"
      ]
     },
     "execution_count": 23,
     "metadata": {},
     "output_type": "execute_result"
    }
   ],
   "source": []
  },
  {
   "cell_type": "code",
   "execution_count": 31,
   "metadata": {},
   "outputs": [
    {
     "name": "stdout",
     "output_type": "stream",
     "text": [
      "body\n",
      "p\n",
      "a\n",
      "a\n",
      "a\n",
      "p\n"
     ]
    }
   ],
   "source": [
    "from bs4 import NavigableString\n",
    "def surrounded_by_strings(tag):\n",
    "    return (isinstance(tag.next_element, NavigableString)\n",
    "            and isinstance(tag.previous_element, NavigableString))\n",
    "\n",
    "for tag in soup.find_all(surrounded_by_strings):\n",
    "    print(tag.name)"
   ]
  },
  {
   "cell_type": "code",
   "execution_count": 34,
   "metadata": {
    "scrolled": true
   },
   "outputs": [
    {
     "data": {
      "text/plain": [
       "False"
      ]
     },
     "execution_count": 34,
     "metadata": {},
     "output_type": "execute_result"
    }
   ],
   "source": [
    "a = 5;\n",
    "isinstance(a, str)"
   ]
  },
  {
   "cell_type": "code",
   "execution_count": 43,
   "metadata": {},
   "outputs": [
    {
     "data": {
      "text/plain": [
       "['Once upon a time there were three little sisters; and their names were\\n']"
      ]
     },
     "execution_count": 43,
     "metadata": {},
     "output_type": "execute_result"
    }
   ],
   "source": [
    "soup.find_all(string = re.compile('^Once'))"
   ]
  },
  {
   "cell_type": "code",
   "execution_count": 60,
   "metadata": {},
   "outputs": [
    {
     "name": "stdout",
     "output_type": "stream",
     "text": [
      "form <form action=\"/search/?l=hi\" id=\"searchform\" method=\"get\" style=\"height:50px; padding-top:10px\">\n",
      "<input id=\"search\" name=\"q\" placeholder=\"search\" style=\"font-size:16px\" type=\"search\"/>\n",
      "</form>\n",
      "input <input id=\"search\" name=\"q\" placeholder=\"search\" style=\"font-size:16px\" type=\"search\"/>\n",
      "ul <ul class=\"side-nav\" id=\"navsidebar\">\n",
      "<li>\n",
      "<form action=\"/search/?l=hi\" id=\"searchform\" method=\"get\" style=\"height:50px; padding-top:10px\">\n",
      "<input id=\"search\" name=\"q\" placeholder=\"search\" style=\"font-size:16px\" type=\"search\"/>\n",
      "</form>\n",
      "</li>\n",
      "<li><a href=\"/\">Home</a></li>\n",
      "<li><a class=\"tooltipped\" data-delay=\"50\" data-position=\"bottom\" data-tooltip=\"sudo apt-get upgrade\" href=\"/+=1/\">+=1</a></li>\n",
      "<!--<li><a href=\"/store/python-hoodie/\">Store</a></li>-->\n",
      "<li><a href=\"/support/\">Support the Content</a></li>\n",
      "<li><a href=\"https://goo.gl/7zgAVQ\" target=\"blank\"><!--<i class=\"material-icons\">question_answer</i>-->Community</a></li>\n",
      "<li><a href=\"/login/\">Log in</a></li>\n",
      "<li><a href=\"/register/\">Sign up</a></li>\n",
      "</ul>\n",
      "form <form action=\"/search/?l=hi\" id=\"searchform\" method=\"get\" style=\"height:50px; padding-top:10px\">\n",
      "<input id=\"search\" name=\"q\" placeholder=\"search\" style=\"font-size:16px\" type=\"search\"/>\n",
      "</form>\n",
      "input <input id=\"search\" name=\"q\" placeholder=\"search\" style=\"font-size:16px\" type=\"search\"/>\n",
      "p <p class=\"jstest\" id=\"yesnojs\">y u bad tho?</p>\n"
     ]
    },
    {
     "data": {
      "text/plain": [
       "[None, None, None, None, None, None]"
      ]
     },
     "execution_count": 60,
     "metadata": {},
     "output_type": "execute_result"
    }
   ],
   "source": [
    "[print(x.name, x) for x in soup.find_all(id = True)]"
   ]
  },
  {
   "cell_type": "code",
   "execution_count": 62,
   "metadata": {},
   "outputs": [
    {
     "data": {
      "text/plain": [
       "[]"
      ]
     },
     "execution_count": 62,
     "metadata": {},
     "output_type": "execute_result"
    }
   ],
   "source": [
    "soup.find_all(attrs = {'data-foo': 'value'})"
   ]
  },
  {
   "cell_type": "code",
   "execution_count": 64,
   "metadata": {},
   "outputs": [
    {
     "data": {
      "text/plain": [
       "[<div data-foo=\"value\">foo!</div>]"
      ]
     },
     "execution_count": 64,
     "metadata": {},
     "output_type": "execute_result"
    }
   ],
   "source": [
    "data_soup = BeautifulSoup('<div data-foo=\"value\">foo!</div>')\n",
    "#data_soup.find_all(data-foo=\"value\")\n",
    "# SyntaxError: keyword can't be an expression\n",
    "data_soup.find_all(attrs={\"data-foo\": \"value\"})\n",
    "# [<div data-foo=\"value\">foo!</div>]"
   ]
  },
  {
   "cell_type": "code",
   "execution_count": 65,
   "metadata": {},
   "outputs": [
    {
     "data": {
      "text/plain": [
       "[]"
      ]
     },
     "execution_count": 65,
     "metadata": {},
     "output_type": "execute_result"
    }
   ],
   "source": [
    "soup.find_all('a', 'class')"
   ]
  },
  {
   "cell_type": "code",
   "execution_count": 68,
   "metadata": {},
   "outputs": [
    {
     "data": {
      "text/plain": [
       "[<a class=\"brand-logo\" href=\"/\"><img class=\"img-responsive\" src=\"/static/images/mainlogowhitethick.jpg\" style=\"width:50px; height;50px; margin-top:5px\"/></a>,\n",
       " <a class=\"button-collapse\" data-activates=\"navsidebar\" href=\"#\"><i class=\"mdi-navigation-menu\"></i></a>,\n",
       " <a class=\"tooltipped\" data-delay=\"50\" data-position=\"bottom\" data-tooltip=\"sudo apt-get upgrade\" href=\"/+=1/\">+=1</a>,\n",
       " <a class=\"tooltipped\" data-delay=\"50\" data-position=\"bottom\" data-tooltip=\"sudo apt-get upgrade\" href=\"/+=1/\">+=1</a>,\n",
       " <a class=\"grey-text text-lighten-3\" href=\"/support-donate/\">Support this Website!</a>,\n",
       " <a class=\"grey-text text-lighten-3\" href=\"/consulting/\">Hire me</a>,\n",
       " <a class=\"grey-text text-lighten-3\" href=\"https://www.facebook.com/pythonprogramming.net/\">Facebook</a>,\n",
       " <a class=\"grey-text text-lighten-3\" href=\"https://twitter.com/sentdex\">Twitter</a>,\n",
       " <a class=\"grey-text text-lighten-3\" href=\"https://plus.google.com/+sentdex\">Google+</a>,\n",
       " <a class=\"grey-text text-lighten-3\" href=\"/about/tos/\">Terms and Conditions</a>,\n",
       " <a class=\"grey-text text-lighten-3\" href=\"/about/privacy-policy/\">Privacy Policy</a>]"
      ]
     },
     "execution_count": 68,
     "metadata": {},
     "output_type": "execute_result"
    }
   ],
   "source": [
    "soup.find_all('a', class_ = True)"
   ]
  },
  {
   "cell_type": "code",
   "execution_count": 70,
   "metadata": {},
   "outputs": [
    {
     "data": {
      "text/plain": [
       "[<a class=\"brand-logo\" href=\"/\"><img class=\"img-responsive\" src=\"/static/images/mainlogowhitethick.jpg\" style=\"width:50px; height;50px; margin-top:5px\"/></a>,\n",
       " <a class=\"button-collapse\" data-activates=\"navsidebar\" href=\"#\"><i class=\"mdi-navigation-menu\"></i></a>,\n",
       " <a class=\"tooltipped\" data-delay=\"50\" data-position=\"bottom\" data-tooltip=\"sudo apt-get upgrade\" href=\"/+=1/\">+=1</a>,\n",
       " <a class=\"tooltipped\" data-delay=\"50\" data-position=\"bottom\" data-tooltip=\"sudo apt-get upgrade\" href=\"/+=1/\">+=1</a>,\n",
       " <a class=\"grey-text text-lighten-3\" href=\"/support-donate/\">Support this Website!</a>,\n",
       " <a class=\"grey-text text-lighten-3\" href=\"/consulting/\">Hire me</a>,\n",
       " <a class=\"grey-text text-lighten-3\" href=\"https://www.facebook.com/pythonprogramming.net/\">Facebook</a>,\n",
       " <a class=\"grey-text text-lighten-3\" href=\"https://twitter.com/sentdex\">Twitter</a>,\n",
       " <a class=\"grey-text text-lighten-3\" href=\"https://plus.google.com/+sentdex\">Google+</a>,\n",
       " <a class=\"grey-text text-lighten-3\" href=\"/about/tos/\">Terms and Conditions</a>,\n",
       " <a class=\"grey-text text-lighten-3\" href=\"/about/privacy-policy/\">Privacy Policy</a>]"
      ]
     },
     "execution_count": 70,
     "metadata": {},
     "output_type": "execute_result"
    }
   ],
   "source": [
    "soup.find_all('a', attrs = {'class': True})"
   ]
  },
  {
   "cell_type": "code",
   "execution_count": 71,
   "metadata": {},
   "outputs": [
    {
     "data": {
      "text/plain": [
       "[]"
      ]
     },
     "execution_count": 71,
     "metadata": {},
     "output_type": "execute_result"
    }
   ],
   "source": [
    "soup.find_all('hey')"
   ]
  },
  {
   "cell_type": "code",
   "execution_count": 72,
   "metadata": {},
   "outputs": [
    {
     "data": {
      "text/plain": [
       "[]"
      ]
     },
     "execution_count": 72,
     "metadata": {},
     "output_type": "execute_result"
    }
   ],
   "source": [
    "soup.find_all(string = 'hey')"
   ]
  },
  {
   "cell_type": "code",
   "execution_count": 78,
   "metadata": {},
   "outputs": [
    {
     "name": "stdout",
     "output_type": "stream",
     "text": [
      "1\n"
     ]
    }
   ],
   "source": [
    "print(len(soup.find_all(string = re.compile('than'))))"
   ]
  },
  {
   "cell_type": "code",
   "execution_count": 79,
   "metadata": {},
   "outputs": [
    {
     "name": "stdout",
     "output_type": "stream",
     "text": [
      "[]\n"
     ]
    }
   ],
   "source": [
    "print(soup.find_all(string = 'than'))"
   ]
  },
  {
   "cell_type": "code",
   "execution_count": 81,
   "metadata": {},
   "outputs": [
    {
     "data": {
      "text/plain": [
       "[]"
      ]
     },
     "execution_count": 81,
     "metadata": {},
     "output_type": "execute_result"
    }
   ],
   "source": [
    "soup.find_all(string = 'the')"
   ]
  },
  {
   "cell_type": "code",
   "execution_count": 82,
   "metadata": {},
   "outputs": [],
   "source": [
    "html_doc = \"\"\"\n",
    "<html><head><title>The Dormouse's story</title></head>\n",
    "<body>\n",
    "<p class=\"title\"><b>The Dormouse's story</b></p>\n",
    "\n",
    "<p class=\"story\">Once upon a time there were three little sisters; and their names were\n",
    "<a href=\"http://example.com/elsie\" class=\"sister\" id=\"link1\">Elsie</a>,\n",
    "<a href=\"http://example.com/lacie\" class=\"sister\" id=\"link2\">Lacie</a> and\n",
    "<a href=\"http://example.com/tillie\" class=\"sister\" id=\"link3\">Tillie</a>;\n",
    "and they lived at the bottom of a well.</p>\n",
    "\n",
    "<p class=\"story\">...</p>\n",
    "\"\"\"\n",
    "\n",
    "from bs4 import BeautifulSoup\n",
    "soup = BeautifulSoup(html_doc, 'html.parser')"
   ]
  },
  {
   "cell_type": "code",
   "execution_count": 86,
   "metadata": {},
   "outputs": [
    {
     "data": {
      "text/plain": [
       "[]"
      ]
     },
     "execution_count": 86,
     "metadata": {},
     "output_type": "execute_result"
    }
   ],
   "source": [
    "soup.find_all(string = 'Once')"
   ]
  },
  {
   "cell_type": "code",
   "execution_count": 87,
   "metadata": {},
   "outputs": [
    {
     "data": {
      "text/plain": [
       "[\"The Dormouse's story\",\n",
       " \"The Dormouse's story\",\n",
       " 'Elsie',\n",
       " 'Lacie',\n",
       " 'Tillie',\n",
       " '...']"
      ]
     },
     "execution_count": 87,
     "metadata": {},
     "output_type": "execute_result"
    }
   ],
   "source": [
    "def a(s):\n",
    "    return s == s.parent.string\n",
    "soup.find_all(string = a)"
   ]
  },
  {
   "cell_type": "code",
   "execution_count": 88,
   "metadata": {},
   "outputs": [],
   "source": [
    "soup.string"
   ]
  },
  {
   "cell_type": "code",
   "execution_count": 89,
   "metadata": {},
   "outputs": [
    {
     "name": "stdout",
     "output_type": "stream",
     "text": [
      "None\n"
     ]
    }
   ],
   "source": [
    "print(soup.string)"
   ]
  },
  {
   "cell_type": "code",
   "execution_count": 90,
   "metadata": {},
   "outputs": [],
   "source": [
    "soup.p.strign"
   ]
  },
  {
   "cell_type": "code",
   "execution_count": 91,
   "metadata": {},
   "outputs": [
    {
     "data": {
      "text/plain": [
       "\"The Dormouse's story\""
      ]
     },
     "execution_count": 91,
     "metadata": {},
     "output_type": "execute_result"
    }
   ],
   "source": [
    "soup.p.string"
   ]
  },
  {
   "cell_type": "code",
   "execution_count": 92,
   "metadata": {},
   "outputs": [
    {
     "data": {
      "text/plain": [
       "True"
      ]
     },
     "execution_count": 92,
     "metadata": {},
     "output_type": "execute_result"
    }
   ],
   "source": [
    "soup.p.string == soup.p.text"
   ]
  },
  {
   "cell_type": "code",
   "execution_count": 95,
   "metadata": {},
   "outputs": [
    {
     "data": {
      "text/plain": [
       "True"
      ]
     },
     "execution_count": 95,
     "metadata": {},
     "output_type": "execute_result"
    }
   ],
   "source": [
    "soup.a.string == soup.a.text"
   ]
  },
  {
   "cell_type": "code",
   "execution_count": 96,
   "metadata": {},
   "outputs": [],
   "source": [
    "soup.a.strign"
   ]
  },
  {
   "cell_type": "code",
   "execution_count": 97,
   "metadata": {},
   "outputs": [
    {
     "data": {
      "text/plain": [
       "'Elsie'"
      ]
     },
     "execution_count": 97,
     "metadata": {},
     "output_type": "execute_result"
    }
   ],
   "source": [
    "soup.a.string"
   ]
  },
  {
   "cell_type": "code",
   "execution_count": 98,
   "metadata": {},
   "outputs": [
    {
     "data": {
      "text/plain": [
       "'Elsie'"
      ]
     },
     "execution_count": 98,
     "metadata": {},
     "output_type": "execute_result"
    }
   ],
   "source": [
    "soup.a.text"
   ]
  },
  {
   "cell_type": "code",
   "execution_count": 101,
   "metadata": {},
   "outputs": [
    {
     "name": "stdout",
     "output_type": "stream",
     "text": [
      "<html><head><title>The Dormouse's story</title></head>\n",
      "<body>\n",
      "<p class=\"title\"><b>The Dormouse's story</b></p>\n",
      "<p class=\"story\">Once upon a time there were three little sisters; and their names were\n",
      "<a class=\"sister\" href=\"http://example.com/elsie\" id=\"link1\">Elsie</a>,\n",
      "<a class=\"sister\" href=\"http://example.com/lacie\" id=\"link2\">Lacie</a> and\n",
      "<a class=\"sister\" href=\"http://example.com/tillie\" id=\"link3\">Tillie</a>;\n",
      "and they lived at the bottom of a well.</p>\n",
      "<p class=\"story\">...</p>\n",
      "</body></html>\n",
      "\n",
      "\n",
      "<head><title>The Dormouse's story</title></head>\n",
      "\n",
      "\n",
      "<title>The Dormouse's story</title>\n",
      "\n",
      "\n",
      "<body>\n",
      "<p class=\"title\"><b>The Dormouse's story</b></p>\n",
      "<p class=\"story\">Once upon a time there were three little sisters; and their names were\n",
      "<a class=\"sister\" href=\"http://example.com/elsie\" id=\"link1\">Elsie</a>,\n",
      "<a class=\"sister\" href=\"http://example.com/lacie\" id=\"link2\">Lacie</a> and\n",
      "<a class=\"sister\" href=\"http://example.com/tillie\" id=\"link3\">Tillie</a>;\n",
      "and they lived at the bottom of a well.</p>\n",
      "<p class=\"story\">...</p>\n",
      "</body>\n",
      "\n",
      "\n",
      "<p class=\"title\"><b>The Dormouse's story</b></p>\n",
      "\n",
      "\n",
      "<b>The Dormouse's story</b>\n",
      "\n",
      "\n",
      "<p class=\"story\">Once upon a time there were three little sisters; and their names were\n",
      "<a class=\"sister\" href=\"http://example.com/elsie\" id=\"link1\">Elsie</a>,\n",
      "<a class=\"sister\" href=\"http://example.com/lacie\" id=\"link2\">Lacie</a> and\n",
      "<a class=\"sister\" href=\"http://example.com/tillie\" id=\"link3\">Tillie</a>;\n",
      "and they lived at the bottom of a well.</p>\n",
      "\n",
      "\n",
      "<a class=\"sister\" href=\"http://example.com/elsie\" id=\"link1\">Elsie</a>\n",
      "\n",
      "\n",
      "<a class=\"sister\" href=\"http://example.com/lacie\" id=\"link2\">Lacie</a>\n",
      "\n",
      "\n",
      "<a class=\"sister\" href=\"http://example.com/tillie\" id=\"link3\">Tillie</a>\n",
      "\n",
      "\n",
      "<p class=\"story\">...</p>\n",
      "\n",
      "\n"
     ]
    },
    {
     "data": {
      "text/plain": [
       "[None, None, None, None, None, None, None, None, None, None, None]"
      ]
     },
     "execution_count": 101,
     "metadata": {},
     "output_type": "execute_result"
    }
   ],
   "source": [
    "[print(x, end = '\\n\\n\\n') for x in soup.find_all()]"
   ]
  },
  {
   "cell_type": "code",
   "execution_count": 102,
   "metadata": {},
   "outputs": [
    {
     "data": {
      "text/plain": [
       "[<b>The Dormouse's story</b>]"
      ]
     },
     "execution_count": 102,
     "metadata": {},
     "output_type": "execute_result"
    }
   ],
   "source": [
    "soup.p.find_all()"
   ]
  },
  {
   "cell_type": "code",
   "execution_count": 105,
   "metadata": {},
   "outputs": [
    {
     "data": {
      "text/plain": [
       "[<a class=\"sister\" href=\"http://example.com/elsie\" id=\"link1\">Elsie</a>,\n",
       " <a class=\"sister\" href=\"http://example.com/lacie\" id=\"link2\">Lacie</a>,\n",
       " <a class=\"sister\" href=\"http://example.com/tillie\" id=\"link3\">Tillie</a>]"
      ]
     },
     "execution_count": 105,
     "metadata": {},
     "output_type": "execute_result"
    }
   ],
   "source": [
    "soup.find_all('p')[1].find_all()"
   ]
  },
  {
   "cell_type": "code",
   "execution_count": 106,
   "metadata": {},
   "outputs": [
    {
     "data": {
      "text/plain": [
       "[<title>The Dormouse's story</title>]"
      ]
     },
     "execution_count": 106,
     "metadata": {},
     "output_type": "execute_result"
    }
   ],
   "source": [
    "soup.head.find_all()"
   ]
  },
  {
   "cell_type": "code",
   "execution_count": 107,
   "metadata": {},
   "outputs": [
    {
     "data": {
      "text/plain": [
       "[<title>The Dormouse's story</title>]"
      ]
     },
     "execution_count": 107,
     "metadata": {},
     "output_type": "execute_result"
    }
   ],
   "source": [
    "soup.find_all('title')"
   ]
  },
  {
   "cell_type": "code",
   "execution_count": 108,
   "metadata": {},
   "outputs": [
    {
     "data": {
      "text/plain": [
       "[]"
      ]
     },
     "execution_count": 108,
     "metadata": {},
     "output_type": "execute_result"
    }
   ],
   "source": [
    "soup.find_all('title', recursive = False)"
   ]
  },
  {
   "cell_type": "code",
   "execution_count": 109,
   "metadata": {},
   "outputs": [
    {
     "data": {
      "text/plain": [
       "<p class=\"title\"><b>The Dormouse's story</b></p>"
      ]
     },
     "execution_count": 109,
     "metadata": {},
     "output_type": "execute_result"
    }
   ],
   "source": [
    "soup.find('p')"
   ]
  },
  {
   "cell_type": "code",
   "execution_count": 110,
   "metadata": {},
   "outputs": [
    {
     "data": {
      "text/plain": [
       "<a class=\"sister\" href=\"http://example.com/elsie\" id=\"link1\">Elsie</a>"
      ]
     },
     "execution_count": 110,
     "metadata": {},
     "output_type": "execute_result"
    }
   ],
   "source": [
    "soup.find('a')"
   ]
  },
  {
   "cell_type": "code",
   "execution_count": 112,
   "metadata": {},
   "outputs": [
    {
     "data": {
      "text/plain": [
       "[<a class=\"sister\" href=\"http://example.com/elsie\" id=\"link1\">Elsie</a>,\n",
       " <a class=\"sister\" href=\"http://example.com/lacie\" id=\"link2\">Lacie</a>]"
      ]
     },
     "execution_count": 112,
     "metadata": {},
     "output_type": "execute_result"
    }
   ],
   "source": [
    "soup.find_all('p')[1].find_all(limit = 2)"
   ]
  },
  {
   "cell_type": "code",
   "execution_count": 113,
   "metadata": {},
   "outputs": [
    {
     "data": {
      "text/plain": [
       "<a class=\"sister\" href=\"http://example.com/elsie\" id=\"link1\">Elsie</a>"
      ]
     },
     "execution_count": 113,
     "metadata": {},
     "output_type": "execute_result"
    }
   ],
   "source": [
    "soup.a"
   ]
  },
  {
   "cell_type": "code",
   "execution_count": 114,
   "metadata": {},
   "outputs": [
    {
     "data": {
      "text/plain": [
       "[<a class=\"sister\" href=\"http://example.com/elsie\" id=\"link1\">Elsie</a>,\n",
       " <a class=\"sister\" href=\"http://example.com/lacie\" id=\"link2\">Lacie</a>,\n",
       " <a class=\"sister\" href=\"http://example.com/tillie\" id=\"link3\">Tillie</a>]"
      ]
     },
     "execution_count": 114,
     "metadata": {},
     "output_type": "execute_result"
    }
   ],
   "source": [
    "soup('a')"
   ]
  },
  {
   "cell_type": "code",
   "execution_count": 115,
   "metadata": {},
   "outputs": [],
   "source": [
    "import requests\n",
    "url = 'https://www.goodreads.com/quotes/tag/inspirational'"
   ]
  },
  {
   "cell_type": "code",
   "execution_count": 116,
   "metadata": {},
   "outputs": [],
   "source": [
    "a = requests.get(url)"
   ]
  },
  {
   "cell_type": "code",
   "execution_count": 117,
   "metadata": {},
   "outputs": [],
   "source": [
    "k = BeautifulSoup(a.content)"
   ]
  },
  {
   "cell_type": "code",
   "execution_count": 124,
   "metadata": {},
   "outputs": [
    {
     "name": "stdout",
     "output_type": "stream",
     "text": [
      "<div class=\"quoteText\">\n",
      "      “Be yourself; everyone else is already taken.”\n",
      "  <br/>  ―\n",
      "  <span class=\"authorOrTitle\">\n",
      "    Oscar Wilde\n",
      "  </span>\n",
      "</div>\n",
      "<div class=\"quoteText\">\n",
      "      “You've gotta dance like there's nobody watching,<br/>Love like you'll never be hurt,<br/>Sing like there's nobody listening,<br/>And live like it's heaven on earth.”\n",
      "  <br/>  ―\n",
      "  <span class=\"authorOrTitle\">\n",
      "    William W. Purkey\n",
      "  </span>\n",
      "</div>\n",
      "<div class=\"quoteText\">\n",
      "      “Be the change that you wish to see in the world.”\n",
      "  <br/>  ―\n",
      "  <span class=\"authorOrTitle\">\n",
      "    Mahatma Gandhi\n",
      "  </span>\n",
      "</div>\n",
      "<div class=\"quoteText\">\n",
      "      “No one can make you feel inferior without your consent.”\n",
      "  <br/>  ―\n",
      "  <span class=\"authorOrTitle\">\n",
      "    Eleanor Roosevelt,\n",
      "  </span>\n",
      "<span id=\"quote_book_link_5301304\">\n",
      "<a class=\"authorOrTitle\" href=\"/work/quotes/5368741\">This is My Story</a>\n",
      "</span>\n",
      "<script charset=\"utf-8\" type=\"text/javascript\">\n",
      "//<![CDATA[  \n",
      "\n",
      "  function submitShelfLink(unique_id, book_id, shelf_id, shelf_name, submit_form, exclusive) {\n",
      "    var checkbox_id = 'shelf_name_' + unique_id + '_' + shelf_id;\n",
      "    var element = document.getElementById(checkbox_id)\n",
      "\n",
      "    var checked = element.checked\n",
      "    if (checked && exclusive) {\n",
      "      // can't uncheck a radio by clicking it!\n",
      "      return\n",
      "    }\n",
      "    if(document.getElementById(\"savingMessage\")){\n",
      "      Element.show('savingMessage')\n",
      "    }\n",
      "    var element_id = 'shelfInDropdownName_' + unique_id + '_' + shelf_id;\n",
      "    Element.update(element_id, \"saving...\");\n",
      "    if (submit_form) {\n",
      "      Element.hide('shelfDropdown_' + unique_id)\n",
      "      var form = document.getElementById('addBookForm' + book_id)\n",
      "      if (form) {\n",
      "        form.shelf.value = shelf_name\n",
      "        form.onsubmit()\n",
      "      }\n",
      "    }\n",
      "    else {\n",
      "      var action = checked ? 'remove' : ''\n",
      "      element.checked = !element.checked\n",
      "      new Ajax.Request('/shelf/add_to_shelf', {asynchronous:true, evalScripts:true, onSuccess:function(request){shelfSubmitted(request, book_id, checkbox_id, element_id, unique_id, shelf_name)}, parameters:'book_id=' + book_id + '&name=' + shelf_name + '&a=' + action + '&authenticity_token=' + encodeURIComponent('O5ZWBCcCNmDm+qR+GTWMhjBF9lbiKHeDNvekPwhHAmiNHbAuuBbcq1y0Fl30bIYii53vssQYhxAp9emPwHrPwg==')})\n",
      "    }\n",
      "  }\n",
      "\n",
      "  function shelfSubmitted(request, book_id, checkbox_id, element_id, unique_id, shelf_name) {\n",
      "    Element.update('shelfListfalse_' + book_id, request.responseText)\n",
      "    afterShelfSave(checkbox_id, element_id, unique_id, shelf_name.escapeHTML())\n",
      "  }\n",
      "\n",
      "  function refreshGroupBox(group_id, book_id) {\n",
      "    new Ajax.Updater('addGroupBooks' + book_id + '', '/group/add_book_box', {asynchronous:true, evalScripts:true, onSuccess:function(request){refreshGroupBoxComplete(request, book_id);}, parameters:'id=' + group_id + '&book_id=' + book_id + '&refresh=true' + '&authenticity_token=' + encodeURIComponent('DNywQtnTsv+mifSgECiJB+AJgV+7YhiTozJajqTGZ1W6V1ZoRsdYNBzHRoP9cYOjW9GYu51S6AC8MBc+bPuq/w==')})\n",
      "  }\n",
      "//]]>\n",
      "</script>\n",
      "<script>\n",
      "//<![CDATA[\n",
      "      var newTip = new Tip($('quote_book_link_5301304'), \"\\n\\n  <h2><a class=\\\"readable bookTitle\\\" href=\\\"https://www.goodreads.com/book/show/5301304-this-is-my-story?from_choice=false&amp;from_home_module=false\\\">This is My Story<\\/a><\\/h2>\\n\\n      <div>\\n        by <a class=\\\"authorName\\\" href=\\\"/author/show/44566.Eleanor_Roosevelt\\\">Eleanor Roosevelt<\\/a>\\n      <\\/div>\\n\\n          <div class=\\\"smallText uitext darkGreyText\\\">\\n            <span class=\\\"minirating\\\"><span class=\\\"stars staticStars\\\"><span size=\\\"12x12\\\" class=\\\"staticStar p10\\\"><\\/span><span size=\\\"12x12\\\" class=\\\"staticStar p10\\\"><\\/span><span size=\\\"12x12\\\" class=\\\"staticStar p10\\\"><\\/span><span size=\\\"12x12\\\" class=\\\"staticStar p6\\\"><\\/span><span size=\\\"12x12\\\" class=\\\"staticStar p0\\\"><\\/span><\\/span> 3.94 avg rating &mdash; 99 ratings<\\/span>            &mdash; published 1939\\n          <\\/div>\\n\\n\\n      <div class=\\'wtrButtonContainer wtrSignedOut\\' id=\\'1_book_5301304\\'>\\n<div class=\\'wtrUp wtrLeft\\'>\\n<form action=\\\"/shelf/add_to_shelf\\\" accept-charset=\\\"UTF-8\\\" method=\\\"post\\\"><input name=\\\"utf8\\\" type=\\\"hidden\\\" value=\\\"&#x2713;\\\" /><input type=\\\"hidden\\\" name=\\\"authenticity_token\\\" value=\\\"62ci0D41F6GtX3P9hGS+5iHDnyYiefKzZimxvYhNgR1d7MT6oSH9ahcRwd5pPbRCmhuGwgRJAiB5K/wNQHBMtw==\\\" />\\n<input type=\\\"hidden\\\" name=\\\"book_id\\\" id=\\\"book_id\\\" value=\\\"5301304\\\" />\\n<input type=\\\"hidden\\\" name=\\\"name\\\" id=\\\"name\\\" value=\\\"to-read\\\" />\\n<input type=\\\"hidden\\\" name=\\\"unique_id\\\" id=\\\"unique_id\\\" value=\\\"1_book_5301304\\\" />\\n<input type=\\\"hidden\\\" name=\\\"wtr_new\\\" id=\\\"wtr_new\\\" value=\\\"true\\\" />\\n<input type=\\\"hidden\\\" name=\\\"from_choice\\\" id=\\\"from_choice\\\" value=\\\"false\\\" />\\n<input type=\\\"hidden\\\" name=\\\"from_home_module\\\" id=\\\"from_home_module\\\" value=\\\"false\\\" />\\n<input type=\\\"hidden\\\" name=\\\"ref\\\" id=\\\"ref\\\" value=\\\"\\\" class=\\\"wtrLeftUpRef\\\" />\\n<input type=\\\"hidden\\\" name=\\\"existing_review\\\" id=\\\"existing_review\\\" value=\\\"false\\\" class=\\\"wtrExisting\\\" />\\n<input type=\\\"hidden\\\" name=\\\"page_referrer\\\" id=\\\"page_referrer\\\" value=\\\"https://search.yahoo.com/\\\" />\\n<input type=\\\"hidden\\\" name=\\\"page_url\\\" id=\\\"page_url\\\" value=\\\"/quotes/tag/inspirational\\\" />\\n<button class=\\'wtrToRead\\' type=\\'submit\\'>\\n<span class=\\'progressTrigger\\'>Want to Read<\\/span>\\n<span class=\\'progressIndicator\\'>saving…<\\/span>\\n<\\/button>\\n<\\/form>\\n\\n<\\/div>\\n\\n<div class=\\'wtrRight wtrUp\\'>\\n<form class=\\\"hiddenShelfForm\\\" action=\\\"/shelf/add_to_shelf\\\" accept-charset=\\\"UTF-8\\\" method=\\\"post\\\"><input name=\\\"utf8\\\" type=\\\"hidden\\\" value=\\\"&#x2713;\\\" /><input type=\\\"hidden\\\" name=\\\"authenticity_token\\\" value=\\\"p1COJE1wY+5Ag7UVES70yIxe4WJ5kLdQYvV/jCGZEy4R22gO0mSJJfrNBzb8d/5sN4b4hl+gR8N99zI86aTehA==\\\" />\\n<input type=\\\"hidden\\\" name=\\\"unique_id\\\" id=\\\"unique_id\\\" value=\\\"1_book_5301304\\\" />\\n<input type=\\\"hidden\\\" name=\\\"book_id\\\" id=\\\"book_id\\\" value=\\\"5301304\\\" />\\n<input type=\\\"hidden\\\" name=\\\"a\\\" id=\\\"a\\\" />\\n<input type=\\\"hidden\\\" name=\\\"name\\\" id=\\\"name\\\" />\\n<input type=\\\"hidden\\\" name=\\\"from_choice\\\" id=\\\"from_choice\\\" value=\\\"false\\\" />\\n<input type=\\\"hidden\\\" name=\\\"from_home_module\\\" id=\\\"from_home_module\\\" value=\\\"false\\\" />\\n<input type=\\\"hidden\\\" name=\\\"page_referrer\\\" id=\\\"page_referrer\\\" value=\\\"https://search.yahoo.com/\\\" />\\n<input type=\\\"hidden\\\" name=\\\"page_url\\\" id=\\\"page_url\\\" value=\\\"/quotes/tag/inspirational\\\" />\\n<\\/form>\\n\\n<button class=\\'wtrShelfButton\\'><\\/button>\\n<div class=\\'wtrShelfMenu\\'>\\n<ul class=\\'wtrExclusiveShelves\\'>\\n<li><button class=\\'wtrExclusiveShelf\\' name=\\'name\\' type=\\'submit\\' value=\\'to-read\\'>\\n<span class=\\'progressTrigger\\'>Want to Read<\\/span>\\n<img alt=\\\"saving…\\\" class=\\\"progressIndicator\\\" src=\\\"https://s.gr-assets.com/assets/loading-trans-ced157046184c3bc7c180ffbfc6825a4.gif\\\" />\\n<\\/button>\\n<\\/li>\\n<li><button class=\\'wtrExclusiveShelf\\' name=\\'name\\' type=\\'submit\\' value=\\'currently-reading\\'>\\n<span class=\\'progressTrigger\\'>Currently Reading<\\/span>\\n<img alt=\\\"saving…\\\" class=\\\"progressIndicator\\\" src=\\\"https://s.gr-assets.com/assets/loading-trans-ced157046184c3bc7c180ffbfc6825a4.gif\\\" />\\n<\\/button>\\n<\\/li>\\n<li><button class=\\'wtrExclusiveShelf\\' name=\\'name\\' type=\\'submit\\' value=\\'read\\'>\\n<span class=\\'progressTrigger\\'>Read<\\/span>\\n<img alt=\\\"saving…\\\" class=\\\"progressIndicator\\\" src=\\\"https://s.gr-assets.com/assets/loading-trans-ced157046184c3bc7c180ffbfc6825a4.gif\\\" />\\n<\\/button>\\n<\\/li>\\n<\\/ul>\\n<\\/div>\\n<\\/div>\\n\\n<div class=\\'ratingStars wtrRating\\'>\\n<div class=\\'starsErrorTooltip hidden\\'>\\nError rating book. Refresh and try again.\\n<\\/div>\\n<div class=\\'myRating uitext greyText\\'>Rate this book<\\/div>\\n<div class=\\'clearRating uitext\\'>Clear rating<\\/div>\\n<div class=\\\"stars\\\" data-resource-id=\\\"5301304\\\" data-user-id=\\\"0\\\" data-submit-url=\\\"/review/rate/5301304?page_referrer=https%3A%2F%2Fsearch.yahoo.com%2F&page_url=%2Fquotes%2Ftag%2Finspirational&rate_books_page=false&stars_click=false&wtr_button_id=1_book_5301304\\\" data-rating=\\\"0\\\"><a class=\\\"star off\\\" title=\\\"did not like it\\\" href=\\\"#\\\" ref=\\\"\\\">1 of 5 stars<\\/a><a class=\\\"star off\\\" title=\\\"it was ok\\\" href=\\\"#\\\" ref=\\\"\\\">2 of 5 stars<\\/a><a class=\\\"star off\\\" title=\\\"liked it\\\" href=\\\"#\\\" ref=\\\"\\\">3 of 5 stars<\\/a><a class=\\\"star off\\\" title=\\\"really liked it\\\" href=\\\"#\\\" ref=\\\"\\\">4 of 5 stars<\\/a><a class=\\\"star off\\\" title=\\\"it was amazing\\\" href=\\\"#\\\" ref=\\\"\\\">5 of 5 stars<\\/a><\\/div>\\n<\\/div>\\n\\n<\\/div>\\n\\n\\n\\n\\n\", { style: 'addbook', stem: 'leftMiddle', hook: { tip: 'leftMiddle', target: 'rightMiddle' }, offset: { x: 5, y: 0 }, hideOn: false, width: 400, hideAfter: 0.05, delay: 0.35 });\n",
      "      $('quote_book_link_5301304').observe('prototip:shown', function() {\n",
      "        if (this.up('#box')) {\n",
      "          $$('div.prototip').each(function(i){i.setStyle({zIndex: $('box').getStyle('z-index')})});\n",
      "        } else {\n",
      "          $$('div.prototip').each(function(i){i.setStyle({zIndex: 6000})});\n",
      "        }\n",
      "      });\n",
      "\n",
      "      newTip['wrapper'].addClassName('prototipAllowOverflow');\n",
      "\n",
      "        $('quote_book_link_5301304').observe('prototip:shown', function () {\n",
      "          $$('div.prototip').each(function (e) {\n",
      "            if ($('quote_book_link_5301304').hasClassName('ignored')) {\n",
      "              e.setStyle({'display': 'none'});\n",
      "              return;\n",
      "            }\n",
      "            e.setStyle({'overflow': 'visible'});\n",
      "          });\n",
      "        });\n",
      "      $('quote_book_link_5301304').observe('prototip:hidden', function () {\n",
      "        $$('span.elementTwo').each(function (e) {\n",
      "          if (e.getStyle('display') !== 'none') {\n",
      "            var lessLink = e.next();\n",
      "            swapContent(lessLink);\n",
      "          }\n",
      "        });\n",
      "      });\n",
      "\n",
      "//]]>\n",
      "</script>\n",
      "</div>\n",
      "<div class=\"quoteText\">\n",
      "      “Live as if you were to die tomorrow. Learn as if you were to live forever.”\n",
      "  <br/>  ―\n",
      "  <span class=\"authorOrTitle\">\n",
      "    Mahatma Gandhi\n",
      "  </span>\n",
      "</div>\n",
      "<div class=\"quoteText\">\n",
      "      “Darkness cannot drive out darkness: only light can do that. Hate cannot drive out hate: only love can do that.”\n",
      "  <br/>  ―\n",
      "  <span class=\"authorOrTitle\">\n",
      "    Martin Luther King Jr.,\n",
      "  </span>\n",
      "<span id=\"quote_book_link_53360\">\n",
      "<a class=\"authorOrTitle\" href=\"/work/quotes/52037\">A Testament of Hope: The Essential Writings and Speeches</a>\n",
      "</span>\n",
      "<script>\n",
      "//<![CDATA[\n",
      "      var newTip = new Tip($('quote_book_link_53360'), \"\\n\\n  <h2><a class=\\\"readable bookTitle\\\" href=\\\"https://www.goodreads.com/book/show/53360.A_Testament_of_Hope?from_choice=false&amp;from_home_module=false\\\">A Testament of Hope: The Essential Writings and Speeches<\\/a><\\/h2>\\n\\n      <div>\\n        by <a class=\\\"authorName\\\" href=\\\"/author/show/23924.Martin_Luther_King_Jr_\\\">Martin Luther King Jr.<\\/a>\\n      <\\/div>\\n\\n          <div class=\\\"smallText uitext darkGreyText\\\">\\n            <span class=\\\"minirating\\\"><span class=\\\"stars staticStars\\\"><span size=\\\"12x12\\\" class=\\\"staticStar p10\\\"><\\/span><span size=\\\"12x12\\\" class=\\\"staticStar p10\\\"><\\/span><span size=\\\"12x12\\\" class=\\\"staticStar p10\\\"><\\/span><span size=\\\"12x12\\\" class=\\\"staticStar p10\\\"><\\/span><span size=\\\"12x12\\\" class=\\\"staticStar p6\\\"><\\/span><\\/span> 4.53 avg rating &mdash; 1,946 ratings<\\/span>            &mdash; published 1986\\n          <\\/div>\\n\\n    <div class=\\\"addBookTipDescription\\\">\\n      \\n<span id=\\\"freeTextContainer6059291392224745107\\\">Here, in the only major one-volume collection of his writings, speeches, interviews, and autobiographical reflections, is Martin Luther King Jr. on non-violence, social policy, integration, black nationalism, the ethics of love and hope, and more.<\\/span>\\n\\n    <\\/div>\\n\\n      <div class=\\'wtrButtonContainer wtrSignedOut\\' id=\\'2_book_53360\\'>\\n<div class=\\'wtrUp wtrLeft\\'>\\n<form action=\\\"/shelf/add_to_shelf\\\" accept-charset=\\\"UTF-8\\\" method=\\\"post\\\"><input name=\\\"utf8\\\" type=\\\"hidden\\\" value=\\\"&#x2713;\\\" /><input type=\\\"hidden\\\" name=\\\"authenticity_token\\\" value=\\\"xtmkpYefV/ATFe2r/j7t2zUXiPhKJAayiZBCyP0EFQ5wUkKPGIu9O6lbX4gTZ+d/js+RHGwU9iGWkg94NTnYpA==\\\" />\\n<input type=\\\"hidden\\\" name=\\\"book_id\\\" id=\\\"book_id\\\" value=\\\"53360\\\" />\\n<input type=\\\"hidden\\\" name=\\\"name\\\" id=\\\"name\\\" value=\\\"to-read\\\" />\\n<input type=\\\"hidden\\\" name=\\\"unique_id\\\" id=\\\"unique_id\\\" value=\\\"2_book_53360\\\" />\\n<input type=\\\"hidden\\\" name=\\\"wtr_new\\\" id=\\\"wtr_new\\\" value=\\\"true\\\" />\\n<input type=\\\"hidden\\\" name=\\\"from_choice\\\" id=\\\"from_choice\\\" value=\\\"false\\\" />\\n<input type=\\\"hidden\\\" name=\\\"from_home_module\\\" id=\\\"from_home_module\\\" value=\\\"false\\\" />\\n<input type=\\\"hidden\\\" name=\\\"ref\\\" id=\\\"ref\\\" value=\\\"\\\" class=\\\"wtrLeftUpRef\\\" />\\n<input type=\\\"hidden\\\" name=\\\"existing_review\\\" id=\\\"existing_review\\\" value=\\\"false\\\" class=\\\"wtrExisting\\\" />\\n<input type=\\\"hidden\\\" name=\\\"page_referrer\\\" id=\\\"page_referrer\\\" value=\\\"https://search.yahoo.com/\\\" />\\n<input type=\\\"hidden\\\" name=\\\"page_url\\\" id=\\\"page_url\\\" value=\\\"/quotes/tag/inspirational\\\" />\\n<button class=\\'wtrToRead\\' type=\\'submit\\'>\\n<span class=\\'progressTrigger\\'>Want to Read<\\/span>\\n<span class=\\'progressIndicator\\'>saving…<\\/span>\\n<\\/button>\\n<\\/form>\\n\\n<\\/div>\\n\\n<div class=\\'wtrRight wtrUp\\'>\\n<form class=\\\"hiddenShelfForm\\\" action=\\\"/shelf/add_to_shelf\\\" accept-charset=\\\"UTF-8\\\" method=\\\"post\\\"><input name=\\\"utf8\\\" type=\\\"hidden\\\" value=\\\"&#x2713;\\\" /><input type=\\\"hidden\\\" name=\\\"authenticity_token\\\" value=\\\"nVkVp546sFVSLy4doWffAIRpKOKtDq9PgzVb8ARXVTsr0vONAS5anuhhnD5MPtWkP7ExBos+X9ycNxZAzGqYkQ==\\\" />\\n<input type=\\\"hidden\\\" name=\\\"unique_id\\\" id=\\\"unique_id\\\" value=\\\"2_book_53360\\\" />\\n<input type=\\\"hidden\\\" name=\\\"book_id\\\" id=\\\"book_id\\\" value=\\\"53360\\\" />\\n<input type=\\\"hidden\\\" name=\\\"a\\\" id=\\\"a\\\" />\\n<input type=\\\"hidden\\\" name=\\\"name\\\" id=\\\"name\\\" />\\n<input type=\\\"hidden\\\" name=\\\"from_choice\\\" id=\\\"from_choice\\\" value=\\\"false\\\" />\\n<input type=\\\"hidden\\\" name=\\\"from_home_module\\\" id=\\\"from_home_module\\\" value=\\\"false\\\" />\\n<input type=\\\"hidden\\\" name=\\\"page_referrer\\\" id=\\\"page_referrer\\\" value=\\\"https://search.yahoo.com/\\\" />\\n<input type=\\\"hidden\\\" name=\\\"page_url\\\" id=\\\"page_url\\\" value=\\\"/quotes/tag/inspirational\\\" />\\n<\\/form>\\n\\n<button class=\\'wtrShelfButton\\'><\\/button>\\n<\\/div>\\n\\n<div class=\\'ratingStars wtrRating\\'>\\n<div class=\\'starsErrorTooltip hidden\\'>\\nError rating book. Refresh and try again.\\n<\\/div>\\n<div class=\\'myRating uitext greyText\\'>Rate this book<\\/div>\\n<div class=\\'clearRating uitext\\'>Clear rating<\\/div>\\n<div class=\\\"stars\\\" data-resource-id=\\\"53360\\\" data-user-id=\\\"0\\\" data-submit-url=\\\"/review/rate/53360?page_referrer=https%3A%2F%2Fsearch.yahoo.com%2F&page_url=%2Fquotes%2Ftag%2Finspirational&rate_books_page=false&stars_click=false&wtr_button_id=2_book_53360\\\" data-rating=\\\"0\\\"><a class=\\\"star off\\\" title=\\\"did not like it\\\" href=\\\"#\\\" ref=\\\"\\\">1 of 5 stars<\\/a><a class=\\\"star off\\\" title=\\\"it was ok\\\" href=\\\"#\\\" ref=\\\"\\\">2 of 5 stars<\\/a><a class=\\\"star off\\\" title=\\\"liked it\\\" href=\\\"#\\\" ref=\\\"\\\">3 of 5 stars<\\/a><a class=\\\"star off\\\" title=\\\"really liked it\\\" href=\\\"#\\\" ref=\\\"\\\">4 of 5 stars<\\/a><a class=\\\"star off\\\" title=\\\"it was amazing\\\" href=\\\"#\\\" ref=\\\"\\\">5 of 5 stars<\\/a><\\/div>\\n<\\/div>\\n\\n<\\/div>\\n\\n\\n\\n\\n\", { style: 'addbook', stem: 'leftMiddle', hook: { tip: 'leftMiddle', target: 'rightMiddle' }, offset: { x: 5, y: 0 }, hideOn: false, width: 400, hideAfter: 0.05, delay: 0.35 });\n",
      "      $('quote_book_link_53360').observe('prototip:shown', function() {\n",
      "        if (this.up('#box')) {\n",
      "          $$('div.prototip').each(function(i){i.setStyle({zIndex: $('box').getStyle('z-index')})});\n",
      "        } else {\n",
      "          $$('div.prototip').each(function(i){i.setStyle({zIndex: 6000})});\n",
      "        }\n",
      "      });\n",
      "\n",
      "      newTip['wrapper'].addClassName('prototipAllowOverflow');\n",
      "\n",
      "        $('quote_book_link_53360').observe('prototip:shown', function () {\n",
      "          $$('div.prototip').each(function (e) {\n",
      "            if ($('quote_book_link_53360').hasClassName('ignored')) {\n",
      "              e.setStyle({'display': 'none'});\n",
      "              return;\n",
      "            }\n",
      "            e.setStyle({'overflow': 'visible'});\n",
      "          });\n",
      "        });\n",
      "      $('quote_book_link_53360').observe('prototip:hidden', function () {\n",
      "        $$('span.elementTwo').each(function (e) {\n",
      "          if (e.getStyle('display') !== 'none') {\n",
      "            var lessLink = e.next();\n",
      "            swapContent(lessLink);\n",
      "          }\n",
      "        });\n",
      "      });\n",
      "\n",
      "//]]>\n",
      "</script>\n",
      "</div>\n",
      "<div class=\"quoteText\">\n",
      "      “Without music, life would be a mistake.”\n",
      "  <br/>  ―\n",
      "  <span class=\"authorOrTitle\">\n",
      "    Friedrich Nietzsche,\n",
      "  </span>\n",
      "<span id=\"quote_book_link_851994\">\n",
      "<a class=\"authorOrTitle\" href=\"/work/quotes/19234046\">Twilight of the Idols</a>\n",
      "</span>\n",
      "<script>\n",
      "//<![CDATA[\n",
      "      var newTip = new Tip($('quote_book_link_851994'), \"\\n\\n  <h2><a class=\\\"readable bookTitle\\\" href=\\\"https://www.goodreads.com/book/show/851994.Twilight_of_the_Idols?from_choice=false&amp;from_home_module=false\\\">Twilight of the Idols<\\/a><\\/h2>\\n\\n      <div>\\n        by <a class=\\\"authorName\\\" href=\\\"/author/show/1938.Friedrich_Nietzsche\\\">Friedrich Nietzsche<\\/a>\\n      <\\/div>\\n\\n          <div class=\\\"smallText uitext darkGreyText\\\">\\n            <span class=\\\"minirating\\\"><span class=\\\"stars staticStars\\\"><span size=\\\"12x12\\\" class=\\\"staticStar p10\\\"><\\/span><span size=\\\"12x12\\\" class=\\\"staticStar p10\\\"><\\/span><span size=\\\"12x12\\\" class=\\\"staticStar p10\\\"><\\/span><span size=\\\"12x12\\\" class=\\\"staticStar p6\\\"><\\/span><span size=\\\"12x12\\\" class=\\\"staticStar p0\\\"><\\/span><\\/span> 3.93 avg rating &mdash; 6,075 ratings<\\/span>            &mdash; published 1889\\n          <\\/div>\\n\\n    <div class=\\\"addBookTipDescription\\\">\\n      \\n<span id=\\\"freeTextContainer17437183697568557604\\\">Twilight of the Idols presents a vivid, compressed overview of many of Nietzsche’s mature ideas, including his attack on Plato’s Socrates and on the Platonic legacy in Western philosophy and culture. Polt provides a trustworthy rendering of Nietzsche<\\/span>\\n  <span id=\\\"freeText17437183697568557604\\\" style=\\\"display:none\\\">Twilight of the Idols presents a vivid, compressed overview of many of Nietzsche’s mature ideas, including his attack on Plato’s Socrates and on the Platonic legacy in Western philosophy and culture. Polt provides a trustworthy rendering of Nietzsche’s text in contemporary American English, complete with notes prepared by the translator and Tracy Strong. An authoritative Introduction by Strong makes this an outstanding edition.<\\/span>\\n  <a data-text-id=\\\"17437183697568557604\\\" href=\\\"#\\\" onclick=\\\"swapContent($(this));; return false;\\\">...more<\\/a>\\n\\n    <\\/div>\\n\\n      <div class=\\'wtrButtonContainer wtrSignedOut\\' id=\\'3_book_851994\\'>\\n<div class=\\'wtrUp wtrLeft\\'>\\n<form action=\\\"/shelf/add_to_shelf\\\" accept-charset=\\\"UTF-8\\\" method=\\\"post\\\"><input name=\\\"utf8\\\" type=\\\"hidden\\\" value=\\\"&#x2713;\\\" /><input type=\\\"hidden\\\" name=\\\"authenticity_token\\\" value=\\\"B/Q3p7zM4ZY5OTucVOeFJq1BFhhsRjDIV/fw5r7yEVuxf9GNI9gLXYN3ib+5vo+CFpkP/Ep2wFtI9b1Wds/c8Q==\\\" />\\n<input type=\\\"hidden\\\" name=\\\"book_id\\\" id=\\\"book_id\\\" value=\\\"851994\\\" />\\n<input type=\\\"hidden\\\" name=\\\"name\\\" id=\\\"name\\\" value=\\\"to-read\\\" />\\n<input type=\\\"hidden\\\" name=\\\"unique_id\\\" id=\\\"unique_id\\\" value=\\\"3_book_851994\\\" />\\n<input type=\\\"hidden\\\" name=\\\"wtr_new\\\" id=\\\"wtr_new\\\" value=\\\"true\\\" />\\n<input type=\\\"hidden\\\" name=\\\"from_choice\\\" id=\\\"from_choice\\\" value=\\\"false\\\" />\\n<input type=\\\"hidden\\\" name=\\\"from_home_module\\\" id=\\\"from_home_module\\\" value=\\\"false\\\" />\\n<input type=\\\"hidden\\\" name=\\\"ref\\\" id=\\\"ref\\\" value=\\\"\\\" class=\\\"wtrLeftUpRef\\\" />\\n<input type=\\\"hidden\\\" name=\\\"existing_review\\\" id=\\\"existing_review\\\" value=\\\"false\\\" class=\\\"wtrExisting\\\" />\\n<input type=\\\"hidden\\\" name=\\\"page_referrer\\\" id=\\\"page_referrer\\\" value=\\\"https://search.yahoo.com/\\\" />\\n<input type=\\\"hidden\\\" name=\\\"page_url\\\" id=\\\"page_url\\\" value=\\\"/quotes/tag/inspirational\\\" />\\n<button class=\\'wtrToRead\\' type=\\'submit\\'>\\n<span class=\\'progressTrigger\\'>Want to Read<\\/span>\\n<span class=\\'progressIndicator\\'>saving…<\\/span>\\n<\\/button>\\n<\\/form>\\n\\n<\\/div>\\n\\n<div class=\\'wtrRight wtrUp\\'>\\n<form class=\\\"hiddenShelfForm\\\" action=\\\"/shelf/add_to_shelf\\\" accept-charset=\\\"UTF-8\\\" method=\\\"post\\\"><input name=\\\"utf8\\\" type=\\\"hidden\\\" value=\\\"&#x2713;\\\" /><input type=\\\"hidden\\\" name=\\\"authenticity_token\\\" value=\\\"mp6hWMW6UEyCpRQtRZVyLvxYHSmStmeTUTdgtFHh95UsFUdyWq66hzjrpg6ozHiKR4AEzbSGlwBONS0Emdw6Pw==\\\" />\\n<input type=\\\"hidden\\\" name=\\\"unique_id\\\" id=\\\"unique_id\\\" value=\\\"3_book_851994\\\" />\\n<input type=\\\"hidden\\\" name=\\\"book_id\\\" id=\\\"book_id\\\" value=\\\"851994\\\" />\\n<input type=\\\"hidden\\\" name=\\\"a\\\" id=\\\"a\\\" />\\n<input type=\\\"hidden\\\" name=\\\"name\\\" id=\\\"name\\\" />\\n<input type=\\\"hidden\\\" name=\\\"from_choice\\\" id=\\\"from_choice\\\" value=\\\"false\\\" />\\n<input type=\\\"hidden\\\" name=\\\"from_home_module\\\" id=\\\"from_home_module\\\" value=\\\"false\\\" />\\n<input type=\\\"hidden\\\" name=\\\"page_referrer\\\" id=\\\"page_referrer\\\" value=\\\"https://search.yahoo.com/\\\" />\\n<input type=\\\"hidden\\\" name=\\\"page_url\\\" id=\\\"page_url\\\" value=\\\"/quotes/tag/inspirational\\\" />\\n<\\/form>\\n\\n<button class=\\'wtrShelfButton\\'><\\/button>\\n<\\/div>\\n\\n<div class=\\'ratingStars wtrRating\\'>\\n<div class=\\'starsErrorTooltip hidden\\'>\\nError rating book. Refresh and try again.\\n<\\/div>\\n<div class=\\'myRating uitext greyText\\'>Rate this book<\\/div>\\n<div class=\\'clearRating uitext\\'>Clear rating<\\/div>\\n<div class=\\\"stars\\\" data-resource-id=\\\"851994\\\" data-user-id=\\\"0\\\" data-submit-url=\\\"/review/rate/851994?page_referrer=https%3A%2F%2Fsearch.yahoo.com%2F&page_url=%2Fquotes%2Ftag%2Finspirational&rate_books_page=false&stars_click=false&wtr_button_id=3_book_851994\\\" data-rating=\\\"0\\\"><a class=\\\"star off\\\" title=\\\"did not like it\\\" href=\\\"#\\\" ref=\\\"\\\">1 of 5 stars<\\/a><a class=\\\"star off\\\" title=\\\"it was ok\\\" href=\\\"#\\\" ref=\\\"\\\">2 of 5 stars<\\/a><a class=\\\"star off\\\" title=\\\"liked it\\\" href=\\\"#\\\" ref=\\\"\\\">3 of 5 stars<\\/a><a class=\\\"star off\\\" title=\\\"really liked it\\\" href=\\\"#\\\" ref=\\\"\\\">4 of 5 stars<\\/a><a class=\\\"star off\\\" title=\\\"it was amazing\\\" href=\\\"#\\\" ref=\\\"\\\">5 of 5 stars<\\/a><\\/div>\\n<\\/div>\\n\\n<\\/div>\\n\\n\\n\\n\\n\", { style: 'addbook', stem: 'leftMiddle', hook: { tip: 'leftMiddle', target: 'rightMiddle' }, offset: { x: 5, y: 0 }, hideOn: false, width: 400, hideAfter: 0.05, delay: 0.35 });\n",
      "      $('quote_book_link_851994').observe('prototip:shown', function() {\n",
      "        if (this.up('#box')) {\n",
      "          $$('div.prototip').each(function(i){i.setStyle({zIndex: $('box').getStyle('z-index')})});\n",
      "        } else {\n",
      "          $$('div.prototip').each(function(i){i.setStyle({zIndex: 6000})});\n",
      "        }\n",
      "      });\n",
      "\n",
      "      newTip['wrapper'].addClassName('prototipAllowOverflow');\n",
      "\n",
      "        $('quote_book_link_851994').observe('prototip:shown', function () {\n",
      "          $$('div.prototip').each(function (e) {\n",
      "            if ($('quote_book_link_851994').hasClassName('ignored')) {\n",
      "              e.setStyle({'display': 'none'});\n",
      "              return;\n",
      "            }\n",
      "            e.setStyle({'overflow': 'visible'});\n",
      "          });\n",
      "        });\n",
      "      $('quote_book_link_851994').observe('prototip:hidden', function () {\n",
      "        $$('span.elementTwo').each(function (e) {\n",
      "          if (e.getStyle('display') !== 'none') {\n",
      "            var lessLink = e.next();\n",
      "            swapContent(lessLink);\n",
      "          }\n",
      "        });\n",
      "      });\n",
      "\n",
      "//]]>\n",
      "</script>\n",
      "</div>\n",
      "<div class=\"quoteText\">\n",
      "      “We accept the love we think we deserve.”\n",
      "  <br/>  ―\n",
      "  <span class=\"authorOrTitle\">\n",
      "    Stephen Chbosky,\n",
      "  </span>\n",
      "<span id=\"quote_book_link_22628\">\n",
      "<a class=\"authorOrTitle\" href=\"/work/quotes/2236198\">The Perks of Being a Wallflower</a>\n",
      "</span>\n",
      "<script>\n",
      "//<![CDATA[\n",
      "      var newTip = new Tip($('quote_book_link_22628'), \"\\n\\n  <h2><a class=\\\"readable bookTitle\\\" href=\\\"https://www.goodreads.com/book/show/22628.The_Perks_of_Being_a_Wallflower?from_choice=false&amp;from_home_module=false\\\">The Perks of Being a Wallflower<\\/a><\\/h2>\\n\\n      <div>\\n        by <a class=\\\"authorName\\\" href=\\\"/author/show/12898.Stephen_Chbosky\\\">Stephen Chbosky<\\/a>\\n      <\\/div>\\n\\n          <div class=\\\"smallText uitext darkGreyText\\\">\\n            <span class=\\\"minirating\\\"><span class=\\\"stars staticStars\\\"><span size=\\\"12x12\\\" class=\\\"staticStar p10\\\"><\\/span><span size=\\\"12x12\\\" class=\\\"staticStar p10\\\"><\\/span><span size=\\\"12x12\\\" class=\\\"staticStar p10\\\"><\\/span><span size=\\\"12x12\\\" class=\\\"staticStar p10\\\"><\\/span><span size=\\\"12x12\\\" class=\\\"staticStar p3\\\"><\\/span><\\/span> 4.20 avg rating &mdash; 1,089,753 ratings<\\/span>            &mdash; published 1999\\n          <\\/div>\\n\\n    <div class=\\\"addBookTipDescription\\\">\\n      \\n<span id=\\\"freeTextContainer3786604707989134232\\\">standing on the fringes of life... offers a unique perspective. But there comes a time to see what it looks like from the dance floor. This haunting novel about the dilemma of passivity vs. passion marks the stunning debut of a provocative new voice<\\/span>\\n  <span id=\\\"freeText3786604707989134232\\\" style=\\\"display:none\\\">standing on the fringes of life...\\noffers a unique perspective. But there comes a time to see\\nwhat it looks like from the dance floor.\\n\\nThis haunting novel about the dilemma of passivity vs. passion marks the stunning debut of a provocative new voice in contemporary fiction: The Perks of Being A WALLFLOWER\\n\\nThis is the story of what it\\'s like to grow up in high school. More intimate than a diary, Charlie\\'s letters are singular and unique, hilarious and devastating. We may not know where he lives. We may not know to whom he is writing. All we know is the world he shares. Caught between trying to live his life and trying to run from it puts him on a strange course through uncharted territory. The world of first dates and mixed tapes, family dramas and new friends. The world of sex, drugs, and The Rocky Horror Picture Show, when all one requires is that the perfect song on that perfect drive to feel infinite.\\n\\nThrough Charlie, Stephen Chbosky has created a deeply affecting coming-of-age story, a powerful novel that will spirit you back to those wild and poignant roller coaster days known as growing up.\\n\\n(back cover)<\\/span>\\n  <a data-text-id=\\\"3786604707989134232\\\" href=\\\"#\\\" onclick=\\\"swapContent($(this));; return false;\\\">...more<\\/a>\\n\\n    <\\/div>\\n\\n      <div class=\\'wtrButtonContainer wtrSignedOut\\' id=\\'4_book_22628\\'>\\n<div class=\\'wtrUp wtrLeft\\'>\\n<form action=\\\"/shelf/add_to_shelf\\\" accept-charset=\\\"UTF-8\\\" method=\\\"post\\\"><input name=\\\"utf8\\\" type=\\\"hidden\\\" value=\\\"&#x2713;\\\" /><input type=\\\"hidden\\\" name=\\\"authenticity_token\\\" value=\\\"IrWdnfOM6Y+dOZd3zwuzAM7qmdcDFnSEw71chZcBd6aUPnu3bJgDRCd3JVQiUrmkdTKAMyUmhBfcvxE1Xzy6DA==\\\" />\\n<input type=\\\"hidden\\\" name=\\\"book_id\\\" id=\\\"book_id\\\" value=\\\"22628\\\" />\\n<input type=\\\"hidden\\\" name=\\\"name\\\" id=\\\"name\\\" value=\\\"to-read\\\" />\\n<input type=\\\"hidden\\\" name=\\\"unique_id\\\" id=\\\"unique_id\\\" value=\\\"4_book_22628\\\" />\\n<input type=\\\"hidden\\\" name=\\\"wtr_new\\\" id=\\\"wtr_new\\\" value=\\\"true\\\" />\\n<input type=\\\"hidden\\\" name=\\\"from_choice\\\" id=\\\"from_choice\\\" value=\\\"false\\\" />\\n<input type=\\\"hidden\\\" name=\\\"from_home_module\\\" id=\\\"from_home_module\\\" value=\\\"false\\\" />\\n<input type=\\\"hidden\\\" name=\\\"ref\\\" id=\\\"ref\\\" value=\\\"\\\" class=\\\"wtrLeftUpRef\\\" />\\n<input type=\\\"hidden\\\" name=\\\"existing_review\\\" id=\\\"existing_review\\\" value=\\\"false\\\" class=\\\"wtrExisting\\\" />\\n<input type=\\\"hidden\\\" name=\\\"page_referrer\\\" id=\\\"page_referrer\\\" value=\\\"https://search.yahoo.com/\\\" />\\n<input type=\\\"hidden\\\" name=\\\"page_url\\\" id=\\\"page_url\\\" value=\\\"/quotes/tag/inspirational\\\" />\\n<button class=\\'wtrToRead\\' type=\\'submit\\'>\\n<span class=\\'progressTrigger\\'>Want to Read<\\/span>\\n<span class=\\'progressIndicator\\'>saving…<\\/span>\\n<\\/button>\\n<\\/form>\\n\\n<\\/div>\\n\\n<div class=\\'wtrRight wtrUp\\'>\\n<form class=\\\"hiddenShelfForm\\\" action=\\\"/shelf/add_to_shelf\\\" accept-charset=\\\"UTF-8\\\" method=\\\"post\\\"><input name=\\\"utf8\\\" type=\\\"hidden\\\" value=\\\"&#x2713;\\\" /><input type=\\\"hidden\\\" name=\\\"authenticity_token\\\" value=\\\"S6eyqHuBT6dkXc7lDxjeI3todjGyox+hIyQFsbqgS6P9LFSC5JWlbN4TfMbiQdSHwLBv1ZST7zI8JkgBcp2GCQ==\\\" />\\n<input type=\\\"hidden\\\" name=\\\"unique_id\\\" id=\\\"unique_id\\\" value=\\\"4_book_22628\\\" />\\n<input type=\\\"hidden\\\" name=\\\"book_id\\\" id=\\\"book_id\\\" value=\\\"22628\\\" />\\n<input type=\\\"hidden\\\" name=\\\"a\\\" id=\\\"a\\\" />\\n<input type=\\\"hidden\\\" name=\\\"name\\\" id=\\\"name\\\" />\\n<input type=\\\"hidden\\\" name=\\\"from_choice\\\" id=\\\"from_choice\\\" value=\\\"false\\\" />\\n<input type=\\\"hidden\\\" name=\\\"from_home_module\\\" id=\\\"from_home_module\\\" value=\\\"false\\\" />\\n<input type=\\\"hidden\\\" name=\\\"page_referrer\\\" id=\\\"page_referrer\\\" value=\\\"https://search.yahoo.com/\\\" />\\n<input type=\\\"hidden\\\" name=\\\"page_url\\\" id=\\\"page_url\\\" value=\\\"/quotes/tag/inspirational\\\" />\\n<\\/form>\\n\\n<button class=\\'wtrShelfButton\\'><\\/button>\\n<\\/div>\\n\\n<div class=\\'ratingStars wtrRating\\'>\\n<div class=\\'starsErrorTooltip hidden\\'>\\nError rating book. Refresh and try again.\\n<\\/div>\\n<div class=\\'myRating uitext greyText\\'>Rate this book<\\/div>\\n<div class=\\'clearRating uitext\\'>Clear rating<\\/div>\\n<div class=\\\"stars\\\" data-resource-id=\\\"22628\\\" data-user-id=\\\"0\\\" data-submit-url=\\\"/review/rate/22628?page_referrer=https%3A%2F%2Fsearch.yahoo.com%2F&page_url=%2Fquotes%2Ftag%2Finspirational&rate_books_page=false&stars_click=false&wtr_button_id=4_book_22628\\\" data-rating=\\\"0\\\"><a class=\\\"star off\\\" title=\\\"did not like it\\\" href=\\\"#\\\" ref=\\\"\\\">1 of 5 stars<\\/a><a class=\\\"star off\\\" title=\\\"it was ok\\\" href=\\\"#\\\" ref=\\\"\\\">2 of 5 stars<\\/a><a class=\\\"star off\\\" title=\\\"liked it\\\" href=\\\"#\\\" ref=\\\"\\\">3 of 5 stars<\\/a><a class=\\\"star off\\\" title=\\\"really liked it\\\" href=\\\"#\\\" ref=\\\"\\\">4 of 5 stars<\\/a><a class=\\\"star off\\\" title=\\\"it was amazing\\\" href=\\\"#\\\" ref=\\\"\\\">5 of 5 stars<\\/a><\\/div>\\n<\\/div>\\n\\n<\\/div>\\n\\n\\n\\n\\n\", { style: 'addbook', stem: 'leftMiddle', hook: { tip: 'leftMiddle', target: 'rightMiddle' }, offset: { x: 5, y: 0 }, hideOn: false, width: 400, hideAfter: 0.05, delay: 0.35 });\n",
      "      $('quote_book_link_22628').observe('prototip:shown', function() {\n",
      "        if (this.up('#box')) {\n",
      "          $$('div.prototip').each(function(i){i.setStyle({zIndex: $('box').getStyle('z-index')})});\n",
      "        } else {\n",
      "          $$('div.prototip').each(function(i){i.setStyle({zIndex: 6000})});\n",
      "        }\n",
      "      });\n",
      "\n",
      "      newTip['wrapper'].addClassName('prototipAllowOverflow');\n",
      "\n",
      "        $('quote_book_link_22628').observe('prototip:shown', function () {\n",
      "          $$('div.prototip').each(function (e) {\n",
      "            if ($('quote_book_link_22628').hasClassName('ignored')) {\n",
      "              e.setStyle({'display': 'none'});\n",
      "              return;\n",
      "            }\n",
      "            e.setStyle({'overflow': 'visible'});\n",
      "          });\n",
      "        });\n",
      "      $('quote_book_link_22628').observe('prototip:hidden', function () {\n",
      "        $$('span.elementTwo').each(function (e) {\n",
      "          if (e.getStyle('display') !== 'none') {\n",
      "            var lessLink = e.next();\n",
      "            swapContent(lessLink);\n",
      "          }\n",
      "        });\n",
      "      });\n",
      "\n",
      "//]]>\n",
      "</script>\n",
      "</div>\n",
      "<div class=\"quoteText\">\n",
      "      “Imperfection is beauty, madness is genius and it's better to be absolutely ridiculous than absolutely boring.”\n",
      "  <br/>  ―\n",
      "  <span class=\"authorOrTitle\">\n",
      "    Marilyn Monroe\n",
      "  </span>\n",
      "</div>\n",
      "<div class=\"quoteText\">\n",
      "      “There are only two ways to live your life. One is as though nothing is a miracle. The other is as though everything is a miracle.”\n",
      "  <br/>  ―\n",
      "  <span class=\"authorOrTitle\">\n",
      "    Albert Einstein\n",
      "  </span>\n",
      "</div>\n",
      "<div class=\"quoteText\">\n",
      "      “We are all in the gutter, but some of us are looking at the stars.”\n",
      "  <br/>  ―\n",
      "  <span class=\"authorOrTitle\">\n",
      "    Oscar Wilde,\n",
      "  </span>\n",
      "<span id=\"quote_book_link_122649\">\n",
      "<a class=\"authorOrTitle\" href=\"/work/quotes/1897835\">Lady Windermere's Fan</a>\n",
      "</span>\n",
      "<script>\n",
      "//<![CDATA[\n",
      "      var newTip = new Tip($('quote_book_link_122649'), \"\\n\\n  <h2><a class=\\\"readable bookTitle\\\" href=\\\"https://www.goodreads.com/book/show/122649.Lady_Windermere_s_Fan?from_choice=false&amp;from_home_module=false\\\">Lady Windermere&#39;s Fan<\\/a><\\/h2>\\n\\n      <div>\\n        by <a class=\\\"authorName\\\" href=\\\"/author/show/3565.Oscar_Wilde\\\">Oscar Wilde<\\/a>\\n      <\\/div>\\n\\n          <div class=\\\"smallText uitext darkGreyText\\\">\\n            <span class=\\\"minirating\\\"><span class=\\\"stars staticStars\\\"><span size=\\\"12x12\\\" class=\\\"staticStar p10\\\"><\\/span><span size=\\\"12x12\\\" class=\\\"staticStar p10\\\"><\\/span><span size=\\\"12x12\\\" class=\\\"staticStar p10\\\"><\\/span><span size=\\\"12x12\\\" class=\\\"staticStar p6\\\"><\\/span><span size=\\\"12x12\\\" class=\\\"staticStar p0\\\"><\\/span><\\/span> 3.91 avg rating &mdash; 16,769 ratings<\\/span>            &mdash; published 1893\\n          <\\/div>\\n\\n    <div class=\\\"addBookTipDescription\\\">\\n      \\n<span id=\\\"freeTextContainer12282516632325473349\\\">Beautiful, aristocratic, an adored wife and young mother, Lady Windermere is \\'a fascinating puritan\\' whose severe moral code leads her to the brink of social suicide. The only one who can save her is the mysterious Mrs Erlynne whose scandalous relati<\\/span>\\n  <span id=\\\"freeText12282516632325473349\\\" style=\\\"display:none\\\">Beautiful, aristocratic, an adored wife and young mother, Lady Windermere is \\'a fascinating puritan\\' whose severe moral code leads her to the brink of social suicide. The only one who can save her is the mysterious Mrs Erlynne whose scandalous relationship with Lord Windermere has prompted her fatal impulse. And Mrs Erlynne has a secret - a secret Lady Windermere must never know if she is to retain her peace of mind.<\\/span>\\n  <a data-text-id=\\\"12282516632325473349\\\" href=\\\"#\\\" onclick=\\\"swapContent($(this));; return false;\\\">...more<\\/a>\\n\\n    <\\/div>\\n\\n      <div class=\\'wtrButtonContainer wtrSignedOut\\' id=\\'5_book_122649\\'>\\n<div class=\\'wtrUp wtrLeft\\'>\\n<form action=\\\"/shelf/add_to_shelf\\\" accept-charset=\\\"UTF-8\\\" method=\\\"post\\\"><input name=\\\"utf8\\\" type=\\\"hidden\\\" value=\\\"&#x2713;\\\" /><input type=\\\"hidden\\\" name=\\\"authenticity_token\\\" value=\\\"/MoMFjJ/xMi0oUlIiU5XrebQFdIpCk51ibNPVkM6XFZKQeo8rWsuAw7v+2tkF10JXQgMNg86vuaWsQLmiweR/A==\\\" />\\n<input type=\\\"hidden\\\" name=\\\"book_id\\\" id=\\\"book_id\\\" value=\\\"122649\\\" />\\n<input type=\\\"hidden\\\" name=\\\"name\\\" id=\\\"name\\\" value=\\\"to-read\\\" />\\n<input type=\\\"hidden\\\" name=\\\"unique_id\\\" id=\\\"unique_id\\\" value=\\\"5_book_122649\\\" />\\n<input type=\\\"hidden\\\" name=\\\"wtr_new\\\" id=\\\"wtr_new\\\" value=\\\"true\\\" />\\n<input type=\\\"hidden\\\" name=\\\"from_choice\\\" id=\\\"from_choice\\\" value=\\\"false\\\" />\\n<input type=\\\"hidden\\\" name=\\\"from_home_module\\\" id=\\\"from_home_module\\\" value=\\\"false\\\" />\\n<input type=\\\"hidden\\\" name=\\\"ref\\\" id=\\\"ref\\\" value=\\\"\\\" class=\\\"wtrLeftUpRef\\\" />\\n<input type=\\\"hidden\\\" name=\\\"existing_review\\\" id=\\\"existing_review\\\" value=\\\"false\\\" class=\\\"wtrExisting\\\" />\\n<input type=\\\"hidden\\\" name=\\\"page_referrer\\\" id=\\\"page_referrer\\\" value=\\\"https://search.yahoo.com/\\\" />\\n<input type=\\\"hidden\\\" name=\\\"page_url\\\" id=\\\"page_url\\\" value=\\\"/quotes/tag/inspirational\\\" />\\n<button class=\\'wtrToRead\\' type=\\'submit\\'>\\n<span class=\\'progressTrigger\\'>Want to Read<\\/span>\\n<span class=\\'progressIndicator\\'>saving…<\\/span>\\n<\\/button>\\n<\\/form>\\n\\n<\\/div>\\n\\n<div class=\\'wtrRight wtrUp\\'>\\n<form class=\\\"hiddenShelfForm\\\" action=\\\"/shelf/add_to_shelf\\\" accept-charset=\\\"UTF-8\\\" method=\\\"post\\\"><input name=\\\"utf8\\\" type=\\\"hidden\\\" value=\\\"&#x2713;\\\" /><input type=\\\"hidden\\\" name=\\\"authenticity_token\\\" value=\\\"CG4IMWy9mHVtZu/QvnB7dWcYhUDnJ7LxJk22jbVuuvu+5e4b86lyvtcoXfNTKXHR3MCcpMEXQmI5T/s9fVN3UQ==\\\" />\\n<input type=\\\"hidden\\\" name=\\\"unique_id\\\" id=\\\"unique_id\\\" value=\\\"5_book_122649\\\" />\\n<input type=\\\"hidden\\\" name=\\\"book_id\\\" id=\\\"book_id\\\" value=\\\"122649\\\" />\\n<input type=\\\"hidden\\\" name=\\\"a\\\" id=\\\"a\\\" />\\n<input type=\\\"hidden\\\" name=\\\"name\\\" id=\\\"name\\\" />\\n<input type=\\\"hidden\\\" name=\\\"from_choice\\\" id=\\\"from_choice\\\" value=\\\"false\\\" />\\n<input type=\\\"hidden\\\" name=\\\"from_home_module\\\" id=\\\"from_home_module\\\" value=\\\"false\\\" />\\n<input type=\\\"hidden\\\" name=\\\"page_referrer\\\" id=\\\"page_referrer\\\" value=\\\"https://search.yahoo.com/\\\" />\\n<input type=\\\"hidden\\\" name=\\\"page_url\\\" id=\\\"page_url\\\" value=\\\"/quotes/tag/inspirational\\\" />\\n<\\/form>\\n\\n<button class=\\'wtrShelfButton\\'><\\/button>\\n<\\/div>\\n\\n<div class=\\'ratingStars wtrRating\\'>\\n<div class=\\'starsErrorTooltip hidden\\'>\\nError rating book. Refresh and try again.\\n<\\/div>\\n<div class=\\'myRating uitext greyText\\'>Rate this book<\\/div>\\n<div class=\\'clearRating uitext\\'>Clear rating<\\/div>\\n<div class=\\\"stars\\\" data-resource-id=\\\"122649\\\" data-user-id=\\\"0\\\" data-submit-url=\\\"/review/rate/122649?page_referrer=https%3A%2F%2Fsearch.yahoo.com%2F&page_url=%2Fquotes%2Ftag%2Finspirational&rate_books_page=false&stars_click=false&wtr_button_id=5_book_122649\\\" data-rating=\\\"0\\\"><a class=\\\"star off\\\" title=\\\"did not like it\\\" href=\\\"#\\\" ref=\\\"\\\">1 of 5 stars<\\/a><a class=\\\"star off\\\" title=\\\"it was ok\\\" href=\\\"#\\\" ref=\\\"\\\">2 of 5 stars<\\/a><a class=\\\"star off\\\" title=\\\"liked it\\\" href=\\\"#\\\" ref=\\\"\\\">3 of 5 stars<\\/a><a class=\\\"star off\\\" title=\\\"really liked it\\\" href=\\\"#\\\" ref=\\\"\\\">4 of 5 stars<\\/a><a class=\\\"star off\\\" title=\\\"it was amazing\\\" href=\\\"#\\\" ref=\\\"\\\">5 of 5 stars<\\/a><\\/div>\\n<\\/div>\\n\\n<\\/div>\\n\\n\\n\\n\\n\", { style: 'addbook', stem: 'leftMiddle', hook: { tip: 'leftMiddle', target: 'rightMiddle' }, offset: { x: 5, y: 0 }, hideOn: false, width: 400, hideAfter: 0.05, delay: 0.35 });\n",
      "      $('quote_book_link_122649').observe('prototip:shown', function() {\n",
      "        if (this.up('#box')) {\n",
      "          $$('div.prototip').each(function(i){i.setStyle({zIndex: $('box').getStyle('z-index')})});\n",
      "        } else {\n",
      "          $$('div.prototip').each(function(i){i.setStyle({zIndex: 6000})});\n",
      "        }\n",
      "      });\n",
      "\n",
      "      newTip['wrapper'].addClassName('prototipAllowOverflow');\n",
      "\n",
      "        $('quote_book_link_122649').observe('prototip:shown', function () {\n",
      "          $$('div.prototip').each(function (e) {\n",
      "            if ($('quote_book_link_122649').hasClassName('ignored')) {\n",
      "              e.setStyle({'display': 'none'});\n",
      "              return;\n",
      "            }\n",
      "            e.setStyle({'overflow': 'visible'});\n",
      "          });\n",
      "        });\n",
      "      $('quote_book_link_122649').observe('prototip:hidden', function () {\n",
      "        $$('span.elementTwo').each(function (e) {\n",
      "          if (e.getStyle('display') !== 'none') {\n",
      "            var lessLink = e.next();\n",
      "            swapContent(lessLink);\n",
      "          }\n",
      "        });\n",
      "      });\n",
      "\n",
      "//]]>\n",
      "</script>\n",
      "</div>\n",
      "<div class=\"quoteText\">\n",
      "      “Fairy tales are more than true: not because they tell us that dragons exist, but because they tell us that dragons can be beaten.”\n",
      "  <br/>  ―\n",
      "  <span class=\"authorOrTitle\">\n",
      "    Neil Gaiman,\n",
      "  </span>\n",
      "<span id=\"quote_book_link_17061\">\n",
      "<a class=\"authorOrTitle\" href=\"/work/quotes/2834844\">Coraline</a>\n",
      "</span>\n",
      "<script>\n",
      "//<![CDATA[\n",
      "      var newTip = new Tip($('quote_book_link_17061'), \"\\n\\n  <h2><a class=\\\"readable bookTitle\\\" href=\\\"https://www.goodreads.com/book/show/17061.Coraline?from_choice=false&amp;from_home_module=false\\\">Coraline<\\/a><\\/h2>\\n\\n      <div>\\n        by <a class=\\\"authorName\\\" href=\\\"/author/show/1221698.Neil_Gaiman\\\">Neil Gaiman<\\/a><span title=\\\"Goodreads Author!\\\">*<\\/span>\\n      <\\/div>\\n\\n          <div class=\\\"smallText uitext darkGreyText\\\">\\n            <span class=\\\"minirating\\\"><span class=\\\"stars staticStars\\\"><span size=\\\"12x12\\\" class=\\\"staticStar p10\\\"><\\/span><span size=\\\"12x12\\\" class=\\\"staticStar p10\\\"><\\/span><span size=\\\"12x12\\\" class=\\\"staticStar p10\\\"><\\/span><span size=\\\"12x12\\\" class=\\\"staticStar p10\\\"><\\/span><span size=\\\"12x12\\\" class=\\\"staticStar p3\\\"><\\/span><\\/span> 4.05 avg rating &mdash; 407,602 ratings<\\/span>            &mdash; published 2002\\n          <\\/div>\\n\\n    <div class=\\\"addBookTipDescription\\\">\\n      \\n<span id=\\\"freeTextContainer13781086372236886654\\\">The day after they moved in, Coraline went exploring.... In Coraline\\'s family\\'s new flat are twenty-one windows and fourteen doors. Thirteen of the doors open and close. The fourteenth is locked, and on the other side is only a brick wall, until the<\\/span>\\n  <span id=\\\"freeText13781086372236886654\\\" style=\\\"display:none\\\">The day after they moved in, Coraline went exploring....\\n\\nIn Coraline\\'s family\\'s new flat are twenty-one windows and fourteen doors. Thirteen of the doors open and close. \\n\\nThe fourteenth is locked, and on the other side is only a brick wall, until the day Coraline unlocks the door to find a passage to another flat in another house just like her own. \\n\\nOnly it\\'s different. \\n\\nAt first, things seem marvelous in the other flat. The food is better. The toy box is filled with wind-up angels that flutter around the bedroom, books whose pictures writhe and crawl and shimmer, little dinosaur skulls that chatter their teeth. But there\\'s another mother, and another father, and they want Coraline to stay with them and be their little girl. They want to change her and never let her go. \\n\\nOther children are trapped there as well, lost souls behind the mirrors. Coraline is their only hope of rescue. She will have to fight with all her wits and all the tools she can find if she is to save the lost children, her ordinary life, and herself. \\n\\nCritically acclaimed and award-winning author Neil Gaiman will delight readers with his first novel for all ages.<\\/span>\\n  <a data-text-id=\\\"13781086372236886654\\\" href=\\\"#\\\" onclick=\\\"swapContent($(this));; return false;\\\">...more<\\/a>\\n\\n    <\\/div>\\n\\n      <div class=\\'wtrButtonContainer wtrSignedOut\\' id=\\'6_book_17061\\'>\\n<div class=\\'wtrUp wtrLeft\\'>\\n<form action=\\\"/shelf/add_to_shelf\\\" accept-charset=\\\"UTF-8\\\" method=\\\"post\\\"><input name=\\\"utf8\\\" type=\\\"hidden\\\" value=\\\"&#x2713;\\\" /><input type=\\\"hidden\\\" name=\\\"authenticity_token\\\" value=\\\"0kM0J3ZG5dDVzFT1UScCQSWLcUpoatx63w58JN22yIVkyNIN6VIPG2+C5ta8fgjlnlNork5aLOnADDGUFYsFLw==\\\" />\\n<input type=\\\"hidden\\\" name=\\\"book_id\\\" id=\\\"book_id\\\" value=\\\"17061\\\" />\\n<input type=\\\"hidden\\\" name=\\\"name\\\" id=\\\"name\\\" value=\\\"to-read\\\" />\\n<input type=\\\"hidden\\\" name=\\\"unique_id\\\" id=\\\"unique_id\\\" value=\\\"6_book_17061\\\" />\\n<input type=\\\"hidden\\\" name=\\\"wtr_new\\\" id=\\\"wtr_new\\\" value=\\\"true\\\" />\\n<input type=\\\"hidden\\\" name=\\\"from_choice\\\" id=\\\"from_choice\\\" value=\\\"false\\\" />\\n<input type=\\\"hidden\\\" name=\\\"from_home_module\\\" id=\\\"from_home_module\\\" value=\\\"false\\\" />\\n<input type=\\\"hidden\\\" name=\\\"ref\\\" id=\\\"ref\\\" value=\\\"\\\" class=\\\"wtrLeftUpRef\\\" />\\n<input type=\\\"hidden\\\" name=\\\"existing_review\\\" id=\\\"existing_review\\\" value=\\\"false\\\" class=\\\"wtrExisting\\\" />\\n<input type=\\\"hidden\\\" name=\\\"page_referrer\\\" id=\\\"page_referrer\\\" value=\\\"https://search.yahoo.com/\\\" />\\n<input type=\\\"hidden\\\" name=\\\"page_url\\\" id=\\\"page_url\\\" value=\\\"/quotes/tag/inspirational\\\" />\\n<button class=\\'wtrToRead\\' type=\\'submit\\'>\\n<span class=\\'progressTrigger\\'>Want to Read<\\/span>\\n<span class=\\'progressIndicator\\'>saving…<\\/span>\\n<\\/button>\\n<\\/form>\\n\\n<\\/div>\\n\\n<div class=\\'wtrRight wtrUp\\'>\\n<form class=\\\"hiddenShelfForm\\\" action=\\\"/shelf/add_to_shelf\\\" accept-charset=\\\"UTF-8\\\" method=\\\"post\\\"><input name=\\\"utf8\\\" type=\\\"hidden\\\" value=\\\"&#x2713;\\\" /><input type=\\\"hidden\\\" name=\\\"authenticity_token\\\" value=\\\"V7uwoNUeRoccuQ0PFKapDki/IqvAlBJatL6y9zenR6PhMFaKSgqsTKb3vyz5/6Oq82c7T+ak4smrvP9H/5qKCQ==\\\" />\\n<input type=\\\"hidden\\\" name=\\\"unique_id\\\" id=\\\"unique_id\\\" value=\\\"6_book_17061\\\" />\\n<input type=\\\"hidden\\\" name=\\\"book_id\\\" id=\\\"book_id\\\" value=\\\"17061\\\" />\\n<input type=\\\"hidden\\\" name=\\\"a\\\" id=\\\"a\\\" />\\n<input type=\\\"hidden\\\" name=\\\"name\\\" id=\\\"name\\\" />\\n<input type=\\\"hidden\\\" name=\\\"from_choice\\\" id=\\\"from_choice\\\" value=\\\"false\\\" />\\n<input type=\\\"hidden\\\" name=\\\"from_home_module\\\" id=\\\"from_home_module\\\" value=\\\"false\\\" />\\n<input type=\\\"hidden\\\" name=\\\"page_referrer\\\" id=\\\"page_referrer\\\" value=\\\"https://search.yahoo.com/\\\" />\\n<input type=\\\"hidden\\\" name=\\\"page_url\\\" id=\\\"page_url\\\" value=\\\"/quotes/tag/inspirational\\\" />\\n<\\/form>\\n\\n<button class=\\'wtrShelfButton\\'><\\/button>\\n<\\/div>\\n\\n<div class=\\'ratingStars wtrRating\\'>\\n<div class=\\'starsErrorTooltip hidden\\'>\\nError rating book. Refresh and try again.\\n<\\/div>\\n<div class=\\'myRating uitext greyText\\'>Rate this book<\\/div>\\n<div class=\\'clearRating uitext\\'>Clear rating<\\/div>\\n<div class=\\\"stars\\\" data-resource-id=\\\"17061\\\" data-user-id=\\\"0\\\" data-submit-url=\\\"/review/rate/17061?page_referrer=https%3A%2F%2Fsearch.yahoo.com%2F&page_url=%2Fquotes%2Ftag%2Finspirational&rate_books_page=false&stars_click=false&wtr_button_id=6_book_17061\\\" data-rating=\\\"0\\\"><a class=\\\"star off\\\" title=\\\"did not like it\\\" href=\\\"#\\\" ref=\\\"\\\">1 of 5 stars<\\/a><a class=\\\"star off\\\" title=\\\"it was ok\\\" href=\\\"#\\\" ref=\\\"\\\">2 of 5 stars<\\/a><a class=\\\"star off\\\" title=\\\"liked it\\\" href=\\\"#\\\" ref=\\\"\\\">3 of 5 stars<\\/a><a class=\\\"star off\\\" title=\\\"really liked it\\\" href=\\\"#\\\" ref=\\\"\\\">4 of 5 stars<\\/a><a class=\\\"star off\\\" title=\\\"it was amazing\\\" href=\\\"#\\\" ref=\\\"\\\">5 of 5 stars<\\/a><\\/div>\\n<\\/div>\\n\\n<\\/div>\\n\\n\\n\\n\\n\", { style: 'addbook', stem: 'leftMiddle', hook: { tip: 'leftMiddle', target: 'rightMiddle' }, offset: { x: 5, y: 0 }, hideOn: false, width: 400, hideAfter: 0.05, delay: 0.35 });\n",
      "      $('quote_book_link_17061').observe('prototip:shown', function() {\n",
      "        if (this.up('#box')) {\n",
      "          $$('div.prototip').each(function(i){i.setStyle({zIndex: $('box').getStyle('z-index')})});\n",
      "        } else {\n",
      "          $$('div.prototip').each(function(i){i.setStyle({zIndex: 6000})});\n",
      "        }\n",
      "      });\n",
      "\n",
      "      newTip['wrapper'].addClassName('prototipAllowOverflow');\n",
      "\n",
      "        $('quote_book_link_17061').observe('prototip:shown', function () {\n",
      "          $$('div.prototip').each(function (e) {\n",
      "            if ($('quote_book_link_17061').hasClassName('ignored')) {\n",
      "              e.setStyle({'display': 'none'});\n",
      "              return;\n",
      "            }\n",
      "            e.setStyle({'overflow': 'visible'});\n",
      "          });\n",
      "        });\n",
      "      $('quote_book_link_17061').observe('prototip:hidden', function () {\n",
      "        $$('span.elementTwo').each(function (e) {\n",
      "          if (e.getStyle('display') !== 'none') {\n",
      "            var lessLink = e.next();\n",
      "            swapContent(lessLink);\n",
      "          }\n",
      "        });\n",
      "      });\n",
      "\n",
      "//]]>\n",
      "</script>\n",
      "</div>\n",
      "<div class=\"quoteText\">\n",
      "      “Yesterday is history, tomorrow is a mystery, today is a gift of God, which is why we call it the present.”\n",
      "  <br/>  ―\n",
      "  <span class=\"authorOrTitle\">\n",
      "    Bill Keane\n",
      "  </span>\n",
      "</div>\n",
      "<div class=\"quoteText\">\n",
      "      “I have not failed. I've just found 10,000 ways that won't work.”\n",
      "  <br/>  ―\n",
      "  <span class=\"authorOrTitle\">\n",
      "    Thomas A. Edison\n",
      "  </span>\n",
      "</div>\n",
      "<div class=\"quoteText\">\n",
      "      “The opposite of love is not hate, it's indifference. The opposite of art is not ugliness, it's indifference. The opposite of faith is not heresy, it's indifference. And the opposite of life is not death, it's indifference.”\n",
      "  <br/>  ―\n",
      "  <span class=\"authorOrTitle\">\n",
      "    Elie Wiesel\n",
      "  </span>\n",
      "</div>\n",
      "<div class=\"quoteText\">\n",
      "      “I am enough of an artist to draw freely upon my imagination. Imagination is more important than knowledge. Knowledge is limited. Imagination encircles the world.”\n",
      "  <br/>  ―\n",
      "  <span class=\"authorOrTitle\">\n",
      "    Albert Einstein\n",
      "  </span>\n",
      "</div>\n",
      "<div class=\"quoteText\">\n",
      "      “You have brains in your head. You have feet in your shoes. You can steer yourself any direction you choose. You're on your own. And you know what you know. And YOU are the one who'll decide where to go...”\n",
      "  <br/>  ―\n",
      "  <span class=\"authorOrTitle\">\n",
      "    Dr. Seuss,\n",
      "  </span>\n",
      "<span id=\"quote_book_link_191139\">\n",
      "<a class=\"authorOrTitle\" href=\"/work/quotes/2125304\">Oh, The Places You'll Go!</a>\n",
      "</span>\n",
      "<script>\n",
      "//<![CDATA[\n",
      "      var newTip = new Tip($('quote_book_link_191139'), \"\\n\\n  <h2><a class=\\\"readable bookTitle\\\" href=\\\"https://www.goodreads.com/book/show/191139.Oh_The_Places_You_ll_Go_?from_choice=false&amp;from_home_module=false\\\">Oh, The Places You&#39;ll Go!<\\/a><\\/h2>\\n\\n      <div>\\n        by <a class=\\\"authorName\\\" href=\\\"/author/show/61105.Dr_Seuss\\\">Dr. Seuss<\\/a>\\n      <\\/div>\\n\\n          <div class=\\\"smallText uitext darkGreyText\\\">\\n            <span class=\\\"minirating\\\"><span class=\\\"stars staticStars\\\"><span size=\\\"12x12\\\" class=\\\"staticStar p10\\\"><\\/span><span size=\\\"12x12\\\" class=\\\"staticStar p10\\\"><\\/span><span size=\\\"12x12\\\" class=\\\"staticStar p10\\\"><\\/span><span size=\\\"12x12\\\" class=\\\"staticStar p10\\\"><\\/span><span size=\\\"12x12\\\" class=\\\"staticStar p3\\\"><\\/span><\\/span> 4.35 avg rating &mdash; 287,588 ratings<\\/span>            &mdash; published 1990\\n          <\\/div>\\n\\n    <div class=\\\"addBookTipDescription\\\">\\n      \\n<span id=\\\"freeTextContainer8514360115032946125\\\">For out-starting upstarts of all ages, here is a wonderfully wise and blessedly brief graduation speech from the one and only Dr. Seuss. In his inimitable, humorous verse and pictures, he addresses the Great Balancing Act (life itself, and the ups an<\\/span>\\n  <span id=\\\"freeText8514360115032946125\\\" style=\\\"display:none\\\">For out-starting upstarts of all ages, here is a wonderfully wise and blessedly brief graduation speech from the one and only Dr. Seuss. In his inimitable, humorous verse and pictures, he addresses the Great Balancing Act (life itself, and the ups and downs it presents) while encouraging us to find the success that lies within us.\\n\\nAnd will you succeed?\\nYes! You will indeed!\\n(98 and ¾ percent guaranteed.)\\n\\nA modern classic, Oh, the Places You\\'ll Go! was first published one year before Dr. Seuss\\'s death at the age of eighty-seven. In a mere fifty-six pages, Dr, Seuss managed to impart a lifetime of wisdom. It is the perfect send-off for children starting out in the maze of life, be they nursery school grads or newly-minted PhD\\'s. Everyone will find it inspired good fun.<\\/span>\\n  <a data-text-id=\\\"8514360115032946125\\\" href=\\\"#\\\" onclick=\\\"swapContent($(this));; return false;\\\">...more<\\/a>\\n\\n    <\\/div>\\n\\n      <div class=\\'wtrButtonContainer wtrSignedOut\\' id=\\'7_book_191139\\'>\\n<div class=\\'wtrUp wtrLeft\\'>\\n<form action=\\\"/shelf/add_to_shelf\\\" accept-charset=\\\"UTF-8\\\" method=\\\"post\\\"><input name=\\\"utf8\\\" type=\\\"hidden\\\" value=\\\"&#x2713;\\\" /><input type=\\\"hidden\\\" name=\\\"authenticity_token\\\" value=\\\"KRRC9BhWjnaGUpuAh1myYohkh1RwYhKF++n9sCE8WMefn6Teh0JkvTwcKaNqALjGM7yesFZS4hbk67AA6QGVbQ==\\\" />\\n<input type=\\\"hidden\\\" name=\\\"book_id\\\" id=\\\"book_id\\\" value=\\\"191139\\\" />\\n<input type=\\\"hidden\\\" name=\\\"name\\\" id=\\\"name\\\" value=\\\"to-read\\\" />\\n<input type=\\\"hidden\\\" name=\\\"unique_id\\\" id=\\\"unique_id\\\" value=\\\"7_book_191139\\\" />\\n<input type=\\\"hidden\\\" name=\\\"wtr_new\\\" id=\\\"wtr_new\\\" value=\\\"true\\\" />\\n<input type=\\\"hidden\\\" name=\\\"from_choice\\\" id=\\\"from_choice\\\" value=\\\"false\\\" />\\n<input type=\\\"hidden\\\" name=\\\"from_home_module\\\" id=\\\"from_home_module\\\" value=\\\"false\\\" />\\n<input type=\\\"hidden\\\" name=\\\"ref\\\" id=\\\"ref\\\" value=\\\"\\\" class=\\\"wtrLeftUpRef\\\" />\\n<input type=\\\"hidden\\\" name=\\\"existing_review\\\" id=\\\"existing_review\\\" value=\\\"false\\\" class=\\\"wtrExisting\\\" />\\n<input type=\\\"hidden\\\" name=\\\"page_referrer\\\" id=\\\"page_referrer\\\" value=\\\"https://search.yahoo.com/\\\" />\\n<input type=\\\"hidden\\\" name=\\\"page_url\\\" id=\\\"page_url\\\" value=\\\"/quotes/tag/inspirational\\\" />\\n<button class=\\'wtrToRead\\' type=\\'submit\\'>\\n<span class=\\'progressTrigger\\'>Want to Read<\\/span>\\n<span class=\\'progressIndicator\\'>saving…<\\/span>\\n<\\/button>\\n<\\/form>\\n\\n<\\/div>\\n\\n<div class=\\'wtrRight wtrUp\\'>\\n<form class=\\\"hiddenShelfForm\\\" action=\\\"/shelf/add_to_shelf\\\" accept-charset=\\\"UTF-8\\\" method=\\\"post\\\"><input name=\\\"utf8\\\" type=\\\"hidden\\\" value=\\\"&#x2713;\\\" /><input type=\\\"hidden\\\" name=\\\"authenticity_token\\\" value=\\\"qcYYPSYJ+pSCbRtSCOrIamtnuz1pgeEgRgYhfk/tC/MfTf4XuR0QXzgjqXHls8LO0L+i2U+xEbNZBGzOh9DGWQ==\\\" />\\n<input type=\\\"hidden\\\" name=\\\"unique_id\\\" id=\\\"unique_id\\\" value=\\\"7_book_191139\\\" />\\n<input type=\\\"hidden\\\" name=\\\"book_id\\\" id=\\\"book_id\\\" value=\\\"191139\\\" />\\n<input type=\\\"hidden\\\" name=\\\"a\\\" id=\\\"a\\\" />\\n<input type=\\\"hidden\\\" name=\\\"name\\\" id=\\\"name\\\" />\\n<input type=\\\"hidden\\\" name=\\\"from_choice\\\" id=\\\"from_choice\\\" value=\\\"false\\\" />\\n<input type=\\\"hidden\\\" name=\\\"from_home_module\\\" id=\\\"from_home_module\\\" value=\\\"false\\\" />\\n<input type=\\\"hidden\\\" name=\\\"page_referrer\\\" id=\\\"page_referrer\\\" value=\\\"https://search.yahoo.com/\\\" />\\n<input type=\\\"hidden\\\" name=\\\"page_url\\\" id=\\\"page_url\\\" value=\\\"/quotes/tag/inspirational\\\" />\\n<\\/form>\\n\\n<button class=\\'wtrShelfButton\\'><\\/button>\\n<\\/div>\\n\\n<div class=\\'ratingStars wtrRating\\'>\\n<div class=\\'starsErrorTooltip hidden\\'>\\nError rating book. Refresh and try again.\\n<\\/div>\\n<div class=\\'myRating uitext greyText\\'>Rate this book<\\/div>\\n<div class=\\'clearRating uitext\\'>Clear rating<\\/div>\\n<div class=\\\"stars\\\" data-resource-id=\\\"191139\\\" data-user-id=\\\"0\\\" data-submit-url=\\\"/review/rate/191139?page_referrer=https%3A%2F%2Fsearch.yahoo.com%2F&page_url=%2Fquotes%2Ftag%2Finspirational&rate_books_page=false&stars_click=false&wtr_button_id=7_book_191139\\\" data-rating=\\\"0\\\"><a class=\\\"star off\\\" title=\\\"did not like it\\\" href=\\\"#\\\" ref=\\\"\\\">1 of 5 stars<\\/a><a class=\\\"star off\\\" title=\\\"it was ok\\\" href=\\\"#\\\" ref=\\\"\\\">2 of 5 stars<\\/a><a class=\\\"star off\\\" title=\\\"liked it\\\" href=\\\"#\\\" ref=\\\"\\\">3 of 5 stars<\\/a><a class=\\\"star off\\\" title=\\\"really liked it\\\" href=\\\"#\\\" ref=\\\"\\\">4 of 5 stars<\\/a><a class=\\\"star off\\\" title=\\\"it was amazing\\\" href=\\\"#\\\" ref=\\\"\\\">5 of 5 stars<\\/a><\\/div>\\n<\\/div>\\n\\n<\\/div>\\n\\n\\n\\n\\n\", { style: 'addbook', stem: 'leftMiddle', hook: { tip: 'leftMiddle', target: 'rightMiddle' }, offset: { x: 5, y: 0 }, hideOn: false, width: 400, hideAfter: 0.05, delay: 0.35 });\n",
      "      $('quote_book_link_191139').observe('prototip:shown', function() {\n",
      "        if (this.up('#box')) {\n",
      "          $$('div.prototip').each(function(i){i.setStyle({zIndex: $('box').getStyle('z-index')})});\n",
      "        } else {\n",
      "          $$('div.prototip').each(function(i){i.setStyle({zIndex: 6000})});\n",
      "        }\n",
      "      });\n",
      "\n",
      "      newTip['wrapper'].addClassName('prototipAllowOverflow');\n",
      "\n",
      "        $('quote_book_link_191139').observe('prototip:shown', function () {\n",
      "          $$('div.prototip').each(function (e) {\n",
      "            if ($('quote_book_link_191139').hasClassName('ignored')) {\n",
      "              e.setStyle({'display': 'none'});\n",
      "              return;\n",
      "            }\n",
      "            e.setStyle({'overflow': 'visible'});\n",
      "          });\n",
      "        });\n",
      "      $('quote_book_link_191139').observe('prototip:hidden', function () {\n",
      "        $$('span.elementTwo').each(function (e) {\n",
      "          if (e.getStyle('display') !== 'none') {\n",
      "            var lessLink = e.next();\n",
      "            swapContent(lessLink);\n",
      "          }\n",
      "        });\n",
      "      });\n",
      "\n",
      "//]]>\n",
      "</script>\n",
      "</div>\n",
      "<div class=\"quoteText\">\n",
      "      “It is never too late to be what you might have been.”\n",
      "  <br/>  ―\n",
      "  <span class=\"authorOrTitle\">\n",
      "    George Eliot\n",
      "  </span>\n",
      "</div>\n",
      "<div class=\"quoteText\">\n",
      "      “This life is what you make it. No matter what, you're going to mess up sometimes, it's a universal truth. But the good part is you get to decide how you're going to mess it up. Girls will be your friends - they'll act like it anyway. But just remember, some come, some go. The ones that stay with you through everything - they're your true best friends. Don't let go of them. Also remember, sisters make the best friends in the world. As for lovers, well, they'll come and go too. And baby, I hate to say it, most of them - actually pretty much all of them are going to break your heart, but you can't give up because if you give up, you'll never find your soulmate. You'll never find that half who makes you whole and that goes for everything. Just because you fail once, doesn't mean you're gonna fail at everything. Keep trying, hold on, and always, always, always believe in yourself, because if you don't, then who will, sweetie? So keep your head high, keep your chin up, and most importantly, keep smiling, because life's a beautiful thing and there's so much to smile about.”\n",
      "  <br/>  ―\n",
      "  <span class=\"authorOrTitle\">\n",
      "    Marilyn Monroe\n",
      "  </span>\n",
      "</div>\n",
      "<div class=\"quoteText\">\n",
      "      “There is no greater agony than bearing an untold story inside you.”\n",
      "  <br/>  ―\n",
      "  <span class=\"authorOrTitle\">\n",
      "    Maya Angelou,\n",
      "  </span>\n",
      "<span id=\"quote_book_link_13214\">\n",
      "<a class=\"authorOrTitle\" href=\"/work/quotes/1413589\">I Know Why the Caged Bird Sings</a>\n",
      "</span>\n",
      "<script>\n",
      "//<![CDATA[\n",
      "      var newTip = new Tip($('quote_book_link_13214'), \"\\n\\n  <h2><a class=\\\"readable bookTitle\\\" href=\\\"https://www.goodreads.com/book/show/13214.I_Know_Why_the_Caged_Bird_Sings?from_choice=false&amp;from_home_module=false\\\">I Know Why the Caged Bird Sings<\\/a><\\/h2>\\n\\n      <div>\\n        by <a class=\\\"authorName\\\" href=\\\"/author/show/3503.Maya_Angelou\\\">Maya Angelou<\\/a>\\n      <\\/div>\\n\\n          <div class=\\\"smallText uitext darkGreyText\\\">\\n            <span class=\\\"minirating\\\"><span class=\\\"stars staticStars\\\"><span size=\\\"12x12\\\" class=\\\"staticStar p10\\\"><\\/span><span size=\\\"12x12\\\" class=\\\"staticStar p10\\\"><\\/span><span size=\\\"12x12\\\" class=\\\"staticStar p10\\\"><\\/span><span size=\\\"12x12\\\" class=\\\"staticStar p10\\\"><\\/span><span size=\\\"12x12\\\" class=\\\"staticStar p3\\\"><\\/span><\\/span> 4.22 avg rating &mdash; 341,112 ratings<\\/span>            &mdash; published 1969\\n          <\\/div>\\n\\n    <div class=\\\"addBookTipDescription\\\">\\n      \\n<span id=\\\"freeTextContainer15703988348925985878\\\">Sent by their mother to live with their devout, self-sufficient grandmother in a small Southern town, Maya and her brother, Bailey, endure the ache of abandonment and the prejudice of the local \\\"powhitetrash.\\\" At eight years old and back at her mothe<\\/span>\\n  <span id=\\\"freeText15703988348925985878\\\" style=\\\"display:none\\\">Sent by their mother to live with their devout, self-sufficient grandmother in a small Southern town, Maya and her brother, Bailey, endure the ache of abandonment and the prejudice of the local &quot;powhitetrash.&quot; At eight years old and back at her mother’s side in St. Louis, Maya is attacked by a man many times her age—and has to live with the consequences for a lifetime. Years later, in San Francisco, Maya learns that love for herself, the kindness of others, her own strong spirit, and the ideas of great authors (&quot;I met and fell in love with William Shakespeare&quot;) will allow her to be free instead of imprisoned.\\n \\nPoetic and powerful, I Know Why the Caged Bird Sings will touch hearts and change minds for as long as people read.<\\/span>\\n  <a data-text-id=\\\"15703988348925985878\\\" href=\\\"#\\\" onclick=\\\"swapContent($(this));; return false;\\\">...more<\\/a>\\n\\n    <\\/div>\\n\\n      <div class=\\'wtrButtonContainer wtrSignedOut\\' id=\\'8_book_13214\\'>\\n<div class=\\'wtrUp wtrLeft\\'>\\n<form action=\\\"/shelf/add_to_shelf\\\" accept-charset=\\\"UTF-8\\\" method=\\\"post\\\"><input name=\\\"utf8\\\" type=\\\"hidden\\\" value=\\\"&#x2713;\\\" /><input type=\\\"hidden\\\" name=\\\"authenticity_token\\\" value=\\\"lmFFpLfmpPP00lTSavmUBompJm0pPKbRf1iDav3T4o0g6qOOKPJOOE6c5vGHoJ6iMnE/iQ8MVkJgWs7aNe4vJw==\\\" />\\n<input type=\\\"hidden\\\" name=\\\"book_id\\\" id=\\\"book_id\\\" value=\\\"13214\\\" />\\n<input type=\\\"hidden\\\" name=\\\"name\\\" id=\\\"name\\\" value=\\\"to-read\\\" />\\n<input type=\\\"hidden\\\" name=\\\"unique_id\\\" id=\\\"unique_id\\\" value=\\\"8_book_13214\\\" />\\n<input type=\\\"hidden\\\" name=\\\"wtr_new\\\" id=\\\"wtr_new\\\" value=\\\"true\\\" />\\n<input type=\\\"hidden\\\" name=\\\"from_choice\\\" id=\\\"from_choice\\\" value=\\\"false\\\" />\\n<input type=\\\"hidden\\\" name=\\\"from_home_module\\\" id=\\\"from_home_module\\\" value=\\\"false\\\" />\\n<input type=\\\"hidden\\\" name=\\\"ref\\\" id=\\\"ref\\\" value=\\\"\\\" class=\\\"wtrLeftUpRef\\\" />\\n<input type=\\\"hidden\\\" name=\\\"existing_review\\\" id=\\\"existing_review\\\" value=\\\"false\\\" class=\\\"wtrExisting\\\" />\\n<input type=\\\"hidden\\\" name=\\\"page_referrer\\\" id=\\\"page_referrer\\\" value=\\\"https://search.yahoo.com/\\\" />\\n<input type=\\\"hidden\\\" name=\\\"page_url\\\" id=\\\"page_url\\\" value=\\\"/quotes/tag/inspirational\\\" />\\n<button class=\\'wtrToRead\\' type=\\'submit\\'>\\n<span class=\\'progressTrigger\\'>Want to Read<\\/span>\\n<span class=\\'progressIndicator\\'>saving…<\\/span>\\n<\\/button>\\n<\\/form>\\n\\n<\\/div>\\n\\n<div class=\\'wtrRight wtrUp\\'>\\n<form class=\\\"hiddenShelfForm\\\" action=\\\"/shelf/add_to_shelf\\\" accept-charset=\\\"UTF-8\\\" method=\\\"post\\\"><input name=\\\"utf8\\\" type=\\\"hidden\\\" value=\\\"&#x2713;\\\" /><input type=\\\"hidden\\\" name=\\\"authenticity_token\\\" value=\\\"VsaPmKO4tyY61SqI9k8KqcF7VE5UWca62jGuvcx0JbHgTWmyPKxd7YCbmKsbFgANeqNNqnJpNinFM+MNBEnoGw==\\\" />\\n<input type=\\\"hidden\\\" name=\\\"unique_id\\\" id=\\\"unique_id\\\" value=\\\"8_book_13214\\\" />\\n<input type=\\\"hidden\\\" name=\\\"book_id\\\" id=\\\"book_id\\\" value=\\\"13214\\\" />\\n<input type=\\\"hidden\\\" name=\\\"a\\\" id=\\\"a\\\" />\\n<input type=\\\"hidden\\\" name=\\\"name\\\" id=\\\"name\\\" />\\n<input type=\\\"hidden\\\" name=\\\"from_choice\\\" id=\\\"from_choice\\\" value=\\\"false\\\" />\\n<input type=\\\"hidden\\\" name=\\\"from_home_module\\\" id=\\\"from_home_module\\\" value=\\\"false\\\" />\\n<input type=\\\"hidden\\\" name=\\\"page_referrer\\\" id=\\\"page_referrer\\\" value=\\\"https://search.yahoo.com/\\\" />\\n<input type=\\\"hidden\\\" name=\\\"page_url\\\" id=\\\"page_url\\\" value=\\\"/quotes/tag/inspirational\\\" />\\n<\\/form>\\n\\n<button class=\\'wtrShelfButton\\'><\\/button>\\n<\\/div>\\n\\n<div class=\\'ratingStars wtrRating\\'>\\n<div class=\\'starsErrorTooltip hidden\\'>\\nError rating book. Refresh and try again.\\n<\\/div>\\n<div class=\\'myRating uitext greyText\\'>Rate this book<\\/div>\\n<div class=\\'clearRating uitext\\'>Clear rating<\\/div>\\n<div class=\\\"stars\\\" data-resource-id=\\\"13214\\\" data-user-id=\\\"0\\\" data-submit-url=\\\"/review/rate/13214?page_referrer=https%3A%2F%2Fsearch.yahoo.com%2F&page_url=%2Fquotes%2Ftag%2Finspirational&rate_books_page=false&stars_click=false&wtr_button_id=8_book_13214\\\" data-rating=\\\"0\\\"><a class=\\\"star off\\\" title=\\\"did not like it\\\" href=\\\"#\\\" ref=\\\"\\\">1 of 5 stars<\\/a><a class=\\\"star off\\\" title=\\\"it was ok\\\" href=\\\"#\\\" ref=\\\"\\\">2 of 5 stars<\\/a><a class=\\\"star off\\\" title=\\\"liked it\\\" href=\\\"#\\\" ref=\\\"\\\">3 of 5 stars<\\/a><a class=\\\"star off\\\" title=\\\"really liked it\\\" href=\\\"#\\\" ref=\\\"\\\">4 of 5 stars<\\/a><a class=\\\"star off\\\" title=\\\"it was amazing\\\" href=\\\"#\\\" ref=\\\"\\\">5 of 5 stars<\\/a><\\/div>\\n<\\/div>\\n\\n<\\/div>\\n\\n\\n\\n\\n\", { style: 'addbook', stem: 'leftMiddle', hook: { tip: 'leftMiddle', target: 'rightMiddle' }, offset: { x: 5, y: 0 }, hideOn: false, width: 400, hideAfter: 0.05, delay: 0.35 });\n",
      "      $('quote_book_link_13214').observe('prototip:shown', function() {\n",
      "        if (this.up('#box')) {\n",
      "          $$('div.prototip').each(function(i){i.setStyle({zIndex: $('box').getStyle('z-index')})});\n",
      "        } else {\n",
      "          $$('div.prototip').each(function(i){i.setStyle({zIndex: 6000})});\n",
      "        }\n",
      "      });\n",
      "\n",
      "      newTip['wrapper'].addClassName('prototipAllowOverflow');\n",
      "\n",
      "        $('quote_book_link_13214').observe('prototip:shown', function () {\n",
      "          $$('div.prototip').each(function (e) {\n",
      "            if ($('quote_book_link_13214').hasClassName('ignored')) {\n",
      "              e.setStyle({'display': 'none'});\n",
      "              return;\n",
      "            }\n",
      "            e.setStyle({'overflow': 'visible'});\n",
      "          });\n",
      "        });\n",
      "      $('quote_book_link_13214').observe('prototip:hidden', function () {\n",
      "        $$('span.elementTwo').each(function (e) {\n",
      "          if (e.getStyle('display') !== 'none') {\n",
      "            var lessLink = e.next();\n",
      "            swapContent(lessLink);\n",
      "          }\n",
      "        });\n",
      "      });\n",
      "\n",
      "//]]>\n",
      "</script>\n",
      "</div>\n",
      "<div class=\"quoteText\">\n",
      "      “Everything you can imagine is real.”\n",
      "  <br/>  ―\n",
      "  <span class=\"authorOrTitle\">\n",
      "    Pablo Picasso\n",
      "  </span>\n",
      "</div>\n",
      "<div class=\"quoteText\">\n",
      "      “You can never get a cup of tea large enough or a book long enough to suit me.”\n",
      "  <br/>  ―\n",
      "  <span class=\"authorOrTitle\">\n",
      "    C.S. Lewis\n",
      "  </span>\n",
      "</div>\n",
      "<div class=\"quoteText\">\n",
      "      “To the well-organized mind, death is but the next great adventure.”\n",
      "  <br/>  ―\n",
      "  <span class=\"authorOrTitle\">\n",
      "    J.K. Rowling,\n",
      "  </span>\n",
      "<span id=\"quote_book_link_3\">\n",
      "<a class=\"authorOrTitle\" href=\"/work/quotes/4640799\">Harry Potter and the Sorcerer's Stone</a>\n",
      "</span>\n",
      "<script>\n",
      "//<![CDATA[\n",
      "      var newTip = new Tip($('quote_book_link_3'), \"\\n\\n  <h2><a class=\\\"readable bookTitle\\\" href=\\\"https://www.goodreads.com/book/show/3.Harry_Potter_and_the_Sorcerer_s_Stone?from_choice=false&amp;from_home_module=false\\\">Harry Potter and the Sorcerer&#39;s Stone (Harry Potter, #1)<\\/a><\\/h2>\\n\\n      <div>\\n        by <a class=\\\"authorName\\\" href=\\\"/author/show/1077326.J_K_Rowling\\\">J.K. Rowling<\\/a>\\n      <\\/div>\\n\\n          <div class=\\\"smallText uitext darkGreyText\\\">\\n            <span class=\\\"minirating\\\"><span class=\\\"stars staticStars\\\"><span size=\\\"12x12\\\" class=\\\"staticStar p10\\\"><\\/span><span size=\\\"12x12\\\" class=\\\"staticStar p10\\\"><\\/span><span size=\\\"12x12\\\" class=\\\"staticStar p10\\\"><\\/span><span size=\\\"12x12\\\" class=\\\"staticStar p10\\\"><\\/span><span size=\\\"12x12\\\" class=\\\"staticStar p3\\\"><\\/span><\\/span> 4.46 avg rating &mdash; 5,829,654 ratings<\\/span>            &mdash; published 1997\\n          <\\/div>\\n\\n    <div class=\\\"addBookTipDescription\\\">\\n      \\n<span id=\\\"freeTextContainer6171189533432896549\\\">Harry Potter\\'s life is miserable. His parents are dead and he\\'s stuck with his heartless relatives, who force him to live in a tiny closet under the stairs. But his fortune changes when he receives a letter that tells him the truth about himself: he\\'<\\/span>\\n  <span id=\\\"freeText6171189533432896549\\\" style=\\\"display:none\\\">Harry Potter\\'s life is miserable. His parents are dead and he\\'s stuck with his heartless relatives, who force him to live in a tiny closet under the stairs. But his fortune changes when he receives a letter that tells him the truth about himself: he\\'s a wizard. A mysterious visitor rescues him from his relatives and takes him to his new home, Hogwarts School of Witchcraft and Wizardry.\\n\\nAfter a lifetime of bottling up his magical powers, Harry finally feels like a normal kid. But even within the Wizarding community, he is special. He is the boy who lived: the only person to have ever survived a killing curse inflicted by the evil Lord Voldemort, who launched a brutal takeover of the Wizarding world, only to vanish after failing to kill Harry.\\n\\nThough Harry\\'s first year at Hogwarts is the best of his life, not everything is perfect. There is a dangerous secret object hidden within the castle walls, and Harry believes it\\'s his responsibility to prevent it from falling into evil hands. But doing so will bring him into contact with forces more terrifying than he ever could have imagined.\\n\\nFull of sympathetic characters, wildly imaginative situations, and countless exciting details, the first installment in the series assembles an unforgettable magical world and sets the stage for many high-stakes adventures to come.<\\/span>\\n  <a data-text-id=\\\"6171189533432896549\\\" href=\\\"#\\\" onclick=\\\"swapContent($(this));; return false;\\\">...more<\\/a>\\n\\n    <\\/div>\\n\\n      <div class=\\'wtrButtonContainer wtrSignedOut\\' id=\\'9_book_3\\'>\\n<div class=\\'wtrUp wtrLeft\\'>\\n<form action=\\\"/shelf/add_to_shelf\\\" accept-charset=\\\"UTF-8\\\" method=\\\"post\\\"><input name=\\\"utf8\\\" type=\\\"hidden\\\" value=\\\"&#x2713;\\\" /><input type=\\\"hidden\\\" name=\\\"authenticity_token\\\" value=\\\"Z9OtXexTxh1IdJaQ71CPcGLtbzmPKawVs4vfdIops2PRWEt3c0cs1vI6JLMCCYXU2TV23akZXIasiZLEQhR+yQ==\\\" />\\n<input type=\\\"hidden\\\" name=\\\"book_id\\\" id=\\\"book_id\\\" value=\\\"3\\\" />\\n<input type=\\\"hidden\\\" name=\\\"name\\\" id=\\\"name\\\" value=\\\"to-read\\\" />\\n<input type=\\\"hidden\\\" name=\\\"unique_id\\\" id=\\\"unique_id\\\" value=\\\"9_book_3\\\" />\\n<input type=\\\"hidden\\\" name=\\\"wtr_new\\\" id=\\\"wtr_new\\\" value=\\\"true\\\" />\\n<input type=\\\"hidden\\\" name=\\\"from_choice\\\" id=\\\"from_choice\\\" value=\\\"false\\\" />\\n<input type=\\\"hidden\\\" name=\\\"from_home_module\\\" id=\\\"from_home_module\\\" value=\\\"false\\\" />\\n<input type=\\\"hidden\\\" name=\\\"ref\\\" id=\\\"ref\\\" value=\\\"\\\" class=\\\"wtrLeftUpRef\\\" />\\n<input type=\\\"hidden\\\" name=\\\"existing_review\\\" id=\\\"existing_review\\\" value=\\\"false\\\" class=\\\"wtrExisting\\\" />\\n<input type=\\\"hidden\\\" name=\\\"page_referrer\\\" id=\\\"page_referrer\\\" value=\\\"https://search.yahoo.com/\\\" />\\n<input type=\\\"hidden\\\" name=\\\"page_url\\\" id=\\\"page_url\\\" value=\\\"/quotes/tag/inspirational\\\" />\\n<button class=\\'wtrToRead\\' type=\\'submit\\'>\\n<span class=\\'progressTrigger\\'>Want to Read<\\/span>\\n<span class=\\'progressIndicator\\'>saving…<\\/span>\\n<\\/button>\\n<\\/form>\\n\\n<\\/div>\\n\\n<div class=\\'wtrRight wtrUp\\'>\\n<form class=\\\"hiddenShelfForm\\\" action=\\\"/shelf/add_to_shelf\\\" accept-charset=\\\"UTF-8\\\" method=\\\"post\\\"><input name=\\\"utf8\\\" type=\\\"hidden\\\" value=\\\"&#x2713;\\\" /><input type=\\\"hidden\\\" name=\\\"authenticity_token\\\" value=\\\"C4Xe+Tj8rB1KSTQTJc/PB9xTlZ2fAF5bxzoYjOpVVcW9DjjTp+hG1vAHhjDIlsWjZ4uMebkwrsjYOFU8ImiYbw==\\\" />\\n<input type=\\\"hidden\\\" name=\\\"unique_id\\\" id=\\\"unique_id\\\" value=\\\"9_book_3\\\" />\\n<input type=\\\"hidden\\\" name=\\\"book_id\\\" id=\\\"book_id\\\" value=\\\"3\\\" />\\n<input type=\\\"hidden\\\" name=\\\"a\\\" id=\\\"a\\\" />\\n<input type=\\\"hidden\\\" name=\\\"name\\\" id=\\\"name\\\" />\\n<input type=\\\"hidden\\\" name=\\\"from_choice\\\" id=\\\"from_choice\\\" value=\\\"false\\\" />\\n<input type=\\\"hidden\\\" name=\\\"from_home_module\\\" id=\\\"from_home_module\\\" value=\\\"false\\\" />\\n<input type=\\\"hidden\\\" name=\\\"page_referrer\\\" id=\\\"page_referrer\\\" value=\\\"https://search.yahoo.com/\\\" />\\n<input type=\\\"hidden\\\" name=\\\"page_url\\\" id=\\\"page_url\\\" value=\\\"/quotes/tag/inspirational\\\" />\\n<\\/form>\\n\\n<button class=\\'wtrShelfButton\\'><\\/button>\\n<\\/div>\\n\\n<div class=\\'ratingStars wtrRating\\'>\\n<div class=\\'starsErrorTooltip hidden\\'>\\nError rating book. Refresh and try again.\\n<\\/div>\\n<div class=\\'myRating uitext greyText\\'>Rate this book<\\/div>\\n<div class=\\'clearRating uitext\\'>Clear rating<\\/div>\\n<div class=\\\"stars\\\" data-resource-id=\\\"3\\\" data-user-id=\\\"0\\\" data-submit-url=\\\"/review/rate/3?page_referrer=https%3A%2F%2Fsearch.yahoo.com%2F&page_url=%2Fquotes%2Ftag%2Finspirational&rate_books_page=false&stars_click=false&wtr_button_id=9_book_3\\\" data-rating=\\\"0\\\"><a class=\\\"star off\\\" title=\\\"did not like it\\\" href=\\\"#\\\" ref=\\\"\\\">1 of 5 stars<\\/a><a class=\\\"star off\\\" title=\\\"it was ok\\\" href=\\\"#\\\" ref=\\\"\\\">2 of 5 stars<\\/a><a class=\\\"star off\\\" title=\\\"liked it\\\" href=\\\"#\\\" ref=\\\"\\\">3 of 5 stars<\\/a><a class=\\\"star off\\\" title=\\\"really liked it\\\" href=\\\"#\\\" ref=\\\"\\\">4 of 5 stars<\\/a><a class=\\\"star off\\\" title=\\\"it was amazing\\\" href=\\\"#\\\" ref=\\\"\\\">5 of 5 stars<\\/a><\\/div>\\n<\\/div>\\n\\n<\\/div>\\n\\n\\n\\n\\n\", { style: 'addbook', stem: 'leftMiddle', hook: { tip: 'leftMiddle', target: 'rightMiddle' }, offset: { x: 5, y: 0 }, hideOn: false, width: 400, hideAfter: 0.05, delay: 0.35 });\n",
      "      $('quote_book_link_3').observe('prototip:shown', function() {\n",
      "        if (this.up('#box')) {\n",
      "          $$('div.prototip').each(function(i){i.setStyle({zIndex: $('box').getStyle('z-index')})});\n",
      "        } else {\n",
      "          $$('div.prototip').each(function(i){i.setStyle({zIndex: 6000})});\n",
      "        }\n",
      "      });\n",
      "\n",
      "      newTip['wrapper'].addClassName('prototipAllowOverflow');\n",
      "\n",
      "        $('quote_book_link_3').observe('prototip:shown', function () {\n",
      "          $$('div.prototip').each(function (e) {\n",
      "            if ($('quote_book_link_3').hasClassName('ignored')) {\n",
      "              e.setStyle({'display': 'none'});\n",
      "              return;\n",
      "            }\n",
      "            e.setStyle({'overflow': 'visible'});\n",
      "          });\n",
      "        });\n",
      "      $('quote_book_link_3').observe('prototip:hidden', function () {\n",
      "        $$('span.elementTwo').each(function (e) {\n",
      "          if (e.getStyle('display') !== 'none') {\n",
      "            var lessLink = e.next();\n",
      "            swapContent(lessLink);\n",
      "          }\n",
      "        });\n",
      "      });\n",
      "\n",
      "//]]>\n",
      "</script>\n",
      "</div>\n",
      "<div class=\"quoteText\">\n",
      "      “Life isn't about finding yourself. Life is about creating yourself.”\n",
      "  <br/>  ―\n",
      "  <span class=\"authorOrTitle\">\n",
      "    George Bernard Shaw\n",
      "  </span>\n",
      "</div>\n",
      "<div class=\"quoteText\">\n",
      "      “Do what you can, with what you have, where you are.”\n",
      "  <br/>  ―\n",
      "  <span class=\"authorOrTitle\">\n",
      "    Theodore Roosevelt\n",
      "  </span>\n",
      "</div>\n",
      "<div class=\"quoteText\">\n",
      "      “Listen to the mustn'ts, child. Listen to the don'ts. Listen to the shouldn'ts, the impossibles, the won'ts. Listen to the never haves, then listen close to me... Anything can happen, child. Anything can be.”\n",
      "  <br/>  ―\n",
      "  <span class=\"authorOrTitle\">\n",
      "    Shel Silverstein\n",
      "  </span>\n",
      "</div>\n",
      "<div class=\"quoteText\">\n",
      "      “When one door of happiness closes, another opens; but often we look so long at the closed door that we do not see the one which has been opened for us.”\n",
      "  <br/>  ―\n",
      "  <span class=\"authorOrTitle\">\n",
      "    Helen Keller\n",
      "  </span>\n",
      "</div>\n",
      "<div class=\"quoteText\">\n",
      "      “Success is not final, failure is not fatal: it is the courage to continue that counts.”\n",
      "  <br/>  ―\n",
      "  <span class=\"authorOrTitle\">\n",
      "    Winston S. Churchill\n",
      "  </span>\n",
      "</div>\n",
      "<div class=\"quoteText\">\n",
      "      “So, this is my life. And I want you to know that I am both happy and sad and I'm still trying to figure out how that could be.”\n",
      "  <br/>  ―\n",
      "  <span class=\"authorOrTitle\">\n",
      "    Stephen Chbosky,\n",
      "  </span>\n",
      "<span id=\"quote_book_link_22628\">\n",
      "<a class=\"authorOrTitle\" href=\"/work/quotes/2236198\">The Perks of Being a Wallflower</a>\n",
      "</span>\n",
      "<script>\n",
      "//<![CDATA[\n",
      "      var newTip = new Tip($('quote_book_link_22628'), \"\\n\\n  <h2><a class=\\\"readable bookTitle\\\" href=\\\"https://www.goodreads.com/book/show/22628.The_Perks_of_Being_a_Wallflower?from_choice=false&amp;from_home_module=false\\\">The Perks of Being a Wallflower<\\/a><\\/h2>\\n\\n      <div>\\n        by <a class=\\\"authorName\\\" href=\\\"/author/show/12898.Stephen_Chbosky\\\">Stephen Chbosky<\\/a>\\n      <\\/div>\\n\\n          <div class=\\\"smallText uitext darkGreyText\\\">\\n            <span class=\\\"minirating\\\"><span class=\\\"stars staticStars\\\"><span size=\\\"12x12\\\" class=\\\"staticStar p10\\\"><\\/span><span size=\\\"12x12\\\" class=\\\"staticStar p10\\\"><\\/span><span size=\\\"12x12\\\" class=\\\"staticStar p10\\\"><\\/span><span size=\\\"12x12\\\" class=\\\"staticStar p10\\\"><\\/span><span size=\\\"12x12\\\" class=\\\"staticStar p3\\\"><\\/span><\\/span> 4.20 avg rating &mdash; 1,089,753 ratings<\\/span>            &mdash; published 1999\\n          <\\/div>\\n\\n    <div class=\\\"addBookTipDescription\\\">\\n      \\n<span id=\\\"freeTextContainer12459174661250250558\\\">standing on the fringes of life... offers a unique perspective. But there comes a time to see what it looks like from the dance floor. This haunting novel about the dilemma of passivity vs. passion marks the stunning debut of a provocative new voice<\\/span>\\n  <span id=\\\"freeText12459174661250250558\\\" style=\\\"display:none\\\">standing on the fringes of life...\\noffers a unique perspective. But there comes a time to see\\nwhat it looks like from the dance floor.\\n\\nThis haunting novel about the dilemma of passivity vs. passion marks the stunning debut of a provocative new voice in contemporary fiction: The Perks of Being A WALLFLOWER\\n\\nThis is the story of what it\\'s like to grow up in high school. More intimate than a diary, Charlie\\'s letters are singular and unique, hilarious and devastating. We may not know where he lives. We may not know to whom he is writing. All we know is the world he shares. Caught between trying to live his life and trying to run from it puts him on a strange course through uncharted territory. The world of first dates and mixed tapes, family dramas and new friends. The world of sex, drugs, and The Rocky Horror Picture Show, when all one requires is that the perfect song on that perfect drive to feel infinite.\\n\\nThrough Charlie, Stephen Chbosky has created a deeply affecting coming-of-age story, a powerful novel that will spirit you back to those wild and poignant roller coaster days known as growing up.\\n\\n(back cover)<\\/span>\\n  <a data-text-id=\\\"12459174661250250558\\\" href=\\\"#\\\" onclick=\\\"swapContent($(this));; return false;\\\">...more<\\/a>\\n\\n    <\\/div>\\n\\n      <div class=\\'wtrButtonContainer wtrSignedOut\\' id=\\'10_book_22628\\'>\\n<div class=\\'wtrUp wtrLeft\\'>\\n<form action=\\\"/shelf/add_to_shelf\\\" accept-charset=\\\"UTF-8\\\" method=\\\"post\\\"><input name=\\\"utf8\\\" type=\\\"hidden\\\" value=\\\"&#x2713;\\\" /><input type=\\\"hidden\\\" name=\\\"authenticity_token\\\" value=\\\"VvfTbIS5edSAEQ6WeI406BDh8yhzlT8UpkWSATJEZLLgfDVGG62THzpfvLWV1z5MqznqzFWlz4e5R9+x+nmpGA==\\\" />\\n<input type=\\\"hidden\\\" name=\\\"book_id\\\" id=\\\"book_id\\\" value=\\\"22628\\\" />\\n<input type=\\\"hidden\\\" name=\\\"name\\\" id=\\\"name\\\" value=\\\"to-read\\\" />\\n<input type=\\\"hidden\\\" name=\\\"unique_id\\\" id=\\\"unique_id\\\" value=\\\"10_book_22628\\\" />\\n<input type=\\\"hidden\\\" name=\\\"wtr_new\\\" id=\\\"wtr_new\\\" value=\\\"true\\\" />\\n<input type=\\\"hidden\\\" name=\\\"from_choice\\\" id=\\\"from_choice\\\" value=\\\"false\\\" />\\n<input type=\\\"hidden\\\" name=\\\"from_home_module\\\" id=\\\"from_home_module\\\" value=\\\"false\\\" />\\n<input type=\\\"hidden\\\" name=\\\"ref\\\" id=\\\"ref\\\" value=\\\"\\\" class=\\\"wtrLeftUpRef\\\" />\\n<input type=\\\"hidden\\\" name=\\\"existing_review\\\" id=\\\"existing_review\\\" value=\\\"false\\\" class=\\\"wtrExisting\\\" />\\n<input type=\\\"hidden\\\" name=\\\"page_referrer\\\" id=\\\"page_referrer\\\" value=\\\"https://search.yahoo.com/\\\" />\\n<input type=\\\"hidden\\\" name=\\\"page_url\\\" id=\\\"page_url\\\" value=\\\"/quotes/tag/inspirational\\\" />\\n<button class=\\'wtrToRead\\' type=\\'submit\\'>\\n<span class=\\'progressTrigger\\'>Want to Read<\\/span>\\n<span class=\\'progressIndicator\\'>saving…<\\/span>\\n<\\/button>\\n<\\/form>\\n\\n<\\/div>\\n\\n<div class=\\'wtrRight wtrUp\\'>\\n<form class=\\\"hiddenShelfForm\\\" action=\\\"/shelf/add_to_shelf\\\" accept-charset=\\\"UTF-8\\\" method=\\\"post\\\"><input name=\\\"utf8\\\" type=\\\"hidden\\\" value=\\\"&#x2713;\\\" /><input type=\\\"hidden\\\" name=\\\"authenticity_token\\\" value=\\\"Pp4tweApnqk4y7JXfgW/iOyjXdJSeBpYEprmlbWJNdmIFcvrfz10YoKFAHSTXLUsV3tENnRI6ssNmKslfbT4cw==\\\" />\\n<input type=\\\"hidden\\\" name=\\\"unique_id\\\" id=\\\"unique_id\\\" value=\\\"10_book_22628\\\" />\\n<input type=\\\"hidden\\\" name=\\\"book_id\\\" id=\\\"book_id\\\" value=\\\"22628\\\" />\\n<input type=\\\"hidden\\\" name=\\\"a\\\" id=\\\"a\\\" />\\n<input type=\\\"hidden\\\" name=\\\"name\\\" id=\\\"name\\\" />\\n<input type=\\\"hidden\\\" name=\\\"from_choice\\\" id=\\\"from_choice\\\" value=\\\"false\\\" />\\n<input type=\\\"hidden\\\" name=\\\"from_home_module\\\" id=\\\"from_home_module\\\" value=\\\"false\\\" />\\n<input type=\\\"hidden\\\" name=\\\"page_referrer\\\" id=\\\"page_referrer\\\" value=\\\"https://search.yahoo.com/\\\" />\\n<input type=\\\"hidden\\\" name=\\\"page_url\\\" id=\\\"page_url\\\" value=\\\"/quotes/tag/inspirational\\\" />\\n<\\/form>\\n\\n<button class=\\'wtrShelfButton\\'><\\/button>\\n<\\/div>\\n\\n<div class=\\'ratingStars wtrRating\\'>\\n<div class=\\'starsErrorTooltip hidden\\'>\\nError rating book. Refresh and try again.\\n<\\/div>\\n<div class=\\'myRating uitext greyText\\'>Rate this book<\\/div>\\n<div class=\\'clearRating uitext\\'>Clear rating<\\/div>\\n<div class=\\\"stars\\\" data-resource-id=\\\"22628\\\" data-user-id=\\\"0\\\" data-submit-url=\\\"/review/rate/22628?page_referrer=https%3A%2F%2Fsearch.yahoo.com%2F&page_url=%2Fquotes%2Ftag%2Finspirational&rate_books_page=false&stars_click=false&wtr_button_id=10_book_22628\\\" data-rating=\\\"0\\\"><a class=\\\"star off\\\" title=\\\"did not like it\\\" href=\\\"#\\\" ref=\\\"\\\">1 of 5 stars<\\/a><a class=\\\"star off\\\" title=\\\"it was ok\\\" href=\\\"#\\\" ref=\\\"\\\">2 of 5 stars<\\/a><a class=\\\"star off\\\" title=\\\"liked it\\\" href=\\\"#\\\" ref=\\\"\\\">3 of 5 stars<\\/a><a class=\\\"star off\\\" title=\\\"really liked it\\\" href=\\\"#\\\" ref=\\\"\\\">4 of 5 stars<\\/a><a class=\\\"star off\\\" title=\\\"it was amazing\\\" href=\\\"#\\\" ref=\\\"\\\">5 of 5 stars<\\/a><\\/div>\\n<\\/div>\\n\\n<\\/div>\\n\\n\\n\\n\\n\", { style: 'addbook', stem: 'leftMiddle', hook: { tip: 'leftMiddle', target: 'rightMiddle' }, offset: { x: 5, y: 0 }, hideOn: false, width: 400, hideAfter: 0.05, delay: 0.35 });\n",
      "      $('quote_book_link_22628').observe('prototip:shown', function() {\n",
      "        if (this.up('#box')) {\n",
      "          $$('div.prototip').each(function(i){i.setStyle({zIndex: $('box').getStyle('z-index')})});\n",
      "        } else {\n",
      "          $$('div.prototip').each(function(i){i.setStyle({zIndex: 6000})});\n",
      "        }\n",
      "      });\n",
      "\n",
      "      newTip['wrapper'].addClassName('prototipAllowOverflow');\n",
      "\n",
      "        $('quote_book_link_22628').observe('prototip:shown', function () {\n",
      "          $$('div.prototip').each(function (e) {\n",
      "            if ($('quote_book_link_22628').hasClassName('ignored')) {\n",
      "              e.setStyle({'display': 'none'});\n",
      "              return;\n",
      "            }\n",
      "            e.setStyle({'overflow': 'visible'});\n",
      "          });\n",
      "        });\n",
      "      $('quote_book_link_22628').observe('prototip:hidden', function () {\n",
      "        $$('span.elementTwo').each(function (e) {\n",
      "          if (e.getStyle('display') !== 'none') {\n",
      "            var lessLink = e.next();\n",
      "            swapContent(lessLink);\n",
      "          }\n",
      "        });\n",
      "      });\n",
      "\n",
      "//]]>\n",
      "</script>\n",
      "</div>\n",
      "<div class=\"quoteText\">\n",
      "      “You may say I'm a dreamer, but I'm not the only one. I hope someday you'll join us. And the world will live as one.”\n",
      "  <br/>  ―\n",
      "  <span class=\"authorOrTitle\">\n",
      "    John Lennon\n",
      "  </span>\n",
      "</div>\n"
     ]
    },
    {
     "data": {
      "text/plain": [
       "[None,\n",
       " None,\n",
       " None,\n",
       " None,\n",
       " None,\n",
       " None,\n",
       " None,\n",
       " None,\n",
       " None,\n",
       " None,\n",
       " None,\n",
       " None,\n",
       " None,\n",
       " None,\n",
       " None,\n",
       " None,\n",
       " None,\n",
       " None,\n",
       " None,\n",
       " None,\n",
       " None,\n",
       " None,\n",
       " None,\n",
       " None,\n",
       " None,\n",
       " None,\n",
       " None,\n",
       " None,\n",
       " None,\n",
       " None]"
      ]
     },
     "execution_count": 124,
     "metadata": {},
     "output_type": "execute_result"
    }
   ],
   "source": [
    "[print(x) for x in k(class_ = 'quoteText')]"
   ]
  },
  {
   "cell_type": "code",
   "execution_count": 136,
   "metadata": {},
   "outputs": [
    {
     "name": "stdout",
     "output_type": "stream",
     "text": [
      "\n",
      "      “Be yourself; everyone else is already taken.”\n",
      "  \n",
      "\n",
      "      “You've gotta dance like there's nobody watching,\n",
      "\n",
      "      “Be the change that you wish to see in the world.”\n",
      "  \n",
      "\n",
      "      “No one can make you feel inferior without your consent.”\n",
      "  \n",
      "\n",
      "      “Live as if you were to die tomorrow. Learn as if you were to live forever.”\n",
      "  \n",
      "\n",
      "      “Darkness cannot drive out darkness: only light can do that. Hate cannot drive out hate: only love can do that.”\n",
      "  \n",
      "\n",
      "      “Without music, life would be a mistake.”\n",
      "  \n",
      "\n",
      "      “We accept the love we think we deserve.”\n",
      "  \n",
      "\n",
      "      “Imperfection is beauty, madness is genius and it's better to be absolutely ridiculous than absolutely boring.”\n",
      "  \n",
      "\n",
      "      “There are only two ways to live your life. One is as though nothing is a miracle. The other is as though everything is a miracle.”\n",
      "  \n",
      "\n",
      "      “We are all in the gutter, but some of us are looking at the stars.”\n",
      "  \n",
      "\n",
      "      “Fairy tales are more than true: not because they tell us that dragons exist, but because they tell us that dragons can be beaten.”\n",
      "  \n",
      "\n",
      "      “Yesterday is history, tomorrow is a mystery, today is a gift of God, which is why we call it the present.”\n",
      "  \n",
      "\n",
      "      “I have not failed. I've just found 10,000 ways that won't work.”\n",
      "  \n",
      "\n",
      "      “The opposite of love is not hate, it's indifference. The opposite of art is not ugliness, it's indifference. The opposite of faith is not heresy, it's indifference. And the opposite of life is not death, it's indifference.”\n",
      "  \n",
      "\n",
      "      “I am enough of an artist to draw freely upon my imagination. Imagination is more important than knowledge. Knowledge is limited. Imagination encircles the world.”\n",
      "  \n",
      "\n",
      "      “You have brains in your head. You have feet in your shoes. You can steer yourself any direction you choose. You're on your own. And you know what you know. And YOU are the one who'll decide where to go...”\n",
      "  \n",
      "\n",
      "      “It is never too late to be what you might have been.”\n",
      "  \n",
      "\n",
      "      “This life is what you make it. No matter what, you're going to mess up sometimes, it's a universal truth. But the good part is you get to decide how you're going to mess it up. Girls will be your friends - they'll act like it anyway. But just remember, some come, some go. The ones that stay with you through everything - they're your true best friends. Don't let go of them. Also remember, sisters make the best friends in the world. As for lovers, well, they'll come and go too. And baby, I hate to say it, most of them - actually pretty much all of them are going to break your heart, but you can't give up because if you give up, you'll never find your soulmate. You'll never find that half who makes you whole and that goes for everything. Just because you fail once, doesn't mean you're gonna fail at everything. Keep trying, hold on, and always, always, always believe in yourself, because if you don't, then who will, sweetie? So keep your head high, keep your chin up, and most importantly, keep smiling, because life's a beautiful thing and there's so much to smile about.”\n",
      "  \n",
      "\n",
      "      “There is no greater agony than bearing an untold story inside you.”\n",
      "  \n",
      "\n",
      "      “Everything you can imagine is real.”\n",
      "  \n",
      "\n",
      "      “You can never get a cup of tea large enough or a book long enough to suit me.”\n",
      "  \n",
      "\n",
      "      “To the well-organized mind, death is but the next great adventure.”\n",
      "  \n",
      "\n",
      "      “Life isn't about finding yourself. Life is about creating yourself.”\n",
      "  \n",
      "\n",
      "      “Do what you can, with what you have, where you are.”\n",
      "  \n",
      "\n",
      "      “Listen to the mustn'ts, child. Listen to the don'ts. Listen to the shouldn'ts, the impossibles, the won'ts. Listen to the never haves, then listen close to me... Anything can happen, child. Anything can be.”\n",
      "  \n",
      "\n",
      "      “When one door of happiness closes, another opens; but often we look so long at the closed door that we do not see the one which has been opened for us.”\n",
      "  \n",
      "\n",
      "      “Success is not final, failure is not fatal: it is the courage to continue that counts.”\n",
      "  \n",
      "\n",
      "      “So, this is my life. And I want you to know that I am both happy and sad and I'm still trying to figure out how that could be.”\n",
      "  \n",
      "\n",
      "      “You may say I'm a dreamer, but I'm not the only one. I hope someday you'll join us. And the world will live as one.”\n",
      "  \n",
      "\n",
      "\n"
     ]
    }
   ],
   "source": [
    "[print(list(x.strings)[0]) for x in k('div', class_ = 'quoteText')]\n",
    "print('\\n')"
   ]
  },
  {
   "cell_type": "code",
   "execution_count": 137,
   "metadata": {},
   "outputs": [
    {
     "data": {
      "text/plain": [
       "<title>The Dormouse's story</title>"
      ]
     },
     "execution_count": 137,
     "metadata": {},
     "output_type": "execute_result"
    }
   ],
   "source": [
    "soup.title"
   ]
  },
  {
   "cell_type": "code",
   "execution_count": 138,
   "metadata": {},
   "outputs": [
    {
     "data": {
      "text/plain": [
       "<title>The Dormouse's story</title>"
      ]
     },
     "execution_count": 138,
     "metadata": {},
     "output_type": "execute_result"
    }
   ],
   "source": [
    "soup.head.title"
   ]
  },
  {
   "cell_type": "code",
   "execution_count": 139,
   "metadata": {},
   "outputs": [
    {
     "data": {
      "text/plain": [
       "'title'"
      ]
     },
     "execution_count": 139,
     "metadata": {},
     "output_type": "execute_result"
    }
   ],
   "source": [
    "soup.head.title.name"
   ]
  },
  {
   "cell_type": "code",
   "execution_count": 141,
   "metadata": {},
   "outputs": [
    {
     "data": {
      "text/plain": [
       "\"The Dormouse's story\""
      ]
     },
     "execution_count": 141,
     "metadata": {},
     "output_type": "execute_result"
    }
   ],
   "source": [
    "soup.head.title.text"
   ]
  },
  {
   "cell_type": "code",
   "execution_count": 142,
   "metadata": {},
   "outputs": [],
   "source": [
    "k = soup.a"
   ]
  },
  {
   "cell_type": "code",
   "execution_count": 143,
   "metadata": {},
   "outputs": [
    {
     "data": {
      "text/plain": [
       "<a class=\"sister\" href=\"http://example.com/elsie\" id=\"link1\">Elsie</a>"
      ]
     },
     "execution_count": 143,
     "metadata": {},
     "output_type": "execute_result"
    }
   ],
   "source": [
    "k"
   ]
  },
  {
   "cell_type": "code",
   "execution_count": 146,
   "metadata": {},
   "outputs": [
    {
     "data": {
      "text/plain": [
       "[<a class=\"sister\" href=\"http://example.com/lacie\" id=\"link2\">Lacie</a>,\n",
       " <a class=\"sister\" href=\"http://example.com/tillie\" id=\"link3\">Tillie</a>]"
      ]
     },
     "execution_count": 146,
     "metadata": {},
     "output_type": "execute_result"
    }
   ],
   "source": [
    "k.find_next_siblings('a')"
   ]
  },
  {
   "cell_type": "code",
   "execution_count": 147,
   "metadata": {},
   "outputs": [],
   "source": [
    "k.find_previous_sibling('p')"
   ]
  },
  {
   "cell_type": "code",
   "execution_count": 148,
   "metadata": {},
   "outputs": [],
   "source": [
    "k = soup('a')"
   ]
  },
  {
   "cell_type": "code",
   "execution_count": 149,
   "metadata": {},
   "outputs": [
    {
     "data": {
      "text/plain": [
       "[<a class=\"sister\" href=\"http://example.com/elsie\" id=\"link1\">Elsie</a>,\n",
       " <a class=\"sister\" href=\"http://example.com/lacie\" id=\"link2\">Lacie</a>,\n",
       " <a class=\"sister\" href=\"http://example.com/tillie\" id=\"link3\">Tillie</a>]"
      ]
     },
     "execution_count": 149,
     "metadata": {},
     "output_type": "execute_result"
    }
   ],
   "source": [
    "k"
   ]
  },
  {
   "cell_type": "code",
   "execution_count": 151,
   "metadata": {},
   "outputs": [
    {
     "data": {
      "text/plain": [
       "<a class=\"sister\" href=\"http://example.com/elsie\" id=\"link1\">Elsie</a>"
      ]
     },
     "execution_count": 151,
     "metadata": {},
     "output_type": "execute_result"
    }
   ],
   "source": [
    "k[1].find_previous_sibling('a')"
   ]
  },
  {
   "cell_type": "code",
   "execution_count": 160,
   "metadata": {},
   "outputs": [
    {
     "data": {
      "text/plain": [
       "<p class=\"story\">Once upon a time there were three little sisters; and their names were\n",
       "<a class=\"sister\" href=\"http://example.com/elsie\" id=\"link1\">Elsie</a>,\n",
       "<a class=\"sister\" href=\"http://example.com/lacie\" id=\"link2\">Lacie</a> and\n",
       "<a class=\"sister\" href=\"http://example.com/tillie\" id=\"link3\">Tillie</a>;\n",
       "and they lived at the bottom of a well.</p>"
      ]
     },
     "execution_count": 160,
     "metadata": {},
     "output_type": "execute_result"
    }
   ],
   "source": [
    "k[0].find_parent()"
   ]
  },
  {
   "cell_type": "code",
   "execution_count": 162,
   "metadata": {},
   "outputs": [
    {
     "data": {
      "text/plain": [
       "<body>\n",
       "<p class=\"title\"><b>The Dormouse's story</b></p>\n",
       "<p class=\"story\">Once upon a time there were three little sisters; and their names were\n",
       "<a class=\"sister\" href=\"http://example.com/elsie\" id=\"link1\">Elsie</a>,\n",
       "<a class=\"sister\" href=\"http://example.com/lacie\" id=\"link2\">Lacie</a> and\n",
       "<a class=\"sister\" href=\"http://example.com/tillie\" id=\"link3\">Tillie</a>;\n",
       "and they lived at the bottom of a well.</p>\n",
       "<p class=\"story\">...</p>\n",
       "</body>"
      ]
     },
     "execution_count": 162,
     "metadata": {},
     "output_type": "execute_result"
    }
   ],
   "source": [
    "k[0].find_parent('body')"
   ]
  },
  {
   "cell_type": "code",
   "execution_count": 164,
   "metadata": {},
   "outputs": [
    {
     "data": {
      "text/plain": [
       "[]"
      ]
     },
     "execution_count": 164,
     "metadata": {},
     "output_type": "execute_result"
    }
   ],
   "source": [
    "k[0].find_parents('a')"
   ]
  },
  {
   "cell_type": "code",
   "execution_count": 168,
   "metadata": {},
   "outputs": [
    {
     "name": "stdout",
     "output_type": "stream",
     "text": [
      "p\n",
      "body\n",
      "html\n",
      "[document]\n"
     ]
    },
    {
     "data": {
      "text/plain": [
       "[None, None, None, None]"
      ]
     },
     "execution_count": 168,
     "metadata": {},
     "output_type": "execute_result"
    }
   ],
   "source": [
    "[print(x.name) for x in k[0].find_parents()]"
   ]
  },
  {
   "cell_type": "code",
   "execution_count": 169,
   "metadata": {},
   "outputs": [],
   "source": [
    "a = soup.a"
   ]
  },
  {
   "cell_type": "code",
   "execution_count": 170,
   "metadata": {},
   "outputs": [
    {
     "data": {
      "text/plain": [
       "<a class=\"sister\" href=\"http://example.com/elsie\" id=\"link1\">Elsie</a>"
      ]
     },
     "execution_count": 170,
     "metadata": {},
     "output_type": "execute_result"
    }
   ],
   "source": [
    "a"
   ]
  },
  {
   "cell_type": "code",
   "execution_count": 171,
   "metadata": {},
   "outputs": [
    {
     "data": {
      "text/plain": [
       "<p class=\"story\">...</p>"
      ]
     },
     "execution_count": 171,
     "metadata": {},
     "output_type": "execute_result"
    }
   ],
   "source": [
    "a.find_next('p')"
   ]
  },
  {
   "cell_type": "code",
   "execution_count": 172,
   "metadata": {},
   "outputs": [
    {
     "data": {
      "text/plain": [
       "<a class=\"sister\" href=\"http://example.com/lacie\" id=\"link2\">Lacie</a>"
      ]
     },
     "execution_count": 172,
     "metadata": {},
     "output_type": "execute_result"
    }
   ],
   "source": [
    "a.find_next()"
   ]
  },
  {
   "cell_type": "code",
   "execution_count": 173,
   "metadata": {},
   "outputs": [
    {
     "data": {
      "text/plain": [
       "[<a class=\"sister\" href=\"http://example.com/lacie\" id=\"link2\">Lacie</a>,\n",
       " <a class=\"sister\" href=\"http://example.com/tillie\" id=\"link3\">Tillie</a>,\n",
       " <p class=\"story\">...</p>]"
      ]
     },
     "execution_count": 173,
     "metadata": {},
     "output_type": "execute_result"
    }
   ],
   "source": [
    "a.find_all_next()"
   ]
  },
  {
   "cell_type": "code",
   "execution_count": 174,
   "metadata": {},
   "outputs": [
    {
     "data": {
      "text/plain": [
       "\n",
       "<html><head><title>The Dormouse's story</title></head>\n",
       "<body>\n",
       "<p class=\"title\"><b>The Dormouse's story</b></p>\n",
       "<p class=\"story\">Once upon a time there were three little sisters; and their names were\n",
       "<a class=\"sister\" href=\"http://example.com/elsie\" id=\"link1\">Elsie</a>,\n",
       "<a class=\"sister\" href=\"http://example.com/lacie\" id=\"link2\">Lacie</a> and\n",
       "<a class=\"sister\" href=\"http://example.com/tillie\" id=\"link3\">Tillie</a>;\n",
       "and they lived at the bottom of a well.</p>\n",
       "<p class=\"story\">...</p>\n",
       "</body></html>"
      ]
     },
     "execution_count": 174,
     "metadata": {},
     "output_type": "execute_result"
    }
   ],
   "source": [
    "soup"
   ]
  },
  {
   "cell_type": "code",
   "execution_count": 176,
   "metadata": {},
   "outputs": [
    {
     "name": "stdout",
     "output_type": "stream",
     "text": [
      "p\n",
      "a\n",
      "a\n",
      "a\n",
      "p\n"
     ]
    },
    {
     "data": {
      "text/plain": [
       "[None, None, None, None, None]"
      ]
     },
     "execution_count": 176,
     "metadata": {},
     "output_type": "execute_result"
    }
   ],
   "source": [
    "[print(x.name) for x in soup.b.find_all_next()]"
   ]
  },
  {
   "cell_type": "code",
   "execution_count": 177,
   "metadata": {},
   "outputs": [],
   "source": [
    "import requests\n",
    "url = 'https://www.cricbuzz.com/'\n",
    "a = requests.get(url)\n",
    "x = BeautifulSoup(a.content)"
   ]
  },
  {
   "cell_type": "code",
   "execution_count": 189,
   "metadata": {},
   "outputs": [
    {
     "data": {
      "text/plain": [
       "[<link href=\"/images/cric_ball.ico\" rel=\"shortcut icon\" type=\"image/x-icon\"/>,\n",
       " <link href=\"/images/apple-touch-icon.png\" rel=\"apple-touch-icon\"/>,\n",
       " <link href=\"android-app://com.cricbuzz.android/http/www.cricbuzz.com/\" rel=\"alternate\"/>,\n",
       " <link href=\"//m.cricbuzz.com/\" media=\"only screen and (max-width: 640px)\" rel=\"alternate\"/>,\n",
       " <link href=\"https://www.cricbuzz.com\" rel=\"canonical\"/>,\n",
       " <link href=\"/dist/css/cricbuzz.min.201903251443.css\" rel=\"stylesheet\" type=\"text/css\"/>,\n",
       " <a href=\"https://plus.google.com/104502282508811467249\" rel=\"publisher\"></a>,\n",
       " <a class=\"cb-skin-ads-link cb-skin-ads-link-fixed ad-skin\" href=\"Javascript:void(0)\" id=\"ad-skin\" target=\"_blank\"></a>,\n",
       " <a class=\"cb-skin-ads-close cb-font-18 ad-skin-close\" href=\"Javascript:void(0)\" style=\"position:fixed; z-index:1001; color:#FFF; background:#000; padding:2px 5px; right:2px;\">✖</a>,\n",
       " <a class=\"cb-hm-text\" href=\"/\" target=\"_self\"><img alt=\"Cricbuzz Logo\" height=\"30\" itemprop=\"image\" src=\"/images/cbz-logo.png\" style=\"bottom: -4px; position: relative;\" title=\"Cricbuzz Logo\" width=\"101\"/></a>,\n",
       " <a class=\"cb-hm-mnu-itm\" href=\"/cricket-match/live-scores\" target=\"_self\" title=\"Live Cricket Score\">Live Scores</a>,\n",
       " <a class=\"cb-hm-mnu-itm\" href=\"/cricket-schedule/upcoming-series/international\" target=\"_self\" title=\"Cricket Schedule\">Schedule</a>,\n",
       " <a class=\"cb-hm-mnu-itm\" href=\"/cricket-scorecard-archives\" target=\"_self\" title=\"Cricket Scorecard Archives\">Archives</a>,\n",
       " <a class=\"text-white\" href=\"/cricket-news\" target=\"_self\">News</a>,\n",
       " <a class=\"cb-subnav-item\" href=\"/cricket-news\" target=\"_self\" title=\"Latest Cricket News\">All Stories</a>,\n",
       " <a class=\"cb-subnav-item\" href=\"/cricket-news/latest-news\" target=\"_self\" title=\"Latest Cricket News\">Latest News</a>,\n",
       " <a class=\"cb-subnav-item\" href=\"/cricket-news/info/\" target=\"_self\" title=\"Latest Cricket Topics\">Topics</a>,\n",
       " <a class=\"cb-subnav-item\" href=\"/cricket-news/editorial/spotlight\" target=\"_self\" title=\"Cricket Editorials and Specials\">Spotlight</a>,\n",
       " <a class=\"cb-subnav-item\" href=\"/cricket-news/editorial/editorial-list\" target=\"_self\" title=\"Latest Cricket Opinions &amp; Editorials\">Opinions</a>,\n",
       " <a class=\"cb-subnav-item\" href=\"/cricket-news/editorial/specials\" target=\"_self\" title=\"Latest Cricket Specials\">Specials</a>,\n",
       " <a class=\"cb-subnav-item\" href=\"/cricket-news/editorial/stats-analysis\" target=\"_self\" title=\"Latest Cricket Stats &amp; Analysis\">Stats &amp; Analysis</a>,\n",
       " <a class=\"cb-subnav-item\" href=\"/cricket-news/editorial/interviews\" target=\"_self\" title=\"Latest Cricket Player Interviews\">Interviews</a>,\n",
       " <a class=\"cb-subnav-item\" href=\"/cricket-news/editorial/live-blogs\" target=\"_self\" title=\"Latest Cricket Match live blogs\">Live Blogs</a>,\n",
       " <a class=\"cb-subnav-item\" href=\"/cricket-news/experts/harsha-bhogle/170\" target=\"_self\" title=\"Articles and Videos by Harsha Bhogle\">Harsha Bhogle</a>,\n",
       " <a class=\"text-white\" href=\"/cricket-schedule/series\" target=\"_self\">Series</a>,\n",
       " <a class=\"cb-subnav-item\" href=\"/cricket-series/2810/indian-premier-league-2019\" target=\"_self\" title=\"Indian Premier League 2019\">Indian Premier League 2019</a>,\n",
       " <a class=\"cb-subnav-item\" href=\"/cricket-series/2806/pakistan-v-australia-in-uae-2019\" target=\"_self\" title=\"Pakistan v Australia in UAE, 2019\">Pakistan v Australia in UAE, 2019</a>,\n",
       " <a class=\"cb-subnav-item\" href=\"/cricket-series/2692/sri-lanka-tour-of-south-africa-2019\" target=\"_self\" title=\"Sri Lanka tour of South Africa, 2019\">Sri Lanka tour of South Africa, 2019</a>,\n",
       " <a class=\"cb-subnav-item\" href=\"/cricket-series/2811/england-women-tour-of-sri-lanka-2019\" target=\"_self\" title=\"England Women tour of Sri Lanka, 2019\">England Women tour of Sri Lanka, 2019</a>,\n",
       " <a class=\"text-white\" href=\"/cricket-team\" target=\"_self\">Teams</a>,\n",
       " <a class=\"cb-subnav-item cb-sub-lg-sec-item\" href=\"/cricket-team/india/2\" target=\"_self\" title=\"India Cricket Team\">India</a>,\n",
       " <a class=\"cb-subnav-item cb-sub-lg-sec-item\" href=\"/cricket-team/pakistan/3\" target=\"_self\" title=\"Pakistan Cricket Team\">Pakistan</a>,\n",
       " <a class=\"cb-subnav-item cb-sub-lg-sec-item\" href=\"/cricket-team/australia/4\" target=\"_self\" title=\"Australia Cricket Team\">Australia</a>,\n",
       " <a class=\"cb-subnav-item cb-sub-lg-sec-item\" href=\"/cricket-team/sri-lanka/5\" target=\"_self\" title=\"Sri Lanka Cricket Team\">Sri Lanka</a>,\n",
       " <a class=\"cb-subnav-item cb-sub-lg-sec-item\" href=\"/cricket-team/bangladesh/6\" target=\"_self\" title=\"Bangladesh Cricket Team\">Bangladesh</a>,\n",
       " <a class=\"cb-subnav-item cb-sub-lg-sec-item\" href=\"/cricket-team/england/9\" target=\"_self\" title=\"England Cricket Team\">England</a>,\n",
       " <a class=\"cb-subnav-item cb-sub-lg-sec-item\" href=\"/cricket-team/windies/10\" target=\"_self\" title=\"Windies Cricket Team\">Windies</a>,\n",
       " <a class=\"cb-subnav-item cb-sub-lg-sec-item\" href=\"/cricket-team/south-africa/11\" target=\"_self\" title=\"South Africa Cricket Team\">South Africa</a>,\n",
       " <a class=\"cb-subnav-item cb-sub-lg-sec-item\" href=\"/cricket-team/zimbabwe/12\" target=\"_self\" title=\"Zimbabwe Cricket Team\">Zimbabwe</a>,\n",
       " <a class=\"cb-subnav-item cb-sub-lg-sec-item\" href=\"/cricket-team/new-zealand/13\" target=\"_self\" title=\"New Zealand Cricket Team\">New Zealand</a>,\n",
       " <a class=\"cb-subnav-item cb-sub-lg-sec-item\" href=\"/cricket-team/ireland/27\" target=\"_self\" title=\"Ireland Cricket Team\">Ireland</a>,\n",
       " <a class=\"cb-subnav-item cb-sub-lg-sec-item\" href=\"/cricket-team/afghanistan/96\" target=\"_self\" title=\"Afghanistan Cricket Team\">Afghanistan</a>,\n",
       " <a class=\"cb-subnav-item cb-sub-lg-sec-item\" href=\"/cricket-team/united-arab-emirates/7\" target=\"_self\" title=\"United Arab Emirates Cricket Team\">United Arab Emirates</a>,\n",
       " <a class=\"cb-subnav-item cb-sub-lg-sec-item\" href=\"/cricket-team/hong-kong/8\" target=\"_self\" title=\"Hong Kong Cricket Team\">Hong Kong</a>,\n",
       " <a class=\"cb-subnav-item cb-sub-lg-sec-item\" href=\"/cricket-team/kenya/14\" target=\"_self\" title=\"Kenya Cricket Team\">Kenya</a>,\n",
       " <a class=\"cb-subnav-item cb-sub-lg-sec-item\" href=\"/cricket-team/united-states-of-america/15\" target=\"_self\" title=\"United States of America Cricket Team\">United States of America</a>,\n",
       " <a class=\"cb-subnav-item cb-sub-lg-sec-item\" href=\"/cricket-team/scotland/23\" target=\"_self\" title=\"Scotland Cricket Team\">Scotland</a>,\n",
       " <a class=\"cb-subnav-item cb-sub-lg-sec-item\" href=\"/cricket-team/netherlands/24\" target=\"_self\" title=\"Netherlands Cricket Team\">Netherlands</a>,\n",
       " <a class=\"cb-subnav-item cb-sub-lg-sec-item\" href=\"/cricket-team/bermuda/25\" target=\"_self\" title=\"Bermuda Cricket Team\">Bermuda</a>,\n",
       " <a class=\"cb-subnav-item cb-sub-lg-sec-item\" href=\"/cricket-team/canada/26\" target=\"_self\" title=\"Canada Cricket Team\">Canada</a>,\n",
       " <a class=\"cb-subnav-item cb-sub-lg-sec-item\" href=\"/cricket-team/uganda/44\" target=\"_self\" title=\"Uganda Cricket Team\">Uganda</a>,\n",
       " <a class=\"cb-subnav-item cb-sub-lg-sec-item\" href=\"/cricket-team/malaysia/71\" target=\"_self\" title=\"Malaysia Cricket Team\">Malaysia</a>,\n",
       " <a class=\"cb-subnav-item cb-sub-lg-sec-item\" href=\"/cricket-team/nepal/72\" target=\"_self\" title=\"Nepal Cricket Team\">Nepal</a>,\n",
       " <a class=\"cb-subnav-item cb-sub-lg-sec-item\" href=\"/cricket-team/germany/77\" target=\"_self\" title=\"Germany Cricket Team\">Germany</a>,\n",
       " <a class=\"cb-sub-lg-more\" href=\"/cricket-team\" target=\"_self\">More...</a>,\n",
       " <a class=\"text-white\" href=\"/cricket-videos\" target=\"_self\">Videos</a>,\n",
       " <a class=\"cb-subnav-item\" href=\"/cricket-videos\" target=\"_self\" title=\"All Cricket Videos\">All Videos</a>,\n",
       " <a class=\"cb-subnav-item\" href=\"/cricket-videos/categories\" target=\"_self\" title=\"Cricket Videos Categories\">Categories</a>,\n",
       " <a class=\"cb-subnav-item\" href=\"/cricket-videos/playlists\" target=\"_self\" title=\"Cricket Videos Playlists\">Playlists</a>,\n",
       " <a class=\"text-white\" href=\"/cricket-stats/icc-rankings/men/batting\">Rankings</a>,\n",
       " <a class=\"cb-subnav-item\" href=\"/cricket-stats/icc-rankings/men/batting\" target=\"_self\" title=\"ICC Rankings Men\">ICC Rankings - Men</a>,\n",
       " <a class=\"cb-subnav-item\" href=\"/cricket-stats/icc-rankings/women/batting\" target=\"_self\" title=\"ICC Rankings Women\">ICC Rankings - Women</a>,\n",
       " <a class=\"cb-subnav-item\" href=\"/cricket-photo-gallery\" target=\"_self\" title=\"Photo Gallery\">Photos</a>,\n",
       " <a class=\"cb-subnav-item\" href=\"/mobileapps\" target=\"_self\" title=\"Mobile Apps\">Mobile Apps</a>,\n",
       " <a class=\"cb-subnav-item\" href=\"/careers\" target=\"_self\" title=\"Careers\">Careers</a>,\n",
       " <a class=\"cb-subnav-item\" href=\"/info/contact\" target=\"_self\" title=\"Contact Us\">Contact Us</a>,\n",
       " <a class=\"text-black cb-srch-suggest-link\" href=\"javascript:void(0)\" ng-if=\"suggest.isSearchItem\"> <div class=\"cb-srch-suggest-img\"> <div class=\"cb-srch-sugggest-icon cb-srch-sugggest-icon-search cb-ico\"> </div> </div> <div class=\"cb-srch-suggest-content cb-center-text\"> <p class=\"cb-srch-suggest-content-title\">Search for “<span ng-bind=\"searchText\"></span>”</p> </div> </a>,\n",
       " <a class=\"cb-nav-tab-hm active\" href=\"javascript:void(0)\" id=\"featured-mtchs-tab\" ng-class=\"{true:'active',false:''}[run_active == 'Featured']\" ng-click=\"run_active = 'Featured'\">Featured</a>,\n",
       " <a class=\"cb-nav-tab-hm\" href=\"javascript:void(0)\" id=\"international-mtchs-tab\" ng-class=\"{true:'active',false:''}[run_active == 'International']\" ng-click=\"run_active = 'International'\">International</a>,\n",
       " <a class=\"cb-nav-tab-hm\" href=\"javascript:void(0)\" id=\"ipl-2019-mtchs-tab\" ng-class=\"{true:'active',false:''}[run_active == 'IPL 2019']\" ng-click=\"run_active = 'IPL 2019'\">IPL 2019</a>,\n",
       " <a class=\"cb-nav-tab-hm cb-text-link cb-all-mtch-tab\" href=\"/cricket-match/live-scores\" id=\"AllMatches\" title=\"Live Scores of Cricket Matches\">All Matches</a>,\n",
       " <a class=\"cb-font-12\" href=\"/live-cricket-scores/22399/rajasthan-vs-punjab-4th-match-indian-premier-league-2019\" target=\"_self\" title=\"Rajasthan Royals v Kings XI Punjab - 4th Match\"><div class=\"cb-hmscg-bat-txt cb-ovr-flo\"><div class=\"cb-ovr-flo cb-hmscg-tm-nm\">RAJA..</div><div class=\"cb-ovr-flo\" style=\"display:inline-block; width:140px\">4/0 (0.3 Ovs)</div></div><div class=\"cb-hmscg-bwl-txt\"><div class=\"cb-ovr-flo cb-hmscg-tm-nm\">PUNJ..</div><div class=\"cb-ovr-flo\" style=\"display:inline-block; width:140px\">184/4 (20.0 Ovs)</div></div><div class=\"cb-ovr-flo cb-text-live\">Rajasthan need 181 runs</div></a>,\n",
       " <a class=\"cb-font-12\" href=\"/live-cricket-scores/22374/pak-vs-aus-2nd-odi-pakistan-v-australia-in-uae-2019\" target=\"_self\" title=\"Pakistan v Australia - 2nd ODI\"><div class=\"cb-hmscg-bat-txt cb-ovr-flo\"><div class=\"cb-ovr-flo cb-hmscg-tm-nm\">AUS</div><div class=\"cb-ovr-flo\" style=\"display:inline-block; width:140px\">285/2 (47.5 Ovs)</div></div><div class=\"cb-hmscg-bwl-txt\"><div class=\"cb-ovr-flo cb-hmscg-tm-nm\">PAK</div><div class=\"cb-ovr-flo\" style=\"display:inline-block; width:140px\">284/7 (50.0 Ovs)</div></div><div class=\"cb-ovr-flo cb-text-complete\">Australia won by 8 wkts</div></a>,\n",
       " <a class=\"cb-font-12\" href=\"/live-cricket-scores/20215/rsa-vs-sl-3rd-t20i-sri-lanka-tour-of-south-africa-2019\" target=\"_self\" title=\"South Africa v Sri Lanka - 3rd T20I\"><div class=\"cb-hmscg-bat-txt cb-ovr-flo\"><div class=\"cb-ovr-flo cb-hmscg-tm-nm\">SL</div><div class=\"cb-ovr-flo\" style=\"display:inline-block; width:140px\">137-all out (15.4 Ovs)</div></div><div class=\"cb-hmscg-bwl-txt\"><div class=\"cb-ovr-flo cb-hmscg-tm-nm\">RSA</div><div class=\"cb-ovr-flo\" style=\"display:inline-block; width:140px\">198/2 (20.0 Ovs)</div></div><div class=\"cb-ovr-flo cb-text-complete\">South Africa won by 45 runs (DLS method)</div></a>,\n",
       " <a class=\"cb-font-12\" href=\"/live-cricket-scores/22418/slw-vs-engw-2nd-t20i-england-women-tour-of-sri-lanka-2019\" target=\"_self\" title=\"Sri Lanka Women v England Women - 2nd T20I\"><div class=\"cb-hmscg-bat-txt cb-ovr-flo\">Sri Lanka Women</div> <div class=\"cb-hmscg-bat-txt cb-ovr-flo\">England Women</div><div class=\"cb-ovr-flo cb-text-preview\" ng-bind=\"1553574600000 |date: 'EEEE, d MMM, hh:mm a'\"></div></a>,\n",
       " <a class=\"cb-font-12\" href=\"/live-cricket-scores/22374/pak-vs-aus-2nd-odi-pakistan-v-australia-in-uae-2019\" target=\"_self\" title=\"Pakistan v Australia - 2nd ODI\"><div class=\"cb-hmscg-bat-txt cb-ovr-flo\"><div class=\"cb-ovr-flo cb-hmscg-tm-nm\">AUS</div><div class=\"cb-ovr-flo\" style=\"display:inline-block; width:140px\">285/2 (47.5 Ovs)</div></div><div class=\"cb-hmscg-bwl-txt\"><div class=\"cb-ovr-flo cb-hmscg-tm-nm\">PAK</div><div class=\"cb-ovr-flo\" style=\"display:inline-block; width:140px\">284/7 (50.0 Ovs)</div></div><div class=\"cb-ovr-flo cb-text-complete\">Australia won by 8 wkts</div></a>,\n",
       " <a class=\"cb-font-12\" href=\"/live-cricket-scores/20215/rsa-vs-sl-3rd-t20i-sri-lanka-tour-of-south-africa-2019\" target=\"_self\" title=\"South Africa v Sri Lanka - 3rd T20I\"><div class=\"cb-hmscg-bat-txt cb-ovr-flo\"><div class=\"cb-ovr-flo cb-hmscg-tm-nm\">SL</div><div class=\"cb-ovr-flo\" style=\"display:inline-block; width:140px\">137-all out (15.4 Ovs)</div></div><div class=\"cb-hmscg-bwl-txt\"><div class=\"cb-ovr-flo cb-hmscg-tm-nm\">RSA</div><div class=\"cb-ovr-flo\" style=\"display:inline-block; width:140px\">198/2 (20.0 Ovs)</div></div><div class=\"cb-ovr-flo cb-text-complete\">South Africa won by 45 runs (DLS method)</div></a>,\n",
       " <a class=\"cb-font-12\" href=\"/live-cricket-scores/22418/slw-vs-engw-2nd-t20i-england-women-tour-of-sri-lanka-2019\" target=\"_self\" title=\"Sri Lanka Women v England Women - 2nd T20I\"><div class=\"cb-hmscg-bat-txt cb-ovr-flo\">Sri Lanka Women</div> <div class=\"cb-hmscg-bat-txt cb-ovr-flo\">England Women</div><div class=\"cb-ovr-flo cb-text-preview\" ng-bind=\"1553574600000 |date: 'EEEE, d MMM, hh:mm a'\"></div></a>,\n",
       " <a class=\"cb-font-12\" href=\"/live-cricket-scores/22399/rajasthan-vs-punjab-4th-match-indian-premier-league-2019\" target=\"_self\" title=\"Rajasthan Royals v Kings XI Punjab - 4th Match\"><div class=\"cb-hmscg-bat-txt cb-ovr-flo\"><div class=\"cb-ovr-flo cb-hmscg-tm-nm\">RAJA..</div><div class=\"cb-ovr-flo\" style=\"display:inline-block; width:140px\">4/0 (0.3 Ovs)</div></div><div class=\"cb-hmscg-bwl-txt\"><div class=\"cb-ovr-flo cb-hmscg-tm-nm\">PUNJ..</div><div class=\"cb-ovr-flo\" style=\"display:inline-block; width:140px\">184/4 (20.0 Ovs)</div></div><div class=\"cb-ovr-flo cb-text-live\">Rajasthan need 181 runs</div></a>,\n",
       " <a class=\"cb-text-link cb-qck-ancr\" href=\"/cricket-series/2810/indian-premier-league-2019\" title=\"IPL 2019\">Home</a>,\n",
       " <a class=\"cb-text-link cb-qck-ancr\" href=\"/cricket-series/2810/indian-premier-league-2019/matches\" title=\"IPL 2019 Schedule\">Schedule</a>,\n",
       " <a class=\"cb-text-link cb-qck-ancr\" href=\"/cricket-series/2810/indian-premier-league-2019/news\" title=\"IPL 2019 News\">News</a>,\n",
       " <a class=\"cb-text-link cb-qck-ancr\" href=\"/cricket-series/2810/indian-premier-league-2019/videos\" title=\"IPL 2019 Videos\">Videos</a>,\n",
       " <a class=\"cb-text-link cb-qck-ancr\" href=\"/cricket-series/2810/indian-premier-league-2019/squads\" title=\"IPL 2019 Squads\">Squads</a>,\n",
       " <a class=\"cb-text-link cb-qck-ancr\" href=\"/cricket-series/2810/indian-premier-league-2019/teams\" title=\"IPL 2019 Teams\">Teams</a>,\n",
       " <a class=\"cb-nws-hdln-ancr text-hvr-underline\" href=\"/cricket-news/107283/rizwan-happy-with-his-maiden-odi-ton-not-so-with-pakistans-loss\" title=\"Rizwan happy with his maiden ODI ton, not so with Pakistan's loss\">Rizwan happy with his maiden ODI ton, not so with Pakistan's loss</a>,\n",
       " <a class=\"cb-nws-hdln-ancr text-hvr-underline\" href=\"/cricket-news/107282/adam-griffith-appointed-australia-bowling-coach-for-world-cup\" title=\"Griffith appointed Australia bowling coach for World Cup\">Griffith appointed Australia bowling coach for World Cup</a>,\n",
       " <a class=\"cb-nws-hdln-ancr text-hvr-underline\" href=\"/cricket-news/107281/indian-premier-league-2019-when-time-comes-ill-be-first-to-hang-up-my-boots-yuvraj-singh\" title=\"When time comes, I'll be first to hang up my boots: Yuvraj\">When time comes, I'll be first to hang up my boots: Yuvraj</a>,\n",
       " <a class=\"cb-nws-hdln-ancr text-hvr-underline\" href=\"/cricket-news/107277/west-indies-cricket-news-ricky-skerritt-appointed-cwi-president\" title=\"Ricky Skerritt appointed CWI president\">Ricky Skerritt appointed CWI president</a>,\n",
       " <a class=\"cb-nws-hdln-ancr text-hvr-underline\" href=\"/cricket-news/107273/pakistan-rest-faheem-ashraf-for-the-last-three-australia-odis\" title=\"Pakistan rest Faheem Ashraf for the last three Australia ODIs\">Pakistan rest Faheem Ashraf for the last three Australia ODIs</a>,\n",
       " <a class=\"cb-nws-hdln-ancr text-hvr-underline\" href=\"/cricket-news/107272/ipl-2019-mumbai-indians-who-is-rasikh-salam\" title=\"Who is Rasikh Salam?\">Who is Rasikh Salam?</a>,\n",
       " <a class=\"cb-nws-hdln-ancr text-hvr-underline\" href=\"/cricket-news/107261/ipl-2019-mumbai-indians-still-hopeful-of-lasith-malingas-participation-adam-milne-ruled-out\" title=\"MI still hopeful of Malinga's participation\">MI still hopeful of Malinga's participation</a>,\n",
       " <a class=\"cb-nws-hdln-ancr text-hvr-underline\" href=\"/cricket-news/107260/chennai-pitch-leaves-dhoni-kohli-unimpressed\" title=\"Chennai pitch leaves Dhoni, Kohli unimpressed\">Chennai pitch leaves Dhoni, Kohli unimpressed</a>,\n",
       " <a class=\"cb-nws-hdln-ancr text-hvr-underline\" href=\"/cricket-news/107258/indian-premier-league-2019-picking-bairstow-in-the-auction-was-an-important-strategy-for-us-sunrisers-hyderabad-coach-tom-moody\" title=\"Picking Bairstow in the auction was an important strategy for us: Moody \">Picking Bairstow in the auction was an important strategy for us: Moody </a>,\n",
       " <a class=\"cb-nws-hdln-ancr text-hvr-underline\" href=\"/cricket-news/107254/bangladesh-cricket-taskin-ahmed-prioritises-fitness-to-fetch-world-cup-spot\" title=\"Taskin prioritises fitness to fetch World Cup spot\">Taskin prioritises fitness to fetch World Cup spot</a>,\n",
       " <a class=\"cb-font-12 cb-text-link\" href=\"/cricket-news/latest-news\" title=\"More News\"><i>More News..</i></a>,\n",
       " <a href=\"/cricket-gallery/4515/mumbai-indians-vs-delhi-capitals-ipl-2019-match-3\" title=\"Mumbai Indians vs Delhi Capitals, IPL 2019, Match 3\"> <img alt=\"Mumbai Indians vs Delhi Capitals, IPL 2019, Match 3\" class=\"lazy-loading pad-0\" height=\"95\" source=\"/a/img/v1/165x95/i1/c166880/mumbai-indians-vs-delhi-capita.jpg\" src=\"\" width=\"165\"/> <div class=\"cb-nws-hdln\">Mumbai Indians vs Delhi Capitals, IPL 2019, Match 3</div> <span class=\"cb-nws-time\">Sun, Mar 24 2019</span> </a>,\n",
       " <a href=\"/cricket-gallery/4514/south-africa-vs-sri-lanka-3rd-t20i\" title=\"South Africa vs Sri Lanka, 3rd T20I\"> <img alt=\"South Africa vs Sri Lanka, 3rd T20I\" class=\"lazy-loading pad-0\" height=\"95\" source=\"/a/img/v1/165x95/i1/c166860/south-africa-vs-sri-lanka-3rd.jpg\" src=\"\" width=\"165\"/> <div class=\"cb-nws-hdln\">South Africa vs Sri Lanka, 3rd T20I</div> <span class=\"cb-nws-time\">Sun, Mar 24 2019</span> </a>,\n",
       " <a href=\"/cricket-gallery/4513/pakistan-vs-australia-2nd-odi\" title=\"Pakistan vs Australia, 2nd ODI\"> <img alt=\"Pakistan vs Australia, 2nd ODI\" class=\"lazy-loading pad-0\" height=\"95\" source=\"/a/img/v1/165x95/i1/c166852/pakistan-vs-australia-2nd-odi.jpg\" src=\"\" width=\"165\"/> <div class=\"cb-nws-hdln\">Pakistan vs Australia, 2nd ODI</div> <span class=\"cb-nws-time\">Sun, Mar 24 2019</span> </a>,\n",
       " <a href=\"/cricket-gallery/4512/ipl-2019-match-2-kkr-vs-srh\" title=\"IPL 2019, Match 2 - KKR vs SRH\"> <img alt=\"IPL 2019, Match 2 - KKR vs SRH\" class=\"lazy-loading pad-0\" height=\"95\" source=\"/a/img/v1/165x95/i1/c166824/ipl-2019-match-2-kkr-vs-srh.jpg\" src=\"\" width=\"165\"/> <div class=\"cb-nws-hdln\">IPL 2019, Match 2 - KKR vs SRH</div> <span class=\"cb-nws-time\">Sun, Mar 24 2019</span> </a>,\n",
       " <a href=\"/cricket-gallery/4511/ipl-2019-match-1-csk-vs-rcb\" title=\"IPL 2019, Match 1 - CSK vs RCB\"> <img alt=\"IPL 2019, Match 1 - CSK vs RCB\" class=\"lazy-loading pad-0\" height=\"95\" source=\"/a/img/v1/165x95/i1/c166775/ipl-2019-match-1-csk-vs-rcb.jpg\" src=\"\" width=\"165\"/> <div class=\"cb-nws-hdln\">IPL 2019, Match 1 - CSK vs RCB</div> <span class=\"cb-nws-time\">Sat, Mar 23 2019</span> </a>,\n",
       " <a class=\"cb-font-12 cb-text-link\" href=\"/cricket-photo-gallery\" title=\"More Photos\"><i>More Photos..</i></a>,\n",
       " <a class=\"cb-font-12 cb-text-link\" href=\"/cricket-schedule/series\" title=\"Cricket Schedule\"><i>More Matches..</i></a>,\n",
       " <a href=\"/cricket-videos/35584/cricbuzz-comm-box-match-4-rajasthan-v-punjab-1st-inn-over-no10\" title=\"Cricbuzz Comm Box: Match 4, Rajasthan v Punjab, 1st inn, Over No.10\"><img alt=\"Cricbuzz Comm Box: Match 4, Rajasthan v Punjab, 1st inn, Over No.10\" height=\"235\" itemprop=\"image\" src=\"/i/news/fth/420x235/images/homepage/prv_d6334_1553527441.jpg\" title=\"Cricbuzz Comm Box: Match 4, Rajasthan v Punjab, 1st inn, Over No.10\" width=\"420\"/></a>,\n",
       " <a href=\"/cricket-videos/35584/cricbuzz-comm-box-match-4-rajasthan-v-punjab-1st-inn-over-no10\" title=\"Cricbuzz Comm Box: Match 4, Rajasthan v Punjab, 1st inn, Over No.10\">Cricbuzz Comm Box: Match 4, Rajasthan v Punjab, 1st inn, Over No.10</a>,\n",
       " <a href=\"/live-cricket-scores/22399/rr-vs-kxip-4th-match-indian-premier-league-2019\" title=\"Gayle, Sarfaraz power RR to 184\"><img alt=\"Gayle, Sarfaraz power RR to 184\" class=\"lazy-loading\" height=\"235\" itemprop=\"image\" source=\"/i/news/fth/420x235/images/homepage/qck_0e029_1553525861.jpg\" src=\"\" title=\"Gayle, Sarfaraz power RR to 184\" width=\"420\"/></a>,\n",
       " <a href=\"/live-cricket-scores/22399/rr-vs-kxip-4th-match-indian-premier-league-2019\" title=\"Gayle, Sarfaraz power RR to 184\">Gayle, Sarfaraz power RR to 184</a>,\n",
       " <a class=\"cb-lv-scrs-well cb-lv-scrs-well-live\" href=\"/live-cricket-scores/22399/rr-vs-kxip-4th-match-indian-premier-league-2019\" title=\"Rajasthan Royals vs Kings XI Punjab, 4th Match Live cricket scores\"> <div class=\"cb-col\"> <div class=\"cb-scr-wll-chvrn\"> <div class=\"cb-lv-scrs-col text-black\"><span class=\"text-bold\">RAJASTHAN</span> 4-0 <span class=\"cb-series-sch-dot\"> • </span> <span class=\"text-bold\">PUNJAB</span> 184-4</div> <div class=\"cb-lv-scrs-col cb-text-live\">Rajasthan need 181 runs</div> </div> <div class=\"cb-scr-wll-chvrn\"> <div class=\"cb-ico cb-lv-scr-chvrn-bg\"></div> </div> </div> </a>,\n",
       " <a class=\"big-crd-rltd-txt\" href=\"/cricket-news/107284/live-cricket-score-ipl-2019-rr-v-kxip-rajasthan-royals-vs-kings-xi-punjab-match-4\" title=\"Live Blog\">Live Blog</a>,\n",
       " <a href=\"/cricket-news/107275/ipl-2019-cricket-rishabh-pant-carnage-gives-delhi-capitals-mumbai-indians\" title=\"Pant special powers DC to winning start\"><img alt=\"Pant special powers DC to winning start\" class=\"lazy-loading\" height=\"235\" itemprop=\"image\" source=\"/i/news/fth/420x235/images/homepage/qck_1553454739.jpeg\" src=\"\" title=\"Pant special powers DC to winning start\" width=\"420\"/></a>,\n",
       " <a href=\"/cricket-news/107275/ipl-2019-cricket-rishabh-pant-carnage-gives-delhi-capitals-mumbai-indians\" title=\"Pant special powers DC to winning start\">Pant special powers DC to winning start</a>,\n",
       " <a class=\"big-crd-rltd-txt\" href=\"/cricket-news/107281/indian-premier-league-2019-when-time-comes-ill-be-first-to-hang-up-my-boots-yuvraj-singh\" title=\"When time comes, I'll be first to hang up my boots: Yuvraj\">When time comes, I'll be first to hang up my boots: Yuvraj</a>,\n",
       " <a class=\"big-crd-rltd-txt\" href=\"/cricket-news/107272/ipl-2019-mumbai-indians-who-is-rasikh-salam\" title=\"Who is Rasikh Salam?\">Who is Rasikh Salam?</a>,\n",
       " <a href=\"/cricket-news/107278/ipl-2019-ipl-12-andre-russell-slays-the-srh-challenge-kkr-vs-srh-shubman-gill-nitish-rana-rashid-khan\" title=\"Muscle-Russell slays the SRH challenge\"><img alt=\"Muscle-Russell slays the SRH challenge\" class=\"lazy-loading\" height=\"235\" itemprop=\"image\" source=\"/i/news/fth/420x235/images/homepage/prv_fb0c2_1553477091.jpg\" src=\"\" title=\"Muscle-Russell slays the SRH challenge\" width=\"420\"/></a>,\n",
       " <a href=\"/cricket-news/107278/ipl-2019-ipl-12-andre-russell-slays-the-srh-challenge-kkr-vs-srh-shubman-gill-nitish-rana-rashid-khan\" title=\"Muscle-Russell slays the SRH challenge\">Muscle-Russell slays the SRH challenge</a>,\n",
       " <a class=\"big-crd-rltd-txt\" href=\"/cricket-news/107271/ipl-2019-kkr-vs-srh-andre-russell-special-powers-kkr-to-winning-start\" title=\"Russell special powers KKR to winning start\">Report /\tRussell special powers KKR to winning start</a>,\n",
       " <a href=\"/cricket-news/107280/i-know-now-what-i-need-to-do-for-my-body-to-feel-good-and-perform-at-the-highest-level-pattinson\" title=\"'I know what I need to do for my body to feel good and perform at the highest level'\"><img alt=\"'I know what I need to do for my body to feel good and perform at the highest level'\" class=\"lazy-loading\" height=\"235\" itemprop=\"image\" source=\"/i/news/fth/420x235/images/homepage/qck_1553480668.jpeg\" src=\"\" title=\"'I know what I need to do for my body to feel good and perform at the highest level'\" width=\"420\"/></a>,\n",
       " <a href=\"/cricket-news/107280/i-know-now-what-i-need-to-do-for-my-body-to-feel-good-and-perform-at-the-highest-level-pattinson\" title=\"'I know what I need to do for my body to feel good and perform at the highest level'\">'I know what I need to do for my body to feel good and perform at the highest level'</a>,\n",
       " <a href=\"/cricket-news/107276/back-to-back-aaron-finch-tons-give-australia-2-0-lead-against-pakistan\" title=\"Back-to-back Finch tons give Australia 2-0 lead\"><img alt=\"Back-to-back Finch tons give Australia 2-0 lead\" class=\"lazy-loading\" height=\"75\" source=\"/i/news/fth/135x75/images/homepage/qck_1553454874.jpeg\" src=\"\" style=\"padding:0px;\" width=\"135\"/></a>,\n",
       " <a href=\"/cricket-news/107276/back-to-back-aaron-finch-tons-give-australia-2-0-lead-against-pakistan\" title=\"Back-to-back Finch tons give Australia 2-0 lead\">Back-to-back Finch tons give Australia 2-0 lead</a>,\n",
       " <a class=\"big-crd-rltd-txt\" href=\"/cricket-news/107279/pakistan-vs-australia-2nd-odi-sharjay-mohammad-hasnain-early-promise-keeps-pakistan-excited-aaron-finch-usman-khwaja\" title=\"Hasnain early promise keeps Pakistan excited\">Hasnain early promise keeps Pakistan excited</a>,\n",
       " <a class=\"big-crd-rltd-txt\" href=\"/cricket-news/107267/world-cup-2019-should-mohammad-amir-be-part-of-pakistans-world-cup-squad\" title=\"Should Amir be part of Pakistan's World Cup squad?\">Should Amir be part of Pakistan's World Cup squad?</a>,\n",
       " <a class=\"big-crd-rltd-txt\" href=\"/cricket-news/107273/pakistan-rest-faheem-ashraf-for-the-last-three-australia-odis\" title=\"Pakistan rest Faheem Ashraf for the last three ODIs\">Pakistan rest Faheem Ashraf for the last three ODIs</a>,\n",
       " <a class=\"big-crd-rltd-txt\" href=\"/cricket-news/107283/rizwan-happy-with-his-maiden-odi-ton-not-so-with-pakistans-loss\" title=\"Rizwan happy with his maiden ODI ton, not so with Pakistan's loss\">Rizwan happy with his maiden ODI ton, not so with Pakistan's loss</a>,\n",
       " <a href=\"/cricket-news/107274/pretorius-hendricks-help-sa-complete-t20i-whitewash\" title=\"Pretorius, Hendricks star as SA complete whitewash\"><img alt=\"Pretorius, Hendricks star as SA complete whitewash\" class=\"lazy-loading\" height=\"75\" source=\"/i/news/fth/135x75/images/homepage/qck_1553450006.jpeg\" src=\"\" style=\"padding:0px;\" width=\"135\"/></a>,\n",
       " <a href=\"/cricket-news/107274/pretorius-hendricks-help-sa-complete-t20i-whitewash\" title=\"Pretorius, Hendricks star as SA complete whitewash\">Pretorius, Hendricks star as SA complete whitewash</a>,\n",
       " <a href=\"/cricket-news/107246/ipl-cricket-csk-rcb-mi-srh-2019-that-happened\" title=\"IPL 2019 - That Happened\"><img alt=\"IPL 2019 - That Happened\" class=\"lazy-loading\" height=\"235\" itemprop=\"image\" source=\"/i/news/fth/420x235/images/homepage/qck_1553333115.jpeg\" src=\"\" title=\"IPL 2019 - That Happened\" width=\"420\"/></a>,\n",
       " <a href=\"/cricket-news/107246/ipl-cricket-csk-rcb-mi-srh-2019-that-happened\" title=\"IPL 2019 - That Happened\">IPL 2019 - That Happened</a>,\n",
       " <a class=\"big-crd-rltd-txt\" href=\"/cricket-news/107235/professional-betting-and-how-it-works-during-ipl-cricket-rcb-csk-mi\" title=\"Professional betting and how it works during IPL\">Professional betting and how it works during IPL</a>,\n",
       " <a class=\"big-crd-rltd-txt\" href=\"/cricket-news/107251/lockie-fergusons-journey-from-a-young-pup-to-fast-bowling-nemesis-ipl-2019-kkr-kolkata-knight-riders\" title=\"Lockie Ferguson's journey from a 'young pup' to fast-bowling nemesis\">Lockie Ferguson's journey from a 'young pup' to fast-bowling nemesis</a>,\n",
       " <a href=\"/cricket-news/107252/decoding-the-value-of-batsmen-in-ipl-cricket-an-in-depth-look-ipl-2019-ab-de-villiers-virat-kohli-kane-williamson\" title=\"Decoding the value of batsmen in IPL - an in-depth look\"><img alt=\"Decoding the value of batsmen in IPL - an in-depth look\" class=\"lazy-loading\" height=\"75\" source=\"/i/news/fth/135x75/images/homepage/qck_1553316312.jpeg\" src=\"\" style=\"padding:0px;\" width=\"135\"/></a>,\n",
       " <a href=\"/cricket-news/107252/decoding-the-value-of-batsmen-in-ipl-cricket-an-in-depth-look-ipl-2019-ab-de-villiers-virat-kohli-kane-williamson\" title=\"Decoding the value of batsmen in IPL - an in-depth look\">Decoding the value of batsmen in IPL - an in-depth look</a>,\n",
       " <a class=\"big-crd-rltd-txt\" href=\"/cricket-news/107264/deciphering-bowlers-in-ipl-cricket-with-contextual-stats-ipl-2019-jasprit-bumrah-dwayne-bravo-lungi-ngidi\" title=\"Deciphering bowlers in IPL with contextual stats\">Deciphering bowlers in IPL with contextual stats</a>,\n",
       " <a class=\"big-crd-rltd-txt\" href=\"/cricket-news/107242/chatter-why-is-ipl-cricket-2019-different-virat-kohli-chennai-super-kings-royal-challengers-bangalore-rajasthan-royals-jos-buttler\" title=\"Chatter: Why is IPL 2019 different?\">Chatter: Why is IPL 2019 different?</a>,\n",
       " <a class=\"big-crd-rltd-txt\" href=\"/cricket-news/107240/batting-in-ipl-through-the-prism-of-contextual-stats-ipl-2019-virat-kohli-rcb-csk-kkr-srh-rr-dc-kxip-ab-de-villiers\" title=\"Batting in IPL through the prism of contextual stats\">Batting in IPL through the prism of contextual stats</a>,\n",
       " <a href=\"/cricket-news/107277/west-indies-cricket-news-ricky-skerritt-appointed-cwi-president\" title=\"Ricky Skerritt appointed CWI president\"><img alt=\"Ricky Skerritt appointed CWI president\" class=\"lazy-loading\" height=\"75\" source=\"/i/news/fth/135x75/images/homepage/qck_1553475280.jpeg\" src=\"\" style=\"padding:0px;\" width=\"135\"/></a>,\n",
       " <a href=\"/cricket-news/107277/west-indies-cricket-news-ricky-skerritt-appointed-cwi-president\" title=\"Ricky Skerritt appointed CWI president\">Ricky Skerritt appointed CWI president</a>,\n",
       " <a class=\"suggested-video-gtm\" gtm-label=\"Cricbuzz LIVE: Match 4, Rajasthan v Punjab, Mid-innings show|35588\" href=\"/cricket-videos/35588/cricbuzz-live-match-4-rajasthan-v-punjab-mid-innings-show\" target=\"_self\" title=\"Cricbuzz LIVE: Match 4, Rajasthan v Punjab, Mid-innings show\"> <div class=\"cb-pos-rel\"> <div class=\"cb-vid-liv-icn\">LIVE</div> <img alt=\"Cricbuzz LIVE: Match 4, Rajasthan v Punjab, Mid-innings show\" class=\"cb-suggested-vid-img suggested-video-gtm\" gtm-label=\"Cricbuzz LIVE: Match 4, Rajasthan v Punjab, Mid-innings show|35588\" height=\"164\" src=\"/a/img/v1/290x164/i1/c166910/cricbuzz-live-match-4-rajast.jpg\" title=\"Cricbuzz LIVE: Match 4, Rajasthan v Punjab, Mid-innings show\" width=\"290\"/> <div class=\"cb-cen\"> <div class=\"cb-vid-sm-ply-api\">►</div> </div> </div> <h4 class=\"text-hvr-underline suggested-video-gtm\" gtm-label=\"Cricbuzz LIVE: Match 4, Rajasthan v Punjab, Mid-innings show|35588\">Cricbuzz LIVE: Match 4, Rajasthan v Punjab, Mid-innings show</h4> </a>,\n",
       " <a class=\"suggested-video-gtm\" gtm-label=\"Smith, Warner might not make it to Australia's 2019 WC side - Ajay Jadeja|35586\" href=\"/cricket-videos/35586/smith-warner-might-not-make-it-to-australias-2019-wc-side-ajay-jadeja\" target=\"_self\" title=\"Smith, Warner might not make it to Australia's 2019 WC side - Ajay Jadeja\"> <div class=\"cb-pos-rel\"> <img alt=\"Smith, Warner might not make it to Australia's 2019 WC side - Ajay Jadeja\" class=\"cb-suggested-vid-img suggested-video-gtm\" gtm-label=\"Smith, Warner might not make it to Australia's 2019 WC side - Ajay Jadeja|35586\" height=\"164\" src=\"/a/img/v1/290x164/i1/c166908/smith-warner-might-not-make-i.jpg\" title=\"Smith, Warner might not make it to Australia's 2019 WC side - Ajay Jadeja\" width=\"290\"/> <div class=\"cb-vid-duration\">3:56</div> <div class=\"cb-cen\"> <div class=\"cb-vid-sm-ply-api\">►</div> </div> </div> <h4 class=\"text-hvr-underline suggested-video-gtm\" gtm-label=\"Smith, Warner might not make it to Australia's 2019 WC side - Ajay Jadeja|35586\">Smith, Warner might not make it to Australia's 2019 WC side - Ajay Jadeja</h4> </a>,\n",
       " <a class=\"suggested-video-gtm\" gtm-label=\"Cricbuzz Comm Box: Match 4, Rajasthan v Punjab, 1st inn, Over No.10|35584\" href=\"/cricket-videos/35584/cricbuzz-comm-box-match-4-rajasthan-v-punjab-1st-inn-over-no10\" target=\"_self\" title=\"Cricbuzz Comm Box: Match 4, Rajasthan v Punjab, 1st inn, Over No.10\"> <div class=\"cb-pos-rel\"> <img alt=\"Cricbuzz Comm Box: Match 4, Rajasthan v Punjab, 1st inn, Over No.10\" class=\"cb-suggested-vid-img suggested-video-gtm\" gtm-label=\"Cricbuzz Comm Box: Match 4, Rajasthan v Punjab, 1st inn, Over No.10|35584\" height=\"164\" src=\"/a/img/v1/290x164/i1/c166906/cricbuzz-comm-box-match-4-ra.jpg\" title=\"Cricbuzz Comm Box: Match 4, Rajasthan v Punjab, 1st inn, Over No.10\" width=\"290\"/> <div class=\"cb-vid-duration\">3:47</div> <div class=\"cb-cen\"> <div class=\"cb-vid-sm-ply-api\">►</div> </div> </div> <h4 class=\"text-hvr-underline suggested-video-gtm\" gtm-label=\"Cricbuzz Comm Box: Match 4, Rajasthan v Punjab, 1st inn, Over No.10|35584\">Cricbuzz Comm Box: Match 4, Rajasthan v Punjab, 1st inn, Over No.10</h4> </a>,\n",
       " <a class=\"cb-more-btn\" href=\"/cricket-videos\" role=\"button\" target=\"_self\" title=\"Click to view more videos\">More Videos</a>,\n",
       " <a href=\"/cricket-news/107180/the-making-of-rishabh-pant\" title=\"The making of Rishabh Pant\"><img alt=\"The making of Rishabh Pant\" class=\"cb-vid-img\" height=\"170\" src=\"/i/news/fth/303x170/images/homepage/qck_1552805427.jpeg\" width=\"303\"/><h4 class=\"text-hvr-underline\">The making of Rishabh Pant</h4></a>,\n",
       " <a href=\"/cricket-news/107189/jaydev-unadkat-eager-to-rise-up-to-indias-pace-bowling-standards-ipl-2019-rajasthan-royals\" title=\"Unadkat eager to rise up to India's pace-bowling standards\"><img alt=\"Unadkat eager to rise up to India's pace-bowling standards\" class=\"cb-vid-img\" height=\"170\" src=\"/i/news/fth/303x170/images/homepage/qck_1552834977.jpeg\" width=\"303\"/><h4 class=\"text-hvr-underline\">Unadkat eager to rise up to India's pace-bowling standards</h4></a>,\n",
       " <a href=\"/cricket-news/107145/india-cricket-scheduling-bloopers-poor-umpiring-and-the-story-of-bccis-domestic-nightmare\" title=\"Scheduling bloopers, umpires' animosity, and the story of BCCI's domestic nightmare\"><img alt=\"Scheduling bloopers, umpires' animosity, and the story of BCCI's domestic nightmare\" class=\"cb-vid-img\" height=\"170\" src=\"/i/news/fth/303x170/images/homepage/qck_1552629503.jpeg\" width=\"303\"/><h4 class=\"text-hvr-underline\">Scheduling bloopers, umpires' animosity, and the story of BCCI's domestic nightmare</h4></a>,\n",
       " <a href=\"/info/privacy\" style=\"color:#4A90E2;\">privacy policy</a>,\n",
       " <a href=\"/info/privacy#cookie_policy\" style=\"color:#4A90E2;\">cookie policy</a>,\n",
       " <a class=\"center-block\" href=\"/\"><div class=\"cb-ftr-logo cb-ico\"></div></a>,\n",
       " <a class=\"text-white\" href=\"https://m.cricbuzz.com\"><span class=\"cb-mobile-site cb-ico\"></span><span class=\"cb-footer-list-rt\">m.cricbuzz.com</span></a>,\n",
       " <a class=\"text-white\" href=\"https://play.google.com/store/apps/details?id=com.cricbuzz.android\" target=\"_blank\"><span class=\"cb-app-android cb-ico\"></span><span class=\"cb-footer-list-rt\">Android</span></a>,\n",
       " <a class=\"text-white\" href=\"https://itunes.apple.com/app/id360466413\" target=\"_blank\"><span class=\"cb-app-ios cb-ico\"></span><span class=\"cb-footer-list-rt\">iOS</span></a>,\n",
       " <a class=\"text-white\" href=\"https://www.facebook.com/cricbuzz\" target=\"_blank\"><span class=\"cb-social-fb cb-ico\"></span><span class=\"cb-footer-list-rt\">facebook</span></a>,\n",
       " <a class=\"text-white\" href=\"https://twitter.com/cricbuzz\" target=\"_blank\"><span class=\"cb-social-twitter cb-ico\"></span><span class=\"cb-footer-list-rt\">twitter</span></a>,\n",
       " <a class=\"text-white\" href=\"https://www.youtube.com/channel/UCSRQXk5yErn4e14vN76upOw\" target=\"_blank\"><span class=\"cb-social-ytbe cb-ico\"></span><span class=\"cb-footer-list-rt\">youtube</span></a>,\n",
       " <a class=\"text-white\" href=\"https://in.pinterest.com/cricbuzz/\" target=\"_blank\"><span class=\"cb-social-pinterest cb-ico\"></span><span class=\"cb-footer-list-rt\">Pinterest</span></a>,\n",
       " <a class=\"text-white\" href=\"/careers\">Careers</a>,\n",
       " <a class=\"text-white\" href=\"/info/advertise\">Advertise</a>,\n",
       " <a class=\"text-white\" href=\"/info/privacy\" rel=\"nofollow\">Privacy Policy</a>,\n",
       " <a class=\"text-white\" href=\"/info/termsofuse\" rel=\"nofollow\">Terms of Use</a>,\n",
       " <a class=\"text-white\" href=\"/product-blog/cricbuzz-mobile-apps-tv-ad-cricket-ka-keeda\">Cricbuzz TV Ads</a>,\n",
       " <a class=\"cb-ftr-cpyrght text-hvr-underline\" href=\"http://timesofindia.indiatimes.com/\" target=\"_blank\">The Times of India</a>,\n",
       " <a class=\"cb-ftr-cpyrght text-hvr-underline\" href=\"http://navbharattimes.indiatimes.com/\" target=\"_blank\">Navbharat Times</a>]"
      ]
     },
     "execution_count": 189,
     "metadata": {},
     "output_type": "execute_result"
    }
   ],
   "source": [
    "k = x.find_all(href = True)"
   ]
  },
  {
   "cell_type": "code",
   "execution_count": 196,
   "metadata": {},
   "outputs": [
    {
     "name": "stdout",
     "output_type": "stream",
     "text": [
      "a\n",
      "a\n",
      "a\n"
     ]
    },
    {
     "data": {
      "text/plain": [
       "[None, None, None]"
      ]
     },
     "execution_count": 196,
     "metadata": {},
     "output_type": "execute_result"
    }
   ],
   "source": [
    "[print(x.name) for x in k]"
   ]
  },
  {
   "cell_type": "code",
   "execution_count": 197,
   "metadata": {},
   "outputs": [],
   "source": [
    "k[0].find('link href')"
   ]
  },
  {
   "cell_type": "code",
   "execution_count": 198,
   "metadata": {
    "scrolled": true
   },
   "outputs": [
    {
     "data": {
      "text/plain": [
       "\n",
       "<html><head><title>The Dormouse's story</title></head>\n",
       "<body>\n",
       "<p class=\"title\"><b>The Dormouse's story</b></p>\n",
       "<p class=\"story\">Once upon a time there were three little sisters; and their names were\n",
       "<a class=\"sister\" href=\"http://example.com/elsie\" id=\"link1\">Elsie</a>,\n",
       "<a class=\"sister\" href=\"http://example.com/lacie\" id=\"link2\">Lacie</a> and\n",
       "<a class=\"sister\" href=\"http://example.com/tillie\" id=\"link3\">Tillie</a>;\n",
       "and they lived at the bottom of a well.</p>\n",
       "<p class=\"story\">...</p>\n",
       "</body></html>"
      ]
     },
     "execution_count": 198,
     "metadata": {},
     "output_type": "execute_result"
    }
   ],
   "source": [
    "soup"
   ]
  },
  {
   "cell_type": "code",
   "execution_count": 199,
   "metadata": {},
   "outputs": [
    {
     "data": {
      "text/plain": [
       "[]"
      ]
     },
     "execution_count": 199,
     "metadata": {},
     "output_type": "execute_result"
    }
   ],
   "source": [
    "soup.select(\"body title\")"
   ]
  },
  {
   "cell_type": "code",
   "execution_count": 200,
   "metadata": {},
   "outputs": [
    {
     "data": {
      "text/plain": [
       "[<title>The Dormouse's story</title>]"
      ]
     },
     "execution_count": 200,
     "metadata": {},
     "output_type": "execute_result"
    }
   ],
   "source": [
    "soup.select(\"title\")"
   ]
  },
  {
   "cell_type": "code",
   "execution_count": 201,
   "metadata": {},
   "outputs": [
    {
     "data": {
      "text/plain": [
       "[<title>The Dormouse's story</title>]"
      ]
     },
     "execution_count": 201,
     "metadata": {},
     "output_type": "execute_result"
    }
   ],
   "source": [
    "soup.select(\"head title\")"
   ]
  },
  {
   "cell_type": "code",
   "execution_count": 205,
   "metadata": {},
   "outputs": [
    {
     "data": {
      "text/plain": [
       "[<a class=\"sister\" href=\"http://example.com/lacie\" id=\"link2\">Lacie</a>]"
      ]
     },
     "execution_count": 205,
     "metadata": {},
     "output_type": "execute_result"
    }
   ],
   "source": [
    "soup.select(\"body a:nth-of-type(2)\")"
   ]
  },
  {
   "cell_type": "code",
   "execution_count": 207,
   "metadata": {},
   "outputs": [
    {
     "name": "stdout",
     "output_type": "stream",
     "text": [
      "<html>\n",
      " <head>\n",
      "  <title>\n",
      "   The Dormouse's story\n",
      "  </title>\n",
      " </head>\n",
      " <body>\n",
      "  <p class=\"title\">\n",
      "   <b>\n",
      "    The Dormouse's story\n",
      "   </b>\n",
      "  </p>\n",
      "  <p class=\"story\">\n",
      "   Once upon a time there were three little sisters; and their names were\n",
      "   <a class=\"sister\" href=\"http://example.com/elsie\" id=\"link1\">\n",
      "    Elsie\n",
      "   </a>\n",
      "   ,\n",
      "   <a class=\"sister\" href=\"http://example.com/lacie\" id=\"link2\">\n",
      "    Lacie\n",
      "   </a>\n",
      "   and\n",
      "   <a class=\"sister\" href=\"http://example.com/tillie\" id=\"link3\">\n",
      "    Tillie\n",
      "   </a>\n",
      "   ;\n",
      "and they lived at the bottom of a well.\n",
      "  </p>\n",
      "  <p class=\"story\">\n",
      "   ...\n",
      "  </p>\n",
      " </body>\n",
      "</html>\n"
     ]
    }
   ],
   "source": [
    "print(soup.prettify())"
   ]
  },
  {
   "cell_type": "code",
   "execution_count": 212,
   "metadata": {},
   "outputs": [
    {
     "data": {
      "text/plain": [
       "[<a class=\"sister\" href=\"http://example.com/lacie\" id=\"link2\">Lacie</a>,\n",
       " <a class=\"sister\" href=\"http://example.com/tillie\" id=\"link3\">Tillie</a>,\n",
       " <p class=\"story\">...</p>]"
      ]
     },
     "execution_count": 212,
     "metadata": {},
     "output_type": "execute_result"
    }
   ],
   "source": [
    "soup.a.find_all_next()"
   ]
  },
  {
   "cell_type": "code",
   "execution_count": 213,
   "metadata": {},
   "outputs": [
    {
     "data": {
      "text/plain": [
       "[<title>The Dormouse's story</title>, <body>\n",
       " <p class=\"title\"><b>The Dormouse's story</b></p>\n",
       " <p class=\"story\">Once upon a time there were three little sisters; and their names were\n",
       " <a class=\"sister\" href=\"http://example.com/elsie\" id=\"link1\">Elsie</a>,\n",
       " <a class=\"sister\" href=\"http://example.com/lacie\" id=\"link2\">Lacie</a> and\n",
       " <a class=\"sister\" href=\"http://example.com/tillie\" id=\"link3\">Tillie</a>;\n",
       " and they lived at the bottom of a well.</p>\n",
       " <p class=\"story\">...</p>\n",
       " </body>, <p class=\"title\"><b>The Dormouse's story</b></p>, <b>The Dormouse's story</b>, <p class=\"story\">Once upon a time there were three little sisters; and their names were\n",
       " <a class=\"sister\" href=\"http://example.com/elsie\" id=\"link1\">Elsie</a>,\n",
       " <a class=\"sister\" href=\"http://example.com/lacie\" id=\"link2\">Lacie</a> and\n",
       " <a class=\"sister\" href=\"http://example.com/tillie\" id=\"link3\">Tillie</a>;\n",
       " and they lived at the bottom of a well.</p>, <a class=\"sister\" href=\"http://example.com/elsie\" id=\"link1\">Elsie</a>, <a class=\"sister\" href=\"http://example.com/lacie\" id=\"link2\">Lacie</a>, <a class=\"sister\" href=\"http://example.com/tillie\" id=\"link3\">Tillie</a>, <p class=\"story\">...</p>]"
      ]
     },
     "execution_count": 213,
     "metadata": {},
     "output_type": "execute_result"
    }
   ],
   "source": [
    "soup.head.find_all_next()"
   ]
  },
  {
   "cell_type": "code",
   "execution_count": 214,
   "metadata": {},
   "outputs": [
    {
     "data": {
      "text/plain": [
       "[<title>The Dormouse's story</title>]"
      ]
     },
     "execution_count": 214,
     "metadata": {},
     "output_type": "execute_result"
    }
   ],
   "source": [
    "soup.select('head > title')"
   ]
  },
  {
   "cell_type": "code",
   "execution_count": 215,
   "metadata": {},
   "outputs": [
    {
     "data": {
      "text/plain": [
       "[<a class=\"sister\" href=\"http://example.com/elsie\" id=\"link1\">Elsie</a>,\n",
       " <a class=\"sister\" href=\"http://example.com/lacie\" id=\"link2\">Lacie</a>,\n",
       " <a class=\"sister\" href=\"http://example.com/tillie\" id=\"link3\">Tillie</a>]"
      ]
     },
     "execution_count": 215,
     "metadata": {},
     "output_type": "execute_result"
    }
   ],
   "source": [
    "soup.select('body > p > a')"
   ]
  },
  {
   "cell_type": "code",
   "execution_count": 216,
   "metadata": {},
   "outputs": [
    {
     "data": {
      "text/plain": [
       "[]"
      ]
     },
     "execution_count": 216,
     "metadata": {},
     "output_type": "execute_result"
    }
   ],
   "source": [
    "soup.select(\"body > a\")"
   ]
  },
  {
   "cell_type": "code",
   "execution_count": 217,
   "metadata": {},
   "outputs": [
    {
     "data": {
      "text/plain": [
       "[]"
      ]
     },
     "execution_count": 217,
     "metadata": {},
     "output_type": "execute_result"
    }
   ],
   "source": [
    "soup.select(\"p > link1\")"
   ]
  },
  {
   "cell_type": "code",
   "execution_count": 218,
   "metadata": {},
   "outputs": [
    {
     "data": {
      "text/plain": [
       "[<a class=\"sister\" href=\"http://example.com/elsie\" id=\"link1\">Elsie</a>]"
      ]
     },
     "execution_count": 218,
     "metadata": {},
     "output_type": "execute_result"
    }
   ],
   "source": [
    "soup.select(\"p > #link1\")"
   ]
  },
  {
   "cell_type": "code",
   "execution_count": 219,
   "metadata": {},
   "outputs": [
    {
     "data": {
      "text/plain": [
       "[]"
      ]
     },
     "execution_count": 219,
     "metadata": {},
     "output_type": "execute_result"
    }
   ],
   "source": [
    "soup(\"link1\")"
   ]
  },
  {
   "cell_type": "code",
   "execution_count": 229,
   "metadata": {},
   "outputs": [
    {
     "data": {
      "text/plain": [
       "[<p class=\"story\">Once upon a time there were three little sisters; and their names were\n",
       " <a class=\"sister\" href=\"http://example.com/elsie\" id=\"link1\">Elsie</a>,\n",
       " <a class=\"sister\" href=\"http://example.com/lacie\" id=\"link2\">Lacie</a> and\n",
       " <a class=\"sister\" href=\"http://example.com/tillie\" id=\"link3\">Tillie</a>;\n",
       " and they lived at the bottom of a well.</p>, <p class=\"story\">...</p>]"
      ]
     },
     "execution_count": 229,
     "metadata": {},
     "output_type": "execute_result"
    }
   ],
   "source": [
    "soup.select('p[class = story]')"
   ]
  },
  {
   "cell_type": "code",
   "execution_count": 243,
   "metadata": {},
   "outputs": [
    {
     "data": {
      "text/plain": [
       "<p class=\"title\"><b>The Dormouse's story</b></p>"
      ]
     },
     "execution_count": 243,
     "metadata": {},
     "output_type": "execute_result"
    }
   ],
   "source": [
    "soup.select_one(\"p\")"
   ]
  },
  {
   "cell_type": "code",
   "execution_count": 258,
   "metadata": {},
   "outputs": [
    {
     "data": {
      "text/plain": [
       "[<ns1:child>I'm in namespace 1</ns1:child>]"
      ]
     },
     "execution_count": 258,
     "metadata": {},
     "output_type": "execute_result"
    }
   ],
   "source": [
    "from bs4 import BeautifulSoup\n",
    "xml = \"\"\"<tag xmlns:ns1=\"http://namespace1/\" xmlns:ns2=\"http://namespace2/\">\n",
    " <ns1:child>I'm in namespace 1</ns1:child>\n",
    " <ns2:child>I'm in namespace 2</ns2:child>\n",
    "</tag> \"\"\"\n",
    "soup = BeautifulSoup(xml, \"xml\")\n",
    "\n",
    "soup.select(\"child\")\n",
    "# [<ns1:child>I'm in namespace 1</ns1:child>, <ns2:child>I'm in namespace 2</ns2:child>]\n",
    "\n",
    "soup.select(\"ns1|child\")\n",
    "# [<ns1:child>I'm in namespace 1</ns1:child>]"
   ]
  },
  {
   "cell_type": "code",
   "execution_count": 259,
   "metadata": {},
   "outputs": [
    {
     "data": {
      "text/plain": [
       "[<ns1:child>I'm in namespace 1</ns1:child>,\n",
       " <ns2:child>I'm in namespace 2</ns2:child>]"
      ]
     },
     "execution_count": 259,
     "metadata": {},
     "output_type": "execute_result"
    }
   ],
   "source": [
    "soup.select(\"child\")"
   ]
  },
  {
   "cell_type": "code",
   "execution_count": 260,
   "metadata": {},
   "outputs": [
    {
     "data": {
      "text/plain": [
       "[<ns1:child>I'm in namespace 1</ns1:child>]"
      ]
     },
     "execution_count": 260,
     "metadata": {},
     "output_type": "execute_result"
    }
   ],
   "source": [
    "soup.select(\"ns1|child\")"
   ]
  },
  {
   "cell_type": "code",
   "execution_count": 261,
   "metadata": {},
   "outputs": [],
   "source": [
    "soup = BeautifulSoup(\"<a>Foo</a>\")"
   ]
  },
  {
   "cell_type": "code",
   "execution_count": 262,
   "metadata": {},
   "outputs": [],
   "source": [
    "soup.append('Bar')"
   ]
  },
  {
   "cell_type": "code",
   "execution_count": 265,
   "metadata": {},
   "outputs": [],
   "source": [
    "soup.body.append('5')"
   ]
  },
  {
   "cell_type": "code",
   "execution_count": 266,
   "metadata": {},
   "outputs": [
    {
     "data": {
      "text/plain": [
       "<html><body><a>Foo</a>5</body></html>Bar"
      ]
     },
     "execution_count": 266,
     "metadata": {},
     "output_type": "execute_result"
    }
   ],
   "source": [
    "soup"
   ]
  },
  {
   "cell_type": "code",
   "execution_count": 267,
   "metadata": {},
   "outputs": [],
   "source": [
    "soup.a.append('bar')"
   ]
  },
  {
   "cell_type": "code",
   "execution_count": 268,
   "metadata": {},
   "outputs": [
    {
     "data": {
      "text/plain": [
       "<html><body><a>Foobar</a>5</body></html>Bar"
      ]
     },
     "execution_count": 268,
     "metadata": {},
     "output_type": "execute_result"
    }
   ],
   "source": [
    "soup"
   ]
  },
  {
   "cell_type": "code",
   "execution_count": 274,
   "metadata": {},
   "outputs": [],
   "source": [
    "del soup.a[True]"
   ]
  },
  {
   "cell_type": "code",
   "execution_count": 275,
   "metadata": {},
   "outputs": [
    {
     "data": {
      "text/plain": [
       "<html><body><a>Foobar</a>5</body></html>Bar"
      ]
     },
     "execution_count": 275,
     "metadata": {},
     "output_type": "execute_result"
    }
   ],
   "source": [
    "soup"
   ]
  },
  {
   "cell_type": "code",
   "execution_count": 278,
   "metadata": {},
   "outputs": [],
   "source": [
    "soup.a['cl']= 'keing'"
   ]
  },
  {
   "cell_type": "code",
   "execution_count": 279,
   "metadata": {},
   "outputs": [
    {
     "data": {
      "text/plain": [
       "<html><body><a cl=\"keing\">Foobar</a>5</body></html>Bar"
      ]
     },
     "execution_count": 279,
     "metadata": {},
     "output_type": "execute_result"
    }
   ],
   "source": [
    "soup"
   ]
  },
  {
   "cell_type": "code",
   "execution_count": 282,
   "metadata": {},
   "outputs": [],
   "source": [
    "del soup.a['cl']"
   ]
  },
  {
   "cell_type": "code",
   "execution_count": 283,
   "metadata": {},
   "outputs": [
    {
     "data": {
      "text/plain": [
       "<html><body><a>Foobar</a>5</body></html>Bar"
      ]
     },
     "execution_count": 283,
     "metadata": {},
     "output_type": "execute_result"
    }
   ],
   "source": [
    "soup"
   ]
  },
  {
   "cell_type": "code",
   "execution_count": 285,
   "metadata": {},
   "outputs": [
    {
     "name": "stdout",
     "output_type": "stream",
     "text": [
      "['Foo', 'bar', ' key', ' key']\n"
     ]
    }
   ],
   "source": [
    "soup.a.extend([' key'])\n",
    "print(soup.a.contents)"
   ]
  },
  {
   "cell_type": "code",
   "execution_count": 290,
   "metadata": {},
   "outputs": [
    {
     "data": {
      "text/plain": [
       "<html><body><p>NIce dsifj</p></body></html>"
      ]
     },
     "execution_count": 290,
     "metadata": {},
     "output_type": "execute_result"
    }
   ],
   "source": [
    "soup"
   ]
  },
  {
   "cell_type": "code",
   "execution_count": 292,
   "metadata": {},
   "outputs": [
    {
     "name": "stdout",
     "output_type": "stream",
     "text": [
      "<html>\n",
      " <body>\n",
      "  <p>\n",
      "   NIce dsifj\n",
      "  </p>\n",
      " </body>\n",
      "</html>\n"
     ]
    }
   ],
   "source": [
    "soup = BeautifulSoup('NIce dsifj')\n",
    "print(soup.prettify())"
   ]
  },
  {
   "cell_type": "code",
   "execution_count": 293,
   "metadata": {},
   "outputs": [],
   "source": [
    "soup.p.contentsz"
   ]
  },
  {
   "cell_type": "code",
   "execution_count": 294,
   "metadata": {},
   "outputs": [
    {
     "data": {
      "text/plain": [
       "['NIce dsifj']"
      ]
     },
     "execution_count": 294,
     "metadata": {},
     "output_type": "execute_result"
    }
   ],
   "source": [
    "soup.p.contents"
   ]
  },
  {
   "cell_type": "code",
   "execution_count": 298,
   "metadata": {},
   "outputs": [],
   "source": [
    "s = NavigableString(\" hey\")\n",
    "soup.p.append(s)"
   ]
  },
  {
   "cell_type": "code",
   "execution_count": 299,
   "metadata": {},
   "outputs": [
    {
     "data": {
      "text/plain": [
       "<html><body><p>NIce dsifjhey hey</p></body></html>"
      ]
     },
     "execution_count": 299,
     "metadata": {},
     "output_type": "execute_result"
    }
   ],
   "source": [
    "soup"
   ]
  },
  {
   "cell_type": "code",
   "execution_count": 300,
   "metadata": {},
   "outputs": [],
   "source": [
    "c = bs.Comment(\"hey brother\")\n",
    "soup.p.append(c)"
   ]
  },
  {
   "cell_type": "code",
   "execution_count": 301,
   "metadata": {},
   "outputs": [
    {
     "data": {
      "text/plain": [
       "<html><body><p>NIce dsifjhey hey<!--hey brother--></p></body></html>"
      ]
     },
     "execution_count": 301,
     "metadata": {},
     "output_type": "execute_result"
    }
   ],
   "source": [
    "soup"
   ]
  },
  {
   "cell_type": "code",
   "execution_count": 302,
   "metadata": {},
   "outputs": [
    {
     "name": "stdout",
     "output_type": "stream",
     "text": [
      "<html>\n",
      " <body>\n",
      "  <p>\n",
      "   NIce dsifj\n",
      "   hey\n",
      "   hey\n",
      "   <!--hey brother-->\n",
      "  </p>\n",
      " </body>\n",
      "</html>\n"
     ]
    }
   ],
   "source": [
    "print(soup.prettify())"
   ]
  },
  {
   "cell_type": "code",
   "execution_count": 320,
   "metadata": {},
   "outputs": [],
   "source": [
    "new_tag = soup.new_tag(\"a\", hr = \"kill\", text = 'hey')"
   ]
  },
  {
   "cell_type": "code",
   "execution_count": 321,
   "metadata": {},
   "outputs": [
    {
     "data": {
      "text/plain": [
       "<html><body><p>NIce dsifjhey hey<!--hey brother--></p><a hr=\"kill\"></a><a hr=\"kill\" string=\"hey\"></a></body></html><a hr=\"kill\"></a>"
      ]
     },
     "execution_count": 321,
     "metadata": {},
     "output_type": "execute_result"
    }
   ],
   "source": [
    "soup"
   ]
  },
  {
   "cell_type": "code",
   "execution_count": 322,
   "metadata": {},
   "outputs": [],
   "source": [
    "soup.body.append(new_tag)"
   ]
  },
  {
   "cell_type": "code",
   "execution_count": 323,
   "metadata": {},
   "outputs": [
    {
     "data": {
      "text/plain": [
       "<html><body><p>NIce dsifjhey hey<!--hey brother--></p><a hr=\"kill\"></a><a hr=\"kill\" string=\"hey\"></a><a hr=\"kill\" text=\"hey\"></a></body></html><a hr=\"kill\"></a>"
      ]
     },
     "execution_count": 323,
     "metadata": {},
     "output_type": "execute_result"
    }
   ],
   "source": [
    "soup"
   ]
  },
  {
   "cell_type": "code",
   "execution_count": 324,
   "metadata": {},
   "outputs": [
    {
     "name": "stdout",
     "output_type": "stream",
     "text": [
      "<html>\n",
      " <body>\n",
      "  <p>\n",
      "   NIce dsifj\n",
      "   hey\n",
      "   hey\n",
      "   <!--hey brother-->\n",
      "  </p>\n",
      "  <a hr=\"kill\">\n",
      "  </a>\n",
      "  <a hr=\"kill\" string=\"hey\">\n",
      "  </a>\n",
      "  <a hr=\"kill\" text=\"hey\">\n",
      "  </a>\n",
      " </body>\n",
      "</html>\n",
      "<a hr=\"kill\">\n",
      "</a>\n"
     ]
    }
   ],
   "source": [
    "print(soup.prettify())"
   ]
  },
  {
   "cell_type": "code",
   "execution_count": 325,
   "metadata": {},
   "outputs": [],
   "source": [
    "soup.p.insert(2, 'Piyush how the hell you pull this off!')"
   ]
  },
  {
   "cell_type": "code",
   "execution_count": 326,
   "metadata": {},
   "outputs": [
    {
     "data": {
      "text/plain": [
       "<p>NIce dsifjheyPiyush how the hell you pull this off! hey<!--hey brother--></p>"
      ]
     },
     "execution_count": 326,
     "metadata": {},
     "output_type": "execute_result"
    }
   ],
   "source": [
    "soup.p"
   ]
  },
  {
   "cell_type": "code",
   "execution_count": 327,
   "metadata": {},
   "outputs": [
    {
     "data": {
      "text/plain": [
       "['NIce dsifj',\n",
       " 'hey',\n",
       " 'Piyush how the hell you pull this off!',\n",
       " ' hey',\n",
       " 'hey brother']"
      ]
     },
     "execution_count": 327,
     "metadata": {},
     "output_type": "execute_result"
    }
   ],
   "source": [
    "soup.p.contents"
   ]
  },
  {
   "cell_type": "code",
   "execution_count": 347,
   "metadata": {},
   "outputs": [],
   "source": [
    "div = soup.new_tag('div')\n",
    "div.string = 'kill machine'\n",
    "soup.a.string = 'kill'\n",
    "soup.a.string.insert_after(\" kill \", div)"
   ]
  },
  {
   "cell_type": "code",
   "execution_count": 348,
   "metadata": {},
   "outputs": [
    {
     "data": {
      "text/plain": [
       "<html><body><p>NIce dsifjheyPiyush how the hell you pull this off! hey<!--hey brother--></p><a hr=\"kill\">kill kill <div>kill machine</div></a><a hr=\"kill\" string=\"hey\"></a><a hr=\"kill\" text=\"hey\"></a></body></html><a hr=\"kill\"></a>"
      ]
     },
     "execution_count": 348,
     "metadata": {},
     "output_type": "execute_result"
    }
   ],
   "source": [
    "soup"
   ]
  },
  {
   "cell_type": "code",
   "execution_count": 349,
   "metadata": {},
   "outputs": [
    {
     "name": "stdout",
     "output_type": "stream",
     "text": [
      "<html>\n",
      " <body>\n",
      "  <p>\n",
      "   NIce dsifj\n",
      "   hey\n",
      "   Piyush how the hell you pull this off!\n",
      "   hey\n",
      "   <!--hey brother-->\n",
      "  </p>\n",
      "  <a hr=\"kill\">\n",
      "   kill\n",
      "   kill\n",
      "   <div>\n",
      "    kill machine\n",
      "   </div>\n",
      "  </a>\n",
      "  <a hr=\"kill\" string=\"hey\">\n",
      "  </a>\n",
      "  <a hr=\"kill\" text=\"hey\">\n",
      "  </a>\n",
      " </body>\n",
      "</html>\n",
      "<a hr=\"kill\">\n",
      "</a>\n"
     ]
    }
   ],
   "source": [
    "print(soup.prettify())"
   ]
  },
  {
   "cell_type": "code",
   "execution_count": 350,
   "metadata": {},
   "outputs": [],
   "source": [
    "soup.p.clear()"
   ]
  },
  {
   "cell_type": "code",
   "execution_count": 351,
   "metadata": {},
   "outputs": [
    {
     "name": "stdout",
     "output_type": "stream",
     "text": [
      "<html>\n",
      " <body>\n",
      "  <p>\n",
      "  </p>\n",
      "  <a hr=\"kill\">\n",
      "   kill\n",
      "   kill\n",
      "   <div>\n",
      "    kill machine\n",
      "   </div>\n",
      "  </a>\n",
      "  <a hr=\"kill\" string=\"hey\">\n",
      "  </a>\n",
      "  <a hr=\"kill\" text=\"hey\">\n",
      "  </a>\n",
      " </body>\n",
      "</html>\n",
      "<a hr=\"kill\">\n",
      "</a>\n"
     ]
    }
   ],
   "source": [
    "print(soup.prettify())"
   ]
  },
  {
   "cell_type": "code",
   "execution_count": 352,
   "metadata": {},
   "outputs": [
    {
     "data": {
      "text/plain": [
       "<a hr=\"kill\">kill kill <div>kill machine</div></a>"
      ]
     },
     "execution_count": 352,
     "metadata": {},
     "output_type": "execute_result"
    }
   ],
   "source": [
    "soup.a"
   ]
  },
  {
   "cell_type": "code",
   "execution_count": 353,
   "metadata": {},
   "outputs": [
    {
     "data": {
      "text/plain": [
       "<div>kill machine</div>"
      ]
     },
     "execution_count": 353,
     "metadata": {},
     "output_type": "execute_result"
    }
   ],
   "source": [
    "soup.div.extract()"
   ]
  },
  {
   "cell_type": "code",
   "execution_count": 354,
   "metadata": {},
   "outputs": [
    {
     "data": {
      "text/plain": [
       "<html><body><p></p><a hr=\"kill\">kill kill </a><a hr=\"kill\" string=\"hey\"></a><a hr=\"kill\" text=\"hey\"></a></body></html><a hr=\"kill\"></a>"
      ]
     },
     "execution_count": 354,
     "metadata": {},
     "output_type": "execute_result"
    }
   ],
   "source": [
    "soup"
   ]
  },
  {
   "cell_type": "code",
   "execution_count": 355,
   "metadata": {
    "scrolled": true
   },
   "outputs": [
    {
     "name": "stdout",
     "output_type": "stream",
     "text": [
      "<html>\n",
      " <body>\n",
      "  <p>\n",
      "  </p>\n",
      "  <a hr=\"kill\">\n",
      "   kill\n",
      "   kill\n",
      "  </a>\n",
      "  <a hr=\"kill\" string=\"hey\">\n",
      "  </a>\n",
      "  <a hr=\"kill\" text=\"hey\">\n",
      "  </a>\n",
      " </body>\n",
      "</html>\n",
      "<a hr=\"kill\">\n",
      "</a>\n"
     ]
    }
   ],
   "source": [
    "print(soup.prettify())"
   ]
  },
  {
   "cell_type": "code",
   "execution_count": 356,
   "metadata": {},
   "outputs": [
    {
     "data": {
      "text/plain": [
       "str"
      ]
     },
     "execution_count": 356,
     "metadata": {},
     "output_type": "execute_result"
    }
   ],
   "source": [
    "type(soup.prettify())"
   ]
  },
  {
   "cell_type": "code",
   "execution_count": 357,
   "metadata": {},
   "outputs": [
    {
     "name": "stdout",
     "output_type": "stream",
     "text": [
      "None\n"
     ]
    }
   ],
   "source": [
    "print(soup.div)"
   ]
  },
  {
   "cell_type": "code",
   "execution_count": 363,
   "metadata": {},
   "outputs": [],
   "source": [
    "soup.a.string"
   ]
  },
  {
   "cell_type": "code",
   "execution_count": 364,
   "metadata": {},
   "outputs": [
    {
     "name": "stdout",
     "output_type": "stream",
     "text": [
      "<html>\n",
      " <body>\n",
      "  <p>\n",
      "  </p>\n",
      "  <a hr=\"kill\">\n",
      "   kill\n",
      "   kill\n",
      "  </a>\n",
      "  <a hr=\"kill\" string=\"hey\">\n",
      "  </a>\n",
      "  <a hr=\"kill\" text=\"hey\">\n",
      "  </a>\n",
      " </body>\n",
      "</html>\n",
      "<a hr=\"kill\">\n",
      "</a>\n"
     ]
    }
   ],
   "source": [
    "print(soup.prettify())"
   ]
  },
  {
   "cell_type": "code",
   "execution_count": 369,
   "metadata": {},
   "outputs": [
    {
     "name": "stdout",
     "output_type": "stream",
     "text": [
      "kill  kill \n"
     ]
    }
   ],
   "source": [
    "print(*soup.a.strings)"
   ]
  },
  {
   "cell_type": "code",
   "execution_count": 372,
   "metadata": {},
   "outputs": [
    {
     "ename": "SyntaxError",
     "evalue": "invalid syntax (<ipython-input-372-c0d13fcc89e5>, line 1)",
     "output_type": "error",
     "traceback": [
      "\u001b[1;36m  File \u001b[1;32m\"<ipython-input-372-c0d13fcc89e5>\"\u001b[1;36m, line \u001b[1;32m1\u001b[0m\n\u001b[1;33m    print(soup.a.(*strings))\u001b[0m\n\u001b[1;37m                 ^\u001b[0m\n\u001b[1;31mSyntaxError\u001b[0m\u001b[1;31m:\u001b[0m invalid syntax\n"
     ]
    }
   ],
   "source": []
  },
  {
   "cell_type": "code",
   "execution_count": 373,
   "metadata": {},
   "outputs": [
    {
     "data": {
      "text/plain": [
       "<html><body><p></p><a hr=\"kill\">kill kill </a><a hr=\"kill\" string=\"hey\"></a><a hr=\"kill\" text=\"hey\"></a></body></html><a hr=\"kill\"></a>"
      ]
     },
     "execution_count": 373,
     "metadata": {},
     "output_type": "execute_result"
    }
   ],
   "source": [
    "soup"
   ]
  },
  {
   "cell_type": "code",
   "execution_count": 374,
   "metadata": {},
   "outputs": [],
   "source": [
    "soup.a.decompose()"
   ]
  },
  {
   "cell_type": "code",
   "execution_count": 375,
   "metadata": {},
   "outputs": [
    {
     "data": {
      "text/plain": [
       "<html><body><p></p><a hr=\"kill\" string=\"hey\"></a><a hr=\"kill\" text=\"hey\"></a></body></html><a hr=\"kill\"></a>"
      ]
     },
     "execution_count": 375,
     "metadata": {},
     "output_type": "execute_result"
    }
   ],
   "source": [
    "soup"
   ]
  },
  {
   "cell_type": "code",
   "execution_count": 376,
   "metadata": {},
   "outputs": [
    {
     "name": "stdout",
     "output_type": "stream",
     "text": [
      "<html>\n",
      " <body>\n",
      "  <p>\n",
      "  </p>\n",
      "  <a hr=\"kill\" string=\"hey\">\n",
      "  </a>\n",
      "  <a hr=\"kill\" text=\"hey\">\n",
      "  </a>\n",
      " </body>\n",
      "</html>\n",
      "<a hr=\"kill\">\n",
      "</a>\n"
     ]
    }
   ],
   "source": [
    "print(soup.prettify())"
   ]
  },
  {
   "cell_type": "code",
   "execution_count": 382,
   "metadata": {},
   "outputs": [
    {
     "data": {
      "text/plain": [
       "<a hr=\"kill\" string=\"hey\"></a>"
      ]
     },
     "execution_count": 382,
     "metadata": {},
     "output_type": "execute_result"
    }
   ],
   "source": [
    "a = soup.new_tag('piyush_tag')\n",
    "a.string = \"Hello brother ... !\"\n",
    "soup.a.replace_with(a)"
   ]
  },
  {
   "cell_type": "code",
   "execution_count": 383,
   "metadata": {},
   "outputs": [
    {
     "data": {
      "text/plain": [
       "<html><body>a<piyush_tag>Hello brother ... !</piyush_tag><a hr=\"kill\" text=\"hey\"></a></body></html><a hr=\"kill\"></a>"
      ]
     },
     "execution_count": 383,
     "metadata": {},
     "output_type": "execute_result"
    }
   ],
   "source": [
    "soup"
   ]
  },
  {
   "cell_type": "code",
   "execution_count": 384,
   "metadata": {},
   "outputs": [
    {
     "name": "stdout",
     "output_type": "stream",
     "text": [
      "<html>\n",
      " <body>\n",
      "  a\n",
      "  <piyush_tag>\n",
      "   Hello brother ... !\n",
      "  </piyush_tag>\n",
      "  <a hr=\"kill\" text=\"hey\">\n",
      "  </a>\n",
      " </body>\n",
      "</html>\n",
      "<a hr=\"kill\">\n",
      "</a>\n"
     ]
    }
   ],
   "source": [
    "print(soup.prettify())"
   ]
  },
  {
   "cell_type": "code",
   "execution_count": 387,
   "metadata": {},
   "outputs": [
    {
     "data": {
      "text/plain": [
       "<harsh>hello dear</harsh>"
      ]
     },
     "execution_count": 387,
     "metadata": {},
     "output_type": "execute_result"
    }
   ],
   "source": [
    "soup('a')[1].string = 'hello dear'\n",
    "soup('a')[1].string.wrap(soup.new_tag('harsh'))"
   ]
  },
  {
   "cell_type": "code",
   "execution_count": 388,
   "metadata": {},
   "outputs": [
    {
     "name": "stdout",
     "output_type": "stream",
     "text": [
      "<html><body>a<piyush_tag>Hello brother ... !</piyush_tag><a hr=\"kill\" text=\"hey\"></a></body></html><a hr=\"kill\"><harsh>hello dear</harsh></a>\n"
     ]
    }
   ],
   "source": [
    "print(soup)"
   ]
  },
  {
   "cell_type": "code",
   "execution_count": 389,
   "metadata": {},
   "outputs": [
    {
     "name": "stdout",
     "output_type": "stream",
     "text": [
      "<html>\n",
      " <body>\n",
      "  a\n",
      "  <piyush_tag>\n",
      "   Hello brother ... !\n",
      "  </piyush_tag>\n",
      "  <a hr=\"kill\" text=\"hey\">\n",
      "  </a>\n",
      " </body>\n",
      "</html>\n",
      "<a hr=\"kill\">\n",
      " <harsh>\n",
      "  hello dear\n",
      " </harsh>\n",
      "</a>\n"
     ]
    }
   ],
   "source": [
    "print(soup.prettify())"
   ]
  },
  {
   "cell_type": "code",
   "execution_count": 391,
   "metadata": {},
   "outputs": [
    {
     "data": {
      "text/plain": [
       "<piyush_tag></piyush_tag>"
      ]
     },
     "execution_count": 391,
     "metadata": {},
     "output_type": "execute_result"
    }
   ],
   "source": [
    "soup.piyush_tag.unwrap()"
   ]
  },
  {
   "cell_type": "code",
   "execution_count": 392,
   "metadata": {},
   "outputs": [
    {
     "name": "stdout",
     "output_type": "stream",
     "text": [
      "<html>\n",
      " <body>\n",
      "  a\n",
      "  Hello brother ... !\n",
      "  <a hr=\"kill\" text=\"hey\">\n",
      "  </a>\n",
      " </body>\n",
      "</html>\n",
      "<a hr=\"kill\">\n",
      " <harsh>\n",
      "  hello dear\n",
      " </harsh>\n",
      "</a>\n"
     ]
    }
   ],
   "source": [
    "print(soup.prettify())"
   ]
  },
  {
   "cell_type": "code",
   "execution_count": 394,
   "metadata": {},
   "outputs": [
    {
     "ename": "NameError",
     "evalue": "name 'encode' is not defined",
     "output_type": "error",
     "traceback": [
      "\u001b[1;31m---------------------------------------------------------------------------\u001b[0m",
      "\u001b[1;31mNameError\u001b[0m                                 Traceback (most recent call last)",
      "\u001b[1;32m<ipython-input-394-34026b430f37>\u001b[0m in \u001b[0;36m<module>\u001b[1;34m()\u001b[0m\n\u001b[1;32m----> 1\u001b[1;33m \u001b[0mencode\u001b[0m\u001b[1;33m(\u001b[0m\u001b[0mcode\u001b[0m\u001b[1;33m)\u001b[0m\u001b[1;33m\u001b[0m\u001b[0m\n\u001b[0m",
      "\u001b[1;31mNameError\u001b[0m: name 'encode' is not defined"
     ]
    }
   ],
   "source": [
    "encode(code)"
   ]
  },
  {
   "cell_type": "code",
   "execution_count": 398,
   "metadata": {},
   "outputs": [
    {
     "name": "stdout",
     "output_type": "stream",
     "text": [
      "a Hello brother ... ! hello dear\n"
     ]
    }
   ],
   "source": [
    "print(*soup.stripped_strings)"
   ]
  },
  {
   "cell_type": "code",
   "execution_count": 400,
   "metadata": {},
   "outputs": [
    {
     "data": {
      "text/plain": [
       "'a...!...Hello brother ... !...!...hello dear'"
      ]
     },
     "execution_count": 400,
     "metadata": {},
     "output_type": "execute_result"
    }
   ],
   "source": [
    "soup.get_text(\"...!...\")"
   ]
  },
  {
   "cell_type": "code",
   "execution_count": 401,
   "metadata": {},
   "outputs": [
    {
     "name": "stdout",
     "output_type": "stream",
     "text": [
      "2\n"
     ]
    }
   ],
   "source": [
    "print(len(soup('a')))"
   ]
  },
  {
   "cell_type": "code",
   "execution_count": 402,
   "metadata": {},
   "outputs": [],
   "source": [
    "a, b = soup('a')"
   ]
  },
  {
   "cell_type": "code",
   "execution_count": 403,
   "metadata": {},
   "outputs": [
    {
     "name": "stdout",
     "output_type": "stream",
     "text": [
      "<a hr=\"kill\" text=\"hey\"></a> <a hr=\"kill\"><harsh>hello dear</harsh></a>\n"
     ]
    }
   ],
   "source": [
    "print(a, b)"
   ]
  },
  {
   "cell_type": "code",
   "execution_count": 404,
   "metadata": {},
   "outputs": [
    {
     "name": "stdout",
     "output_type": "stream",
     "text": [
      "[<a hr=\"kill\" text=\"hey\"></a>, <a hr=\"kill\"><harsh>hello dear</harsh></a>]\n"
     ]
    }
   ],
   "source": [
    "print(soup('a'))"
   ]
  },
  {
   "cell_type": "code",
   "execution_count": 405,
   "metadata": {},
   "outputs": [],
   "source": [
    "a, b = [2, 5]"
   ]
  },
  {
   "cell_type": "code",
   "execution_count": 406,
   "metadata": {},
   "outputs": [
    {
     "name": "stdout",
     "output_type": "stream",
     "text": [
      "2 5\n"
     ]
    }
   ],
   "source": [
    "print(a, b)"
   ]
  },
  {
   "cell_type": "code",
   "execution_count": 436,
   "metadata": {},
   "outputs": [],
   "source": [
    "soup = BeautifulSoup('<p><a id = >Kaise</a><b> om </b></p><a>Kaise</a>', 'html5lib')"
   ]
  },
  {
   "cell_type": "code",
   "execution_count": 437,
   "metadata": {},
   "outputs": [
    {
     "name": "stdout",
     "output_type": "stream",
     "text": [
      "<html><head></head><body><p><a id=\"\">Kaise</a><b> om </b></p><a>Kaise</a></body></html>\n"
     ]
    }
   ],
   "source": [
    "print(soup)"
   ]
  },
  {
   "cell_type": "code",
   "execution_count": 438,
   "metadata": {},
   "outputs": [
    {
     "name": "stdout",
     "output_type": "stream",
     "text": [
      "<html>\n",
      " <head>\n",
      " </head>\n",
      " <body>\n",
      "  <p>\n",
      "   <a id=\"\">\n",
      "    Kaise\n",
      "   </a>\n",
      "   <b>\n",
      "    om\n",
      "   </b>\n",
      "  </p>\n",
      "  <a>\n",
      "   Kaise\n",
      "  </a>\n",
      " </body>\n",
      "</html>\n"
     ]
    }
   ],
   "source": [
    "print(soup.prettify())"
   ]
  },
  {
   "cell_type": "code",
   "execution_count": 439,
   "metadata": {},
   "outputs": [],
   "source": [
    "a, b = soup('a')"
   ]
  },
  {
   "cell_type": "code",
   "execution_count": 440,
   "metadata": {},
   "outputs": [
    {
     "data": {
      "text/plain": [
       "<a id=\"\">Kaise</a>"
      ]
     },
     "execution_count": 440,
     "metadata": {},
     "output_type": "execute_result"
    }
   ],
   "source": [
    "a"
   ]
  },
  {
   "cell_type": "code",
   "execution_count": 441,
   "metadata": {},
   "outputs": [
    {
     "data": {
      "text/plain": [
       "<a>Kaise</a>"
      ]
     },
     "execution_count": 441,
     "metadata": {},
     "output_type": "execute_result"
    }
   ],
   "source": [
    "b"
   ]
  },
  {
   "cell_type": "code",
   "execution_count": 442,
   "metadata": {},
   "outputs": [
    {
     "data": {
      "text/plain": [
       "False"
      ]
     },
     "execution_count": 442,
     "metadata": {},
     "output_type": "execute_result"
    }
   ],
   "source": [
    "a == b"
   ]
  },
  {
   "cell_type": "code",
   "execution_count": 444,
   "metadata": {},
   "outputs": [],
   "source": [
    "import copy\n",
    "a = copy.copy(soup)"
   ]
  },
  {
   "cell_type": "code",
   "execution_count": 445,
   "metadata": {},
   "outputs": [
    {
     "data": {
      "text/plain": [
       "<html><head></head><body><p><a id=\"\">Kaise</a><b> om </b></p><a>Kaise</a></body></html>"
      ]
     },
     "execution_count": 445,
     "metadata": {},
     "output_type": "execute_result"
    }
   ],
   "source": [
    "a"
   ]
  },
  {
   "cell_type": "code",
   "execution_count": 446,
   "metadata": {},
   "outputs": [
    {
     "name": "stdout",
     "output_type": "stream",
     "text": [
      "<html>\n",
      " <head>\n",
      " </head>\n",
      " <body>\n",
      "  <p>\n",
      "   <a id=\"\">\n",
      "    Kaise\n",
      "   </a>\n",
      "   <b>\n",
      "    om\n",
      "   </b>\n",
      "  </p>\n",
      "  <a>\n",
      "   Kaise\n",
      "  </a>\n",
      " </body>\n",
      "</html>\n"
     ]
    }
   ],
   "source": [
    "print(a.prettify())"
   ]
  },
  {
   "cell_type": "code",
   "execution_count": 447,
   "metadata": {},
   "outputs": [
    {
     "data": {
      "text/plain": [
       "False"
      ]
     },
     "execution_count": 447,
     "metadata": {},
     "output_type": "execute_result"
    }
   ],
   "source": [
    "a == b"
   ]
  },
  {
   "cell_type": "code",
   "execution_count": 448,
   "metadata": {},
   "outputs": [
    {
     "data": {
      "text/plain": [
       "True"
      ]
     },
     "execution_count": 448,
     "metadata": {},
     "output_type": "execute_result"
    }
   ],
   "source": [
    "a == soup"
   ]
  },
  {
   "cell_type": "code",
   "execution_count": 449,
   "metadata": {},
   "outputs": [
    {
     "data": {
      "text/plain": [
       "False"
      ]
     },
     "execution_count": 449,
     "metadata": {},
     "output_type": "execute_result"
    }
   ],
   "source": [
    "a is soup"
   ]
  },
  {
   "cell_type": "code",
   "execution_count": 450,
   "metadata": {},
   "outputs": [],
   "source": [
    "a.parent"
   ]
  },
  {
   "cell_type": "code",
   "execution_count": 458,
   "metadata": {},
   "outputs": [],
   "source": [
    "a = [5]\n",
    "b = copy.copy(a)"
   ]
  },
  {
   "cell_type": "code",
   "execution_count": 459,
   "metadata": {},
   "outputs": [
    {
     "data": {
      "text/plain": [
       "[5]"
      ]
     },
     "execution_count": 459,
     "metadata": {},
     "output_type": "execute_result"
    }
   ],
   "source": [
    "a"
   ]
  },
  {
   "cell_type": "code",
   "execution_count": 460,
   "metadata": {},
   "outputs": [
    {
     "data": {
      "text/plain": [
       "[5]"
      ]
     },
     "execution_count": 460,
     "metadata": {},
     "output_type": "execute_result"
    }
   ],
   "source": [
    "b"
   ]
  },
  {
   "cell_type": "code",
   "execution_count": 461,
   "metadata": {},
   "outputs": [
    {
     "data": {
      "text/plain": [
       "True"
      ]
     },
     "execution_count": 461,
     "metadata": {},
     "output_type": "execute_result"
    }
   ],
   "source": [
    "a == b"
   ]
  },
  {
   "cell_type": "code",
   "execution_count": 462,
   "metadata": {},
   "outputs": [
    {
     "data": {
      "text/plain": [
       "False"
      ]
     },
     "execution_count": 462,
     "metadata": {},
     "output_type": "execute_result"
    }
   ],
   "source": [
    "a is b"
   ]
  },
  {
   "cell_type": "code",
   "execution_count": 463,
   "metadata": {},
   "outputs": [
    {
     "ename": "SyntaxError",
     "evalue": "invalid syntax (<ipython-input-463-54dfc8e04366>, line 1)",
     "output_type": "error",
     "traceback": [
      "\u001b[1;36m  File \u001b[1;32m\"<ipython-input-463-54dfc8e04366>\"\u001b[1;36m, line \u001b[1;32m1\u001b[0m\n\u001b[1;33m    a..parent\u001b[0m\n\u001b[1;37m      ^\u001b[0m\n\u001b[1;31mSyntaxError\u001b[0m\u001b[1;31m:\u001b[0m invalid syntax\n"
     ]
    }
   ],
   "source": [
    "a..parent"
   ]
  },
  {
   "cell_type": "code",
   "execution_count": 465,
   "metadata": {},
   "outputs": [
    {
     "ename": "AttributeError",
     "evalue": "'list' object has no attribute 'parent'",
     "output_type": "error",
     "traceback": [
      "\u001b[1;31m---------------------------------------------------------------------------\u001b[0m",
      "\u001b[1;31mAttributeError\u001b[0m                            Traceback (most recent call last)",
      "\u001b[1;32m<ipython-input-465-929e0de2dd5b>\u001b[0m in \u001b[0;36m<module>\u001b[1;34m()\u001b[0m\n\u001b[1;32m----> 1\u001b[1;33m \u001b[0mb\u001b[0m\u001b[1;33m.\u001b[0m\u001b[0mparent\u001b[0m\u001b[1;33m\u001b[0m\u001b[0m\n\u001b[0m",
      "\u001b[1;31mAttributeError\u001b[0m: 'list' object has no attribute 'parent'"
     ]
    }
   ],
   "source": [
    "b.parent"
   ]
  },
  {
   "cell_type": "code",
   "execution_count": 467,
   "metadata": {},
   "outputs": [],
   "source": [
    "html_doc = \"\"\"\n",
    "<html><head><title>The Dormouse's story</title></head>\n",
    "<body>\n",
    "<p class=\"title\"><b>The Dormouse's story</b></p>\n",
    "\n",
    "<p class=\"story\">Once upon a time there were three little sisters; and their names were\n",
    "<a href=\"http://example.com/elsie\" class=\"sister\" id=\"link1\">Elsie</a>,\n",
    "<a href=\"http://example.com/lacie\" class=\"sister\" id=\"link2\">Lacie</a> and\n",
    "<a href=\"http://example.com/tillie\" class=\"sister\" id=\"link3\">Tillie</a>;\n",
    "and they lived at the bottom of a well.</p>\n",
    "\n",
    "<p class=\"story\">...</p>\n",
    "\"\"\"\n",
    "soup = BeautifulSoup(html_doc, 'html.parser', parse_only = bs.SoupStrainer('a'))"
   ]
  },
  {
   "cell_type": "code",
   "execution_count": 468,
   "metadata": {},
   "outputs": [
    {
     "data": {
      "text/plain": [
       "<a class=\"sister\" href=\"http://example.com/elsie\" id=\"link1\">Elsie</a><a class=\"sister\" href=\"http://example.com/lacie\" id=\"link2\">Lacie</a><a class=\"sister\" href=\"http://example.com/tillie\" id=\"link3\">Tillie</a>"
      ]
     },
     "execution_count": 468,
     "metadata": {},
     "output_type": "execute_result"
    }
   ],
   "source": [
    "soup"
   ]
  },
  {
   "cell_type": "code",
   "execution_count": 469,
   "metadata": {},
   "outputs": [
    {
     "ename": "NameError",
     "evalue": "name 'diagnose' is not defined",
     "output_type": "error",
     "traceback": [
      "\u001b[1;31m---------------------------------------------------------------------------\u001b[0m",
      "\u001b[1;31mNameError\u001b[0m                                 Traceback (most recent call last)",
      "\u001b[1;32m<ipython-input-469-3d7c61152aa5>\u001b[0m in \u001b[0;36m<module>\u001b[1;34m()\u001b[0m\n\u001b[1;32m----> 1\u001b[1;33m \u001b[0mdiagnose\u001b[0m\u001b[1;33m(\u001b[0m\u001b[0mp\u001b[0m\u001b[1;33m.\u001b[0m\u001b[0mhead\u001b[0m\u001b[1;33m)\u001b[0m\u001b[1;33m\u001b[0m\u001b[0m\n\u001b[0m",
      "\u001b[1;31mNameError\u001b[0m: name 'diagnose' is not defined"
     ]
    }
   ],
   "source": [
    "diagnose(p.head)"
   ]
  },
  {
   "cell_type": "code",
   "execution_count": 472,
   "metadata": {},
   "outputs": [],
   "source": [
    "from bs4.diagnose import diagnose"
   ]
  },
  {
   "cell_type": "code",
   "execution_count": 477,
   "metadata": {},
   "outputs": [
    {
     "name": "stdout",
     "output_type": "stream",
     "text": [
      "Diagnostic running on Beautiful Soup 4.7.1\n",
      "Python version 3.6.5 |Anaconda, Inc.| (default, Mar 29 2018, 13:32:41) [MSC v.1900 64 bit (AMD64)]\n",
      "Found lxml version 4.2.1.0\n",
      "Found html5lib version 1.0.1\n"
     ]
    },
    {
     "ename": "TypeError",
     "evalue": "'NoneType' object is not callable",
     "output_type": "error",
     "traceback": [
      "\u001b[1;31m---------------------------------------------------------------------------\u001b[0m",
      "\u001b[1;31mTypeError\u001b[0m                                 Traceback (most recent call last)",
      "\u001b[1;32m<ipython-input-477-afbd1525b338>\u001b[0m in \u001b[0;36m<module>\u001b[1;34m()\u001b[0m\n\u001b[1;32m----> 1\u001b[1;33m \u001b[0mdiagnose\u001b[0m\u001b[1;33m(\u001b[0m\u001b[0msoup\u001b[0m\u001b[1;33m)\u001b[0m\u001b[1;33m\u001b[0m\u001b[0m\n\u001b[0m",
      "\u001b[1;32mC:\\Program Files (x86)\\Microsoft Visual Studio\\Shared\\Anaconda3_64\\lib\\site-packages\\bs4\\diagnose.py\u001b[0m in \u001b[0;36mdiagnose\u001b[1;34m(data)\u001b[0m\n\u001b[0;32m     55\u001b[0m \u001b[1;33m\u001b[0m\u001b[0m\n\u001b[0;32m     56\u001b[0m     \u001b[1;32mif\u001b[0m \u001b[0mhasattr\u001b[0m\u001b[1;33m(\u001b[0m\u001b[0mdata\u001b[0m\u001b[1;33m,\u001b[0m \u001b[1;34m'read'\u001b[0m\u001b[1;33m)\u001b[0m\u001b[1;33m:\u001b[0m\u001b[1;33m\u001b[0m\u001b[0m\n\u001b[1;32m---> 57\u001b[1;33m         \u001b[0mdata\u001b[0m \u001b[1;33m=\u001b[0m \u001b[0mdata\u001b[0m\u001b[1;33m.\u001b[0m\u001b[0mread\u001b[0m\u001b[1;33m(\u001b[0m\u001b[1;33m)\u001b[0m\u001b[1;33m\u001b[0m\u001b[0m\n\u001b[0m\u001b[0;32m     58\u001b[0m     \u001b[1;32melif\u001b[0m \u001b[0mdata\u001b[0m\u001b[1;33m.\u001b[0m\u001b[0mstartswith\u001b[0m\u001b[1;33m(\u001b[0m\u001b[1;34m\"http:\"\u001b[0m\u001b[1;33m)\u001b[0m \u001b[1;32mor\u001b[0m \u001b[0mdata\u001b[0m\u001b[1;33m.\u001b[0m\u001b[0mstartswith\u001b[0m\u001b[1;33m(\u001b[0m\u001b[1;34m\"https:\"\u001b[0m\u001b[1;33m)\u001b[0m\u001b[1;33m:\u001b[0m\u001b[1;33m\u001b[0m\u001b[0m\n\u001b[0;32m     59\u001b[0m         \u001b[0mprint\u001b[0m\u001b[1;33m(\u001b[0m\u001b[1;34m'\"%s\" looks like a URL. Beautiful Soup is not an HTTP client.'\u001b[0m \u001b[1;33m%\u001b[0m \u001b[0mdata\u001b[0m\u001b[1;33m)\u001b[0m\u001b[1;33m\u001b[0m\u001b[0m\n",
      "\u001b[1;31mTypeError\u001b[0m: 'NoneType' object is not callable"
     ]
    }
   ],
   "source": [
    "diagnose(soup)"
   ]
  },
  {
   "cell_type": "code",
   "execution_count": null,
   "metadata": {},
   "outputs": [],
   "source": []
  }
 ],
 "metadata": {
  "kernelspec": {
   "display_name": "Python 3",
   "language": "python",
   "name": "python3"
  },
  "language_info": {
   "codemirror_mode": {
    "name": "ipython",
    "version": 3
   },
   "file_extension": ".py",
   "mimetype": "text/x-python",
   "name": "python",
   "nbconvert_exporter": "python",
   "pygments_lexer": "ipython3",
   "version": "3.6.5"
  }
 },
 "nbformat": 4,
 "nbformat_minor": 2
}
